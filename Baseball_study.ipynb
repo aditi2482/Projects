{
 "cells": [
  {
   "cell_type": "markdown",
   "id": "4c0e8889",
   "metadata": {},
   "source": [
    "# Importing the libraries and  dataset"
   ]
  },
  {
   "cell_type": "code",
   "execution_count": 483,
   "id": "d83a6c7c",
   "metadata": {},
   "outputs": [],
   "source": [
    "import pandas as pd\n",
    "import numpy as np\n",
    "import seaborn as sns\n",
    "import matplotlib.pyplot as plt\n",
    "import warnings\n",
    "warnings.filterwarnings('ignore')"
   ]
  },
  {
   "cell_type": "code",
   "execution_count": 484,
   "id": "a9dc271b",
   "metadata": {},
   "outputs": [],
   "source": [
    "df=pd.read_csv(\"baseballstudy.csv\")"
   ]
  },
  {
   "cell_type": "code",
   "execution_count": 485,
   "id": "01957aad",
   "metadata": {},
   "outputs": [],
   "source": [
    "#W-W – Win: number of games where pitcher was pitching while their team took the lead and went on to win, also the starter needs to pitch at least 5 innings of wor\n",
    "#R- Runs scored: number of times a player crosses home plate\n",
    "#AB-At bat: plate appearances, not including bases on balls, being hit by pitch, sacrifices, interference, or obstruction\n",
    "#H- Hit: reaching base because of a batted, fair ball without error by the defense\n",
    "#2B-Double: hits on which the batter reaches second base safely without the contribution of a fielding error\n",
    "#3B:Triple: hits on which the batter reaches third base safely without the contribution of a fielding error\n",
    "#HR-HR – Home runs: hits on which the batter successfully touched all four bases, without the contribution of a fielding error\n",
    "#BB-Base on balls (also called a \"walk\"): hitter not swinging at four pitches called out of the strike zone and awarded first base.\n",
    "#SO-K (or SO) – Strikeout: number of batters who received strike three\n",
    "#SB-SB – Stolen base: number of bases advanced by the runner while the ball is in the possession of the defense\n",
    "#RA-RA – Run average: number of runs allowed times nine divided by innings pitched\n",
    "#ER-ER – Earned run: number of runs that did not occur as a result of errors or passed balls\n",
    "#ERA-ERA – Earned run average: total number of earned runs (see \"ER\" above), multiplied by 9, divided by innings pitched\n",
    "#CG-Complete game: number of games where player was the only pitcher for their team\n",
    "#SHO-SHO – Shutout: number of complete games pitched with no runs allowed\n",
    "#SV-Save: number of games where the pitcher enters a game led by the pitcher's team, finishes the game without surrendering the lead, is not the winning pitcher, and either (a) the lead was three runs or fewer when the pitcher entered the game; (b) the potential tying run was on base, at bat, or on deck; or (c) the pitcher pitched three or more innings\n",
    "#E– Errors: number of times a fielder fails to make a play he should have made with common effort, and the offense benefits as a result"
   ]
  },
  {
   "cell_type": "code",
   "execution_count": 486,
   "id": "ec969a5a",
   "metadata": {},
   "outputs": [
    {
     "data": {
      "text/html": [
       "<div>\n",
       "<style scoped>\n",
       "    .dataframe tbody tr th:only-of-type {\n",
       "        vertical-align: middle;\n",
       "    }\n",
       "\n",
       "    .dataframe tbody tr th {\n",
       "        vertical-align: top;\n",
       "    }\n",
       "\n",
       "    .dataframe thead th {\n",
       "        text-align: right;\n",
       "    }\n",
       "</style>\n",
       "<table border=\"1\" class=\"dataframe\">\n",
       "  <thead>\n",
       "    <tr style=\"text-align: right;\">\n",
       "      <th></th>\n",
       "      <th>W</th>\n",
       "      <th>R</th>\n",
       "      <th>AB</th>\n",
       "      <th>H</th>\n",
       "      <th>2B</th>\n",
       "      <th>3B</th>\n",
       "      <th>HR</th>\n",
       "      <th>BB</th>\n",
       "      <th>SO</th>\n",
       "      <th>SB</th>\n",
       "      <th>RA</th>\n",
       "      <th>ER</th>\n",
       "      <th>ERA</th>\n",
       "      <th>CG</th>\n",
       "      <th>SHO</th>\n",
       "      <th>SV</th>\n",
       "      <th>E</th>\n",
       "    </tr>\n",
       "  </thead>\n",
       "  <tbody>\n",
       "    <tr>\n",
       "      <th>0</th>\n",
       "      <td>95</td>\n",
       "      <td>724</td>\n",
       "      <td>5575</td>\n",
       "      <td>1497</td>\n",
       "      <td>300</td>\n",
       "      <td>42</td>\n",
       "      <td>139</td>\n",
       "      <td>383</td>\n",
       "      <td>973</td>\n",
       "      <td>104</td>\n",
       "      <td>641</td>\n",
       "      <td>601</td>\n",
       "      <td>3.73</td>\n",
       "      <td>2</td>\n",
       "      <td>8</td>\n",
       "      <td>56</td>\n",
       "      <td>88</td>\n",
       "    </tr>\n",
       "    <tr>\n",
       "      <th>1</th>\n",
       "      <td>83</td>\n",
       "      <td>696</td>\n",
       "      <td>5467</td>\n",
       "      <td>1349</td>\n",
       "      <td>277</td>\n",
       "      <td>44</td>\n",
       "      <td>156</td>\n",
       "      <td>439</td>\n",
       "      <td>1264</td>\n",
       "      <td>70</td>\n",
       "      <td>700</td>\n",
       "      <td>653</td>\n",
       "      <td>4.07</td>\n",
       "      <td>2</td>\n",
       "      <td>12</td>\n",
       "      <td>45</td>\n",
       "      <td>86</td>\n",
       "    </tr>\n",
       "    <tr>\n",
       "      <th>2</th>\n",
       "      <td>81</td>\n",
       "      <td>669</td>\n",
       "      <td>5439</td>\n",
       "      <td>1395</td>\n",
       "      <td>303</td>\n",
       "      <td>29</td>\n",
       "      <td>141</td>\n",
       "      <td>533</td>\n",
       "      <td>1157</td>\n",
       "      <td>86</td>\n",
       "      <td>640</td>\n",
       "      <td>584</td>\n",
       "      <td>3.67</td>\n",
       "      <td>11</td>\n",
       "      <td>10</td>\n",
       "      <td>38</td>\n",
       "      <td>79</td>\n",
       "    </tr>\n",
       "    <tr>\n",
       "      <th>3</th>\n",
       "      <td>76</td>\n",
       "      <td>622</td>\n",
       "      <td>5533</td>\n",
       "      <td>1381</td>\n",
       "      <td>260</td>\n",
       "      <td>27</td>\n",
       "      <td>136</td>\n",
       "      <td>404</td>\n",
       "      <td>1231</td>\n",
       "      <td>68</td>\n",
       "      <td>701</td>\n",
       "      <td>643</td>\n",
       "      <td>3.98</td>\n",
       "      <td>7</td>\n",
       "      <td>9</td>\n",
       "      <td>37</td>\n",
       "      <td>101</td>\n",
       "    </tr>\n",
       "    <tr>\n",
       "      <th>4</th>\n",
       "      <td>74</td>\n",
       "      <td>689</td>\n",
       "      <td>5605</td>\n",
       "      <td>1515</td>\n",
       "      <td>289</td>\n",
       "      <td>49</td>\n",
       "      <td>151</td>\n",
       "      <td>455</td>\n",
       "      <td>1259</td>\n",
       "      <td>83</td>\n",
       "      <td>803</td>\n",
       "      <td>746</td>\n",
       "      <td>4.64</td>\n",
       "      <td>7</td>\n",
       "      <td>12</td>\n",
       "      <td>35</td>\n",
       "      <td>86</td>\n",
       "    </tr>\n",
       "    <tr>\n",
       "      <th>5</th>\n",
       "      <td>93</td>\n",
       "      <td>891</td>\n",
       "      <td>5509</td>\n",
       "      <td>1480</td>\n",
       "      <td>308</td>\n",
       "      <td>17</td>\n",
       "      <td>232</td>\n",
       "      <td>570</td>\n",
       "      <td>1151</td>\n",
       "      <td>88</td>\n",
       "      <td>670</td>\n",
       "      <td>609</td>\n",
       "      <td>3.80</td>\n",
       "      <td>7</td>\n",
       "      <td>10</td>\n",
       "      <td>34</td>\n",
       "      <td>88</td>\n",
       "    </tr>\n",
       "    <tr>\n",
       "      <th>6</th>\n",
       "      <td>87</td>\n",
       "      <td>764</td>\n",
       "      <td>5567</td>\n",
       "      <td>1397</td>\n",
       "      <td>272</td>\n",
       "      <td>19</td>\n",
       "      <td>212</td>\n",
       "      <td>554</td>\n",
       "      <td>1227</td>\n",
       "      <td>63</td>\n",
       "      <td>698</td>\n",
       "      <td>652</td>\n",
       "      <td>4.03</td>\n",
       "      <td>3</td>\n",
       "      <td>4</td>\n",
       "      <td>48</td>\n",
       "      <td>93</td>\n",
       "    </tr>\n",
       "    <tr>\n",
       "      <th>7</th>\n",
       "      <td>81</td>\n",
       "      <td>713</td>\n",
       "      <td>5485</td>\n",
       "      <td>1370</td>\n",
       "      <td>246</td>\n",
       "      <td>20</td>\n",
       "      <td>217</td>\n",
       "      <td>418</td>\n",
       "      <td>1331</td>\n",
       "      <td>44</td>\n",
       "      <td>693</td>\n",
       "      <td>646</td>\n",
       "      <td>4.05</td>\n",
       "      <td>0</td>\n",
       "      <td>10</td>\n",
       "      <td>43</td>\n",
       "      <td>77</td>\n",
       "    </tr>\n",
       "    <tr>\n",
       "      <th>8</th>\n",
       "      <td>80</td>\n",
       "      <td>644</td>\n",
       "      <td>5485</td>\n",
       "      <td>1383</td>\n",
       "      <td>278</td>\n",
       "      <td>32</td>\n",
       "      <td>167</td>\n",
       "      <td>436</td>\n",
       "      <td>1310</td>\n",
       "      <td>87</td>\n",
       "      <td>642</td>\n",
       "      <td>604</td>\n",
       "      <td>3.74</td>\n",
       "      <td>1</td>\n",
       "      <td>12</td>\n",
       "      <td>60</td>\n",
       "      <td>95</td>\n",
       "    </tr>\n",
       "    <tr>\n",
       "      <th>9</th>\n",
       "      <td>78</td>\n",
       "      <td>748</td>\n",
       "      <td>5640</td>\n",
       "      <td>1495</td>\n",
       "      <td>294</td>\n",
       "      <td>33</td>\n",
       "      <td>161</td>\n",
       "      <td>478</td>\n",
       "      <td>1148</td>\n",
       "      <td>71</td>\n",
       "      <td>753</td>\n",
       "      <td>694</td>\n",
       "      <td>4.31</td>\n",
       "      <td>3</td>\n",
       "      <td>10</td>\n",
       "      <td>40</td>\n",
       "      <td>97</td>\n",
       "    </tr>\n",
       "    <tr>\n",
       "      <th>10</th>\n",
       "      <td>88</td>\n",
       "      <td>751</td>\n",
       "      <td>5511</td>\n",
       "      <td>1419</td>\n",
       "      <td>279</td>\n",
       "      <td>32</td>\n",
       "      <td>172</td>\n",
       "      <td>503</td>\n",
       "      <td>1233</td>\n",
       "      <td>101</td>\n",
       "      <td>733</td>\n",
       "      <td>680</td>\n",
       "      <td>4.24</td>\n",
       "      <td>5</td>\n",
       "      <td>9</td>\n",
       "      <td>45</td>\n",
       "      <td>119</td>\n",
       "    </tr>\n",
       "    <tr>\n",
       "      <th>11</th>\n",
       "      <td>86</td>\n",
       "      <td>729</td>\n",
       "      <td>5459</td>\n",
       "      <td>1363</td>\n",
       "      <td>278</td>\n",
       "      <td>26</td>\n",
       "      <td>230</td>\n",
       "      <td>486</td>\n",
       "      <td>1392</td>\n",
       "      <td>121</td>\n",
       "      <td>618</td>\n",
       "      <td>572</td>\n",
       "      <td>3.57</td>\n",
       "      <td>5</td>\n",
       "      <td>13</td>\n",
       "      <td>39</td>\n",
       "      <td>85</td>\n",
       "    </tr>\n",
       "    <tr>\n",
       "      <th>12</th>\n",
       "      <td>85</td>\n",
       "      <td>661</td>\n",
       "      <td>5417</td>\n",
       "      <td>1331</td>\n",
       "      <td>243</td>\n",
       "      <td>21</td>\n",
       "      <td>176</td>\n",
       "      <td>435</td>\n",
       "      <td>1150</td>\n",
       "      <td>52</td>\n",
       "      <td>675</td>\n",
       "      <td>630</td>\n",
       "      <td>3.94</td>\n",
       "      <td>2</td>\n",
       "      <td>12</td>\n",
       "      <td>46</td>\n",
       "      <td>93</td>\n",
       "    </tr>\n",
       "    <tr>\n",
       "      <th>13</th>\n",
       "      <td>76</td>\n",
       "      <td>656</td>\n",
       "      <td>5544</td>\n",
       "      <td>1379</td>\n",
       "      <td>262</td>\n",
       "      <td>22</td>\n",
       "      <td>198</td>\n",
       "      <td>478</td>\n",
       "      <td>1336</td>\n",
       "      <td>69</td>\n",
       "      <td>726</td>\n",
       "      <td>677</td>\n",
       "      <td>4.16</td>\n",
       "      <td>6</td>\n",
       "      <td>12</td>\n",
       "      <td>45</td>\n",
       "      <td>94</td>\n",
       "    </tr>\n",
       "    <tr>\n",
       "      <th>14</th>\n",
       "      <td>68</td>\n",
       "      <td>694</td>\n",
       "      <td>5600</td>\n",
       "      <td>1405</td>\n",
       "      <td>277</td>\n",
       "      <td>46</td>\n",
       "      <td>146</td>\n",
       "      <td>475</td>\n",
       "      <td>1119</td>\n",
       "      <td>78</td>\n",
       "      <td>729</td>\n",
       "      <td>664</td>\n",
       "      <td>4.14</td>\n",
       "      <td>5</td>\n",
       "      <td>15</td>\n",
       "      <td>28</td>\n",
       "      <td>126</td>\n",
       "    </tr>\n",
       "    <tr>\n",
       "      <th>15</th>\n",
       "      <td>100</td>\n",
       "      <td>647</td>\n",
       "      <td>5484</td>\n",
       "      <td>1386</td>\n",
       "      <td>288</td>\n",
       "      <td>39</td>\n",
       "      <td>137</td>\n",
       "      <td>506</td>\n",
       "      <td>1267</td>\n",
       "      <td>69</td>\n",
       "      <td>525</td>\n",
       "      <td>478</td>\n",
       "      <td>2.94</td>\n",
       "      <td>1</td>\n",
       "      <td>15</td>\n",
       "      <td>62</td>\n",
       "      <td>96</td>\n",
       "    </tr>\n",
       "    <tr>\n",
       "      <th>16</th>\n",
       "      <td>98</td>\n",
       "      <td>697</td>\n",
       "      <td>5631</td>\n",
       "      <td>1462</td>\n",
       "      <td>292</td>\n",
       "      <td>27</td>\n",
       "      <td>140</td>\n",
       "      <td>461</td>\n",
       "      <td>1322</td>\n",
       "      <td>98</td>\n",
       "      <td>596</td>\n",
       "      <td>532</td>\n",
       "      <td>3.21</td>\n",
       "      <td>0</td>\n",
       "      <td>13</td>\n",
       "      <td>54</td>\n",
       "      <td>122</td>\n",
       "    </tr>\n",
       "    <tr>\n",
       "      <th>17</th>\n",
       "      <td>97</td>\n",
       "      <td>689</td>\n",
       "      <td>5491</td>\n",
       "      <td>1341</td>\n",
       "      <td>272</td>\n",
       "      <td>30</td>\n",
       "      <td>171</td>\n",
       "      <td>567</td>\n",
       "      <td>1518</td>\n",
       "      <td>95</td>\n",
       "      <td>608</td>\n",
       "      <td>546</td>\n",
       "      <td>3.36</td>\n",
       "      <td>6</td>\n",
       "      <td>21</td>\n",
       "      <td>48</td>\n",
       "      <td>111</td>\n",
       "    </tr>\n",
       "    <tr>\n",
       "      <th>18</th>\n",
       "      <td>68</td>\n",
       "      <td>655</td>\n",
       "      <td>5480</td>\n",
       "      <td>1378</td>\n",
       "      <td>274</td>\n",
       "      <td>34</td>\n",
       "      <td>145</td>\n",
       "      <td>412</td>\n",
       "      <td>1299</td>\n",
       "      <td>84</td>\n",
       "      <td>737</td>\n",
       "      <td>682</td>\n",
       "      <td>4.28</td>\n",
       "      <td>1</td>\n",
       "      <td>7</td>\n",
       "      <td>40</td>\n",
       "      <td>116</td>\n",
       "    </tr>\n",
       "    <tr>\n",
       "      <th>19</th>\n",
       "      <td>64</td>\n",
       "      <td>640</td>\n",
       "      <td>5571</td>\n",
       "      <td>1382</td>\n",
       "      <td>257</td>\n",
       "      <td>27</td>\n",
       "      <td>167</td>\n",
       "      <td>496</td>\n",
       "      <td>1255</td>\n",
       "      <td>134</td>\n",
       "      <td>754</td>\n",
       "      <td>700</td>\n",
       "      <td>4.33</td>\n",
       "      <td>2</td>\n",
       "      <td>8</td>\n",
       "      <td>35</td>\n",
       "      <td>90</td>\n",
       "    </tr>\n",
       "    <tr>\n",
       "      <th>20</th>\n",
       "      <td>90</td>\n",
       "      <td>683</td>\n",
       "      <td>5527</td>\n",
       "      <td>1351</td>\n",
       "      <td>295</td>\n",
       "      <td>17</td>\n",
       "      <td>177</td>\n",
       "      <td>488</td>\n",
       "      <td>1290</td>\n",
       "      <td>51</td>\n",
       "      <td>613</td>\n",
       "      <td>557</td>\n",
       "      <td>3.43</td>\n",
       "      <td>1</td>\n",
       "      <td>14</td>\n",
       "      <td>50</td>\n",
       "      <td>88</td>\n",
       "    </tr>\n",
       "    <tr>\n",
       "      <th>21</th>\n",
       "      <td>83</td>\n",
       "      <td>703</td>\n",
       "      <td>5428</td>\n",
       "      <td>1363</td>\n",
       "      <td>265</td>\n",
       "      <td>13</td>\n",
       "      <td>177</td>\n",
       "      <td>539</td>\n",
       "      <td>1344</td>\n",
       "      <td>57</td>\n",
       "      <td>635</td>\n",
       "      <td>577</td>\n",
       "      <td>3.62</td>\n",
       "      <td>4</td>\n",
       "      <td>13</td>\n",
       "      <td>41</td>\n",
       "      <td>90</td>\n",
       "    </tr>\n",
       "    <tr>\n",
       "      <th>22</th>\n",
       "      <td>71</td>\n",
       "      <td>613</td>\n",
       "      <td>5463</td>\n",
       "      <td>1420</td>\n",
       "      <td>236</td>\n",
       "      <td>40</td>\n",
       "      <td>120</td>\n",
       "      <td>375</td>\n",
       "      <td>1150</td>\n",
       "      <td>112</td>\n",
       "      <td>678</td>\n",
       "      <td>638</td>\n",
       "      <td>4.02</td>\n",
       "      <td>0</td>\n",
       "      <td>12</td>\n",
       "      <td>35</td>\n",
       "      <td>77</td>\n",
       "    </tr>\n",
       "    <tr>\n",
       "      <th>23</th>\n",
       "      <td>67</td>\n",
       "      <td>573</td>\n",
       "      <td>5420</td>\n",
       "      <td>1361</td>\n",
       "      <td>251</td>\n",
       "      <td>18</td>\n",
       "      <td>100</td>\n",
       "      <td>471</td>\n",
       "      <td>1107</td>\n",
       "      <td>69</td>\n",
       "      <td>760</td>\n",
       "      <td>698</td>\n",
       "      <td>4.41</td>\n",
       "      <td>3</td>\n",
       "      <td>10</td>\n",
       "      <td>44</td>\n",
       "      <td>90</td>\n",
       "    </tr>\n",
       "    <tr>\n",
       "      <th>24</th>\n",
       "      <td>63</td>\n",
       "      <td>626</td>\n",
       "      <td>5529</td>\n",
       "      <td>1374</td>\n",
       "      <td>272</td>\n",
       "      <td>37</td>\n",
       "      <td>130</td>\n",
       "      <td>387</td>\n",
       "      <td>1274</td>\n",
       "      <td>88</td>\n",
       "      <td>809</td>\n",
       "      <td>749</td>\n",
       "      <td>4.69</td>\n",
       "      <td>1</td>\n",
       "      <td>7</td>\n",
       "      <td>35</td>\n",
       "      <td>117</td>\n",
       "    </tr>\n",
       "    <tr>\n",
       "      <th>25</th>\n",
       "      <td>92</td>\n",
       "      <td>667</td>\n",
       "      <td>5385</td>\n",
       "      <td>1346</td>\n",
       "      <td>263</td>\n",
       "      <td>26</td>\n",
       "      <td>187</td>\n",
       "      <td>563</td>\n",
       "      <td>1258</td>\n",
       "      <td>59</td>\n",
       "      <td>595</td>\n",
       "      <td>553</td>\n",
       "      <td>3.44</td>\n",
       "      <td>6</td>\n",
       "      <td>21</td>\n",
       "      <td>47</td>\n",
       "      <td>75</td>\n",
       "    </tr>\n",
       "    <tr>\n",
       "      <th>26</th>\n",
       "      <td>84</td>\n",
       "      <td>696</td>\n",
       "      <td>5565</td>\n",
       "      <td>1486</td>\n",
       "      <td>288</td>\n",
       "      <td>39</td>\n",
       "      <td>136</td>\n",
       "      <td>457</td>\n",
       "      <td>1159</td>\n",
       "      <td>93</td>\n",
       "      <td>627</td>\n",
       "      <td>597</td>\n",
       "      <td>3.72</td>\n",
       "      <td>7</td>\n",
       "      <td>18</td>\n",
       "      <td>41</td>\n",
       "      <td>78</td>\n",
       "    </tr>\n",
       "    <tr>\n",
       "      <th>27</th>\n",
       "      <td>79</td>\n",
       "      <td>720</td>\n",
       "      <td>5649</td>\n",
       "      <td>1494</td>\n",
       "      <td>289</td>\n",
       "      <td>48</td>\n",
       "      <td>154</td>\n",
       "      <td>490</td>\n",
       "      <td>1312</td>\n",
       "      <td>132</td>\n",
       "      <td>713</td>\n",
       "      <td>659</td>\n",
       "      <td>4.04</td>\n",
       "      <td>1</td>\n",
       "      <td>12</td>\n",
       "      <td>44</td>\n",
       "      <td>86</td>\n",
       "    </tr>\n",
       "    <tr>\n",
       "      <th>28</th>\n",
       "      <td>74</td>\n",
       "      <td>650</td>\n",
       "      <td>5457</td>\n",
       "      <td>1324</td>\n",
       "      <td>260</td>\n",
       "      <td>36</td>\n",
       "      <td>148</td>\n",
       "      <td>426</td>\n",
       "      <td>1327</td>\n",
       "      <td>82</td>\n",
       "      <td>731</td>\n",
       "      <td>655</td>\n",
       "      <td>4.09</td>\n",
       "      <td>1</td>\n",
       "      <td>6</td>\n",
       "      <td>41</td>\n",
       "      <td>92</td>\n",
       "    </tr>\n",
       "    <tr>\n",
       "      <th>29</th>\n",
       "      <td>68</td>\n",
       "      <td>737</td>\n",
       "      <td>5572</td>\n",
       "      <td>1479</td>\n",
       "      <td>274</td>\n",
       "      <td>49</td>\n",
       "      <td>186</td>\n",
       "      <td>388</td>\n",
       "      <td>1283</td>\n",
       "      <td>97</td>\n",
       "      <td>844</td>\n",
       "      <td>799</td>\n",
       "      <td>5.04</td>\n",
       "      <td>4</td>\n",
       "      <td>4</td>\n",
       "      <td>36</td>\n",
       "      <td>95</td>\n",
       "    </tr>\n",
       "  </tbody>\n",
       "</table>\n",
       "</div>"
      ],
      "text/plain": [
       "      W    R    AB     H   2B  3B   HR   BB    SO   SB   RA   ER   ERA  CG  \\\n",
       "0    95  724  5575  1497  300  42  139  383   973  104  641  601  3.73   2   \n",
       "1    83  696  5467  1349  277  44  156  439  1264   70  700  653  4.07   2   \n",
       "2    81  669  5439  1395  303  29  141  533  1157   86  640  584  3.67  11   \n",
       "3    76  622  5533  1381  260  27  136  404  1231   68  701  643  3.98   7   \n",
       "4    74  689  5605  1515  289  49  151  455  1259   83  803  746  4.64   7   \n",
       "5    93  891  5509  1480  308  17  232  570  1151   88  670  609  3.80   7   \n",
       "6    87  764  5567  1397  272  19  212  554  1227   63  698  652  4.03   3   \n",
       "7    81  713  5485  1370  246  20  217  418  1331   44  693  646  4.05   0   \n",
       "8    80  644  5485  1383  278  32  167  436  1310   87  642  604  3.74   1   \n",
       "9    78  748  5640  1495  294  33  161  478  1148   71  753  694  4.31   3   \n",
       "10   88  751  5511  1419  279  32  172  503  1233  101  733  680  4.24   5   \n",
       "11   86  729  5459  1363  278  26  230  486  1392  121  618  572  3.57   5   \n",
       "12   85  661  5417  1331  243  21  176  435  1150   52  675  630  3.94   2   \n",
       "13   76  656  5544  1379  262  22  198  478  1336   69  726  677  4.16   6   \n",
       "14   68  694  5600  1405  277  46  146  475  1119   78  729  664  4.14   5   \n",
       "15  100  647  5484  1386  288  39  137  506  1267   69  525  478  2.94   1   \n",
       "16   98  697  5631  1462  292  27  140  461  1322   98  596  532  3.21   0   \n",
       "17   97  689  5491  1341  272  30  171  567  1518   95  608  546  3.36   6   \n",
       "18   68  655  5480  1378  274  34  145  412  1299   84  737  682  4.28   1   \n",
       "19   64  640  5571  1382  257  27  167  496  1255  134  754  700  4.33   2   \n",
       "20   90  683  5527  1351  295  17  177  488  1290   51  613  557  3.43   1   \n",
       "21   83  703  5428  1363  265  13  177  539  1344   57  635  577  3.62   4   \n",
       "22   71  613  5463  1420  236  40  120  375  1150  112  678  638  4.02   0   \n",
       "23   67  573  5420  1361  251  18  100  471  1107   69  760  698  4.41   3   \n",
       "24   63  626  5529  1374  272  37  130  387  1274   88  809  749  4.69   1   \n",
       "25   92  667  5385  1346  263  26  187  563  1258   59  595  553  3.44   6   \n",
       "26   84  696  5565  1486  288  39  136  457  1159   93  627  597  3.72   7   \n",
       "27   79  720  5649  1494  289  48  154  490  1312  132  713  659  4.04   1   \n",
       "28   74  650  5457  1324  260  36  148  426  1327   82  731  655  4.09   1   \n",
       "29   68  737  5572  1479  274  49  186  388  1283   97  844  799  5.04   4   \n",
       "\n",
       "    SHO  SV    E  \n",
       "0     8  56   88  \n",
       "1    12  45   86  \n",
       "2    10  38   79  \n",
       "3     9  37  101  \n",
       "4    12  35   86  \n",
       "5    10  34   88  \n",
       "6     4  48   93  \n",
       "7    10  43   77  \n",
       "8    12  60   95  \n",
       "9    10  40   97  \n",
       "10    9  45  119  \n",
       "11   13  39   85  \n",
       "12   12  46   93  \n",
       "13   12  45   94  \n",
       "14   15  28  126  \n",
       "15   15  62   96  \n",
       "16   13  54  122  \n",
       "17   21  48  111  \n",
       "18    7  40  116  \n",
       "19    8  35   90  \n",
       "20   14  50   88  \n",
       "21   13  41   90  \n",
       "22   12  35   77  \n",
       "23   10  44   90  \n",
       "24    7  35  117  \n",
       "25   21  47   75  \n",
       "26   18  41   78  \n",
       "27   12  44   86  \n",
       "28    6  41   92  \n",
       "29    4  36   95  "
      ]
     },
     "execution_count": 486,
     "metadata": {},
     "output_type": "execute_result"
    }
   ],
   "source": [
    "df"
   ]
  },
  {
   "cell_type": "code",
   "execution_count": 487,
   "id": "2e8b4f72",
   "metadata": {},
   "outputs": [
    {
     "data": {
      "text/plain": [
       "(30, 17)"
      ]
     },
     "execution_count": 487,
     "metadata": {},
     "output_type": "execute_result"
    }
   ],
   "source": [
    "df.shape"
   ]
  },
  {
   "cell_type": "code",
   "execution_count": 488,
   "id": "96b202da",
   "metadata": {},
   "outputs": [
    {
     "name": "stdout",
     "output_type": "stream",
     "text": [
      "<class 'pandas.core.frame.DataFrame'>\n",
      "RangeIndex: 30 entries, 0 to 29\n",
      "Data columns (total 17 columns):\n",
      " #   Column  Non-Null Count  Dtype  \n",
      "---  ------  --------------  -----  \n",
      " 0   W       30 non-null     int64  \n",
      " 1   R       30 non-null     int64  \n",
      " 2   AB      30 non-null     int64  \n",
      " 3   H       30 non-null     int64  \n",
      " 4   2B      30 non-null     int64  \n",
      " 5   3B      30 non-null     int64  \n",
      " 6   HR      30 non-null     int64  \n",
      " 7   BB      30 non-null     int64  \n",
      " 8   SO      30 non-null     int64  \n",
      " 9   SB      30 non-null     int64  \n",
      " 10  RA      30 non-null     int64  \n",
      " 11  ER      30 non-null     int64  \n",
      " 12  ERA     30 non-null     float64\n",
      " 13  CG      30 non-null     int64  \n",
      " 14  SHO     30 non-null     int64  \n",
      " 15  SV      30 non-null     int64  \n",
      " 16  E       30 non-null     int64  \n",
      "dtypes: float64(1), int64(16)\n",
      "memory usage: 4.1 KB\n"
     ]
    }
   ],
   "source": [
    "df.info()"
   ]
  },
  {
   "cell_type": "markdown",
   "id": "bb16083e",
   "metadata": {},
   "source": [
    "# Checking Null or missing values"
   ]
  },
  {
   "cell_type": "code",
   "execution_count": 489,
   "id": "da3484ac",
   "metadata": {},
   "outputs": [
    {
     "data": {
      "text/plain": [
       "W      0\n",
       "R      0\n",
       "AB     0\n",
       "H      0\n",
       "2B     0\n",
       "3B     0\n",
       "HR     0\n",
       "BB     0\n",
       "SO     0\n",
       "SB     0\n",
       "RA     0\n",
       "ER     0\n",
       "ERA    0\n",
       "CG     0\n",
       "SHO    0\n",
       "SV     0\n",
       "E      0\n",
       "dtype: int64"
      ]
     },
     "execution_count": 489,
     "metadata": {},
     "output_type": "execute_result"
    }
   ],
   "source": [
    "df.isnull().sum()"
   ]
  },
  {
   "cell_type": "code",
   "execution_count": 490,
   "id": "f4fcd34c",
   "metadata": {},
   "outputs": [
    {
     "data": {
      "text/plain": [
       "Index(['W', 'R', 'AB', 'H', '2B', '3B', 'HR', 'BB', 'SO', 'SB', 'RA', 'ER',\n",
       "       'ERA', 'CG', 'SHO', 'SV', 'E'],\n",
       "      dtype='object')"
      ]
     },
     "execution_count": 490,
     "metadata": {},
     "output_type": "execute_result"
    }
   ],
   "source": [
    "df.columns"
   ]
  },
  {
   "cell_type": "markdown",
   "id": "525130b5",
   "metadata": {},
   "source": [
    "# EDA"
   ]
  },
  {
   "cell_type": "code",
   "execution_count": 491,
   "id": "a8203693",
   "metadata": {},
   "outputs": [
    {
     "data": {
      "image/png": "[encoded data removed]",
      "text/plain": [
       "<Figure size 432x288 with 1 Axes>"
      ]
     },
     "metadata": {
      "needs_background": "light"
     },
     "output_type": "display_data"
    }
   ],
   "source": [
    "plt.hist(df['W'])\n",
    "plt.xlabel('Wins')\n",
    "plt.title('Distribution of Wins')\n",
    "\n",
    "plt.show()"
   ]
  },
  {
   "cell_type": "code",
   "execution_count": 492,
   "id": "6a0e7fa5",
   "metadata": {},
   "outputs": [
    {
     "data": {
      "text/plain": [
       "<AxesSubplot:xlabel='R', ylabel='Count'>"
      ]
     },
     "execution_count": 492,
     "metadata": {},
     "output_type": "execute_result"
    },
    {
     "data": {
      "image/png": "[encoded data removed]",
      "text/plain": [
       "<Figure size 432x288 with 1 Axes>"
      ]
     },
     "metadata": {
      "needs_background": "light"
     },
     "output_type": "display_data"
    }
   ],
   "source": [
    "sns.histplot(data = df, x = \"R\", kde = True)"
   ]
  },
  {
   "cell_type": "code",
   "execution_count": 493,
   "id": "9345561e",
   "metadata": {},
   "outputs": [
    {
     "data": {
      "text/plain": [
       "<AxesSubplot:xlabel='W', ylabel='R'>"
      ]
     },
     "execution_count": 493,
     "metadata": {},
     "output_type": "execute_result"
    },
    {
     "data": {
      "image/png": "[encoded data removed]",
      "text/plain": [
       "<Figure size 720x432 with 1 Axes>"
      ]
     },
     "metadata": {
      "needs_background": "light"
     },
     "output_type": "display_data"
    }
   ],
   "source": [
    "plt.figure(figsize =(10, 6))\n",
    "sns.regplot(y ='R', x ='W', data = df)"
   ]
  },
  {
   "cell_type": "markdown",
   "id": "b78f3b55",
   "metadata": {},
   "source": [
    "We can check the outlier in xubplot and the correlation in regplot.\n",
    "Runs and wins are linearly correlated. And outliers are present between 850 and 900"
   ]
  },
  {
   "cell_type": "code",
   "execution_count": 494,
   "id": "b0105773",
   "metadata": {},
   "outputs": [
    {
     "data": {
      "text/plain": [
       "<AxesSubplot:xlabel='AB', ylabel='Count'>"
      ]
     },
     "execution_count": 494,
     "metadata": {},
     "output_type": "execute_result"
    },
    {
     "data": {
      "image/png": "[encoded data removed]",
      "text/plain": [
       "<Figure size 432x288 with 1 Axes>"
      ]
     },
     "metadata": {
      "needs_background": "light"
     },
     "output_type": "display_data"
    }
   ],
   "source": [
    "sns.histplot(data = df, x = \"AB\", kde = True)"
   ]
  },
  {
   "cell_type": "code",
   "execution_count": 495,
   "id": "958a658a",
   "metadata": {},
   "outputs": [
    {
     "data": {
      "text/plain": [
       "<AxesSubplot:xlabel='W', ylabel='AB'>"
      ]
     },
     "execution_count": 495,
     "metadata": {},
     "output_type": "execute_result"
    },
    {
     "data": {
      "image/png": "[encoded data removed]",
      "text/plain": [
       "<Figure size 720x432 with 1 Axes>"
      ]
     },
     "metadata": {
      "needs_background": "light"
     },
     "output_type": "display_data"
    }
   ],
   "source": [
    "plt.figure(figsize =(10, 6))\n",
    "sns.regplot(y ='AB', x ='W', data = df)"
   ]
  },
  {
   "cell_type": "markdown",
   "id": "3e6d5634",
   "metadata": {},
   "source": [
    "At balls is very weekly related to Wins With no outliers."
   ]
  },
  {
   "cell_type": "code",
   "execution_count": 496,
   "id": "d6cd57d9",
   "metadata": {},
   "outputs": [
    {
     "data": {
      "text/plain": [
       "<AxesSubplot:xlabel='H', ylabel='Count'>"
      ]
     },
     "execution_count": 496,
     "metadata": {},
     "output_type": "execute_result"
    },
    {
     "data": {
      "image/png": "[encoded data removed]",
      "text/plain": [
       "<Figure size 432x288 with 1 Axes>"
      ]
     },
     "metadata": {
      "needs_background": "light"
     },
     "output_type": "display_data"
    }
   ],
   "source": [
    "sns.histplot(data = df, x = \"H\", kde = True)"
   ]
  },
  {
   "cell_type": "code",
   "execution_count": 497,
   "id": "96629eb6",
   "metadata": {},
   "outputs": [
    {
     "data": {
      "text/plain": [
       "<AxesSubplot:xlabel='W', ylabel='H'>"
      ]
     },
     "execution_count": 497,
     "metadata": {},
     "output_type": "execute_result"
    },
    {
     "data": {
      "image/png": "[encoded data removed]",
      "text/plain": [
       "<Figure size 720x432 with 1 Axes>"
      ]
     },
     "metadata": {
      "needs_background": "light"
     },
     "output_type": "display_data"
    }
   ],
   "source": [
    "plt.figure(figsize =(10, 6))\n",
    "sns.regplot(y ='H', x ='W', data = df)"
   ]
  },
  {
   "cell_type": "markdown",
   "id": "27270d6d",
   "metadata": {},
   "source": [
    "Hits are also very weekly related to winning with no outliers."
   ]
  },
  {
   "cell_type": "code",
   "execution_count": 498,
   "id": "296f066c",
   "metadata": {},
   "outputs": [
    {
     "data": {
      "text/plain": [
       "<AxesSubplot:xlabel='2B', ylabel='Count'>"
      ]
     },
     "execution_count": 498,
     "metadata": {},
     "output_type": "execute_result"
    },
    {
     "data": {
      "image/png": "[encoded data removed]",
      "text/plain": [
       "<Figure size 432x288 with 1 Axes>"
      ]
     },
     "metadata": {
      "needs_background": "light"
     },
     "output_type": "display_data"
    }
   ],
   "source": [
    "sns.histplot(data = df, x = \"2B\", kde = True)"
   ]
  },
  {
   "cell_type": "code",
   "execution_count": 499,
   "id": "dcd07b54",
   "metadata": {},
   "outputs": [
    {
     "data": {
      "text/plain": [
       "<AxesSubplot:xlabel='W', ylabel='2B'>"
      ]
     },
     "execution_count": 499,
     "metadata": {},
     "output_type": "execute_result"
    },
    {
     "data": {
      "image/png": "[encoded data removed]",
      "text/plain": [
       "<Figure size 720x432 with 1 Axes>"
      ]
     },
     "metadata": {
      "needs_background": "light"
     },
     "output_type": "display_data"
    }
   ],
   "source": [
    "plt.figure(figsize =(10, 6))\n",
    "sns.regplot(y ='2B', x ='W', data = df)"
   ]
  },
  {
   "cell_type": "markdown",
   "id": "5d38cad1",
   "metadata": {},
   "source": [
    "Doubles are linearly related with Wins, with no outlier, and data is left-skewed"
   ]
  },
  {
   "cell_type": "code",
   "execution_count": 500,
   "id": "0c95f9c8",
   "metadata": {},
   "outputs": [
    {
     "data": {
      "text/plain": [
       "<AxesSubplot:xlabel='3B', ylabel='Count'>"
      ]
     },
     "execution_count": 500,
     "metadata": {},
     "output_type": "execute_result"
    },
    {
     "data": {
      "image/png": "[encoded data removed]",
      "text/plain": [
       "<Figure size 432x288 with 1 Axes>"
      ]
     },
     "metadata": {
      "needs_background": "light"
     },
     "output_type": "display_data"
    }
   ],
   "source": [
    "sns.histplot(data = df, x = \"3B\", kde = True)"
   ]
  },
  {
   "cell_type": "code",
   "execution_count": 501,
   "id": "ac03bf06",
   "metadata": {},
   "outputs": [
    {
     "data": {
      "text/plain": [
       "<AxesSubplot:xlabel='W', ylabel='3B'>"
      ]
     },
     "execution_count": 501,
     "metadata": {},
     "output_type": "execute_result"
    },
    {
     "data": {
      "image/png": "[encoded data removed]",
      "text/plain": [
       "<Figure size 720x432 with 1 Axes>"
      ]
     },
     "metadata": {
      "needs_background": "light"
     },
     "output_type": "display_data"
    }
   ],
   "source": [
    "plt.figure(figsize =(10, 6))\n",
    "sns.regplot(y ='3B', x ='W', data = df)"
   ]
  },
  {
   "cell_type": "markdown",
   "id": "5c73a4f5",
   "metadata": {},
   "source": [
    "Triple has very weak negative correlations with win with no outlier and data is right-skewed"
   ]
  },
  {
   "cell_type": "code",
   "execution_count": 502,
   "id": "83808f46",
   "metadata": {},
   "outputs": [
    {
     "data": {
      "text/plain": [
       "<AxesSubplot:xlabel='HR', ylabel='Count'>"
      ]
     },
     "execution_count": 502,
     "metadata": {},
     "output_type": "execute_result"
    },
    {
     "data": {
      "image/png": "[encoded data removed]",
      "text/plain": [
       "<Figure size 432x288 with 1 Axes>"
      ]
     },
     "metadata": {
      "needs_background": "light"
     },
     "output_type": "display_data"
    }
   ],
   "source": [
    "sns.histplot(data = df, x = \"HR\", kde = True)"
   ]
  },
  {
   "cell_type": "code",
   "execution_count": 503,
   "id": "5127c041",
   "metadata": {},
   "outputs": [
    {
     "data": {
      "text/plain": [
       "<AxesSubplot:xlabel='W', ylabel='HR'>"
      ]
     },
     "execution_count": 503,
     "metadata": {},
     "output_type": "execute_result"
    },
    {
     "data": {
      "image/png": "[encoded data removed]",
      "text/plain": [
       "<Figure size 720x432 with 1 Axes>"
      ]
     },
     "metadata": {
      "needs_background": "light"
     },
     "output_type": "display_data"
    }
   ],
   "source": [
    "plt.figure(figsize =(10, 6))\n",
    "sns.regplot(y ='HR', x ='W', data = df)"
   ]
  },
  {
   "cell_type": "markdown",
   "id": "f3b85dcb",
   "metadata": {},
   "source": [
    "The home run has a very low correlation with wins with no outliers and data is right-skewed"
   ]
  },
  {
   "cell_type": "code",
   "execution_count": 504,
   "id": "7bc4af50",
   "metadata": {},
   "outputs": [
    {
     "data": {
      "text/plain": [
       "<AxesSubplot:xlabel='BB', ylabel='Count'>"
      ]
     },
     "execution_count": 504,
     "metadata": {},
     "output_type": "execute_result"
    },
    {
     "data": {
      "image/png": "[encoded data removed]",
      "text/plain": [
       "<Figure size 432x288 with 1 Axes>"
      ]
     },
     "metadata": {
      "needs_background": "light"
     },
     "output_type": "display_data"
    }
   ],
   "source": [
    "sns.histplot(data = df, x = \"BB\", kde = True)"
   ]
  },
  {
   "cell_type": "code",
   "execution_count": 505,
   "id": "3478e62d",
   "metadata": {},
   "outputs": [
    {
     "data": {
      "text/plain": [
       "<AxesSubplot:xlabel='W', ylabel='BB'>"
      ]
     },
     "execution_count": 505,
     "metadata": {},
     "output_type": "execute_result"
    },
    {
     "data": {
      "image/png": "[encoded data removed]",
      "text/plain": [
       "<Figure size 720x432 with 1 Axes>"
      ]
     },
     "metadata": {
      "needs_background": "light"
     },
     "output_type": "display_data"
    }
   ],
   "source": [
    "plt.figure(figsize =(10, 6))\n",
    "sns.regplot(y ='BB', x ='W', data = df)"
   ]
  },
  {
   "cell_type": "markdown",
   "id": "10b9677e",
   "metadata": {},
   "source": [
    "Walk is lightly correlated to win with no outlier"
   ]
  },
  {
   "cell_type": "code",
   "execution_count": 506,
   "id": "45ccb61b",
   "metadata": {},
   "outputs": [
    {
     "data": {
      "text/plain": [
       "<AxesSubplot:xlabel='SO', ylabel='Count'>"
      ]
     },
     "execution_count": 506,
     "metadata": {},
     "output_type": "execute_result"
    },
    {
     "data": {
      "image/png": "[encoded data removed]",
      "text/plain": [
       "<Figure size 432x288 with 1 Axes>"
      ]
     },
     "metadata": {
      "needs_background": "light"
     },
     "output_type": "display_data"
    }
   ],
   "source": [
    "sns.histplot(data = df, x = \"SO\", kde = True)"
   ]
  },
  {
   "cell_type": "code",
   "execution_count": 507,
   "id": "85fe661a",
   "metadata": {},
   "outputs": [
    {
     "data": {
      "text/plain": [
       "<AxesSubplot:xlabel='W', ylabel='SO'>"
      ]
     },
     "execution_count": 507,
     "metadata": {},
     "output_type": "execute_result"
    },
    {
     "data": {
      "image/png": "[encoded data removed]",
      "text/plain": [
       "<Figure size 720x432 with 1 Axes>"
      ]
     },
     "metadata": {
      "needs_background": "light"
     },
     "output_type": "display_data"
    }
   ],
   "source": [
    "plt.figure(figsize =(10, 6))\n",
    "sns.regplot(y ='SO', x ='W', data = df)"
   ]
  },
  {
   "cell_type": "markdown",
   "id": "2d134f89",
   "metadata": {},
   "source": [
    "Strikeout is not correlated to win with no outlier and the dataset is left-skewed."
   ]
  },
  {
   "cell_type": "code",
   "execution_count": 508,
   "id": "84618662",
   "metadata": {},
   "outputs": [
    {
     "data": {
      "text/plain": [
       "<AxesSubplot:xlabel='SB', ylabel='Count'>"
      ]
     },
     "execution_count": 508,
     "metadata": {},
     "output_type": "execute_result"
    },
    {
     "data": {
      "image/png": "[encoded data removed]",
      "text/plain": [
       "<Figure size 432x288 with 1 Axes>"
      ]
     },
     "metadata": {
      "needs_background": "light"
     },
     "output_type": "display_data"
    }
   ],
   "source": [
    "sns.histplot(data = df, x = \"SB\", kde = True)"
   ]
  },
  {
   "cell_type": "code",
   "execution_count": 509,
   "id": "18af5d2d",
   "metadata": {},
   "outputs": [
    {
     "data": {
      "text/plain": [
       "<AxesSubplot:xlabel='W', ylabel='SB'>"
      ]
     },
     "execution_count": 509,
     "metadata": {},
     "output_type": "execute_result"
    },
    {
     "data": {
      "image/png": "[encoded data removed]",
      "text/plain": [
       "<Figure size 720x432 with 1 Axes>"
      ]
     },
     "metadata": {
      "needs_background": "light"
     },
     "output_type": "display_data"
    }
   ],
   "source": [
    "plt.figure(figsize =(10, 6))\n",
    "sns.regplot(y ='SB', x ='W', data = df)"
   ]
  },
  {
   "cell_type": "markdown",
   "id": "5048d18d",
   "metadata": {},
   "source": [
    "Stolen Bases is not correlated to win with no outlier"
   ]
  },
  {
   "cell_type": "code",
   "execution_count": 510,
   "id": "5f52b053",
   "metadata": {},
   "outputs": [
    {
     "data": {
      "text/plain": [
       "<AxesSubplot:xlabel='RA', ylabel='Count'>"
      ]
     },
     "execution_count": 510,
     "metadata": {},
     "output_type": "execute_result"
    },
    {
     "data": {
      "image/png": "[encoded data removed]",
      "text/plain": [
       "<Figure size 432x288 with 1 Axes>"
      ]
     },
     "metadata": {
      "needs_background": "light"
     },
     "output_type": "display_data"
    }
   ],
   "source": [
    "sns.histplot(data = df, x = \"RA\", kde = True)"
   ]
  },
  {
   "cell_type": "code",
   "execution_count": 511,
   "id": "69b66416",
   "metadata": {},
   "outputs": [
    {
     "data": {
      "text/plain": [
       "<AxesSubplot:xlabel='W', ylabel='RA'>"
      ]
     },
     "execution_count": 511,
     "metadata": {},
     "output_type": "execute_result"
    },
    {
     "data": {
      "image/png": "[encoded data removed]",
      "text/plain": [
       "<Figure size 720x432 with 1 Axes>"
      ]
     },
     "metadata": {
      "needs_background": "light"
     },
     "output_type": "display_data"
    }
   ],
   "source": [
    "plt.figure(figsize =(10, 6))\n",
    "sns.regplot(y ='RA', x ='W', data = df)"
   ]
  },
  {
   "cell_type": "markdown",
   "id": "6a15b513",
   "metadata": {},
   "source": [
    "Runs Allowed is highly correlated to win with no outliers"
   ]
  },
  {
   "cell_type": "code",
   "execution_count": 512,
   "id": "dc2a3f12",
   "metadata": {},
   "outputs": [
    {
     "data": {
      "text/plain": [
       "<AxesSubplot:xlabel='ER', ylabel='Count'>"
      ]
     },
     "execution_count": 512,
     "metadata": {},
     "output_type": "execute_result"
    },
    {
     "data": {
      "image/png": "[encoded data removed]",
      "text/plain": [
       "<Figure size 432x288 with 1 Axes>"
      ]
     },
     "metadata": {
      "needs_background": "light"
     },
     "output_type": "display_data"
    }
   ],
   "source": [
    "sns.histplot(data = df, x = \"ER\", kde = True)"
   ]
  },
  {
   "cell_type": "code",
   "execution_count": 513,
   "id": "3eabc616",
   "metadata": {},
   "outputs": [
    {
     "data": {
      "text/plain": [
       "<AxesSubplot:xlabel='W', ylabel='ER'>"
      ]
     },
     "execution_count": 513,
     "metadata": {},
     "output_type": "execute_result"
    },
    {
     "data": {
      "image/png": "[encoded data removed]",
      "text/plain": [
       "<Figure size 720x432 with 1 Axes>"
      ]
     },
     "metadata": {
      "needs_background": "light"
     },
     "output_type": "display_data"
    }
   ],
   "source": [
    "plt.figure(figsize =(10, 6))\n",
    "sns.regplot(y ='ER', x ='W', data = df)"
   ]
  },
  {
   "cell_type": "markdown",
   "id": "d2c5c717",
   "metadata": {},
   "source": [
    "Earned Runs is highly correlated to win with no outliers"
   ]
  },
  {
   "cell_type": "code",
   "execution_count": 514,
   "id": "3a0a94a5",
   "metadata": {},
   "outputs": [
    {
     "data": {
      "text/plain": [
       "<AxesSubplot:xlabel='ERA', ylabel='Count'>"
      ]
     },
     "execution_count": 514,
     "metadata": {},
     "output_type": "execute_result"
    },
    {
     "data": {
      "image/png": "[encoded data removed]",
      "text/plain": [
       "<Figure size 432x288 with 1 Axes>"
      ]
     },
     "metadata": {
      "needs_background": "light"
     },
     "output_type": "display_data"
    }
   ],
   "source": [
    "sns.histplot(data = df, x = \"ERA\", kde = True)"
   ]
  },
  {
   "cell_type": "code",
   "execution_count": 515,
   "id": "1d24f846",
   "metadata": {},
   "outputs": [
    {
     "data": {
      "text/plain": [
       "<AxesSubplot:xlabel='W', ylabel='ERA'>"
      ]
     },
     "execution_count": 515,
     "metadata": {},
     "output_type": "execute_result"
    },
    {
     "data": {
      "image/png": "[encoded data removed]",
      "text/plain": [
       "<Figure size 720x432 with 1 Axes>"
      ]
     },
     "metadata": {
      "needs_background": "light"
     },
     "output_type": "display_data"
    }
   ],
   "source": [
    "plt.figure(figsize =(10, 6))\n",
    "sns.regplot(y ='ERA', x ='W', data = df)"
   ]
  },
  {
   "cell_type": "markdown",
   "id": "9395aa82",
   "metadata": {},
   "source": [
    "Earned Run Average (ERA) is highly correlated."
   ]
  },
  {
   "cell_type": "code",
   "execution_count": 516,
   "id": "812e7cb9",
   "metadata": {},
   "outputs": [
    {
     "data": {
      "text/plain": [
       "<AxesSubplot:xlabel='CG', ylabel='Count'>"
      ]
     },
     "execution_count": 516,
     "metadata": {},
     "output_type": "execute_result"
    },
    {
     "data": {
      "image/png": "[encoded data removed]",
      "text/plain": [
       "<Figure size 432x288 with 1 Axes>"
      ]
     },
     "metadata": {
      "needs_background": "light"
     },
     "output_type": "display_data"
    }
   ],
   "source": [
    "sns.histplot(data = df, x = \"CG\", kde = True)"
   ]
  },
  {
   "cell_type": "code",
   "execution_count": 517,
   "id": "14236d84",
   "metadata": {},
   "outputs": [
    {
     "data": {
      "text/plain": [
       "<AxesSubplot:xlabel='W', ylabel='CG'>"
      ]
     },
     "execution_count": 517,
     "metadata": {},
     "output_type": "execute_result"
    },
    {
     "data": {
      "image/png": "[encoded data removed]",
      "text/plain": [
       "<Figure size 720x432 with 1 Axes>"
      ]
     },
     "metadata": {
      "needs_background": "light"
     },
     "output_type": "display_data"
    }
   ],
   "source": [
    "plt.figure(figsize =(10, 6))\n",
    "sns.regplot(y ='CG', x ='W', data = df)"
   ]
  },
  {
   "cell_type": "markdown",
   "id": "a1d0b2e8",
   "metadata": {},
   "source": [
    "CG is not correlated to win with no outliers and data is right-skewed."
   ]
  },
  {
   "cell_type": "code",
   "execution_count": 518,
   "id": "71dc27bb",
   "metadata": {},
   "outputs": [
    {
     "data": {
      "text/plain": [
       "<AxesSubplot:xlabel='SHO', ylabel='Count'>"
      ]
     },
     "execution_count": 518,
     "metadata": {},
     "output_type": "execute_result"
    },
    {
     "data": {
      "image/png": "[encoded data removed]",
      "text/plain": [
       "<Figure size 432x288 with 1 Axes>"
      ]
     },
     "metadata": {
      "needs_background": "light"
     },
     "output_type": "display_data"
    }
   ],
   "source": [
    "sns.histplot(data = df, x = \"SHO\", kde = True)"
   ]
  },
  {
   "cell_type": "code",
   "execution_count": 519,
   "id": "0539292c",
   "metadata": {},
   "outputs": [
    {
     "data": {
      "text/plain": [
       "<AxesSubplot:xlabel='W', ylabel='SHO'>"
      ]
     },
     "execution_count": 519,
     "metadata": {},
     "output_type": "execute_result"
    },
    {
     "data": {
      "image/png": "[encoded data removed]",
      "text/plain": [
       "<Figure size 720x432 with 1 Axes>"
      ]
     },
     "metadata": {
      "needs_background": "light"
     },
     "output_type": "display_data"
    }
   ],
   "source": [
    "plt.figure(figsize =(10, 6))\n",
    "sns.regplot(y ='SHO', x ='W', data = df)"
   ]
  },
  {
   "cell_type": "markdown",
   "id": "2e0ad2a4",
   "metadata": {},
   "source": [
    "Shutouts are highly correlated to win with no outliers and data is right-skewed."
   ]
  },
  {
   "cell_type": "code",
   "execution_count": 520,
   "id": "34f58d51",
   "metadata": {},
   "outputs": [
    {
     "data": {
      "text/plain": [
       "<AxesSubplot:xlabel='SV', ylabel='Count'>"
      ]
     },
     "execution_count": 520,
     "metadata": {},
     "output_type": "execute_result"
    },
    {
     "data": {
      "image/png": "[encoded data removed]",
      "text/plain": [
       "<Figure size 432x288 with 1 Axes>"
      ]
     },
     "metadata": {
      "needs_background": "light"
     },
     "output_type": "display_data"
    }
   ],
   "source": [
    "sns.histplot(data = df, x = \"SV\", kde = True)"
   ]
  },
  {
   "cell_type": "code",
   "execution_count": 521,
   "id": "3bdd2397",
   "metadata": {},
   "outputs": [
    {
     "data": {
      "text/plain": [
       "<AxesSubplot:xlabel='W', ylabel='SV'>"
      ]
     },
     "execution_count": 521,
     "metadata": {},
     "output_type": "execute_result"
    },
    {
     "data": {
      "image/png": "[encoded data removed]",
      "text/plain": [
       "<Figure size 720x432 with 1 Axes>"
      ]
     },
     "metadata": {
      "needs_background": "light"
     },
     "output_type": "display_data"
    }
   ],
   "source": [
    "plt.figure(figsize =(10, 6))\n",
    "sns.regplot(y ='SV', x ='W', data = df)"
   ]
  },
  {
   "cell_type": "markdown",
   "id": "3ad7869c",
   "metadata": {},
   "source": [
    "Saves are lightly correlated to win with no outliers-skewed."
   ]
  },
  {
   "cell_type": "code",
   "execution_count": 522,
   "id": "8b8334bb",
   "metadata": {},
   "outputs": [
    {
     "data": {
      "text/plain": [
       "<AxesSubplot:xlabel='E', ylabel='Count'>"
      ]
     },
     "execution_count": 522,
     "metadata": {},
     "output_type": "execute_result"
    },
    {
     "data": {
      "image/png": "[encoded data removed]",
      "text/plain": [
       "<Figure size 432x288 with 1 Axes>"
      ]
     },
     "metadata": {
      "needs_background": "light"
     },
     "output_type": "display_data"
    }
   ],
   "source": [
    "sns.histplot(data = df, x = \"E\", kde = True)"
   ]
  },
  {
   "cell_type": "code",
   "execution_count": 523,
   "id": "3b0aeea5",
   "metadata": {},
   "outputs": [
    {
     "data": {
      "text/plain": [
       "<AxesSubplot:xlabel='W', ylabel='E'>"
      ]
     },
     "execution_count": 523,
     "metadata": {},
     "output_type": "execute_result"
    },
    {
     "data": {
      "image/png": "[encoded data removed]",
      "text/plain": [
       "<Figure size 720x432 with 1 Axes>"
      ]
     },
     "metadata": {
      "needs_background": "light"
     },
     "output_type": "display_data"
    }
   ],
   "source": [
    "plt.figure(figsize =(10, 6))\n",
    "sns.regplot(y ='E', x ='W', data = df)"
   ]
  },
  {
   "cell_type": "markdown",
   "id": "634b0696",
   "metadata": {},
   "source": [
    "Errors are not correlated to win, the data has outliers and data is right-skewed."
   ]
  },
  {
   "cell_type": "code",
   "execution_count": 453,
   "id": "0ee0a01f",
   "metadata": {},
   "outputs": [
    {
     "data": {
      "text/plain": [
       "W      0.047089\n",
       "R      1.200786\n",
       "AB     0.183437\n",
       "H      0.670254\n",
       "2B    -0.230650\n",
       "3B     0.129502\n",
       "HR     0.516441\n",
       "BB     0.158498\n",
       "SO    -0.156065\n",
       "SB     0.479893\n",
       "RA     0.045734\n",
       "ER     0.058710\n",
       "ERA    0.053331\n",
       "CG     0.736845\n",
       "SHO    0.565790\n",
       "SV     0.657524\n",
       "E      0.890132\n",
       "dtype: float64"
      ]
     },
     "execution_count": 453,
     "metadata": {},
     "output_type": "execute_result"
    }
   ],
   "source": [
    "df.skew()"
   ]
  },
  {
   "cell_type": "code",
   "execution_count": 454,
   "id": "dbb46b1c",
   "metadata": {},
   "outputs": [],
   "source": [
    "skew=('R','E','CG','SV','H','SHO')\n",
    "for col in skew:\n",
    "    if df.skew().loc[col]>0.55:\n",
    "        df[col]=np.log1p(df[col])"
   ]
  },
  {
   "cell_type": "markdown",
   "id": "34369d01",
   "metadata": {},
   "source": [
    "If the skewness is between -0.5 and 0.5, the data are fairly symmetrical\n",
    "\n",
    "· If the skewness is between -1 and — 0.5 or between 0.5 and 1, the data are moderately skewed\n",
    "\n",
    "· If the skewness is less than -1 or greater than 1, the data are highly skewed"
   ]
  },
  {
   "cell_type": "markdown",
   "id": "22beae1d",
   "metadata": {},
   "source": [
    "# OUTLIER REMOVAL"
   ]
  },
  {
   "cell_type": "code",
   "execution_count": 455,
   "id": "f4c97258",
   "metadata": {},
   "outputs": [
    {
     "data": {
      "text/plain": [
       "(30, 17)"
      ]
     },
     "execution_count": 455,
     "metadata": {},
     "output_type": "execute_result"
    }
   ],
   "source": [
    "df.shape"
   ]
  },
  {
   "cell_type": "code",
   "execution_count": 456,
   "id": "7869602a",
   "metadata": {},
   "outputs": [
    {
     "data": {
      "text/plain": [
       "(array([5], dtype=int64), array([1], dtype=int64))"
      ]
     },
     "execution_count": 456,
     "metadata": {},
     "output_type": "execute_result"
    }
   ],
   "source": [
    "from scipy.stats import zscore\n",
    "import numpy as np\n",
    "z=np.abs(zscore(df))\n",
    "threshold=3\n",
    "np.where(z>3)"
   ]
  },
  {
   "cell_type": "code",
   "execution_count": 457,
   "id": "82ea7a32",
   "metadata": {},
   "outputs": [
    {
     "data": {
      "text/html": [
       "<div>\n",
       "<style scoped>\n",
       "    .dataframe tbody tr th:only-of-type {\n",
       "        vertical-align: middle;\n",
       "    }\n",
       "\n",
       "    .dataframe tbody tr th {\n",
       "        vertical-align: top;\n",
       "    }\n",
       "\n",
       "    .dataframe thead th {\n",
       "        text-align: right;\n",
       "    }\n",
       "</style>\n",
       "<table border=\"1\" class=\"dataframe\">\n",
       "  <thead>\n",
       "    <tr style=\"text-align: right;\">\n",
       "      <th></th>\n",
       "      <th>W</th>\n",
       "      <th>R</th>\n",
       "      <th>AB</th>\n",
       "      <th>H</th>\n",
       "      <th>2B</th>\n",
       "      <th>3B</th>\n",
       "      <th>HR</th>\n",
       "      <th>BB</th>\n",
       "      <th>SO</th>\n",
       "      <th>SB</th>\n",
       "      <th>RA</th>\n",
       "      <th>ER</th>\n",
       "      <th>ERA</th>\n",
       "      <th>CG</th>\n",
       "      <th>SHO</th>\n",
       "      <th>SV</th>\n",
       "      <th>E</th>\n",
       "    </tr>\n",
       "  </thead>\n",
       "  <tbody>\n",
       "    <tr>\n",
       "      <th>0</th>\n",
       "      <td>95</td>\n",
       "      <td>6.586172</td>\n",
       "      <td>5575</td>\n",
       "      <td>7.311886</td>\n",
       "      <td>300</td>\n",
       "      <td>42</td>\n",
       "      <td>139</td>\n",
       "      <td>383</td>\n",
       "      <td>973</td>\n",
       "      <td>104</td>\n",
       "      <td>641</td>\n",
       "      <td>601</td>\n",
       "      <td>3.73</td>\n",
       "      <td>1.098612</td>\n",
       "      <td>2.197225</td>\n",
       "      <td>4.043051</td>\n",
       "      <td>4.488636</td>\n",
       "    </tr>\n",
       "    <tr>\n",
       "      <th>1</th>\n",
       "      <td>83</td>\n",
       "      <td>6.546785</td>\n",
       "      <td>5467</td>\n",
       "      <td>7.207860</td>\n",
       "      <td>277</td>\n",
       "      <td>44</td>\n",
       "      <td>156</td>\n",
       "      <td>439</td>\n",
       "      <td>1264</td>\n",
       "      <td>70</td>\n",
       "      <td>700</td>\n",
       "      <td>653</td>\n",
       "      <td>4.07</td>\n",
       "      <td>1.098612</td>\n",
       "      <td>2.564949</td>\n",
       "      <td>3.828641</td>\n",
       "      <td>4.465908</td>\n",
       "    </tr>\n",
       "    <tr>\n",
       "      <th>2</th>\n",
       "      <td>81</td>\n",
       "      <td>6.507278</td>\n",
       "      <td>5439</td>\n",
       "      <td>7.241366</td>\n",
       "      <td>303</td>\n",
       "      <td>29</td>\n",
       "      <td>141</td>\n",
       "      <td>533</td>\n",
       "      <td>1157</td>\n",
       "      <td>86</td>\n",
       "      <td>640</td>\n",
       "      <td>584</td>\n",
       "      <td>3.67</td>\n",
       "      <td>2.484907</td>\n",
       "      <td>2.397895</td>\n",
       "      <td>3.663562</td>\n",
       "      <td>4.382027</td>\n",
       "    </tr>\n",
       "    <tr>\n",
       "      <th>3</th>\n",
       "      <td>76</td>\n",
       "      <td>6.434547</td>\n",
       "      <td>5533</td>\n",
       "      <td>7.231287</td>\n",
       "      <td>260</td>\n",
       "      <td>27</td>\n",
       "      <td>136</td>\n",
       "      <td>404</td>\n",
       "      <td>1231</td>\n",
       "      <td>68</td>\n",
       "      <td>701</td>\n",
       "      <td>643</td>\n",
       "      <td>3.98</td>\n",
       "      <td>2.079442</td>\n",
       "      <td>2.302585</td>\n",
       "      <td>3.637586</td>\n",
       "      <td>4.624973</td>\n",
       "    </tr>\n",
       "    <tr>\n",
       "      <th>4</th>\n",
       "      <td>74</td>\n",
       "      <td>6.536692</td>\n",
       "      <td>5605</td>\n",
       "      <td>7.323831</td>\n",
       "      <td>289</td>\n",
       "      <td>49</td>\n",
       "      <td>151</td>\n",
       "      <td>455</td>\n",
       "      <td>1259</td>\n",
       "      <td>83</td>\n",
       "      <td>803</td>\n",
       "      <td>746</td>\n",
       "      <td>4.64</td>\n",
       "      <td>2.079442</td>\n",
       "      <td>2.564949</td>\n",
       "      <td>3.583519</td>\n",
       "      <td>4.465908</td>\n",
       "    </tr>\n",
       "    <tr>\n",
       "      <th>6</th>\n",
       "      <td>87</td>\n",
       "      <td>6.639876</td>\n",
       "      <td>5567</td>\n",
       "      <td>7.242798</td>\n",
       "      <td>272</td>\n",
       "      <td>19</td>\n",
       "      <td>212</td>\n",
       "      <td>554</td>\n",
       "      <td>1227</td>\n",
       "      <td>63</td>\n",
       "      <td>698</td>\n",
       "      <td>652</td>\n",
       "      <td>4.03</td>\n",
       "      <td>1.386294</td>\n",
       "      <td>1.609438</td>\n",
       "      <td>3.891820</td>\n",
       "      <td>4.543295</td>\n",
       "    </tr>\n",
       "    <tr>\n",
       "      <th>7</th>\n",
       "      <td>81</td>\n",
       "      <td>6.570883</td>\n",
       "      <td>5485</td>\n",
       "      <td>7.223296</td>\n",
       "      <td>246</td>\n",
       "      <td>20</td>\n",
       "      <td>217</td>\n",
       "      <td>418</td>\n",
       "      <td>1331</td>\n",
       "      <td>44</td>\n",
       "      <td>693</td>\n",
       "      <td>646</td>\n",
       "      <td>4.05</td>\n",
       "      <td>0.000000</td>\n",
       "      <td>2.397895</td>\n",
       "      <td>3.784190</td>\n",
       "      <td>4.356709</td>\n",
       "    </tr>\n",
       "    <tr>\n",
       "      <th>8</th>\n",
       "      <td>80</td>\n",
       "      <td>6.469250</td>\n",
       "      <td>5485</td>\n",
       "      <td>7.232733</td>\n",
       "      <td>278</td>\n",
       "      <td>32</td>\n",
       "      <td>167</td>\n",
       "      <td>436</td>\n",
       "      <td>1310</td>\n",
       "      <td>87</td>\n",
       "      <td>642</td>\n",
       "      <td>604</td>\n",
       "      <td>3.74</td>\n",
       "      <td>0.693147</td>\n",
       "      <td>2.564949</td>\n",
       "      <td>4.110874</td>\n",
       "      <td>4.564348</td>\n",
       "    </tr>\n",
       "    <tr>\n",
       "      <th>9</th>\n",
       "      <td>78</td>\n",
       "      <td>6.618739</td>\n",
       "      <td>5640</td>\n",
       "      <td>7.310550</td>\n",
       "      <td>294</td>\n",
       "      <td>33</td>\n",
       "      <td>161</td>\n",
       "      <td>478</td>\n",
       "      <td>1148</td>\n",
       "      <td>71</td>\n",
       "      <td>753</td>\n",
       "      <td>694</td>\n",
       "      <td>4.31</td>\n",
       "      <td>1.386294</td>\n",
       "      <td>2.397895</td>\n",
       "      <td>3.713572</td>\n",
       "      <td>4.584967</td>\n",
       "    </tr>\n",
       "    <tr>\n",
       "      <th>10</th>\n",
       "      <td>88</td>\n",
       "      <td>6.622736</td>\n",
       "      <td>5511</td>\n",
       "      <td>7.258412</td>\n",
       "      <td>279</td>\n",
       "      <td>32</td>\n",
       "      <td>172</td>\n",
       "      <td>503</td>\n",
       "      <td>1233</td>\n",
       "      <td>101</td>\n",
       "      <td>733</td>\n",
       "      <td>680</td>\n",
       "      <td>4.24</td>\n",
       "      <td>1.791759</td>\n",
       "      <td>2.302585</td>\n",
       "      <td>3.828641</td>\n",
       "      <td>4.787492</td>\n",
       "    </tr>\n",
       "    <tr>\n",
       "      <th>11</th>\n",
       "      <td>86</td>\n",
       "      <td>6.593045</td>\n",
       "      <td>5459</td>\n",
       "      <td>7.218177</td>\n",
       "      <td>278</td>\n",
       "      <td>26</td>\n",
       "      <td>230</td>\n",
       "      <td>486</td>\n",
       "      <td>1392</td>\n",
       "      <td>121</td>\n",
       "      <td>618</td>\n",
       "      <td>572</td>\n",
       "      <td>3.57</td>\n",
       "      <td>1.791759</td>\n",
       "      <td>2.639057</td>\n",
       "      <td>3.688879</td>\n",
       "      <td>4.454347</td>\n",
       "    </tr>\n",
       "    <tr>\n",
       "      <th>12</th>\n",
       "      <td>85</td>\n",
       "      <td>6.495266</td>\n",
       "      <td>5417</td>\n",
       "      <td>7.194437</td>\n",
       "      <td>243</td>\n",
       "      <td>21</td>\n",
       "      <td>176</td>\n",
       "      <td>435</td>\n",
       "      <td>1150</td>\n",
       "      <td>52</td>\n",
       "      <td>675</td>\n",
       "      <td>630</td>\n",
       "      <td>3.94</td>\n",
       "      <td>1.098612</td>\n",
       "      <td>2.564949</td>\n",
       "      <td>3.850148</td>\n",
       "      <td>4.543295</td>\n",
       "    </tr>\n",
       "    <tr>\n",
       "      <th>13</th>\n",
       "      <td>76</td>\n",
       "      <td>6.487684</td>\n",
       "      <td>5544</td>\n",
       "      <td>7.229839</td>\n",
       "      <td>262</td>\n",
       "      <td>22</td>\n",
       "      <td>198</td>\n",
       "      <td>478</td>\n",
       "      <td>1336</td>\n",
       "      <td>69</td>\n",
       "      <td>726</td>\n",
       "      <td>677</td>\n",
       "      <td>4.16</td>\n",
       "      <td>1.945910</td>\n",
       "      <td>2.564949</td>\n",
       "      <td>3.828641</td>\n",
       "      <td>4.553877</td>\n",
       "    </tr>\n",
       "    <tr>\n",
       "      <th>14</th>\n",
       "      <td>68</td>\n",
       "      <td>6.543912</td>\n",
       "      <td>5600</td>\n",
       "      <td>7.248504</td>\n",
       "      <td>277</td>\n",
       "      <td>46</td>\n",
       "      <td>146</td>\n",
       "      <td>475</td>\n",
       "      <td>1119</td>\n",
       "      <td>78</td>\n",
       "      <td>729</td>\n",
       "      <td>664</td>\n",
       "      <td>4.14</td>\n",
       "      <td>1.791759</td>\n",
       "      <td>2.772589</td>\n",
       "      <td>3.367296</td>\n",
       "      <td>4.844187</td>\n",
       "    </tr>\n",
       "    <tr>\n",
       "      <th>15</th>\n",
       "      <td>100</td>\n",
       "      <td>6.473891</td>\n",
       "      <td>5484</td>\n",
       "      <td>7.234898</td>\n",
       "      <td>288</td>\n",
       "      <td>39</td>\n",
       "      <td>137</td>\n",
       "      <td>506</td>\n",
       "      <td>1267</td>\n",
       "      <td>69</td>\n",
       "      <td>525</td>\n",
       "      <td>478</td>\n",
       "      <td>2.94</td>\n",
       "      <td>0.693147</td>\n",
       "      <td>2.772589</td>\n",
       "      <td>4.143135</td>\n",
       "      <td>4.574711</td>\n",
       "    </tr>\n",
       "    <tr>\n",
       "      <th>16</th>\n",
       "      <td>98</td>\n",
       "      <td>6.548219</td>\n",
       "      <td>5631</td>\n",
       "      <td>7.288244</td>\n",
       "      <td>292</td>\n",
       "      <td>27</td>\n",
       "      <td>140</td>\n",
       "      <td>461</td>\n",
       "      <td>1322</td>\n",
       "      <td>98</td>\n",
       "      <td>596</td>\n",
       "      <td>532</td>\n",
       "      <td>3.21</td>\n",
       "      <td>0.000000</td>\n",
       "      <td>2.639057</td>\n",
       "      <td>4.007333</td>\n",
       "      <td>4.812184</td>\n",
       "    </tr>\n",
       "    <tr>\n",
       "      <th>17</th>\n",
       "      <td>97</td>\n",
       "      <td>6.536692</td>\n",
       "      <td>5491</td>\n",
       "      <td>7.201916</td>\n",
       "      <td>272</td>\n",
       "      <td>30</td>\n",
       "      <td>171</td>\n",
       "      <td>567</td>\n",
       "      <td>1518</td>\n",
       "      <td>95</td>\n",
       "      <td>608</td>\n",
       "      <td>546</td>\n",
       "      <td>3.36</td>\n",
       "      <td>1.945910</td>\n",
       "      <td>3.091042</td>\n",
       "      <td>3.891820</td>\n",
       "      <td>4.718499</td>\n",
       "    </tr>\n",
       "    <tr>\n",
       "      <th>18</th>\n",
       "      <td>68</td>\n",
       "      <td>6.486161</td>\n",
       "      <td>5480</td>\n",
       "      <td>7.229114</td>\n",
       "      <td>274</td>\n",
       "      <td>34</td>\n",
       "      <td>145</td>\n",
       "      <td>412</td>\n",
       "      <td>1299</td>\n",
       "      <td>84</td>\n",
       "      <td>737</td>\n",
       "      <td>682</td>\n",
       "      <td>4.28</td>\n",
       "      <td>0.693147</td>\n",
       "      <td>2.079442</td>\n",
       "      <td>3.713572</td>\n",
       "      <td>4.762174</td>\n",
       "    </tr>\n",
       "    <tr>\n",
       "      <th>19</th>\n",
       "      <td>64</td>\n",
       "      <td>6.463029</td>\n",
       "      <td>5571</td>\n",
       "      <td>7.232010</td>\n",
       "      <td>257</td>\n",
       "      <td>27</td>\n",
       "      <td>167</td>\n",
       "      <td>496</td>\n",
       "      <td>1255</td>\n",
       "      <td>134</td>\n",
       "      <td>754</td>\n",
       "      <td>700</td>\n",
       "      <td>4.33</td>\n",
       "      <td>1.098612</td>\n",
       "      <td>2.197225</td>\n",
       "      <td>3.583519</td>\n",
       "      <td>4.510860</td>\n",
       "    </tr>\n",
       "    <tr>\n",
       "      <th>20</th>\n",
       "      <td>90</td>\n",
       "      <td>6.527958</td>\n",
       "      <td>5527</td>\n",
       "      <td>7.209340</td>\n",
       "      <td>295</td>\n",
       "      <td>17</td>\n",
       "      <td>177</td>\n",
       "      <td>488</td>\n",
       "      <td>1290</td>\n",
       "      <td>51</td>\n",
       "      <td>613</td>\n",
       "      <td>557</td>\n",
       "      <td>3.43</td>\n",
       "      <td>0.693147</td>\n",
       "      <td>2.708050</td>\n",
       "      <td>3.931826</td>\n",
       "      <td>4.488636</td>\n",
       "    </tr>\n",
       "    <tr>\n",
       "      <th>21</th>\n",
       "      <td>83</td>\n",
       "      <td>6.556778</td>\n",
       "      <td>5428</td>\n",
       "      <td>7.218177</td>\n",
       "      <td>265</td>\n",
       "      <td>13</td>\n",
       "      <td>177</td>\n",
       "      <td>539</td>\n",
       "      <td>1344</td>\n",
       "      <td>57</td>\n",
       "      <td>635</td>\n",
       "      <td>577</td>\n",
       "      <td>3.62</td>\n",
       "      <td>1.609438</td>\n",
       "      <td>2.639057</td>\n",
       "      <td>3.737670</td>\n",
       "      <td>4.510860</td>\n",
       "    </tr>\n",
       "    <tr>\n",
       "      <th>22</th>\n",
       "      <td>71</td>\n",
       "      <td>6.419995</td>\n",
       "      <td>5463</td>\n",
       "      <td>7.259116</td>\n",
       "      <td>236</td>\n",
       "      <td>40</td>\n",
       "      <td>120</td>\n",
       "      <td>375</td>\n",
       "      <td>1150</td>\n",
       "      <td>112</td>\n",
       "      <td>678</td>\n",
       "      <td>638</td>\n",
       "      <td>4.02</td>\n",
       "      <td>0.000000</td>\n",
       "      <td>2.564949</td>\n",
       "      <td>3.583519</td>\n",
       "      <td>4.356709</td>\n",
       "    </tr>\n",
       "    <tr>\n",
       "      <th>23</th>\n",
       "      <td>67</td>\n",
       "      <td>6.352629</td>\n",
       "      <td>5420</td>\n",
       "      <td>7.216709</td>\n",
       "      <td>251</td>\n",
       "      <td>18</td>\n",
       "      <td>100</td>\n",
       "      <td>471</td>\n",
       "      <td>1107</td>\n",
       "      <td>69</td>\n",
       "      <td>760</td>\n",
       "      <td>698</td>\n",
       "      <td>4.41</td>\n",
       "      <td>1.386294</td>\n",
       "      <td>2.397895</td>\n",
       "      <td>3.806662</td>\n",
       "      <td>4.510860</td>\n",
       "    </tr>\n",
       "    <tr>\n",
       "      <th>24</th>\n",
       "      <td>63</td>\n",
       "      <td>6.440947</td>\n",
       "      <td>5529</td>\n",
       "      <td>7.226209</td>\n",
       "      <td>272</td>\n",
       "      <td>37</td>\n",
       "      <td>130</td>\n",
       "      <td>387</td>\n",
       "      <td>1274</td>\n",
       "      <td>88</td>\n",
       "      <td>809</td>\n",
       "      <td>749</td>\n",
       "      <td>4.69</td>\n",
       "      <td>0.693147</td>\n",
       "      <td>2.079442</td>\n",
       "      <td>3.583519</td>\n",
       "      <td>4.770685</td>\n",
       "    </tr>\n",
       "    <tr>\n",
       "      <th>25</th>\n",
       "      <td>92</td>\n",
       "      <td>6.504288</td>\n",
       "      <td>5385</td>\n",
       "      <td>7.205635</td>\n",
       "      <td>263</td>\n",
       "      <td>26</td>\n",
       "      <td>187</td>\n",
       "      <td>563</td>\n",
       "      <td>1258</td>\n",
       "      <td>59</td>\n",
       "      <td>595</td>\n",
       "      <td>553</td>\n",
       "      <td>3.44</td>\n",
       "      <td>1.945910</td>\n",
       "      <td>3.091042</td>\n",
       "      <td>3.871201</td>\n",
       "      <td>4.330733</td>\n",
       "    </tr>\n",
       "    <tr>\n",
       "      <th>26</th>\n",
       "      <td>84</td>\n",
       "      <td>6.546785</td>\n",
       "      <td>5565</td>\n",
       "      <td>7.304516</td>\n",
       "      <td>288</td>\n",
       "      <td>39</td>\n",
       "      <td>136</td>\n",
       "      <td>457</td>\n",
       "      <td>1159</td>\n",
       "      <td>93</td>\n",
       "      <td>627</td>\n",
       "      <td>597</td>\n",
       "      <td>3.72</td>\n",
       "      <td>2.079442</td>\n",
       "      <td>2.944439</td>\n",
       "      <td>3.737670</td>\n",
       "      <td>4.369448</td>\n",
       "    </tr>\n",
       "    <tr>\n",
       "      <th>27</th>\n",
       "      <td>79</td>\n",
       "      <td>6.580639</td>\n",
       "      <td>5649</td>\n",
       "      <td>7.309881</td>\n",
       "      <td>289</td>\n",
       "      <td>48</td>\n",
       "      <td>154</td>\n",
       "      <td>490</td>\n",
       "      <td>1312</td>\n",
       "      <td>132</td>\n",
       "      <td>713</td>\n",
       "      <td>659</td>\n",
       "      <td>4.04</td>\n",
       "      <td>0.693147</td>\n",
       "      <td>2.564949</td>\n",
       "      <td>3.806662</td>\n",
       "      <td>4.465908</td>\n",
       "    </tr>\n",
       "    <tr>\n",
       "      <th>28</th>\n",
       "      <td>74</td>\n",
       "      <td>6.478510</td>\n",
       "      <td>5457</td>\n",
       "      <td>7.189168</td>\n",
       "      <td>260</td>\n",
       "      <td>36</td>\n",
       "      <td>148</td>\n",
       "      <td>426</td>\n",
       "      <td>1327</td>\n",
       "      <td>82</td>\n",
       "      <td>731</td>\n",
       "      <td>655</td>\n",
       "      <td>4.09</td>\n",
       "      <td>0.693147</td>\n",
       "      <td>1.945910</td>\n",
       "      <td>3.737670</td>\n",
       "      <td>4.532599</td>\n",
       "    </tr>\n",
       "    <tr>\n",
       "      <th>29</th>\n",
       "      <td>68</td>\n",
       "      <td>6.603944</td>\n",
       "      <td>5572</td>\n",
       "      <td>7.299797</td>\n",
       "      <td>274</td>\n",
       "      <td>49</td>\n",
       "      <td>186</td>\n",
       "      <td>388</td>\n",
       "      <td>1283</td>\n",
       "      <td>97</td>\n",
       "      <td>844</td>\n",
       "      <td>799</td>\n",
       "      <td>5.04</td>\n",
       "      <td>1.609438</td>\n",
       "      <td>1.609438</td>\n",
       "      <td>3.610918</td>\n",
       "      <td>4.564348</td>\n",
       "    </tr>\n",
       "  </tbody>\n",
       "</table>\n",
       "</div>"
      ],
      "text/plain": [
       "      W         R    AB         H   2B  3B   HR   BB    SO   SB   RA   ER  \\\n",
       "0    95  6.586172  5575  7.311886  300  42  139  383   973  104  641  601   \n",
       "1    83  6.546785  5467  7.207860  277  44  156  439  1264   70  700  653   \n",
       "2    81  6.507278  5439  7.241366  303  29  141  533  1157   86  640  584   \n",
       "3    76  6.434547  5533  7.231287  260  27  136  404  1231   68  701  643   \n",
       "4    74  6.536692  5605  7.323831  289  49  151  455  1259   83  803  746   \n",
       "6    87  6.639876  5567  7.242798  272  19  212  554  1227   63  698  652   \n",
       "7    81  6.570883  5485  7.223296  246  20  217  418  1331   44  693  646   \n",
       "8    80  6.469250  5485  7.232733  278  32  167  436  1310   87  642  604   \n",
       "9    78  6.618739  5640  7.310550  294  33  161  478  1148   71  753  694   \n",
       "10   88  6.622736  5511  7.258412  279  32  172  503  1233  101  733  680   \n",
       "11   86  6.593045  5459  7.218177  278  26  230  486  1392  121  618  572   \n",
       "12   85  6.495266  5417  7.194437  243  21  176  435  1150   52  675  630   \n",
       "13   76  6.487684  5544  7.229839  262  22  198  478  1336   69  726  677   \n",
       "14   68  6.543912  5600  7.248504  277  46  146  475  1119   78  729  664   \n",
       "15  100  6.473891  5484  7.234898  288  39  137  506  1267   69  525  478   \n",
       "16   98  6.548219  5631  7.288244  292  27  140  461  1322   98  596  532   \n",
       "17   97  6.536692  5491  7.201916  272  30  171  567  1518   95  608  546   \n",
       "18   68  6.486161  5480  7.229114  274  34  145  412  1299   84  737  682   \n",
       "19   64  6.463029  5571  7.232010  257  27  167  496  1255  134  754  700   \n",
       "20   90  6.527958  5527  7.209340  295  17  177  488  1290   51  613  557   \n",
       "21   83  6.556778  5428  7.218177  265  13  177  539  1344   57  635  577   \n",
       "22   71  6.419995  5463  7.259116  236  40  120  375  1150  112  678  638   \n",
       "23   67  6.352629  5420  7.216709  251  18  100  471  1107   69  760  698   \n",
       "24   63  6.440947  5529  7.226209  272  37  130  387  1274   88  809  749   \n",
       "25   92  6.504288  5385  7.205635  263  26  187  563  1258   59  595  553   \n",
       "26   84  6.546785  5565  7.304516  288  39  136  457  1159   93  627  597   \n",
       "27   79  6.580639  5649  7.309881  289  48  154  490  1312  132  713  659   \n",
       "28   74  6.478510  5457  7.189168  260  36  148  426  1327   82  731  655   \n",
       "29   68  6.603944  5572  7.299797  274  49  186  388  1283   97  844  799   \n",
       "\n",
       "     ERA        CG       SHO        SV         E  \n",
       "0   3.73  1.098612  2.197225  4.043051  4.488636  \n",
       "1   4.07  1.098612  2.564949  3.828641  4.465908  \n",
       "2   3.67  2.484907  2.397895  3.663562  4.382027  \n",
       "3   3.98  2.079442  2.302585  3.637586  4.624973  \n",
       "4   4.64  2.079442  2.564949  3.583519  4.465908  \n",
       "6   4.03  1.386294  1.609438  3.891820  4.543295  \n",
       "7   4.05  0.000000  2.397895  3.784190  4.356709  \n",
       "8   3.74  0.693147  2.564949  4.110874  4.564348  \n",
       "9   4.31  1.386294  2.397895  3.713572  4.584967  \n",
       "10  4.24  1.791759  2.302585  3.828641  4.787492  \n",
       "11  3.57  1.791759  2.639057  3.688879  4.454347  \n",
       "12  3.94  1.098612  2.564949  3.850148  4.543295  \n",
       "13  4.16  1.945910  2.564949  3.828641  4.553877  \n",
       "14  4.14  1.791759  2.772589  3.367296  4.844187  \n",
       "15  2.94  0.693147  2.772589  4.143135  4.574711  \n",
       "16  3.21  0.000000  2.639057  4.007333  4.812184  \n",
       "17  3.36  1.945910  3.091042  3.891820  4.718499  \n",
       "18  4.28  0.693147  2.079442  3.713572  4.762174  \n",
       "19  4.33  1.098612  2.197225  3.583519  4.510860  \n",
       "20  3.43  0.693147  2.708050  3.931826  4.488636  \n",
       "21  3.62  1.609438  2.639057  3.737670  4.510860  \n",
       "22  4.02  0.000000  2.564949  3.583519  4.356709  \n",
       "23  4.41  1.386294  2.397895  3.806662  4.510860  \n",
       "24  4.69  0.693147  2.079442  3.583519  4.770685  \n",
       "25  3.44  1.945910  3.091042  3.871201  4.330733  \n",
       "26  3.72  2.079442  2.944439  3.737670  4.369448  \n",
       "27  4.04  0.693147  2.564949  3.806662  4.465908  \n",
       "28  4.09  0.693147  1.945910  3.737670  4.532599  \n",
       "29  5.04  1.609438  1.609438  3.610918  4.564348  "
      ]
     },
     "execution_count": 457,
     "metadata": {},
     "output_type": "execute_result"
    }
   ],
   "source": [
    "df_new_z=df[(z<3).all(axis=1)]\n",
    "df_new_z"
   ]
  },
  {
   "cell_type": "code",
   "execution_count": 458,
   "id": "66798fc9",
   "metadata": {},
   "outputs": [
    {
     "data": {
      "text/plain": [
       "(29, 17)"
      ]
     },
     "execution_count": 458,
     "metadata": {},
     "output_type": "execute_result"
    }
   ],
   "source": [
    "df_new_z.shape"
   ]
  },
  {
   "cell_type": "code",
   "execution_count": 459,
   "id": "91242d81",
   "metadata": {},
   "outputs": [],
   "source": [
    "df=df_new_z"
   ]
  },
  {
   "cell_type": "code",
   "execution_count": 460,
   "id": "0f499c40",
   "metadata": {},
   "outputs": [
    {
     "data": {
      "text/html": [
       "<div>\n",
       "<style scoped>\n",
       "    .dataframe tbody tr th:only-of-type {\n",
       "        vertical-align: middle;\n",
       "    }\n",
       "\n",
       "    .dataframe tbody tr th {\n",
       "        vertical-align: top;\n",
       "    }\n",
       "\n",
       "    .dataframe thead th {\n",
       "        text-align: right;\n",
       "    }\n",
       "</style>\n",
       "<table border=\"1\" class=\"dataframe\">\n",
       "  <thead>\n",
       "    <tr style=\"text-align: right;\">\n",
       "      <th></th>\n",
       "      <th>W</th>\n",
       "      <th>R</th>\n",
       "      <th>AB</th>\n",
       "      <th>H</th>\n",
       "      <th>2B</th>\n",
       "      <th>3B</th>\n",
       "      <th>HR</th>\n",
       "      <th>BB</th>\n",
       "      <th>SO</th>\n",
       "      <th>SB</th>\n",
       "      <th>RA</th>\n",
       "      <th>ER</th>\n",
       "      <th>ERA</th>\n",
       "      <th>CG</th>\n",
       "      <th>SHO</th>\n",
       "      <th>SV</th>\n",
       "      <th>E</th>\n",
       "    </tr>\n",
       "  </thead>\n",
       "  <tbody>\n",
       "    <tr>\n",
       "      <th>0</th>\n",
       "      <td>95</td>\n",
       "      <td>6.586172</td>\n",
       "      <td>5575</td>\n",
       "      <td>7.311886</td>\n",
       "      <td>300</td>\n",
       "      <td>42</td>\n",
       "      <td>139</td>\n",
       "      <td>383</td>\n",
       "      <td>973</td>\n",
       "      <td>104</td>\n",
       "      <td>641</td>\n",
       "      <td>601</td>\n",
       "      <td>3.73</td>\n",
       "      <td>1.098612</td>\n",
       "      <td>2.197225</td>\n",
       "      <td>4.043051</td>\n",
       "      <td>4.488636</td>\n",
       "    </tr>\n",
       "    <tr>\n",
       "      <th>1</th>\n",
       "      <td>83</td>\n",
       "      <td>6.546785</td>\n",
       "      <td>5467</td>\n",
       "      <td>7.207860</td>\n",
       "      <td>277</td>\n",
       "      <td>44</td>\n",
       "      <td>156</td>\n",
       "      <td>439</td>\n",
       "      <td>1264</td>\n",
       "      <td>70</td>\n",
       "      <td>700</td>\n",
       "      <td>653</td>\n",
       "      <td>4.07</td>\n",
       "      <td>1.098612</td>\n",
       "      <td>2.564949</td>\n",
       "      <td>3.828641</td>\n",
       "      <td>4.465908</td>\n",
       "    </tr>\n",
       "    <tr>\n",
       "      <th>2</th>\n",
       "      <td>81</td>\n",
       "      <td>6.507278</td>\n",
       "      <td>5439</td>\n",
       "      <td>7.241366</td>\n",
       "      <td>303</td>\n",
       "      <td>29</td>\n",
       "      <td>141</td>\n",
       "      <td>533</td>\n",
       "      <td>1157</td>\n",
       "      <td>86</td>\n",
       "      <td>640</td>\n",
       "      <td>584</td>\n",
       "      <td>3.67</td>\n",
       "      <td>2.484907</td>\n",
       "      <td>2.397895</td>\n",
       "      <td>3.663562</td>\n",
       "      <td>4.382027</td>\n",
       "    </tr>\n",
       "    <tr>\n",
       "      <th>3</th>\n",
       "      <td>76</td>\n",
       "      <td>6.434547</td>\n",
       "      <td>5533</td>\n",
       "      <td>7.231287</td>\n",
       "      <td>260</td>\n",
       "      <td>27</td>\n",
       "      <td>136</td>\n",
       "      <td>404</td>\n",
       "      <td>1231</td>\n",
       "      <td>68</td>\n",
       "      <td>701</td>\n",
       "      <td>643</td>\n",
       "      <td>3.98</td>\n",
       "      <td>2.079442</td>\n",
       "      <td>2.302585</td>\n",
       "      <td>3.637586</td>\n",
       "      <td>4.624973</td>\n",
       "    </tr>\n",
       "    <tr>\n",
       "      <th>4</th>\n",
       "      <td>74</td>\n",
       "      <td>6.536692</td>\n",
       "      <td>5605</td>\n",
       "      <td>7.323831</td>\n",
       "      <td>289</td>\n",
       "      <td>49</td>\n",
       "      <td>151</td>\n",
       "      <td>455</td>\n",
       "      <td>1259</td>\n",
       "      <td>83</td>\n",
       "      <td>803</td>\n",
       "      <td>746</td>\n",
       "      <td>4.64</td>\n",
       "      <td>2.079442</td>\n",
       "      <td>2.564949</td>\n",
       "      <td>3.583519</td>\n",
       "      <td>4.465908</td>\n",
       "    </tr>\n",
       "    <tr>\n",
       "      <th>6</th>\n",
       "      <td>87</td>\n",
       "      <td>6.639876</td>\n",
       "      <td>5567</td>\n",
       "      <td>7.242798</td>\n",
       "      <td>272</td>\n",
       "      <td>19</td>\n",
       "      <td>212</td>\n",
       "      <td>554</td>\n",
       "      <td>1227</td>\n",
       "      <td>63</td>\n",
       "      <td>698</td>\n",
       "      <td>652</td>\n",
       "      <td>4.03</td>\n",
       "      <td>1.386294</td>\n",
       "      <td>1.609438</td>\n",
       "      <td>3.891820</td>\n",
       "      <td>4.543295</td>\n",
       "    </tr>\n",
       "    <tr>\n",
       "      <th>7</th>\n",
       "      <td>81</td>\n",
       "      <td>6.570883</td>\n",
       "      <td>5485</td>\n",
       "      <td>7.223296</td>\n",
       "      <td>246</td>\n",
       "      <td>20</td>\n",
       "      <td>217</td>\n",
       "      <td>418</td>\n",
       "      <td>1331</td>\n",
       "      <td>44</td>\n",
       "      <td>693</td>\n",
       "      <td>646</td>\n",
       "      <td>4.05</td>\n",
       "      <td>0.000000</td>\n",
       "      <td>2.397895</td>\n",
       "      <td>3.784190</td>\n",
       "      <td>4.356709</td>\n",
       "    </tr>\n",
       "    <tr>\n",
       "      <th>8</th>\n",
       "      <td>80</td>\n",
       "      <td>6.469250</td>\n",
       "      <td>5485</td>\n",
       "      <td>7.232733</td>\n",
       "      <td>278</td>\n",
       "      <td>32</td>\n",
       "      <td>167</td>\n",
       "      <td>436</td>\n",
       "      <td>1310</td>\n",
       "      <td>87</td>\n",
       "      <td>642</td>\n",
       "      <td>604</td>\n",
       "      <td>3.74</td>\n",
       "      <td>0.693147</td>\n",
       "      <td>2.564949</td>\n",
       "      <td>4.110874</td>\n",
       "      <td>4.564348</td>\n",
       "    </tr>\n",
       "    <tr>\n",
       "      <th>9</th>\n",
       "      <td>78</td>\n",
       "      <td>6.618739</td>\n",
       "      <td>5640</td>\n",
       "      <td>7.310550</td>\n",
       "      <td>294</td>\n",
       "      <td>33</td>\n",
       "      <td>161</td>\n",
       "      <td>478</td>\n",
       "      <td>1148</td>\n",
       "      <td>71</td>\n",
       "      <td>753</td>\n",
       "      <td>694</td>\n",
       "      <td>4.31</td>\n",
       "      <td>1.386294</td>\n",
       "      <td>2.397895</td>\n",
       "      <td>3.713572</td>\n",
       "      <td>4.584967</td>\n",
       "    </tr>\n",
       "    <tr>\n",
       "      <th>10</th>\n",
       "      <td>88</td>\n",
       "      <td>6.622736</td>\n",
       "      <td>5511</td>\n",
       "      <td>7.258412</td>\n",
       "      <td>279</td>\n",
       "      <td>32</td>\n",
       "      <td>172</td>\n",
       "      <td>503</td>\n",
       "      <td>1233</td>\n",
       "      <td>101</td>\n",
       "      <td>733</td>\n",
       "      <td>680</td>\n",
       "      <td>4.24</td>\n",
       "      <td>1.791759</td>\n",
       "      <td>2.302585</td>\n",
       "      <td>3.828641</td>\n",
       "      <td>4.787492</td>\n",
       "    </tr>\n",
       "    <tr>\n",
       "      <th>11</th>\n",
       "      <td>86</td>\n",
       "      <td>6.593045</td>\n",
       "      <td>5459</td>\n",
       "      <td>7.218177</td>\n",
       "      <td>278</td>\n",
       "      <td>26</td>\n",
       "      <td>230</td>\n",
       "      <td>486</td>\n",
       "      <td>1392</td>\n",
       "      <td>121</td>\n",
       "      <td>618</td>\n",
       "      <td>572</td>\n",
       "      <td>3.57</td>\n",
       "      <td>1.791759</td>\n",
       "      <td>2.639057</td>\n",
       "      <td>3.688879</td>\n",
       "      <td>4.454347</td>\n",
       "    </tr>\n",
       "    <tr>\n",
       "      <th>12</th>\n",
       "      <td>85</td>\n",
       "      <td>6.495266</td>\n",
       "      <td>5417</td>\n",
       "      <td>7.194437</td>\n",
       "      <td>243</td>\n",
       "      <td>21</td>\n",
       "      <td>176</td>\n",
       "      <td>435</td>\n",
       "      <td>1150</td>\n",
       "      <td>52</td>\n",
       "      <td>675</td>\n",
       "      <td>630</td>\n",
       "      <td>3.94</td>\n",
       "      <td>1.098612</td>\n",
       "      <td>2.564949</td>\n",
       "      <td>3.850148</td>\n",
       "      <td>4.543295</td>\n",
       "    </tr>\n",
       "    <tr>\n",
       "      <th>13</th>\n",
       "      <td>76</td>\n",
       "      <td>6.487684</td>\n",
       "      <td>5544</td>\n",
       "      <td>7.229839</td>\n",
       "      <td>262</td>\n",
       "      <td>22</td>\n",
       "      <td>198</td>\n",
       "      <td>478</td>\n",
       "      <td>1336</td>\n",
       "      <td>69</td>\n",
       "      <td>726</td>\n",
       "      <td>677</td>\n",
       "      <td>4.16</td>\n",
       "      <td>1.945910</td>\n",
       "      <td>2.564949</td>\n",
       "      <td>3.828641</td>\n",
       "      <td>4.553877</td>\n",
       "    </tr>\n",
       "    <tr>\n",
       "      <th>14</th>\n",
       "      <td>68</td>\n",
       "      <td>6.543912</td>\n",
       "      <td>5600</td>\n",
       "      <td>7.248504</td>\n",
       "      <td>277</td>\n",
       "      <td>46</td>\n",
       "      <td>146</td>\n",
       "      <td>475</td>\n",
       "      <td>1119</td>\n",
       "      <td>78</td>\n",
       "      <td>729</td>\n",
       "      <td>664</td>\n",
       "      <td>4.14</td>\n",
       "      <td>1.791759</td>\n",
       "      <td>2.772589</td>\n",
       "      <td>3.367296</td>\n",
       "      <td>4.844187</td>\n",
       "    </tr>\n",
       "    <tr>\n",
       "      <th>15</th>\n",
       "      <td>100</td>\n",
       "      <td>6.473891</td>\n",
       "      <td>5484</td>\n",
       "      <td>7.234898</td>\n",
       "      <td>288</td>\n",
       "      <td>39</td>\n",
       "      <td>137</td>\n",
       "      <td>506</td>\n",
       "      <td>1267</td>\n",
       "      <td>69</td>\n",
       "      <td>525</td>\n",
       "      <td>478</td>\n",
       "      <td>2.94</td>\n",
       "      <td>0.693147</td>\n",
       "      <td>2.772589</td>\n",
       "      <td>4.143135</td>\n",
       "      <td>4.574711</td>\n",
       "    </tr>\n",
       "    <tr>\n",
       "      <th>16</th>\n",
       "      <td>98</td>\n",
       "      <td>6.548219</td>\n",
       "      <td>5631</td>\n",
       "      <td>7.288244</td>\n",
       "      <td>292</td>\n",
       "      <td>27</td>\n",
       "      <td>140</td>\n",
       "      <td>461</td>\n",
       "      <td>1322</td>\n",
       "      <td>98</td>\n",
       "      <td>596</td>\n",
       "      <td>532</td>\n",
       "      <td>3.21</td>\n",
       "      <td>0.000000</td>\n",
       "      <td>2.639057</td>\n",
       "      <td>4.007333</td>\n",
       "      <td>4.812184</td>\n",
       "    </tr>\n",
       "    <tr>\n",
       "      <th>17</th>\n",
       "      <td>97</td>\n",
       "      <td>6.536692</td>\n",
       "      <td>5491</td>\n",
       "      <td>7.201916</td>\n",
       "      <td>272</td>\n",
       "      <td>30</td>\n",
       "      <td>171</td>\n",
       "      <td>567</td>\n",
       "      <td>1518</td>\n",
       "      <td>95</td>\n",
       "      <td>608</td>\n",
       "      <td>546</td>\n",
       "      <td>3.36</td>\n",
       "      <td>1.945910</td>\n",
       "      <td>3.091042</td>\n",
       "      <td>3.891820</td>\n",
       "      <td>4.718499</td>\n",
       "    </tr>\n",
       "    <tr>\n",
       "      <th>18</th>\n",
       "      <td>68</td>\n",
       "      <td>6.486161</td>\n",
       "      <td>5480</td>\n",
       "      <td>7.229114</td>\n",
       "      <td>274</td>\n",
       "      <td>34</td>\n",
       "      <td>145</td>\n",
       "      <td>412</td>\n",
       "      <td>1299</td>\n",
       "      <td>84</td>\n",
       "      <td>737</td>\n",
       "      <td>682</td>\n",
       "      <td>4.28</td>\n",
       "      <td>0.693147</td>\n",
       "      <td>2.079442</td>\n",
       "      <td>3.713572</td>\n",
       "      <td>4.762174</td>\n",
       "    </tr>\n",
       "    <tr>\n",
       "      <th>19</th>\n",
       "      <td>64</td>\n",
       "      <td>6.463029</td>\n",
       "      <td>5571</td>\n",
       "      <td>7.232010</td>\n",
       "      <td>257</td>\n",
       "      <td>27</td>\n",
       "      <td>167</td>\n",
       "      <td>496</td>\n",
       "      <td>1255</td>\n",
       "      <td>134</td>\n",
       "      <td>754</td>\n",
       "      <td>700</td>\n",
       "      <td>4.33</td>\n",
       "      <td>1.098612</td>\n",
       "      <td>2.197225</td>\n",
       "      <td>3.583519</td>\n",
       "      <td>4.510860</td>\n",
       "    </tr>\n",
       "    <tr>\n",
       "      <th>20</th>\n",
       "      <td>90</td>\n",
       "      <td>6.527958</td>\n",
       "      <td>5527</td>\n",
       "      <td>7.209340</td>\n",
       "      <td>295</td>\n",
       "      <td>17</td>\n",
       "      <td>177</td>\n",
       "      <td>488</td>\n",
       "      <td>1290</td>\n",
       "      <td>51</td>\n",
       "      <td>613</td>\n",
       "      <td>557</td>\n",
       "      <td>3.43</td>\n",
       "      <td>0.693147</td>\n",
       "      <td>2.708050</td>\n",
       "      <td>3.931826</td>\n",
       "      <td>4.488636</td>\n",
       "    </tr>\n",
       "    <tr>\n",
       "      <th>21</th>\n",
       "      <td>83</td>\n",
       "      <td>6.556778</td>\n",
       "      <td>5428</td>\n",
       "      <td>7.218177</td>\n",
       "      <td>265</td>\n",
       "      <td>13</td>\n",
       "      <td>177</td>\n",
       "      <td>539</td>\n",
       "      <td>1344</td>\n",
       "      <td>57</td>\n",
       "      <td>635</td>\n",
       "      <td>577</td>\n",
       "      <td>3.62</td>\n",
       "      <td>1.609438</td>\n",
       "      <td>2.639057</td>\n",
       "      <td>3.737670</td>\n",
       "      <td>4.510860</td>\n",
       "    </tr>\n",
       "    <tr>\n",
       "      <th>22</th>\n",
       "      <td>71</td>\n",
       "      <td>6.419995</td>\n",
       "      <td>5463</td>\n",
       "      <td>7.259116</td>\n",
       "      <td>236</td>\n",
       "      <td>40</td>\n",
       "      <td>120</td>\n",
       "      <td>375</td>\n",
       "      <td>1150</td>\n",
       "      <td>112</td>\n",
       "      <td>678</td>\n",
       "      <td>638</td>\n",
       "      <td>4.02</td>\n",
       "      <td>0.000000</td>\n",
       "      <td>2.564949</td>\n",
       "      <td>3.583519</td>\n",
       "      <td>4.356709</td>\n",
       "    </tr>\n",
       "    <tr>\n",
       "      <th>23</th>\n",
       "      <td>67</td>\n",
       "      <td>6.352629</td>\n",
       "      <td>5420</td>\n",
       "      <td>7.216709</td>\n",
       "      <td>251</td>\n",
       "      <td>18</td>\n",
       "      <td>100</td>\n",
       "      <td>471</td>\n",
       "      <td>1107</td>\n",
       "      <td>69</td>\n",
       "      <td>760</td>\n",
       "      <td>698</td>\n",
       "      <td>4.41</td>\n",
       "      <td>1.386294</td>\n",
       "      <td>2.397895</td>\n",
       "      <td>3.806662</td>\n",
       "      <td>4.510860</td>\n",
       "    </tr>\n",
       "    <tr>\n",
       "      <th>24</th>\n",
       "      <td>63</td>\n",
       "      <td>6.440947</td>\n",
       "      <td>5529</td>\n",
       "      <td>7.226209</td>\n",
       "      <td>272</td>\n",
       "      <td>37</td>\n",
       "      <td>130</td>\n",
       "      <td>387</td>\n",
       "      <td>1274</td>\n",
       "      <td>88</td>\n",
       "      <td>809</td>\n",
       "      <td>749</td>\n",
       "      <td>4.69</td>\n",
       "      <td>0.693147</td>\n",
       "      <td>2.079442</td>\n",
       "      <td>3.583519</td>\n",
       "      <td>4.770685</td>\n",
       "    </tr>\n",
       "    <tr>\n",
       "      <th>25</th>\n",
       "      <td>92</td>\n",
       "      <td>6.504288</td>\n",
       "      <td>5385</td>\n",
       "      <td>7.205635</td>\n",
       "      <td>263</td>\n",
       "      <td>26</td>\n",
       "      <td>187</td>\n",
       "      <td>563</td>\n",
       "      <td>1258</td>\n",
       "      <td>59</td>\n",
       "      <td>595</td>\n",
       "      <td>553</td>\n",
       "      <td>3.44</td>\n",
       "      <td>1.945910</td>\n",
       "      <td>3.091042</td>\n",
       "      <td>3.871201</td>\n",
       "      <td>4.330733</td>\n",
       "    </tr>\n",
       "    <tr>\n",
       "      <th>26</th>\n",
       "      <td>84</td>\n",
       "      <td>6.546785</td>\n",
       "      <td>5565</td>\n",
       "      <td>7.304516</td>\n",
       "      <td>288</td>\n",
       "      <td>39</td>\n",
       "      <td>136</td>\n",
       "      <td>457</td>\n",
       "      <td>1159</td>\n",
       "      <td>93</td>\n",
       "      <td>627</td>\n",
       "      <td>597</td>\n",
       "      <td>3.72</td>\n",
       "      <td>2.079442</td>\n",
       "      <td>2.944439</td>\n",
       "      <td>3.737670</td>\n",
       "      <td>4.369448</td>\n",
       "    </tr>\n",
       "    <tr>\n",
       "      <th>27</th>\n",
       "      <td>79</td>\n",
       "      <td>6.580639</td>\n",
       "      <td>5649</td>\n",
       "      <td>7.309881</td>\n",
       "      <td>289</td>\n",
       "      <td>48</td>\n",
       "      <td>154</td>\n",
       "      <td>490</td>\n",
       "      <td>1312</td>\n",
       "      <td>132</td>\n",
       "      <td>713</td>\n",
       "      <td>659</td>\n",
       "      <td>4.04</td>\n",
       "      <td>0.693147</td>\n",
       "      <td>2.564949</td>\n",
       "      <td>3.806662</td>\n",
       "      <td>4.465908</td>\n",
       "    </tr>\n",
       "    <tr>\n",
       "      <th>28</th>\n",
       "      <td>74</td>\n",
       "      <td>6.478510</td>\n",
       "      <td>5457</td>\n",
       "      <td>7.189168</td>\n",
       "      <td>260</td>\n",
       "      <td>36</td>\n",
       "      <td>148</td>\n",
       "      <td>426</td>\n",
       "      <td>1327</td>\n",
       "      <td>82</td>\n",
       "      <td>731</td>\n",
       "      <td>655</td>\n",
       "      <td>4.09</td>\n",
       "      <td>0.693147</td>\n",
       "      <td>1.945910</td>\n",
       "      <td>3.737670</td>\n",
       "      <td>4.532599</td>\n",
       "    </tr>\n",
       "    <tr>\n",
       "      <th>29</th>\n",
       "      <td>68</td>\n",
       "      <td>6.603944</td>\n",
       "      <td>5572</td>\n",
       "      <td>7.299797</td>\n",
       "      <td>274</td>\n",
       "      <td>49</td>\n",
       "      <td>186</td>\n",
       "      <td>388</td>\n",
       "      <td>1283</td>\n",
       "      <td>97</td>\n",
       "      <td>844</td>\n",
       "      <td>799</td>\n",
       "      <td>5.04</td>\n",
       "      <td>1.609438</td>\n",
       "      <td>1.609438</td>\n",
       "      <td>3.610918</td>\n",
       "      <td>4.564348</td>\n",
       "    </tr>\n",
       "  </tbody>\n",
       "</table>\n",
       "</div>"
      ],
      "text/plain": [
       "      W         R    AB         H   2B  3B   HR   BB    SO   SB   RA   ER  \\\n",
       "0    95  6.586172  5575  7.311886  300  42  139  383   973  104  641  601   \n",
       "1    83  6.546785  5467  7.207860  277  44  156  439  1264   70  700  653   \n",
       "2    81  6.507278  5439  7.241366  303  29  141  533  1157   86  640  584   \n",
       "3    76  6.434547  5533  7.231287  260  27  136  404  1231   68  701  643   \n",
       "4    74  6.536692  5605  7.323831  289  49  151  455  1259   83  803  746   \n",
       "6    87  6.639876  5567  7.242798  272  19  212  554  1227   63  698  652   \n",
       "7    81  6.570883  5485  7.223296  246  20  217  418  1331   44  693  646   \n",
       "8    80  6.469250  5485  7.232733  278  32  167  436  1310   87  642  604   \n",
       "9    78  6.618739  5640  7.310550  294  33  161  478  1148   71  753  694   \n",
       "10   88  6.622736  5511  7.258412  279  32  172  503  1233  101  733  680   \n",
       "11   86  6.593045  5459  7.218177  278  26  230  486  1392  121  618  572   \n",
       "12   85  6.495266  5417  7.194437  243  21  176  435  1150   52  675  630   \n",
       "13   76  6.487684  5544  7.229839  262  22  198  478  1336   69  726  677   \n",
       "14   68  6.543912  5600  7.248504  277  46  146  475  1119   78  729  664   \n",
       "15  100  6.473891  5484  7.234898  288  39  137  506  1267   69  525  478   \n",
       "16   98  6.548219  5631  7.288244  292  27  140  461  1322   98  596  532   \n",
       "17   97  6.536692  5491  7.201916  272  30  171  567  1518   95  608  546   \n",
       "18   68  6.486161  5480  7.229114  274  34  145  412  1299   84  737  682   \n",
       "19   64  6.463029  5571  7.232010  257  27  167  496  1255  134  754  700   \n",
       "20   90  6.527958  5527  7.209340  295  17  177  488  1290   51  613  557   \n",
       "21   83  6.556778  5428  7.218177  265  13  177  539  1344   57  635  577   \n",
       "22   71  6.419995  5463  7.259116  236  40  120  375  1150  112  678  638   \n",
       "23   67  6.352629  5420  7.216709  251  18  100  471  1107   69  760  698   \n",
       "24   63  6.440947  5529  7.226209  272  37  130  387  1274   88  809  749   \n",
       "25   92  6.504288  5385  7.205635  263  26  187  563  1258   59  595  553   \n",
       "26   84  6.546785  5565  7.304516  288  39  136  457  1159   93  627  597   \n",
       "27   79  6.580639  5649  7.309881  289  48  154  490  1312  132  713  659   \n",
       "28   74  6.478510  5457  7.189168  260  36  148  426  1327   82  731  655   \n",
       "29   68  6.603944  5572  7.299797  274  49  186  388  1283   97  844  799   \n",
       "\n",
       "     ERA        CG       SHO        SV         E  \n",
       "0   3.73  1.098612  2.197225  4.043051  4.488636  \n",
       "1   4.07  1.098612  2.564949  3.828641  4.465908  \n",
       "2   3.67  2.484907  2.397895  3.663562  4.382027  \n",
       "3   3.98  2.079442  2.302585  3.637586  4.624973  \n",
       "4   4.64  2.079442  2.564949  3.583519  4.465908  \n",
       "6   4.03  1.386294  1.609438  3.891820  4.543295  \n",
       "7   4.05  0.000000  2.397895  3.784190  4.356709  \n",
       "8   3.74  0.693147  2.564949  4.110874  4.564348  \n",
       "9   4.31  1.386294  2.397895  3.713572  4.584967  \n",
       "10  4.24  1.791759  2.302585  3.828641  4.787492  \n",
       "11  3.57  1.791759  2.639057  3.688879  4.454347  \n",
       "12  3.94  1.098612  2.564949  3.850148  4.543295  \n",
       "13  4.16  1.945910  2.564949  3.828641  4.553877  \n",
       "14  4.14  1.791759  2.772589  3.367296  4.844187  \n",
       "15  2.94  0.693147  2.772589  4.143135  4.574711  \n",
       "16  3.21  0.000000  2.639057  4.007333  4.812184  \n",
       "17  3.36  1.945910  3.091042  3.891820  4.718499  \n",
       "18  4.28  0.693147  2.079442  3.713572  4.762174  \n",
       "19  4.33  1.098612  2.197225  3.583519  4.510860  \n",
       "20  3.43  0.693147  2.708050  3.931826  4.488636  \n",
       "21  3.62  1.609438  2.639057  3.737670  4.510860  \n",
       "22  4.02  0.000000  2.564949  3.583519  4.356709  \n",
       "23  4.41  1.386294  2.397895  3.806662  4.510860  \n",
       "24  4.69  0.693147  2.079442  3.583519  4.770685  \n",
       "25  3.44  1.945910  3.091042  3.871201  4.330733  \n",
       "26  3.72  2.079442  2.944439  3.737670  4.369448  \n",
       "27  4.04  0.693147  2.564949  3.806662  4.465908  \n",
       "28  4.09  0.693147  1.945910  3.737670  4.532599  \n",
       "29  5.04  1.609438  1.609438  3.610918  4.564348  "
      ]
     },
     "execution_count": 460,
     "metadata": {},
     "output_type": "execute_result"
    }
   ],
   "source": [
    "df"
   ]
  },
  {
   "cell_type": "markdown",
   "id": "92beb7a9",
   "metadata": {},
   "source": [
    "# Correlation of Data"
   ]
  },
  {
   "cell_type": "code",
   "execution_count": 461,
   "id": "7518b1d6",
   "metadata": {},
   "outputs": [
    {
     "data": {
      "text/html": [
       "<div>\n",
       "<style scoped>\n",
       "    .dataframe tbody tr th:only-of-type {\n",
       "        vertical-align: middle;\n",
       "    }\n",
       "\n",
       "    .dataframe tbody tr th {\n",
       "        vertical-align: top;\n",
       "    }\n",
       "\n",
       "    .dataframe thead th {\n",
       "        text-align: right;\n",
       "    }\n",
       "</style>\n",
       "<table border=\"1\" class=\"dataframe\">\n",
       "  <thead>\n",
       "    <tr style=\"text-align: right;\">\n",
       "      <th></th>\n",
       "      <th>W</th>\n",
       "      <th>R</th>\n",
       "      <th>AB</th>\n",
       "      <th>H</th>\n",
       "      <th>2B</th>\n",
       "      <th>3B</th>\n",
       "      <th>HR</th>\n",
       "      <th>BB</th>\n",
       "      <th>SO</th>\n",
       "      <th>SB</th>\n",
       "      <th>RA</th>\n",
       "      <th>ER</th>\n",
       "      <th>ERA</th>\n",
       "      <th>CG</th>\n",
       "      <th>SHO</th>\n",
       "      <th>SV</th>\n",
       "      <th>E</th>\n",
       "    </tr>\n",
       "  </thead>\n",
       "  <tbody>\n",
       "    <tr>\n",
       "      <th>count</th>\n",
       "      <td>29.000000</td>\n",
       "      <td>29.000000</td>\n",
       "      <td>29.000000</td>\n",
       "      <td>29.000000</td>\n",
       "      <td>29.000000</td>\n",
       "      <td>29.000000</td>\n",
       "      <td>29.000000</td>\n",
       "      <td>29.000000</td>\n",
       "      <td>29.000000</td>\n",
       "      <td>29.000000</td>\n",
       "      <td>29.000000</td>\n",
       "      <td>29.000000</td>\n",
       "      <td>29.000000</td>\n",
       "      <td>29.000000</td>\n",
       "      <td>29.000000</td>\n",
       "      <td>29.000000</td>\n",
       "      <td>29.000000</td>\n",
       "    </tr>\n",
       "    <tr>\n",
       "      <th>mean</th>\n",
       "      <td>80.551724</td>\n",
       "      <td>6.523218</td>\n",
       "      <td>5516.517241</td>\n",
       "      <td>7.244818</td>\n",
       "      <td>273.586207</td>\n",
       "      <td>31.793103</td>\n",
       "      <td>161.275862</td>\n",
       "      <td>465.620690</td>\n",
       "      <td>1251.551724</td>\n",
       "      <td>83.344828</td>\n",
       "      <td>688.862069</td>\n",
       "      <td>636.758621</td>\n",
       "      <td>3.961724</td>\n",
       "      <td>1.260706</td>\n",
       "      <td>2.454015</td>\n",
       "      <td>3.778176</td>\n",
       "      <td>4.549627</td>\n",
       "    </tr>\n",
       "    <tr>\n",
       "      <th>std</th>\n",
       "      <td>10.384006</td>\n",
       "      <td>0.067247</td>\n",
       "      <td>71.701076</td>\n",
       "      <td>0.039598</td>\n",
       "      <td>17.269952</td>\n",
       "      <td>10.276114</td>\n",
       "      <td>29.600792</td>\n",
       "      <td>54.728821</td>\n",
       "      <td>103.930123</td>\n",
       "      <td>23.202949</td>\n",
       "      <td>73.300616</td>\n",
       "      <td>71.195734</td>\n",
       "      <td>0.461148</td>\n",
       "      <td>0.686161</td>\n",
       "      <td>0.361754</td>\n",
       "      <td>0.173374</td>\n",
       "      <td>0.142450</td>\n",
       "    </tr>\n",
       "    <tr>\n",
       "      <th>min</th>\n",
       "      <td>63.000000</td>\n",
       "      <td>6.352629</td>\n",
       "      <td>5385.000000</td>\n",
       "      <td>7.189168</td>\n",
       "      <td>236.000000</td>\n",
       "      <td>13.000000</td>\n",
       "      <td>100.000000</td>\n",
       "      <td>375.000000</td>\n",
       "      <td>973.000000</td>\n",
       "      <td>44.000000</td>\n",
       "      <td>525.000000</td>\n",
       "      <td>478.000000</td>\n",
       "      <td>2.940000</td>\n",
       "      <td>0.000000</td>\n",
       "      <td>1.609438</td>\n",
       "      <td>3.367296</td>\n",
       "      <td>4.330733</td>\n",
       "    </tr>\n",
       "    <tr>\n",
       "      <th>25%</th>\n",
       "      <td>74.000000</td>\n",
       "      <td>6.478510</td>\n",
       "      <td>5463.000000</td>\n",
       "      <td>7.218177</td>\n",
       "      <td>262.000000</td>\n",
       "      <td>26.000000</td>\n",
       "      <td>140.000000</td>\n",
       "      <td>426.000000</td>\n",
       "      <td>1159.000000</td>\n",
       "      <td>69.000000</td>\n",
       "      <td>635.000000</td>\n",
       "      <td>584.000000</td>\n",
       "      <td>3.670000</td>\n",
       "      <td>0.693147</td>\n",
       "      <td>2.302585</td>\n",
       "      <td>3.663562</td>\n",
       "      <td>4.465908</td>\n",
       "    </tr>\n",
       "    <tr>\n",
       "      <th>50%</th>\n",
       "      <td>81.000000</td>\n",
       "      <td>6.536692</td>\n",
       "      <td>5511.000000</td>\n",
       "      <td>7.232010</td>\n",
       "      <td>274.000000</td>\n",
       "      <td>32.000000</td>\n",
       "      <td>156.000000</td>\n",
       "      <td>471.000000</td>\n",
       "      <td>1264.000000</td>\n",
       "      <td>83.000000</td>\n",
       "      <td>698.000000</td>\n",
       "      <td>646.000000</td>\n",
       "      <td>4.030000</td>\n",
       "      <td>1.386294</td>\n",
       "      <td>2.564949</td>\n",
       "      <td>3.784190</td>\n",
       "      <td>4.532599</td>\n",
       "    </tr>\n",
       "    <tr>\n",
       "      <th>75%</th>\n",
       "      <td>87.000000</td>\n",
       "      <td>6.570883</td>\n",
       "      <td>5571.000000</td>\n",
       "      <td>7.259116</td>\n",
       "      <td>288.000000</td>\n",
       "      <td>39.000000</td>\n",
       "      <td>177.000000</td>\n",
       "      <td>496.000000</td>\n",
       "      <td>1312.000000</td>\n",
       "      <td>97.000000</td>\n",
       "      <td>733.000000</td>\n",
       "      <td>680.000000</td>\n",
       "      <td>4.240000</td>\n",
       "      <td>1.791759</td>\n",
       "      <td>2.639057</td>\n",
       "      <td>3.871201</td>\n",
       "      <td>4.584967</td>\n",
       "    </tr>\n",
       "    <tr>\n",
       "      <th>max</th>\n",
       "      <td>100.000000</td>\n",
       "      <td>6.639876</td>\n",
       "      <td>5649.000000</td>\n",
       "      <td>7.323831</td>\n",
       "      <td>303.000000</td>\n",
       "      <td>49.000000</td>\n",
       "      <td>230.000000</td>\n",
       "      <td>567.000000</td>\n",
       "      <td>1518.000000</td>\n",
       "      <td>134.000000</td>\n",
       "      <td>844.000000</td>\n",
       "      <td>799.000000</td>\n",
       "      <td>5.040000</td>\n",
       "      <td>2.484907</td>\n",
       "      <td>3.091042</td>\n",
       "      <td>4.143135</td>\n",
       "      <td>4.844187</td>\n",
       "    </tr>\n",
       "  </tbody>\n",
       "</table>\n",
       "</div>"
      ],
      "text/plain": [
       "                W          R           AB          H          2B         3B  \\\n",
       "count   29.000000  29.000000    29.000000  29.000000   29.000000  29.000000   \n",
       "mean    80.551724   6.523218  5516.517241   7.244818  273.586207  31.793103   \n",
       "std     10.384006   0.067247    71.701076   0.039598   17.269952  10.276114   \n",
       "min     63.000000   6.352629  5385.000000   7.189168  236.000000  13.000000   \n",
       "25%     74.000000   6.478510  5463.000000   7.218177  262.000000  26.000000   \n",
       "50%     81.000000   6.536692  5511.000000   7.232010  274.000000  32.000000   \n",
       "75%     87.000000   6.570883  5571.000000   7.259116  288.000000  39.000000   \n",
       "max    100.000000   6.639876  5649.000000   7.323831  303.000000  49.000000   \n",
       "\n",
       "               HR          BB           SO          SB          RA  \\\n",
       "count   29.000000   29.000000    29.000000   29.000000   29.000000   \n",
       "mean   161.275862  465.620690  1251.551724   83.344828  688.862069   \n",
       "std     29.600792   54.728821   103.930123   23.202949   73.300616   \n",
       "min    100.000000  375.000000   973.000000   44.000000  525.000000   \n",
       "25%    140.000000  426.000000  1159.000000   69.000000  635.000000   \n",
       "50%    156.000000  471.000000  1264.000000   83.000000  698.000000   \n",
       "75%    177.000000  496.000000  1312.000000   97.000000  733.000000   \n",
       "max    230.000000  567.000000  1518.000000  134.000000  844.000000   \n",
       "\n",
       "               ER        ERA         CG        SHO         SV          E  \n",
       "count   29.000000  29.000000  29.000000  29.000000  29.000000  29.000000  \n",
       "mean   636.758621   3.961724   1.260706   2.454015   3.778176   4.549627  \n",
       "std     71.195734   0.461148   0.686161   0.361754   0.173374   0.142450  \n",
       "min    478.000000   2.940000   0.000000   1.609438   3.367296   4.330733  \n",
       "25%    584.000000   3.670000   0.693147   2.302585   3.663562   4.465908  \n",
       "50%    646.000000   4.030000   1.386294   2.564949   3.784190   4.532599  \n",
       "75%    680.000000   4.240000   1.791759   2.639057   3.871201   4.584967  \n",
       "max    799.000000   5.040000   2.484907   3.091042   4.143135   4.844187  "
      ]
     },
     "execution_count": 461,
     "metadata": {},
     "output_type": "execute_result"
    }
   ],
   "source": [
    "df.describe()"
   ]
  },
  {
   "cell_type": "code",
   "execution_count": 462,
   "id": "945036ae",
   "metadata": {},
   "outputs": [
    {
     "data": {
      "text/plain": [
       "<AxesSubplot:>"
      ]
     },
     "execution_count": 462,
     "metadata": {},
     "output_type": "execute_result"
    },
    {
     "data": {
      "image/png": "[encoded data removed]",
      "text/plain": [
       "<Figure size 1584x504 with 2 Axes>"
      ]
     },
     "metadata": {
      "needs_background": "light"
     },
     "output_type": "display_data"
    }
   ],
   "source": [
    "plt.figure(figsize=(22,7))\n",
    "sns.heatmap(df.corr(),annot=True,linewidths=0.1,linecolor=\"black\",fmt='0.2f')"
   ]
  },
  {
   "cell_type": "code",
   "execution_count": 463,
   "id": "ac66e4bf",
   "metadata": {},
   "outputs": [
    {
     "data": {
      "image/png": "[encoded data removed]",
      "text/plain": [
       "<Figure size 1584x504 with 1 Axes>"
      ]
     },
     "metadata": {
      "needs_background": "light"
     },
     "output_type": "display_data"
    }
   ],
   "source": [
    "plt.figure(figsize=(22,7))\n",
    "df.corr()['W'].sort_values(ascending=False).drop(['W']).plot(kind='bar',color='c')\n",
    "plt.xlabel('Feature',fontsize=14)\n",
    "plt.ylabel('column with target names',fontsize=14)\n",
    "plt.title('correlation',fontsize=18)\n",
    "plt.show()"
   ]
  },
  {
   "cell_type": "markdown",
   "id": "f2eebbf5",
   "metadata": {},
   "source": [
    "The above diagram shows that with wins,most positively correlated feature is SV and most negatively correlated feature is ERA."
   ]
  },
  {
   "cell_type": "markdown",
   "id": "fec36b95",
   "metadata": {},
   "source": [
    "# LINEAR REGRESSION"
   ]
  },
  {
   "cell_type": "code",
   "execution_count": 464,
   "id": "1762852c",
   "metadata": {},
   "outputs": [],
   "source": [
    "x= df.iloc[:,1:].values  \n",
    "y= df.iloc[:, 0].values  "
   ]
  },
  {
   "cell_type": "code",
   "execution_count": 465,
   "id": "d6e1413d",
   "metadata": {},
   "outputs": [
    {
     "data": {
      "text/plain": [
       "array([ 95,  83,  81,  76,  74,  87,  81,  80,  78,  88,  86,  85,  76,\n",
       "        68, 100,  98,  97,  68,  64,  90,  83,  71,  67,  63,  92,  84,\n",
       "        79,  74,  68], dtype=int64)"
      ]
     },
     "execution_count": 465,
     "metadata": {},
     "output_type": "execute_result"
    }
   ],
   "source": [
    "y"
   ]
  },
  {
   "cell_type": "code",
   "execution_count": 466,
   "id": "e684c0bd",
   "metadata": {},
   "outputs": [],
   "source": [
    "from sklearn.model_selection import train_test_split  \n",
    "x_train, x_test, y_train, y_test= train_test_split(x, y, test_size= 0.2, random_state=0)  "
   ]
  },
  {
   "cell_type": "code",
   "execution_count": 467,
   "id": "471670d0",
   "metadata": {},
   "outputs": [],
   "source": [
    "from sklearn.metrics import accuracy_score,classification_report,confusion_matrix,roc_auc_score,roc_curve\n",
    "from sklearn.linear_model import LinearRegression\n",
    "from sklearn.svm import SVC\n",
    "from sklearn.tree import DecisionTreeRegressor\n",
    "from sklearn.ensemble import GradientBoostingRegressor,AdaBoostRegressor\n",
    "from sklearn.model_selection import cross_val_score,train_test_split,GridSearchCV\n",
    "from sklearn.metrics import r2_score\n",
    "from sklearn.metrics import mean_squared_error,mean_absolute_error"
   ]
  },
  {
   "cell_type": "code",
   "execution_count": 468,
   "id": "6b67c7ce",
   "metadata": {},
   "outputs": [
    {
     "name": "stdout",
     "output_type": "stream",
     "text": [
      "R2 score correspond to random state 40 is -0.21229368241320445\n",
      "R2 score correspond to random state 40 is 0.24549969763801927\n",
      "R2 score correspond to random state 40 is 0.18338806588740586\n",
      "R2 score correspond to random state 40 is 0.3346780831466518\n",
      "R2 score correspond to random state 41 is 0.6813177717076401\n",
      "R2 score correspond to random state 41 is 0.7285452823073881\n",
      "R2 score correspond to random state 41 is 0.2893116949358647\n",
      "R2 score correspond to random state 41 is 0.5529737416383613\n",
      "R2 score correspond to random state 42 is 0.49516648764769056\n",
      "R2 score correspond to random state 42 is 0.4565368053936414\n",
      "R2 score correspond to random state 42 is -0.03845690435935678\n",
      "R2 score correspond to random state 42 is 0.2801897680212969\n",
      "R2 score correspond to random state 43 is 0.16832917705735662\n",
      "R2 score correspond to random state 43 is 0.48205257830480486\n",
      "R2 score correspond to random state 43 is -22.601784150983626\n",
      "R2 score correspond to random state 43 is 0.24274303642641826\n",
      "R2 score correspond to random state 44 is 0.4407137375287796\n",
      "R2 score correspond to random state 44 is 0.597383442056792\n",
      "R2 score correspond to random state 44 is 0.22596133223165893\n",
      "R2 score correspond to random state 44 is 0.5939180561046427\n",
      "R2 score correspond to random state 45 is 0.14683340056474392\n",
      "R2 score correspond to random state 45 is 0.40752431536013645\n",
      "R2 score correspond to random state 45 is -1.4732241887654989\n",
      "R2 score correspond to random state 45 is 0.32239443686904035\n",
      "R2 score correspond to random state 46 is 0.04380341880341865\n",
      "R2 score correspond to random state 46 is 0.5036502849002847\n",
      "R2 score correspond to random state 46 is -8.89087970274093\n",
      "R2 score correspond to random state 46 is -0.155410331050865\n",
      "R2 score correspond to random state 47 is 0.18991899189918982\n",
      "R2 score correspond to random state 47 is 0.5175007971834082\n",
      "R2 score correspond to random state 47 is -2.3797938513455814\n",
      "R2 score correspond to random state 47 is 0.34779743685532793\n",
      "R2 score correspond to random state 48 is -0.4506369426751593\n",
      "R2 score correspond to random state 48 is 0.43086683917197444\n",
      "R2 score correspond to random state 48 is -1.4692778472014174\n",
      "R2 score correspond to random state 48 is 0.18796783401908157\n",
      "R2 score correspond to random state 49 is -0.6078374873937469\n",
      "R2 score correspond to random state 49 is -0.3810449983191655\n",
      "R2 score correspond to random state 49 is 0.524182021656644\n",
      "R2 score correspond to random state 49 is -0.9122563338196727\n",
      "R2 score correspond to random state 50 is 0.24682325760492874\n",
      "R2 score correspond to random state 50 is 0.5546252653288244\n",
      "R2 score correspond to random state 50 is 0.24786468392395267\n",
      "R2 score correspond to random state 50 is 0.5727863345461459\n",
      "R2 score correspond to random state 51 is 0.3165313968389577\n",
      "R2 score correspond to random state 51 is 0.5029875053395986\n",
      "R2 score correspond to random state 51 is -1.27695298725489\n",
      "R2 score correspond to random state 51 is 0.22799246950403818\n",
      "R2 score correspond to random state 52 is -1.3819641170915955\n",
      "R2 score correspond to random state 52 is -0.30002360717658183\n",
      "R2 score correspond to random state 52 is -0.3576766161353364\n",
      "R2 score correspond to random state 52 is -0.35243522644311254\n",
      "R2 score correspond to random state 53 is -0.41946116365720854\n",
      "R2 score correspond to random state 53 is 0.6998244391264674\n",
      "R2 score correspond to random state 53 is 0.3217333398872375\n",
      "R2 score correspond to random state 53 is 0.6245238522313193\n",
      "R2 score correspond to random state 54 is -1.1875\n",
      "R2 score correspond to random state 54 is -0.016380836075371885\n",
      "R2 score correspond to random state 54 is -2.376429036004397\n",
      "R2 score correspond to random state 54 is -0.4517390747234149\n",
      "R2 score correspond to random state 55 is -1.169205358781428\n",
      "R2 score correspond to random state 55 is 0.3609811178401746\n",
      "R2 score correspond to random state 55 is -0.1761230865090304\n",
      "R2 score correspond to random state 55 is 0.3961943650912698\n",
      "R2 score correspond to random state 56 is 0.2973465436738413\n",
      "R2 score correspond to random state 56 is 0.4898075390046692\n",
      "R2 score correspond to random state 56 is -2.2193173901070553\n",
      "R2 score correspond to random state 56 is 0.3692488663331167\n",
      "R2 score correspond to random state 57 is 0.2975352112676056\n",
      "R2 score correspond to random state 57 is 0.8103237480438186\n",
      "R2 score correspond to random state 57 is 0.3865506473132635\n",
      "R2 score correspond to random state 57 is 0.598684166578922\n",
      "R2 score correspond to random state 58 is -0.1272727272727272\n",
      "R2 score correspond to random state 58 is 0.0893730657463373\n",
      "R2 score correspond to random state 58 is 0.30609907060196384\n",
      "R2 score correspond to random state 58 is 0.16415273386399798\n",
      "R2 score correspond to random state 59 is 0.3750597228858098\n",
      "R2 score correspond to random state 59 is 0.7081001242669387\n",
      "R2 score correspond to random state 59 is 0.7818596475164592\n",
      "R2 score correspond to random state 59 is 0.6449543847707468\n",
      "R2 score correspond to random state 60 is 0.25048973681969167\n",
      "R2 score correspond to random state 60 is 0.412967639998679\n",
      "R2 score correspond to random state 60 is 0.05766676585732966\n",
      "R2 score correspond to random state 60 is 0.5324730591198148\n",
      "R2 score correspond to random state 61 is 0.5591887417218542\n",
      "R2 score correspond to random state 61 is 0.6778709069168506\n",
      "R2 score correspond to random state 61 is 0.4587100739294785\n",
      "R2 score correspond to random state 61 is 0.7762048601418279\n",
      "R2 score correspond to random state 62 is 0.5756707268529575\n",
      "R2 score correspond to random state 62 is 0.6582818070040424\n",
      "R2 score correspond to random state 62 is 0.7903436447228663\n",
      "R2 score correspond to random state 62 is 0.5533506297349018\n",
      "R2 score correspond to random state 63 is -0.8798916315472605\n",
      "R2 score correspond to random state 63 is -0.15118444377550322\n",
      "R2 score correspond to random state 63 is -2.2539967246918735\n",
      "R2 score correspond to random state 63 is -0.497248183804478\n",
      "R2 score correspond to random state 64 is 0.35728346456692917\n",
      "R2 score correspond to random state 64 is 0.33797323883621677\n",
      "R2 score correspond to random state 64 is 0.2980724573280038\n",
      "R2 score correspond to random state 64 is 0.32596892299511504\n",
      "R2 score correspond to random state 65 is -0.06759712529944806\n",
      "R2 score correspond to random state 65 is 0.5537267530002661\n",
      "R2 score correspond to random state 65 is 0.030363426077689715\n",
      "R2 score correspond to random state 65 is 0.5316356846558565\n",
      "R2 score correspond to random state 66 is -0.9320712694877502\n",
      "R2 score correspond to random state 66 is 0.2679086241029449\n",
      "R2 score correspond to random state 66 is -8.09024870116945\n",
      "R2 score correspond to random state 66 is -0.22484590222660894\n",
      "R2 score correspond to random state 67 is -0.2975371242303513\n",
      "R2 score correspond to random state 67 is 0.5971880156143105\n",
      "R2 score correspond to random state 67 is 0.25644306691030716\n",
      "R2 score correspond to random state 67 is 0.6244814117978263\n",
      "R2 score correspond to random state 68 is -0.6454502593116453\n",
      "R2 score correspond to random state 68 is 0.6264225470166063\n",
      "R2 score correspond to random state 68 is -0.24311274618849255\n",
      "R2 score correspond to random state 68 is 0.09065143800199804\n",
      "R2 score correspond to random state 69 is -0.15348399246704347\n",
      "R2 score correspond to random state 69 is 0.5356251805027885\n",
      "R2 score correspond to random state 69 is -0.8430427518492027\n",
      "R2 score correspond to random state 69 is 0.4510674513917746\n",
      "R2 score correspond to random state 70 is 0.42330917874396146\n",
      "R2 score correspond to random state 70 is 0.7881222990403892\n",
      "R2 score correspond to random state 70 is 0.05528175489080789\n",
      "R2 score correspond to random state 70 is 0.7434702673918381\n",
      "R2 score correspond to random state 71 is -1.4321796071094481\n",
      "R2 score correspond to random state 71 is -0.21736699998942877\n",
      "R2 score correspond to random state 71 is -0.21314495455665927\n",
      "R2 score correspond to random state 71 is -0.15389913662521826\n",
      "R2 score correspond to random state 72 is -4.405918057663126\n",
      "R2 score correspond to random state 72 is -0.5999190520922573\n",
      "R2 score correspond to random state 72 is -3.852859409073428\n",
      "R2 score correspond to random state 72 is -0.7651360727958048\n",
      "R2 score correspond to random state 73 is -0.16107224274821164\n",
      "R2 score correspond to random state 73 is 0.5847181825328198\n",
      "R2 score correspond to random state 73 is -3.1071401804059073\n",
      "R2 score correspond to random state 73 is 0.47563179036524195\n",
      "R2 score correspond to random state 74 is 0.0034318901795142853\n",
      "R2 score correspond to random state 74 is 0.5064417197908926\n",
      "R2 score correspond to random state 74 is 0.10975586960605699\n",
      "R2 score correspond to random state 74 is 0.5976795108989927\n",
      "R2 score correspond to random state 75 is 0.6318308119790058\n",
      "R2 score correspond to random state 75 is 0.6817902902130287\n",
      "R2 score correspond to random state 75 is -10.043898401285054\n",
      "R2 score correspond to random state 75 is 0.4223735942037864\n",
      "R2 score correspond to random state 76 is 0.1906568961004973\n",
      "R2 score correspond to random state 76 is 0.3441931213039261\n",
      "R2 score correspond to random state 76 is -0.14550148485321324\n",
      "R2 score correspond to random state 76 is 0.39134787497803725\n",
      "R2 score correspond to random state 77 is 0.37336080929186954\n",
      "R2 score correspond to random state 77 is 0.7032625098871821\n",
      "R2 score correspond to random state 77 is -0.22853303912376655\n",
      "R2 score correspond to random state 77 is 0.444640783999911\n",
      "R2 score correspond to random state 78 is 0.2869939089931923\n",
      "R2 score correspond to random state 78 is 0.6228450077630481\n",
      "R2 score correspond to random state 78 is 0.29075783957115764\n",
      "R2 score correspond to random state 78 is 0.4306236072206626\n",
      "R2 score correspond to random state 79 is 0.08214423447743924\n",
      "R2 score correspond to random state 79 is 0.6732296353430176\n",
      "R2 score correspond to random state 79 is -0.8649131869836573\n",
      "R2 score correspond to random state 79 is 0.5635625208700288\n",
      "R2 score correspond to random state 80 is 0.17827967323402205\n",
      "R2 score correspond to random state 80 is 0.5085662608788509\n",
      "R2 score correspond to random state 80 is -1.5004790785650863\n",
      "R2 score correspond to random state 80 is 0.346252906936768\n",
      "R2 score correspond to random state 81 is 0.5165354330708661\n",
      "R2 score correspond to random state 81 is 0.6271475831146107\n",
      "R2 score correspond to random state 81 is -1.9479031439488148\n",
      "R2 score correspond to random state 81 is 0.6532153635370228\n",
      "R2 score correspond to random state 82 is 0.12609970674486803\n",
      "R2 score correspond to random state 82 is 0.10358605807914567\n",
      "R2 score correspond to random state 82 is 0.17492592111471894\n",
      "R2 score correspond to random state 82 is 0.0804033410014171\n",
      "R2 score correspond to random state 83 is 0.20418961235287758\n",
      "R2 score correspond to random state 83 is 0.5749811035525321\n",
      "R2 score correspond to random state 83 is 0.3391212614732203\n",
      "R2 score correspond to random state 83 is 0.5013398164946272\n",
      "R2 score correspond to random state 84 is -1.3202846975088969\n",
      "R2 score correspond to random state 84 is 0.22829725187821281\n",
      "R2 score correspond to random state 84 is -1.5667097510644017\n",
      "R2 score correspond to random state 84 is -0.07090199570508604\n",
      "R2 score correspond to random state 85 is 0.339772847893005\n",
      "R2 score correspond to random state 85 is 0.5939756336317212\n",
      "R2 score correspond to random state 85 is -0.9431447174464469\n",
      "R2 score correspond to random state 85 is 0.3501928458331812\n",
      "R2 score correspond to random state 86 is -0.8444548872180453\n",
      "R2 score correspond to random state 86 is 0.19264354551344354\n",
      "R2 score correspond to random state 86 is -26.376455365644272\n",
      "R2 score correspond to random state 86 is -0.18148043788416968\n",
      "R2 score correspond to random state 87 is 0.1983894582723279\n",
      "R2 score correspond to random state 87 is 0.7165338243642992\n",
      "R2 score correspond to random state 87 is 0.0650936636278856\n",
      "R2 score correspond to random state 87 is 0.6239537866132601\n",
      "R2 score correspond to random state 88 is 0.24464138499587795\n",
      "R2 score correspond to random state 88 is 0.557809176310138\n",
      "R2 score correspond to random state 88 is -0.3880360159001168\n",
      "R2 score correspond to random state 88 is 0.635409165551404\n",
      "R2 score correspond to random state 89 is 0.07615729218516676\n",
      "R2 score correspond to random state 89 is 0.32561694596537794\n",
      "R2 score correspond to random state 89 is -2.4034711341266712\n",
      "R2 score correspond to random state 89 is 0.334274421261596\n",
      "\n",
      "\n",
      "\n",
      "\n",
      "max R2 score correspond to random state 57 is 0.8103237480438186 and model is AdaBoostRegressor()\n"
     ]
    }
   ],
   "source": [
    "model=[DecisionTreeRegressor(),AdaBoostRegressor(),LinearRegression(),GradientBoostingRegressor()]\n",
    "max_r2_score=0\n",
    "for r_state in range(40,90):\n",
    "    train_x,test_x,train_y,test_y=train_test_split(x,y,random_state=r_state,test_size=0.33)\n",
    "    for i in model:\n",
    "        i.fit(train_x,train_y)\n",
    "        pre=i.predict(test_x)\n",
    "        r2_sc=r2_score(test_y,pre)\n",
    "        print(\"R2 score correspond to random state\",r_state,\"is\",r2_sc)\n",
    "        if r2_sc>max_r2_score:\n",
    "            max_r2_score=r2_sc\n",
    "            final_state=r_state\n",
    "            final_model=i\n",
    "            \n",
    "print()\n",
    "print()\n",
    "print()\n",
    "print()\n",
    "\n",
    "print(\"max R2 score correspond to random state\",final_state,\"is\",max_r2_score,\"and model is\",final_model)\n"
   ]
  },
  {
   "cell_type": "markdown",
   "id": "7ddd55b0",
   "metadata": {},
   "source": [
    "Adaboost Regressor model got the maximum R2 scorei.e 0.8103 at random state 57."
   ]
  },
  {
   "cell_type": "code",
   "execution_count": 470,
   "id": "efa6dffb",
   "metadata": {},
   "outputs": [
    {
     "data": {
      "text/plain": [
       "AdaBoostRegressor()"
      ]
     },
     "execution_count": 470,
     "metadata": {},
     "output_type": "execute_result"
    }
   ],
   "source": [
    "ADB=AdaBoostRegressor()\n",
    "ADB.fit(x_train,y_train)"
   ]
  },
  {
   "cell_type": "code",
   "execution_count": 471,
   "id": "7e792458",
   "metadata": {},
   "outputs": [
    {
     "data": {
      "text/plain": [
       "array([87.        , 86.        , 68.        , 77.        , 80.        ,\n",
       "       86.92307692])"
      ]
     },
     "execution_count": 471,
     "metadata": {},
     "output_type": "execute_result"
    }
   ],
   "source": [
    "y_pred=ADB.predict(x_test)\n",
    "y_pred"
   ]
  },
  {
   "cell_type": "code",
   "execution_count": 472,
   "id": "999db420",
   "metadata": {},
   "outputs": [
    {
     "name": "stdout",
     "output_type": "stream",
     "text": [
      " Accuracy of the model is 58.18\n"
     ]
    }
   ],
   "source": [
    "Accuracy=r2_score(y_test,y_pred)*100\n",
    "print(\" Accuracy of the model is %.2f\" %Accuracy)"
   ]
  },
  {
   "cell_type": "code",
   "execution_count": 473,
   "id": "5a107229",
   "metadata": {},
   "outputs": [],
   "source": [
    "pred_df=pd.DataFrame({'Actual Value':y_test,'Predicted Value':y_pred,'Difference':y_test-y_pred})"
   ]
  },
  {
   "cell_type": "code",
   "execution_count": 474,
   "id": "1ffbdd1d",
   "metadata": {},
   "outputs": [
    {
     "data": {
      "text/html": [
       "<div>\n",
       "<style scoped>\n",
       "    .dataframe tbody tr th:only-of-type {\n",
       "        vertical-align: middle;\n",
       "    }\n",
       "\n",
       "    .dataframe tbody tr th {\n",
       "        vertical-align: top;\n",
       "    }\n",
       "\n",
       "    .dataframe thead th {\n",
       "        text-align: right;\n",
       "    }\n",
       "</style>\n",
       "<table border=\"1\" class=\"dataframe\">\n",
       "  <thead>\n",
       "    <tr style=\"text-align: right;\">\n",
       "      <th></th>\n",
       "      <th>Actual Value</th>\n",
       "      <th>Predicted Value</th>\n",
       "      <th>Difference</th>\n",
       "    </tr>\n",
       "  </thead>\n",
       "  <tbody>\n",
       "    <tr>\n",
       "      <th>0</th>\n",
       "      <td>81</td>\n",
       "      <td>87.000000</td>\n",
       "      <td>-6.000000</td>\n",
       "    </tr>\n",
       "    <tr>\n",
       "      <th>1</th>\n",
       "      <td>83</td>\n",
       "      <td>86.000000</td>\n",
       "      <td>-3.000000</td>\n",
       "    </tr>\n",
       "    <tr>\n",
       "      <th>2</th>\n",
       "      <td>63</td>\n",
       "      <td>68.000000</td>\n",
       "      <td>-5.000000</td>\n",
       "    </tr>\n",
       "    <tr>\n",
       "      <th>3</th>\n",
       "      <td>68</td>\n",
       "      <td>77.000000</td>\n",
       "      <td>-9.000000</td>\n",
       "    </tr>\n",
       "    <tr>\n",
       "      <th>4</th>\n",
       "      <td>85</td>\n",
       "      <td>80.000000</td>\n",
       "      <td>5.000000</td>\n",
       "    </tr>\n",
       "    <tr>\n",
       "      <th>5</th>\n",
       "      <td>84</td>\n",
       "      <td>86.923077</td>\n",
       "      <td>-2.923077</td>\n",
       "    </tr>\n",
       "  </tbody>\n",
       "</table>\n",
       "</div>"
      ],
      "text/plain": [
       "   Actual Value  Predicted Value  Difference\n",
       "0            81        87.000000   -6.000000\n",
       "1            83        86.000000   -3.000000\n",
       "2            63        68.000000   -5.000000\n",
       "3            68        77.000000   -9.000000\n",
       "4            85        80.000000    5.000000\n",
       "5            84        86.923077   -2.923077"
      ]
     },
     "execution_count": 474,
     "metadata": {},
     "output_type": "execute_result"
    }
   ],
   "source": [
    "pred_df"
   ]
  },
  {
   "cell_type": "markdown",
   "id": "4f2d3d20",
   "metadata": {},
   "source": [
    "# Cross Validation"
   ]
  },
  {
   "cell_type": "code",
   "execution_count": 475,
   "id": "02ad822f",
   "metadata": {},
   "outputs": [],
   "source": [
    "pred_test=ADB.predict(x_test)"
   ]
  },
  {
   "cell_type": "code",
   "execution_count": 476,
   "id": "606e955f",
   "metadata": {},
   "outputs": [],
   "source": [
    "pred_train=ADB.predict(x_train)"
   ]
  },
  {
   "cell_type": "code",
   "execution_count": 477,
   "id": "ccf94620",
   "metadata": {},
   "outputs": [
    {
     "name": "stdout",
     "output_type": "stream",
     "text": [
      "At cross fold 2 the cv score is -0.022959099181799503 and accuracy score for training is 0.9905319129402851 and accuracy for  testing is 0.5818480845206386\n",
      "\n",
      "\n",
      "At cross fold 3 the cv score is -0.2054183960794235 and accuracy score for training is 0.9905319129402851 and accuracy for  testing is 0.5818480845206386\n",
      "\n",
      "\n",
      "At cross fold 4 the cv score is 0.5907118647689096 and accuracy score for training is 0.9905319129402851 and accuracy for  testing is 0.5818480845206386\n",
      "\n",
      "\n",
      "At cross fold 5 the cv score is -0.6692064899767549 and accuracy score for training is 0.9905319129402851 and accuracy for  testing is 0.5818480845206386\n",
      "\n",
      "\n",
      "At cross fold 6 the cv score is -0.3672722570763587 and accuracy score for training is 0.9905319129402851 and accuracy for  testing is 0.5818480845206386\n",
      "\n",
      "\n",
      "At cross fold 7 the cv score is -0.38819619717513937 and accuracy score for training is 0.9905319129402851 and accuracy for  testing is 0.5818480845206386\n",
      "\n",
      "\n",
      "At cross fold 8 the cv score is -0.3998551119319787 and accuracy score for training is 0.9905319129402851 and accuracy for  testing is 0.5818480845206386\n",
      "\n",
      "\n",
      "At cross fold 9 the cv score is -13.946289643184246 and accuracy score for training is 0.9905319129402851 and accuracy for  testing is 0.5818480845206386\n",
      "\n",
      "\n"
     ]
    }
   ],
   "source": [
    "Train_accuracy=r2_score(y_train,pred_train)\n",
    "Test_accuracy=r2_score(y_test,pred_test)\n",
    "\n",
    "from sklearn.model_selection import cross_val_score\n",
    "for j in range(2,10):\n",
    "    cv_score=cross_val_score(ADB,x,y,cv=j)\n",
    "    cv_mean=cv_score.mean()\n",
    "    print(f\"At cross fold {j} the cv score is {cv_mean} and accuracy score for training is {Train_accuracy} and accuracy for  testing is {Test_accuracy}\")\n",
    "    print(\"\\n\")  "
   ]
  },
  {
   "cell_type": "markdown",
   "id": "85238376",
   "metadata": {},
   "source": [
    "# Saving the model"
   ]
  },
  {
   "cell_type": "code",
   "execution_count": 478,
   "id": "48f367f5",
   "metadata": {},
   "outputs": [],
   "source": [
    "import pickle \n",
    "filename=\"wins.pkl\"\n",
    "pickle.dump(ADB,open(filename,'wb'))"
   ]
  },
  {
   "cell_type": "code",
   "execution_count": 479,
   "id": "6409d08e",
   "metadata": {},
   "outputs": [
    {
     "name": "stdout",
     "output_type": "stream",
     "text": [
      "0.5818480845206386\n"
     ]
    }
   ],
   "source": [
    "loaded_model=pickle.load(open('wins.pkl','rb'))\n",
    "result=loaded_model.score(x_test,y_test)\n",
    "print(result)"
   ]
  },
  {
   "cell_type": "markdown",
   "id": "afa0790f",
   "metadata": {},
   "source": [
    "# Conclusion"
   ]
  },
  {
   "cell_type": "code",
   "execution_count": 480,
   "id": "02d01e71",
   "metadata": {},
   "outputs": [],
   "source": [
    "conclusion=pd.DataFrame([loaded_model.predict(x_test)[:],pred_decision[:]],index=[\"Predicted\",\"Original\"])"
   ]
  },
  {
   "cell_type": "code",
   "execution_count": 481,
   "id": "f5abf18b",
   "metadata": {},
   "outputs": [
    {
     "data": {
      "text/html": [
       "<div>\n",
       "<style scoped>\n",
       "    .dataframe tbody tr th:only-of-type {\n",
       "        vertical-align: middle;\n",
       "    }\n",
       "\n",
       "    .dataframe tbody tr th {\n",
       "        vertical-align: top;\n",
       "    }\n",
       "\n",
       "    .dataframe thead th {\n",
       "        text-align: right;\n",
       "    }\n",
       "</style>\n",
       "<table border=\"1\" class=\"dataframe\">\n",
       "  <thead>\n",
       "    <tr style=\"text-align: right;\">\n",
       "      <th></th>\n",
       "      <th>0</th>\n",
       "      <th>1</th>\n",
       "      <th>2</th>\n",
       "      <th>3</th>\n",
       "      <th>4</th>\n",
       "      <th>5</th>\n",
       "    </tr>\n",
       "  </thead>\n",
       "  <tbody>\n",
       "    <tr>\n",
       "      <th>Predicted</th>\n",
       "      <td>87.00</td>\n",
       "      <td>86.00</td>\n",
       "      <td>68.00</td>\n",
       "      <td>77.00</td>\n",
       "      <td>80.00</td>\n",
       "      <td>86.923077</td>\n",
       "    </tr>\n",
       "    <tr>\n",
       "      <th>Original</th>\n",
       "      <td>84.52</td>\n",
       "      <td>85.01</td>\n",
       "      <td>69.01</td>\n",
       "      <td>76.89</td>\n",
       "      <td>82.15</td>\n",
       "      <td>85.900000</td>\n",
       "    </tr>\n",
       "  </tbody>\n",
       "</table>\n",
       "</div>"
      ],
      "text/plain": [
       "               0      1      2      3      4          5\n",
       "Predicted  87.00  86.00  68.00  77.00  80.00  86.923077\n",
       "Original   84.52  85.01  69.01  76.89  82.15  85.900000"
      ]
     },
     "execution_count": 481,
     "metadata": {},
     "output_type": "execute_result"
    }
   ],
   "source": [
    "conclusion"
   ]
  },
  {
   "cell_type": "code",
   "execution_count": null,
   "id": "6362873c",
   "metadata": {},
   "outputs": [],
   "source": []
  },
  {
   "cell_type": "code",
   "execution_count": null,
   "id": "4b30f695",
   "metadata": {},
   "outputs": [],
   "source": []
  }
 ],
 "metadata": {
  "kernelspec": {
   "display_name": "Python 3 (ipykernel)",
   "language": "python",
   "name": "python3"
  },
  "language_info": {
   "codemirror_mode": {
    "name": "ipython",
    "version": 3
   },
   "file_extension": ".py",
   "mimetype": "text/x-python",
   "name": "python",
   "nbconvert_exporter": "python",
   "pygments_lexer": "ipython3",
   "version": "3.9.12"
  }
 },
 "nbformat": 4,
 "nbformat_minor": 5
}
