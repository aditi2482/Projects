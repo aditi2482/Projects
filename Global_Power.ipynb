{
 "cells": [
  {
   "cell_type": "markdown",
   "id": "258376b7",
   "metadata": {},
   "source": [
    "# Importing the Data & Libraries"
   ]
  },
  {
   "cell_type": "code",
   "execution_count": 71,
   "id": "11e604d4",
   "metadata": {},
   "outputs": [],
   "source": [
    "import pandas as pd\n",
    "import numpy as np\n",
    "import seaborn as sns\n",
    "import matplotlib.pyplot as plt\n",
    "import warnings\n",
    "warnings.filterwarnings('ignore')"
   ]
  },
  {
   "cell_type": "code",
   "execution_count": 72,
   "id": "b5f418aa",
   "metadata": {},
   "outputs": [],
   "source": [
    "df=pd.read_csv(\"Global_Power.csv\")"
   ]
  },
  {
   "cell_type": "code",
   "execution_count": 73,
   "id": "31ed087c",
   "metadata": {},
   "outputs": [
    {
     "data": {
      "text/html": [
       "<div>\n",
       "<style scoped>\n",
       "    .dataframe tbody tr th:only-of-type {\n",
       "        vertical-align: middle;\n",
       "    }\n",
       "\n",
       "    .dataframe tbody tr th {\n",
       "        vertical-align: top;\n",
       "    }\n",
       "\n",
       "    .dataframe thead th {\n",
       "        text-align: right;\n",
       "    }\n",
       "</style>\n",
       "<table border=\"1\" class=\"dataframe\">\n",
       "  <thead>\n",
       "    <tr style=\"text-align: right;\">\n",
       "      <th></th>\n",
       "      <th>country</th>\n",
       "      <th>country_long</th>\n",
       "      <th>name</th>\n",
       "      <th>gppd_idnr</th>\n",
       "      <th>capacity_mw</th>\n",
       "      <th>latitude</th>\n",
       "      <th>longitude</th>\n",
       "      <th>primary_fuel</th>\n",
       "      <th>other_fuel1</th>\n",
       "      <th>other_fuel2</th>\n",
       "      <th>...</th>\n",
       "      <th>year_of_capacity_data</th>\n",
       "      <th>generation_gwh_2013</th>\n",
       "      <th>generation_gwh_2014</th>\n",
       "      <th>generation_gwh_2015</th>\n",
       "      <th>generation_gwh_2016</th>\n",
       "      <th>generation_gwh_2017</th>\n",
       "      <th>generation_gwh_2018</th>\n",
       "      <th>generation_gwh_2019</th>\n",
       "      <th>generation_data_source</th>\n",
       "      <th>estimated_generation_gwh</th>\n",
       "    </tr>\n",
       "  </thead>\n",
       "  <tbody>\n",
       "    <tr>\n",
       "      <th>0</th>\n",
       "      <td>IND</td>\n",
       "      <td>India</td>\n",
       "      <td>ACME Solar Tower</td>\n",
       "      <td>WRI1020239</td>\n",
       "      <td>2.5</td>\n",
       "      <td>28.1839</td>\n",
       "      <td>73.2407</td>\n",
       "      <td>Solar</td>\n",
       "      <td>NaN</td>\n",
       "      <td>NaN</td>\n",
       "      <td>...</td>\n",
       "      <td>NaN</td>\n",
       "      <td>NaN</td>\n",
       "      <td>NaN</td>\n",
       "      <td>NaN</td>\n",
       "      <td>NaN</td>\n",
       "      <td>NaN</td>\n",
       "      <td>NaN</td>\n",
       "      <td>NaN</td>\n",
       "      <td>NaN</td>\n",
       "      <td>NaN</td>\n",
       "    </tr>\n",
       "    <tr>\n",
       "      <th>1</th>\n",
       "      <td>IND</td>\n",
       "      <td>India</td>\n",
       "      <td>ADITYA CEMENT WORKS</td>\n",
       "      <td>WRI1019881</td>\n",
       "      <td>98.0</td>\n",
       "      <td>24.7663</td>\n",
       "      <td>74.6090</td>\n",
       "      <td>Coal</td>\n",
       "      <td>NaN</td>\n",
       "      <td>NaN</td>\n",
       "      <td>...</td>\n",
       "      <td>NaN</td>\n",
       "      <td>NaN</td>\n",
       "      <td>NaN</td>\n",
       "      <td>NaN</td>\n",
       "      <td>NaN</td>\n",
       "      <td>NaN</td>\n",
       "      <td>NaN</td>\n",
       "      <td>NaN</td>\n",
       "      <td>NaN</td>\n",
       "      <td>NaN</td>\n",
       "    </tr>\n",
       "    <tr>\n",
       "      <th>2</th>\n",
       "      <td>IND</td>\n",
       "      <td>India</td>\n",
       "      <td>AES Saurashtra Windfarms</td>\n",
       "      <td>WRI1026669</td>\n",
       "      <td>39.2</td>\n",
       "      <td>21.9038</td>\n",
       "      <td>69.3732</td>\n",
       "      <td>Wind</td>\n",
       "      <td>NaN</td>\n",
       "      <td>NaN</td>\n",
       "      <td>...</td>\n",
       "      <td>NaN</td>\n",
       "      <td>NaN</td>\n",
       "      <td>NaN</td>\n",
       "      <td>NaN</td>\n",
       "      <td>NaN</td>\n",
       "      <td>NaN</td>\n",
       "      <td>NaN</td>\n",
       "      <td>NaN</td>\n",
       "      <td>NaN</td>\n",
       "      <td>NaN</td>\n",
       "    </tr>\n",
       "    <tr>\n",
       "      <th>3</th>\n",
       "      <td>IND</td>\n",
       "      <td>India</td>\n",
       "      <td>AGARTALA GT</td>\n",
       "      <td>IND0000001</td>\n",
       "      <td>135.0</td>\n",
       "      <td>23.8712</td>\n",
       "      <td>91.3602</td>\n",
       "      <td>Gas</td>\n",
       "      <td>NaN</td>\n",
       "      <td>NaN</td>\n",
       "      <td>...</td>\n",
       "      <td>2019.0</td>\n",
       "      <td>NaN</td>\n",
       "      <td>617.789264</td>\n",
       "      <td>843.747000</td>\n",
       "      <td>886.004428</td>\n",
       "      <td>663.774500</td>\n",
       "      <td>626.239128</td>\n",
       "      <td>NaN</td>\n",
       "      <td>Central Electricity Authority</td>\n",
       "      <td>NaN</td>\n",
       "    </tr>\n",
       "    <tr>\n",
       "      <th>4</th>\n",
       "      <td>IND</td>\n",
       "      <td>India</td>\n",
       "      <td>AKALTARA TPP</td>\n",
       "      <td>IND0000002</td>\n",
       "      <td>1800.0</td>\n",
       "      <td>21.9603</td>\n",
       "      <td>82.4091</td>\n",
       "      <td>Coal</td>\n",
       "      <td>Oil</td>\n",
       "      <td>NaN</td>\n",
       "      <td>...</td>\n",
       "      <td>2019.0</td>\n",
       "      <td>NaN</td>\n",
       "      <td>3035.550000</td>\n",
       "      <td>5916.370000</td>\n",
       "      <td>6243.000000</td>\n",
       "      <td>5385.579736</td>\n",
       "      <td>7279.000000</td>\n",
       "      <td>NaN</td>\n",
       "      <td>Central Electricity Authority</td>\n",
       "      <td>NaN</td>\n",
       "    </tr>\n",
       "    <tr>\n",
       "      <th>...</th>\n",
       "      <td>...</td>\n",
       "      <td>...</td>\n",
       "      <td>...</td>\n",
       "      <td>...</td>\n",
       "      <td>...</td>\n",
       "      <td>...</td>\n",
       "      <td>...</td>\n",
       "      <td>...</td>\n",
       "      <td>...</td>\n",
       "      <td>...</td>\n",
       "      <td>...</td>\n",
       "      <td>...</td>\n",
       "      <td>...</td>\n",
       "      <td>...</td>\n",
       "      <td>...</td>\n",
       "      <td>...</td>\n",
       "      <td>...</td>\n",
       "      <td>...</td>\n",
       "      <td>...</td>\n",
       "      <td>...</td>\n",
       "      <td>...</td>\n",
       "    </tr>\n",
       "    <tr>\n",
       "      <th>902</th>\n",
       "      <td>IND</td>\n",
       "      <td>India</td>\n",
       "      <td>YERMARUS TPP</td>\n",
       "      <td>IND0000513</td>\n",
       "      <td>1600.0</td>\n",
       "      <td>16.2949</td>\n",
       "      <td>77.3568</td>\n",
       "      <td>Coal</td>\n",
       "      <td>Oil</td>\n",
       "      <td>NaN</td>\n",
       "      <td>...</td>\n",
       "      <td>2019.0</td>\n",
       "      <td>NaN</td>\n",
       "      <td>NaN</td>\n",
       "      <td>0.994875</td>\n",
       "      <td>233.596650</td>\n",
       "      <td>865.400000</td>\n",
       "      <td>686.500000</td>\n",
       "      <td>NaN</td>\n",
       "      <td>Central Electricity Authority</td>\n",
       "      <td>NaN</td>\n",
       "    </tr>\n",
       "    <tr>\n",
       "      <th>903</th>\n",
       "      <td>IND</td>\n",
       "      <td>India</td>\n",
       "      <td>Yelesandra Solar Power Plant</td>\n",
       "      <td>WRI1026222</td>\n",
       "      <td>3.0</td>\n",
       "      <td>12.8932</td>\n",
       "      <td>78.1654</td>\n",
       "      <td>Solar</td>\n",
       "      <td>NaN</td>\n",
       "      <td>NaN</td>\n",
       "      <td>...</td>\n",
       "      <td>NaN</td>\n",
       "      <td>NaN</td>\n",
       "      <td>NaN</td>\n",
       "      <td>NaN</td>\n",
       "      <td>NaN</td>\n",
       "      <td>NaN</td>\n",
       "      <td>NaN</td>\n",
       "      <td>NaN</td>\n",
       "      <td>NaN</td>\n",
       "      <td>NaN</td>\n",
       "    </tr>\n",
       "    <tr>\n",
       "      <th>904</th>\n",
       "      <td>IND</td>\n",
       "      <td>India</td>\n",
       "      <td>Yelisirur wind power project</td>\n",
       "      <td>WRI1026776</td>\n",
       "      <td>25.5</td>\n",
       "      <td>15.2758</td>\n",
       "      <td>75.5811</td>\n",
       "      <td>Wind</td>\n",
       "      <td>NaN</td>\n",
       "      <td>NaN</td>\n",
       "      <td>...</td>\n",
       "      <td>NaN</td>\n",
       "      <td>NaN</td>\n",
       "      <td>NaN</td>\n",
       "      <td>NaN</td>\n",
       "      <td>NaN</td>\n",
       "      <td>NaN</td>\n",
       "      <td>NaN</td>\n",
       "      <td>NaN</td>\n",
       "      <td>NaN</td>\n",
       "      <td>NaN</td>\n",
       "    </tr>\n",
       "    <tr>\n",
       "      <th>905</th>\n",
       "      <td>IND</td>\n",
       "      <td>India</td>\n",
       "      <td>ZAWAR MINES</td>\n",
       "      <td>WRI1019901</td>\n",
       "      <td>80.0</td>\n",
       "      <td>24.3500</td>\n",
       "      <td>73.7477</td>\n",
       "      <td>Coal</td>\n",
       "      <td>NaN</td>\n",
       "      <td>NaN</td>\n",
       "      <td>...</td>\n",
       "      <td>NaN</td>\n",
       "      <td>NaN</td>\n",
       "      <td>NaN</td>\n",
       "      <td>NaN</td>\n",
       "      <td>NaN</td>\n",
       "      <td>NaN</td>\n",
       "      <td>NaN</td>\n",
       "      <td>NaN</td>\n",
       "      <td>NaN</td>\n",
       "      <td>NaN</td>\n",
       "    </tr>\n",
       "    <tr>\n",
       "      <th>906</th>\n",
       "      <td>IND</td>\n",
       "      <td>India</td>\n",
       "      <td>iEnergy Theni Wind Farm</td>\n",
       "      <td>WRI1026761</td>\n",
       "      <td>16.5</td>\n",
       "      <td>9.9344</td>\n",
       "      <td>77.4768</td>\n",
       "      <td>Wind</td>\n",
       "      <td>NaN</td>\n",
       "      <td>NaN</td>\n",
       "      <td>...</td>\n",
       "      <td>NaN</td>\n",
       "      <td>NaN</td>\n",
       "      <td>NaN</td>\n",
       "      <td>NaN</td>\n",
       "      <td>NaN</td>\n",
       "      <td>NaN</td>\n",
       "      <td>NaN</td>\n",
       "      <td>NaN</td>\n",
       "      <td>NaN</td>\n",
       "      <td>NaN</td>\n",
       "    </tr>\n",
       "  </tbody>\n",
       "</table>\n",
       "<p>907 rows × 27 columns</p>\n",
       "</div>"
      ],
      "text/plain": [
       "    country country_long                          name   gppd_idnr  \\\n",
       "0       IND        India              ACME Solar Tower  WRI1020239   \n",
       "1       IND        India           ADITYA CEMENT WORKS  WRI1019881   \n",
       "2       IND        India      AES Saurashtra Windfarms  WRI1026669   \n",
       "3       IND        India                   AGARTALA GT  IND0000001   \n",
       "4       IND        India                  AKALTARA TPP  IND0000002   \n",
       "..      ...          ...                           ...         ...   \n",
       "902     IND        India                  YERMARUS TPP  IND0000513   \n",
       "903     IND        India  Yelesandra Solar Power Plant  WRI1026222   \n",
       "904     IND        India  Yelisirur wind power project  WRI1026776   \n",
       "905     IND        India                   ZAWAR MINES  WRI1019901   \n",
       "906     IND        India       iEnergy Theni Wind Farm  WRI1026761   \n",
       "\n",
       "     capacity_mw  latitude  longitude primary_fuel other_fuel1 other_fuel2  \\\n",
       "0            2.5   28.1839    73.2407        Solar         NaN         NaN   \n",
       "1           98.0   24.7663    74.6090         Coal         NaN         NaN   \n",
       "2           39.2   21.9038    69.3732         Wind         NaN         NaN   \n",
       "3          135.0   23.8712    91.3602          Gas         NaN         NaN   \n",
       "4         1800.0   21.9603    82.4091         Coal         Oil         NaN   \n",
       "..           ...       ...        ...          ...         ...         ...   \n",
       "902       1600.0   16.2949    77.3568         Coal         Oil         NaN   \n",
       "903          3.0   12.8932    78.1654        Solar         NaN         NaN   \n",
       "904         25.5   15.2758    75.5811         Wind         NaN         NaN   \n",
       "905         80.0   24.3500    73.7477         Coal         NaN         NaN   \n",
       "906         16.5    9.9344    77.4768         Wind         NaN         NaN   \n",
       "\n",
       "     ...  year_of_capacity_data  generation_gwh_2013 generation_gwh_2014  \\\n",
       "0    ...                    NaN                  NaN                 NaN   \n",
       "1    ...                    NaN                  NaN                 NaN   \n",
       "2    ...                    NaN                  NaN                 NaN   \n",
       "3    ...                 2019.0                  NaN          617.789264   \n",
       "4    ...                 2019.0                  NaN         3035.550000   \n",
       "..   ...                    ...                  ...                 ...   \n",
       "902  ...                 2019.0                  NaN                 NaN   \n",
       "903  ...                    NaN                  NaN                 NaN   \n",
       "904  ...                    NaN                  NaN                 NaN   \n",
       "905  ...                    NaN                  NaN                 NaN   \n",
       "906  ...                    NaN                  NaN                 NaN   \n",
       "\n",
       "    generation_gwh_2015 generation_gwh_2016 generation_gwh_2017  \\\n",
       "0                   NaN                 NaN                 NaN   \n",
       "1                   NaN                 NaN                 NaN   \n",
       "2                   NaN                 NaN                 NaN   \n",
       "3            843.747000          886.004428          663.774500   \n",
       "4           5916.370000         6243.000000         5385.579736   \n",
       "..                  ...                 ...                 ...   \n",
       "902            0.994875          233.596650          865.400000   \n",
       "903                 NaN                 NaN                 NaN   \n",
       "904                 NaN                 NaN                 NaN   \n",
       "905                 NaN                 NaN                 NaN   \n",
       "906                 NaN                 NaN                 NaN   \n",
       "\n",
       "     generation_gwh_2018  generation_gwh_2019         generation_data_source  \\\n",
       "0                    NaN                  NaN                            NaN   \n",
       "1                    NaN                  NaN                            NaN   \n",
       "2                    NaN                  NaN                            NaN   \n",
       "3             626.239128                  NaN  Central Electricity Authority   \n",
       "4            7279.000000                  NaN  Central Electricity Authority   \n",
       "..                   ...                  ...                            ...   \n",
       "902           686.500000                  NaN  Central Electricity Authority   \n",
       "903                  NaN                  NaN                            NaN   \n",
       "904                  NaN                  NaN                            NaN   \n",
       "905                  NaN                  NaN                            NaN   \n",
       "906                  NaN                  NaN                            NaN   \n",
       "\n",
       "     estimated_generation_gwh  \n",
       "0                         NaN  \n",
       "1                         NaN  \n",
       "2                         NaN  \n",
       "3                         NaN  \n",
       "4                         NaN  \n",
       "..                        ...  \n",
       "902                       NaN  \n",
       "903                       NaN  \n",
       "904                       NaN  \n",
       "905                       NaN  \n",
       "906                       NaN  \n",
       "\n",
       "[907 rows x 27 columns]"
      ]
     },
     "execution_count": 73,
     "metadata": {},
     "output_type": "execute_result"
    }
   ],
   "source": [
    "df"
   ]
  },
  {
   "cell_type": "code",
   "execution_count": 74,
   "id": "1923753e",
   "metadata": {},
   "outputs": [
    {
     "data": {
      "text/html": [
       "<div>\n",
       "<style scoped>\n",
       "    .dataframe tbody tr th:only-of-type {\n",
       "        vertical-align: middle;\n",
       "    }\n",
       "\n",
       "    .dataframe tbody tr th {\n",
       "        vertical-align: top;\n",
       "    }\n",
       "\n",
       "    .dataframe thead th {\n",
       "        text-align: right;\n",
       "    }\n",
       "</style>\n",
       "<table border=\"1\" class=\"dataframe\">\n",
       "  <thead>\n",
       "    <tr style=\"text-align: right;\">\n",
       "      <th></th>\n",
       "      <th>country</th>\n",
       "      <th>country_long</th>\n",
       "      <th>name</th>\n",
       "      <th>gppd_idnr</th>\n",
       "      <th>capacity_mw</th>\n",
       "      <th>latitude</th>\n",
       "      <th>longitude</th>\n",
       "      <th>primary_fuel</th>\n",
       "      <th>other_fuel1</th>\n",
       "      <th>other_fuel2</th>\n",
       "      <th>...</th>\n",
       "      <th>year_of_capacity_data</th>\n",
       "      <th>generation_gwh_2013</th>\n",
       "      <th>generation_gwh_2014</th>\n",
       "      <th>generation_gwh_2015</th>\n",
       "      <th>generation_gwh_2016</th>\n",
       "      <th>generation_gwh_2017</th>\n",
       "      <th>generation_gwh_2018</th>\n",
       "      <th>generation_gwh_2019</th>\n",
       "      <th>generation_data_source</th>\n",
       "      <th>estimated_generation_gwh</th>\n",
       "    </tr>\n",
       "  </thead>\n",
       "  <tbody>\n",
       "    <tr>\n",
       "      <th>0</th>\n",
       "      <td>IND</td>\n",
       "      <td>India</td>\n",
       "      <td>ACME Solar Tower</td>\n",
       "      <td>WRI1020239</td>\n",
       "      <td>2.5</td>\n",
       "      <td>28.1839</td>\n",
       "      <td>73.2407</td>\n",
       "      <td>Solar</td>\n",
       "      <td>NaN</td>\n",
       "      <td>NaN</td>\n",
       "      <td>...</td>\n",
       "      <td>NaN</td>\n",
       "      <td>NaN</td>\n",
       "      <td>NaN</td>\n",
       "      <td>NaN</td>\n",
       "      <td>NaN</td>\n",
       "      <td>NaN</td>\n",
       "      <td>NaN</td>\n",
       "      <td>NaN</td>\n",
       "      <td>NaN</td>\n",
       "      <td>NaN</td>\n",
       "    </tr>\n",
       "    <tr>\n",
       "      <th>1</th>\n",
       "      <td>IND</td>\n",
       "      <td>India</td>\n",
       "      <td>ADITYA CEMENT WORKS</td>\n",
       "      <td>WRI1019881</td>\n",
       "      <td>98.0</td>\n",
       "      <td>24.7663</td>\n",
       "      <td>74.6090</td>\n",
       "      <td>Coal</td>\n",
       "      <td>NaN</td>\n",
       "      <td>NaN</td>\n",
       "      <td>...</td>\n",
       "      <td>NaN</td>\n",
       "      <td>NaN</td>\n",
       "      <td>NaN</td>\n",
       "      <td>NaN</td>\n",
       "      <td>NaN</td>\n",
       "      <td>NaN</td>\n",
       "      <td>NaN</td>\n",
       "      <td>NaN</td>\n",
       "      <td>NaN</td>\n",
       "      <td>NaN</td>\n",
       "    </tr>\n",
       "    <tr>\n",
       "      <th>2</th>\n",
       "      <td>IND</td>\n",
       "      <td>India</td>\n",
       "      <td>AES Saurashtra Windfarms</td>\n",
       "      <td>WRI1026669</td>\n",
       "      <td>39.2</td>\n",
       "      <td>21.9038</td>\n",
       "      <td>69.3732</td>\n",
       "      <td>Wind</td>\n",
       "      <td>NaN</td>\n",
       "      <td>NaN</td>\n",
       "      <td>...</td>\n",
       "      <td>NaN</td>\n",
       "      <td>NaN</td>\n",
       "      <td>NaN</td>\n",
       "      <td>NaN</td>\n",
       "      <td>NaN</td>\n",
       "      <td>NaN</td>\n",
       "      <td>NaN</td>\n",
       "      <td>NaN</td>\n",
       "      <td>NaN</td>\n",
       "      <td>NaN</td>\n",
       "    </tr>\n",
       "    <tr>\n",
       "      <th>3</th>\n",
       "      <td>IND</td>\n",
       "      <td>India</td>\n",
       "      <td>AGARTALA GT</td>\n",
       "      <td>IND0000001</td>\n",
       "      <td>135.0</td>\n",
       "      <td>23.8712</td>\n",
       "      <td>91.3602</td>\n",
       "      <td>Gas</td>\n",
       "      <td>NaN</td>\n",
       "      <td>NaN</td>\n",
       "      <td>...</td>\n",
       "      <td>2019.0</td>\n",
       "      <td>NaN</td>\n",
       "      <td>617.789264</td>\n",
       "      <td>843.747</td>\n",
       "      <td>886.004428</td>\n",
       "      <td>663.774500</td>\n",
       "      <td>626.239128</td>\n",
       "      <td>NaN</td>\n",
       "      <td>Central Electricity Authority</td>\n",
       "      <td>NaN</td>\n",
       "    </tr>\n",
       "    <tr>\n",
       "      <th>4</th>\n",
       "      <td>IND</td>\n",
       "      <td>India</td>\n",
       "      <td>AKALTARA TPP</td>\n",
       "      <td>IND0000002</td>\n",
       "      <td>1800.0</td>\n",
       "      <td>21.9603</td>\n",
       "      <td>82.4091</td>\n",
       "      <td>Coal</td>\n",
       "      <td>Oil</td>\n",
       "      <td>NaN</td>\n",
       "      <td>...</td>\n",
       "      <td>2019.0</td>\n",
       "      <td>NaN</td>\n",
       "      <td>3035.550000</td>\n",
       "      <td>5916.370</td>\n",
       "      <td>6243.000000</td>\n",
       "      <td>5385.579736</td>\n",
       "      <td>7279.000000</td>\n",
       "      <td>NaN</td>\n",
       "      <td>Central Electricity Authority</td>\n",
       "      <td>NaN</td>\n",
       "    </tr>\n",
       "  </tbody>\n",
       "</table>\n",
       "<p>5 rows × 27 columns</p>\n",
       "</div>"
      ],
      "text/plain": [
       "  country country_long                      name   gppd_idnr  capacity_mw  \\\n",
       "0     IND        India          ACME Solar Tower  WRI1020239          2.5   \n",
       "1     IND        India       ADITYA CEMENT WORKS  WRI1019881         98.0   \n",
       "2     IND        India  AES Saurashtra Windfarms  WRI1026669         39.2   \n",
       "3     IND        India               AGARTALA GT  IND0000001        135.0   \n",
       "4     IND        India              AKALTARA TPP  IND0000002       1800.0   \n",
       "\n",
       "   latitude  longitude primary_fuel other_fuel1 other_fuel2  ...  \\\n",
       "0   28.1839    73.2407        Solar         NaN         NaN  ...   \n",
       "1   24.7663    74.6090         Coal         NaN         NaN  ...   \n",
       "2   21.9038    69.3732         Wind         NaN         NaN  ...   \n",
       "3   23.8712    91.3602          Gas         NaN         NaN  ...   \n",
       "4   21.9603    82.4091         Coal         Oil         NaN  ...   \n",
       "\n",
       "   year_of_capacity_data  generation_gwh_2013 generation_gwh_2014  \\\n",
       "0                    NaN                  NaN                 NaN   \n",
       "1                    NaN                  NaN                 NaN   \n",
       "2                    NaN                  NaN                 NaN   \n",
       "3                 2019.0                  NaN          617.789264   \n",
       "4                 2019.0                  NaN         3035.550000   \n",
       "\n",
       "  generation_gwh_2015 generation_gwh_2016 generation_gwh_2017  \\\n",
       "0                 NaN                 NaN                 NaN   \n",
       "1                 NaN                 NaN                 NaN   \n",
       "2                 NaN                 NaN                 NaN   \n",
       "3             843.747          886.004428          663.774500   \n",
       "4            5916.370         6243.000000         5385.579736   \n",
       "\n",
       "   generation_gwh_2018  generation_gwh_2019         generation_data_source  \\\n",
       "0                  NaN                  NaN                            NaN   \n",
       "1                  NaN                  NaN                            NaN   \n",
       "2                  NaN                  NaN                            NaN   \n",
       "3           626.239128                  NaN  Central Electricity Authority   \n",
       "4          7279.000000                  NaN  Central Electricity Authority   \n",
       "\n",
       "   estimated_generation_gwh  \n",
       "0                       NaN  \n",
       "1                       NaN  \n",
       "2                       NaN  \n",
       "3                       NaN  \n",
       "4                       NaN  \n",
       "\n",
       "[5 rows x 27 columns]"
      ]
     },
     "execution_count": 74,
     "metadata": {},
     "output_type": "execute_result"
    }
   ],
   "source": [
    "df.head()"
   ]
  },
  {
   "cell_type": "code",
   "execution_count": 75,
   "id": "2acefe8a",
   "metadata": {},
   "outputs": [
    {
     "name": "stdout",
     "output_type": "stream",
     "text": [
      "<class 'pandas.core.frame.DataFrame'>\n",
      "RangeIndex: 907 entries, 0 to 906\n",
      "Data columns (total 27 columns):\n",
      " #   Column                    Non-Null Count  Dtype  \n",
      "---  ------                    --------------  -----  \n",
      " 0   country                   907 non-null    object \n",
      " 1   country_long              907 non-null    object \n",
      " 2   name                      907 non-null    object \n",
      " 3   gppd_idnr                 907 non-null    object \n",
      " 4   capacity_mw               907 non-null    float64\n",
      " 5   latitude                  861 non-null    float64\n",
      " 6   longitude                 861 non-null    float64\n",
      " 7   primary_fuel              907 non-null    object \n",
      " 8   other_fuel1               198 non-null    object \n",
      " 9   other_fuel2               1 non-null      object \n",
      " 10  other_fuel3               0 non-null      float64\n",
      " 11  commissioning_year        527 non-null    float64\n",
      " 12  owner                     342 non-null    object \n",
      " 13  source                    907 non-null    object \n",
      " 14  url                       907 non-null    object \n",
      " 15  geolocation_source        888 non-null    object \n",
      " 16  wepp_id                   0 non-null      float64\n",
      " 17  year_of_capacity_data     519 non-null    float64\n",
      " 18  generation_gwh_2013       0 non-null      float64\n",
      " 19  generation_gwh_2014       398 non-null    float64\n",
      " 20  generation_gwh_2015       422 non-null    float64\n",
      " 21  generation_gwh_2016       434 non-null    float64\n",
      " 22  generation_gwh_2017       440 non-null    float64\n",
      " 23  generation_gwh_2018       448 non-null    float64\n",
      " 24  generation_gwh_2019       0 non-null      float64\n",
      " 25  generation_data_source    449 non-null    object \n",
      " 26  estimated_generation_gwh  0 non-null      float64\n",
      "dtypes: float64(15), object(12)\n",
      "memory usage: 191.4+ KB\n"
     ]
    }
   ],
   "source": [
    "df.info()"
   ]
  },
  {
   "cell_type": "code",
   "execution_count": 76,
   "id": "34447d2d",
   "metadata": {},
   "outputs": [
    {
     "data": {
      "text/html": [
       "<div>\n",
       "<style scoped>\n",
       "    .dataframe tbody tr th:only-of-type {\n",
       "        vertical-align: middle;\n",
       "    }\n",
       "\n",
       "    .dataframe tbody tr th {\n",
       "        vertical-align: top;\n",
       "    }\n",
       "\n",
       "    .dataframe thead th {\n",
       "        text-align: right;\n",
       "    }\n",
       "</style>\n",
       "<table border=\"1\" class=\"dataframe\">\n",
       "  <thead>\n",
       "    <tr style=\"text-align: right;\">\n",
       "      <th></th>\n",
       "      <th>capacity_mw</th>\n",
       "      <th>latitude</th>\n",
       "      <th>longitude</th>\n",
       "      <th>other_fuel3</th>\n",
       "      <th>commissioning_year</th>\n",
       "      <th>wepp_id</th>\n",
       "      <th>year_of_capacity_data</th>\n",
       "      <th>generation_gwh_2013</th>\n",
       "      <th>generation_gwh_2014</th>\n",
       "      <th>generation_gwh_2015</th>\n",
       "      <th>generation_gwh_2016</th>\n",
       "      <th>generation_gwh_2017</th>\n",
       "      <th>generation_gwh_2018</th>\n",
       "      <th>generation_gwh_2019</th>\n",
       "      <th>estimated_generation_gwh</th>\n",
       "    </tr>\n",
       "  </thead>\n",
       "  <tbody>\n",
       "    <tr>\n",
       "      <th>count</th>\n",
       "      <td>907.000000</td>\n",
       "      <td>861.000000</td>\n",
       "      <td>861.000000</td>\n",
       "      <td>0.0</td>\n",
       "      <td>527.000000</td>\n",
       "      <td>0.0</td>\n",
       "      <td>519.0</td>\n",
       "      <td>0.0</td>\n",
       "      <td>398.000000</td>\n",
       "      <td>422.000000</td>\n",
       "      <td>434.000000</td>\n",
       "      <td>440.000000</td>\n",
       "      <td>448.000000</td>\n",
       "      <td>0.0</td>\n",
       "      <td>0.0</td>\n",
       "    </tr>\n",
       "    <tr>\n",
       "      <th>mean</th>\n",
       "      <td>326.223755</td>\n",
       "      <td>21.197918</td>\n",
       "      <td>77.464907</td>\n",
       "      <td>NaN</td>\n",
       "      <td>1997.091082</td>\n",
       "      <td>NaN</td>\n",
       "      <td>2019.0</td>\n",
       "      <td>NaN</td>\n",
       "      <td>2431.823590</td>\n",
       "      <td>2428.226946</td>\n",
       "      <td>2467.936859</td>\n",
       "      <td>2547.759305</td>\n",
       "      <td>2600.804099</td>\n",
       "      <td>NaN</td>\n",
       "      <td>NaN</td>\n",
       "    </tr>\n",
       "    <tr>\n",
       "      <th>std</th>\n",
       "      <td>590.085456</td>\n",
       "      <td>6.239612</td>\n",
       "      <td>4.939316</td>\n",
       "      <td>NaN</td>\n",
       "      <td>17.082868</td>\n",
       "      <td>NaN</td>\n",
       "      <td>0.0</td>\n",
       "      <td>NaN</td>\n",
       "      <td>4026.440035</td>\n",
       "      <td>4194.596959</td>\n",
       "      <td>4162.884308</td>\n",
       "      <td>4196.991169</td>\n",
       "      <td>4314.880456</td>\n",
       "      <td>NaN</td>\n",
       "      <td>NaN</td>\n",
       "    </tr>\n",
       "    <tr>\n",
       "      <th>min</th>\n",
       "      <td>0.000000</td>\n",
       "      <td>8.168900</td>\n",
       "      <td>68.644700</td>\n",
       "      <td>NaN</td>\n",
       "      <td>1927.000000</td>\n",
       "      <td>NaN</td>\n",
       "      <td>2019.0</td>\n",
       "      <td>NaN</td>\n",
       "      <td>0.000000</td>\n",
       "      <td>0.000000</td>\n",
       "      <td>0.000000</td>\n",
       "      <td>0.000000</td>\n",
       "      <td>0.000000</td>\n",
       "      <td>NaN</td>\n",
       "      <td>NaN</td>\n",
       "    </tr>\n",
       "    <tr>\n",
       "      <th>25%</th>\n",
       "      <td>16.725000</td>\n",
       "      <td>16.773900</td>\n",
       "      <td>74.256200</td>\n",
       "      <td>NaN</td>\n",
       "      <td>1988.000000</td>\n",
       "      <td>NaN</td>\n",
       "      <td>2019.0</td>\n",
       "      <td>NaN</td>\n",
       "      <td>223.557672</td>\n",
       "      <td>176.381063</td>\n",
       "      <td>188.285252</td>\n",
       "      <td>177.874930</td>\n",
       "      <td>193.378250</td>\n",
       "      <td>NaN</td>\n",
       "      <td>NaN</td>\n",
       "    </tr>\n",
       "    <tr>\n",
       "      <th>50%</th>\n",
       "      <td>59.200000</td>\n",
       "      <td>21.780000</td>\n",
       "      <td>76.719500</td>\n",
       "      <td>NaN</td>\n",
       "      <td>2001.000000</td>\n",
       "      <td>NaN</td>\n",
       "      <td>2019.0</td>\n",
       "      <td>NaN</td>\n",
       "      <td>801.123775</td>\n",
       "      <td>711.181225</td>\n",
       "      <td>737.205450</td>\n",
       "      <td>817.977250</td>\n",
       "      <td>751.644375</td>\n",
       "      <td>NaN</td>\n",
       "      <td>NaN</td>\n",
       "    </tr>\n",
       "    <tr>\n",
       "      <th>75%</th>\n",
       "      <td>385.250000</td>\n",
       "      <td>25.512400</td>\n",
       "      <td>79.440800</td>\n",
       "      <td>NaN</td>\n",
       "      <td>2012.000000</td>\n",
       "      <td>NaN</td>\n",
       "      <td>2019.0</td>\n",
       "      <td>NaN</td>\n",
       "      <td>3035.306250</td>\n",
       "      <td>3084.121250</td>\n",
       "      <td>3282.861313</td>\n",
       "      <td>3275.690475</td>\n",
       "      <td>3143.535900</td>\n",
       "      <td>NaN</td>\n",
       "      <td>NaN</td>\n",
       "    </tr>\n",
       "    <tr>\n",
       "      <th>max</th>\n",
       "      <td>4760.000000</td>\n",
       "      <td>34.649000</td>\n",
       "      <td>95.408000</td>\n",
       "      <td>NaN</td>\n",
       "      <td>2018.000000</td>\n",
       "      <td>NaN</td>\n",
       "      <td>2019.0</td>\n",
       "      <td>NaN</td>\n",
       "      <td>28127.000000</td>\n",
       "      <td>30539.000000</td>\n",
       "      <td>30015.000000</td>\n",
       "      <td>35116.000000</td>\n",
       "      <td>35136.000000</td>\n",
       "      <td>NaN</td>\n",
       "      <td>NaN</td>\n",
       "    </tr>\n",
       "  </tbody>\n",
       "</table>\n",
       "</div>"
      ],
      "text/plain": [
       "       capacity_mw    latitude   longitude  other_fuel3  commissioning_year  \\\n",
       "count   907.000000  861.000000  861.000000          0.0          527.000000   \n",
       "mean    326.223755   21.197918   77.464907          NaN         1997.091082   \n",
       "std     590.085456    6.239612    4.939316          NaN           17.082868   \n",
       "min       0.000000    8.168900   68.644700          NaN         1927.000000   \n",
       "25%      16.725000   16.773900   74.256200          NaN         1988.000000   \n",
       "50%      59.200000   21.780000   76.719500          NaN         2001.000000   \n",
       "75%     385.250000   25.512400   79.440800          NaN         2012.000000   \n",
       "max    4760.000000   34.649000   95.408000          NaN         2018.000000   \n",
       "\n",
       "       wepp_id  year_of_capacity_data  generation_gwh_2013  \\\n",
       "count      0.0                  519.0                  0.0   \n",
       "mean       NaN                 2019.0                  NaN   \n",
       "std        NaN                    0.0                  NaN   \n",
       "min        NaN                 2019.0                  NaN   \n",
       "25%        NaN                 2019.0                  NaN   \n",
       "50%        NaN                 2019.0                  NaN   \n",
       "75%        NaN                 2019.0                  NaN   \n",
       "max        NaN                 2019.0                  NaN   \n",
       "\n",
       "       generation_gwh_2014  generation_gwh_2015  generation_gwh_2016  \\\n",
       "count           398.000000           422.000000           434.000000   \n",
       "mean           2431.823590          2428.226946          2467.936859   \n",
       "std            4026.440035          4194.596959          4162.884308   \n",
       "min               0.000000             0.000000             0.000000   \n",
       "25%             223.557672           176.381063           188.285252   \n",
       "50%             801.123775           711.181225           737.205450   \n",
       "75%            3035.306250          3084.121250          3282.861313   \n",
       "max           28127.000000         30539.000000         30015.000000   \n",
       "\n",
       "       generation_gwh_2017  generation_gwh_2018  generation_gwh_2019  \\\n",
       "count           440.000000           448.000000                  0.0   \n",
       "mean           2547.759305          2600.804099                  NaN   \n",
       "std            4196.991169          4314.880456                  NaN   \n",
       "min               0.000000             0.000000                  NaN   \n",
       "25%             177.874930           193.378250                  NaN   \n",
       "50%             817.977250           751.644375                  NaN   \n",
       "75%            3275.690475          3143.535900                  NaN   \n",
       "max           35116.000000         35136.000000                  NaN   \n",
       "\n",
       "       estimated_generation_gwh  \n",
       "count                       0.0  \n",
       "mean                        NaN  \n",
       "std                         NaN  \n",
       "min                         NaN  \n",
       "25%                         NaN  \n",
       "50%                         NaN  \n",
       "75%                         NaN  \n",
       "max                         NaN  "
      ]
     },
     "execution_count": 76,
     "metadata": {},
     "output_type": "execute_result"
    }
   ],
   "source": [
    "df.describe()"
   ]
  },
  {
   "cell_type": "markdown",
   "id": "0e8c5ef9",
   "metadata": {},
   "source": [
    "# Checking Missing & Null Values"
   ]
  },
  {
   "cell_type": "code",
   "execution_count": 77,
   "id": "a468631f",
   "metadata": {},
   "outputs": [
    {
     "data": {
      "text/plain": [
       "country                       0\n",
       "country_long                  0\n",
       "name                          0\n",
       "gppd_idnr                     0\n",
       "capacity_mw                   0\n",
       "latitude                     46\n",
       "longitude                    46\n",
       "primary_fuel                  0\n",
       "other_fuel1                 709\n",
       "other_fuel2                 906\n",
       "other_fuel3                 907\n",
       "commissioning_year          380\n",
       "owner                       565\n",
       "source                        0\n",
       "url                           0\n",
       "geolocation_source           19\n",
       "wepp_id                     907\n",
       "year_of_capacity_data       388\n",
       "generation_gwh_2013         907\n",
       "generation_gwh_2014         509\n",
       "generation_gwh_2015         485\n",
       "generation_gwh_2016         473\n",
       "generation_gwh_2017         467\n",
       "generation_gwh_2018         459\n",
       "generation_gwh_2019         907\n",
       "generation_data_source      458\n",
       "estimated_generation_gwh    907\n",
       "dtype: int64"
      ]
     },
     "execution_count": 77,
     "metadata": {},
     "output_type": "execute_result"
    }
   ],
   "source": [
    "df.isnull().sum()"
   ]
  },
  {
   "cell_type": "markdown",
   "id": "abbab5ae",
   "metadata": {},
   "source": [
    "# Visualizations"
   ]
  },
  {
   "cell_type": "code",
   "execution_count": 78,
   "id": "6bf382e4",
   "metadata": {},
   "outputs": [
    {
     "data": {
      "text/plain": [
       "<AxesSubplot:xlabel='primary_fuel', ylabel='count'>"
      ]
     },
     "execution_count": 78,
     "metadata": {},
     "output_type": "execute_result"
    },
    {
     "data": {
      "image/png": "[encoded data removed]",
      "text/plain": [
       "<Figure size 432x288 with 1 Axes>"
      ]
     },
     "metadata": {
      "needs_background": "light"
     },
     "output_type": "display_data"
    }
   ],
   "source": [
    "sns.countplot(df.primary_fuel)"
   ]
  },
  {
   "cell_type": "markdown",
   "id": "f7b5eebf",
   "metadata": {},
   "source": [
    "Plants using 'coal' as primary fuel are maxiumum. It is followed by 'Hydro'."
   ]
  },
  {
   "cell_type": "code",
   "execution_count": 79,
   "id": "4bc6de1f",
   "metadata": {},
   "outputs": [
    {
     "data": {
      "text/plain": [
       "Coal       258\n",
       "Hydro      251\n",
       "Solar      127\n",
       "Wind       123\n",
       "Gas         69\n",
       "Biomass     50\n",
       "Oil         20\n",
       "Nuclear      9\n",
       "Name: primary_fuel, dtype: int64"
      ]
     },
     "execution_count": 79,
     "metadata": {},
     "output_type": "execute_result"
    }
   ],
   "source": [
    "df.primary_fuel.value_counts()"
   ]
  },
  {
   "cell_type": "code",
   "execution_count": 80,
   "id": "d3c3951b",
   "metadata": {},
   "outputs": [
    {
     "data": {
      "text/plain": [
       "5.0       39\n",
       "10.0      22\n",
       "600.0     20\n",
       "15.0      20\n",
       "1200.0    19\n",
       "20.0      18\n",
       "1.0       18\n",
       "30.0      16\n",
       "50.0      15\n",
       "100.0     14\n",
       "Name: capacity_mw, dtype: int64"
      ]
     },
     "execution_count": 80,
     "metadata": {},
     "output_type": "execute_result"
    }
   ],
   "source": [
    "df.capacity_mw.value_counts().head(10)"
   ]
  },
  {
   "cell_type": "code",
   "execution_count": 81,
   "id": "73128625",
   "metadata": {},
   "outputs": [
    {
     "data": {
      "text/plain": [
       "Central Electricity Authority                                  519\n",
       "CDM                                                            124\n",
       "Lancosola                                                       10\n",
       "National Renewable Energy Laboratory                             8\n",
       "National Thermal Power Corporation (NTPC)                        6\n",
       "                                                              ... \n",
       "Harsha Engineers Limited                                         1\n",
       "Godawari Energy ltd                                              1\n",
       "Sunkon Energy Private Limited                                    1\n",
       "West Bengal Energy Development Corporation Limited (WBEDCL)      1\n",
       "Yashwantrao Krishna ssk                                          1\n",
       "Name: source, Length: 191, dtype: int64"
      ]
     },
     "execution_count": 81,
     "metadata": {},
     "output_type": "execute_result"
    }
   ],
   "source": [
    "df.source.value_counts()"
   ]
  },
  {
   "cell_type": "markdown",
   "id": "b4dd6827",
   "metadata": {},
   "source": [
    "Central Electrical Authority is the main source of power"
   ]
  },
  {
   "cell_type": "code",
   "execution_count": 82,
   "id": "7d6eeee1",
   "metadata": {},
   "outputs": [
    {
     "data": {
      "text/plain": [
       "WRI                                     765\n",
       "Industry About                          119\n",
       "National Renewable Energy Laboratory      4\n",
       "Name: geolocation_source, dtype: int64"
      ]
     },
     "execution_count": 82,
     "metadata": {},
     "output_type": "execute_result"
    }
   ],
   "source": [
    "df.geolocation_source.value_counts()"
   ]
  },
  {
   "cell_type": "code",
   "execution_count": 83,
   "id": "d8ed5f92",
   "metadata": {},
   "outputs": [
    {
     "data": {
      "text/plain": [
       "Acc Acc ltd                                                    4\n",
       "Sterling Agro Industries ltd.                                  4\n",
       "Jk Cement ltd                                                  4\n",
       "SWPPL                                                          3\n",
       "Jaypee Ltd jccl)                                               3\n",
       "                                                              ..\n",
       "Sunkon Energy Private Limited                                  1\n",
       "West Bengal Energy Development Corporation Limited (WBEDCL)    1\n",
       "Energy Infratech Private Limited                               1\n",
       "K. N. Ram                                                      1\n",
       "iEnergy Wind Farms                                             1\n",
       "Name: owner, Length: 280, dtype: int64"
      ]
     },
     "execution_count": 83,
     "metadata": {},
     "output_type": "execute_result"
    }
   ],
   "source": [
    "df.owner.value_counts()"
   ]
  },
  {
   "cell_type": "code",
   "execution_count": 84,
   "id": "9e685708",
   "metadata": {},
   "outputs": [
    {
     "data": {
      "text/plain": [
       "<AxesSubplot:xlabel='other_fuel1', ylabel='count'>"
      ]
     },
     "execution_count": 84,
     "metadata": {},
     "output_type": "execute_result"
    },
    {
     "data": {
      "image/png": "[encoded data removed]",
      "text/plain": [
       "<Figure size 432x288 with 1 Axes>"
      ]
     },
     "metadata": {
      "needs_background": "light"
     },
     "output_type": "display_data"
    }
   ],
   "source": [
    "sns.countplot(df.other_fuel1)"
   ]
  },
  {
   "cell_type": "code",
   "execution_count": 85,
   "id": "36c9eb41",
   "metadata": {},
   "outputs": [
    {
     "data": {
      "text/plain": [
       "Oil             195\n",
       "Gas               2\n",
       "Cogeneration      1\n",
       "Name: other_fuel1, dtype: int64"
      ]
     },
     "execution_count": 85,
     "metadata": {},
     "output_type": "execute_result"
    }
   ],
   "source": [
    "df.other_fuel1.value_counts()"
   ]
  },
  {
   "cell_type": "code",
   "execution_count": 86,
   "id": "023d32ae",
   "metadata": {},
   "outputs": [
    {
     "data": {
      "text/plain": [
       "Oil    1\n",
       "Name: other_fuel2, dtype: int64"
      ]
     },
     "execution_count": 86,
     "metadata": {},
     "output_type": "execute_result"
    }
   ],
   "source": [
    "df.other_fuel2.value_counts()"
   ]
  },
  {
   "cell_type": "code",
   "execution_count": 87,
   "id": "1f460643",
   "metadata": {},
   "outputs": [
    {
     "data": {
      "text/plain": [
       "<AxesSubplot:xlabel='latitude', ylabel='Count'>"
      ]
     },
     "execution_count": 87,
     "metadata": {},
     "output_type": "execute_result"
    },
    {
     "data": {
      "image/png": "[encoded data removed]",
      "text/plain": [
       "<Figure size 432x288 with 1 Axes>"
      ]
     },
     "metadata": {
      "needs_background": "light"
     },
     "output_type": "display_data"
    }
   ],
   "source": [
    "sns.histplot(df.latitude)"
   ]
  },
  {
   "cell_type": "code",
   "execution_count": null,
   "id": "3cde92a1",
   "metadata": {},
   "outputs": [],
   "source": [
    "The latitude is mostly ranging between 20-25."
   ]
  },
  {
   "cell_type": "code",
   "execution_count": 88,
   "id": "a43b5b24",
   "metadata": {},
   "outputs": [
    {
     "data": {
      "text/plain": [
       "<AxesSubplot:xlabel='longitude', ylabel='Count'>"
      ]
     },
     "execution_count": 88,
     "metadata": {},
     "output_type": "execute_result"
    },
    {
     "data": {
      "image/png": "[encoded data removed]",
      "text/plain": [
       "<Figure size 432x288 with 1 Axes>"
      ]
     },
     "metadata": {
      "needs_background": "light"
     },
     "output_type": "display_data"
    }
   ],
   "source": [
    "sns.histplot(df.longitude)"
   ]
  },
  {
   "cell_type": "markdown",
   "id": "144520b8",
   "metadata": {},
   "source": [
    "The latitude is mostly ranging between 75-80."
   ]
  },
  {
   "cell_type": "code",
   "execution_count": 89,
   "id": "760c9ee4",
   "metadata": {},
   "outputs": [
    {
     "data": {
      "text/plain": [
       "<AxesSubplot:xlabel='generation_gwh_2014', ylabel='Count'>"
      ]
     },
     "execution_count": 89,
     "metadata": {},
     "output_type": "execute_result"
    },
    {
     "data": {
      "image/png": "[encoded data removed]",
      "text/plain": [
       "<Figure size 432x288 with 1 Axes>"
      ]
     },
     "metadata": {
      "needs_background": "light"
     },
     "output_type": "display_data"
    }
   ],
   "source": [
    "sns.histplot(df.generation_gwh_2014)"
   ]
  },
  {
   "cell_type": "code",
   "execution_count": 90,
   "id": "807109c2",
   "metadata": {},
   "outputs": [
    {
     "data": {
      "text/plain": [
       "<AxesSubplot:xlabel='generation_gwh_2015', ylabel='Count'>"
      ]
     },
     "execution_count": 90,
     "metadata": {},
     "output_type": "execute_result"
    },
    {
     "data": {
      "image/png": "[encoded data removed]",
      "text/plain": [
       "<Figure size 432x288 with 1 Axes>"
      ]
     },
     "metadata": {
      "needs_background": "light"
     },
     "output_type": "display_data"
    }
   ],
   "source": [
    "sns.histplot(df.generation_gwh_2015)"
   ]
  },
  {
   "cell_type": "code",
   "execution_count": 91,
   "id": "1dee7750",
   "metadata": {},
   "outputs": [
    {
     "data": {
      "text/plain": [
       "<AxesSubplot:xlabel='generation_gwh_2016', ylabel='Count'>"
      ]
     },
     "execution_count": 91,
     "metadata": {},
     "output_type": "execute_result"
    },
    {
     "data": {
      "image/png": "[encoded data removed]",
      "text/plain": [
       "<Figure size 432x288 with 1 Axes>"
      ]
     },
     "metadata": {
      "needs_background": "light"
     },
     "output_type": "display_data"
    }
   ],
   "source": [
    "sns.histplot(df.generation_gwh_2016)"
   ]
  },
  {
   "cell_type": "code",
   "execution_count": 92,
   "id": "8a918973",
   "metadata": {},
   "outputs": [
    {
     "data": {
      "text/plain": [
       "<AxesSubplot:xlabel='generation_gwh_2017', ylabel='Count'>"
      ]
     },
     "execution_count": 92,
     "metadata": {},
     "output_type": "execute_result"
    },
    {
     "data": {
      "image/png": "[encoded data removed]",
      "text/plain": [
       "<Figure size 432x288 with 1 Axes>"
      ]
     },
     "metadata": {
      "needs_background": "light"
     },
     "output_type": "display_data"
    }
   ],
   "source": [
    "sns.histplot(df.generation_gwh_2017)"
   ]
  },
  {
   "cell_type": "code",
   "execution_count": 93,
   "id": "7c9e461d",
   "metadata": {},
   "outputs": [
    {
     "data": {
      "text/plain": [
       "<AxesSubplot:xlabel='generation_gwh_2018', ylabel='Count'>"
      ]
     },
     "execution_count": 93,
     "metadata": {},
     "output_type": "execute_result"
    },
    {
     "data": {
      "image/png": "[encoded data removed]",
      "text/plain": [
       "<Figure size 432x288 with 1 Axes>"
      ]
     },
     "metadata": {
      "needs_background": "light"
     },
     "output_type": "display_data"
    }
   ],
   "source": [
    "sns.histplot(df.generation_gwh_2018)"
   ]
  },
  {
   "cell_type": "markdown",
   "id": "b4f43433",
   "metadata": {},
   "source": [
    "Generation_gwh is mostly ranging between 0-10000 in all years mentioned above."
   ]
  },
  {
   "cell_type": "code",
   "execution_count": 94,
   "id": "2a1e6bc2",
   "metadata": {},
   "outputs": [
    {
     "data": {
      "text/plain": [
       "Text(0.5, 1.0, 'capacity based on fuel')"
      ]
     },
     "execution_count": 94,
     "metadata": {},
     "output_type": "execute_result"
    },
    {
     "data": {
      "image/png": "[encoded data removed]",
      "text/plain": [
       "<Figure size 1700x800 with 1 Axes>"
      ]
     },
     "metadata": {
      "needs_background": "light"
     },
     "output_type": "display_data"
    }
   ],
   "source": [
    "byprimaryfuel=df.groupby('primary_fuel').mean()\n",
    "byprimaryfuel.sort_values(by=['capacity_mw'], ascending=False, inplace=True)\n",
    "plt.figure(figsize=(17,8),dpi=100)\n",
    "sns.barplot(x = byprimaryfuel.index,y=byprimaryfuel[\"capacity_mw\"],data = byprimaryfuel,palette='rocket')\n",
    "plt.xticks(rotation=90)\n",
    "plt.xlabel('primary_fuel')\n",
    "plt.ylabel('capacity_mw')\n",
    "plt.title('capacity based on fuel')\n"
   ]
  },
  {
   "cell_type": "code",
   "execution_count": 95,
   "id": "4c859445",
   "metadata": {},
   "outputs": [
    {
     "data": {
      "text/plain": [
       "Text(0.5, 1.0, 'capacity based on fuel')"
      ]
     },
     "execution_count": 95,
     "metadata": {},
     "output_type": "execute_result"
    },
    {
     "data": {
      "image/png": "[encoded data removed]",
      "text/plain": [
       "<Figure size 1700x800 with 1 Axes>"
      ]
     },
     "metadata": {
      "needs_background": "light"
     },
     "output_type": "display_data"
    }
   ],
   "source": [
    "byprimaryfuel=df.groupby('primary_fuel').mean()\n",
    "byprimaryfuel.sort_values(by=['generation_gwh_2014'], ascending=False, inplace=True)\n",
    "plt.figure(figsize=(17,8),dpi=100)\n",
    "sns.barplot(x = byprimaryfuel.index,y=byprimaryfuel[\"generation_gwh_2014\"],data = byprimaryfuel,palette='rocket')\n",
    "plt.xticks(rotation=90)\n",
    "plt.xlabel('primary_fuel')\n",
    "plt.ylabel('generation_gwh_2014')\n",
    "plt.title('capacity based on fuel')\n"
   ]
  },
  {
   "cell_type": "code",
   "execution_count": 96,
   "id": "78f47adc",
   "metadata": {},
   "outputs": [
    {
     "data": {
      "text/plain": [
       "Text(0.5, 1.0, 'capacity based on fuel')"
      ]
     },
     "execution_count": 96,
     "metadata": {},
     "output_type": "execute_result"
    },
    {
     "data": {
      "image/png": "[encoded data removed]",
      "text/plain": [
       "<Figure size 1700x800 with 1 Axes>"
      ]
     },
     "metadata": {
      "needs_background": "light"
     },
     "output_type": "display_data"
    }
   ],
   "source": [
    "byprimaryfuel=df.groupby('primary_fuel').mean()\n",
    "byprimaryfuel.sort_values(by=['generation_gwh_2015'], ascending=False, inplace=True)\n",
    "plt.figure(figsize=(17,8),dpi=100)\n",
    "sns.barplot(x = byprimaryfuel.index,y=byprimaryfuel[\"generation_gwh_2015\"],data = byprimaryfuel,palette='rocket')\n",
    "plt.xticks(rotation=90)\n",
    "plt.xlabel('primary_fuel')\n",
    "plt.ylabel('generation_gwh_2015')\n",
    "plt.title('capacity based on fuel')"
   ]
  },
  {
   "cell_type": "code",
   "execution_count": 97,
   "id": "e8115c37",
   "metadata": {},
   "outputs": [
    {
     "data": {
      "text/plain": [
       "Text(0.5, 1.0, 'capacity based on fuel')"
      ]
     },
     "execution_count": 97,
     "metadata": {},
     "output_type": "execute_result"
    },
    {
     "data": {
      "image/png": "[encoded data removed]",
      "text/plain": [
       "<Figure size 1700x800 with 1 Axes>"
      ]
     },
     "metadata": {
      "needs_background": "light"
     },
     "output_type": "display_data"
    }
   ],
   "source": [
    "byprimaryfuel=df.groupby('primary_fuel').mean()\n",
    "byprimaryfuel.sort_values(by=['generation_gwh_2016'], ascending=False, inplace=True)\n",
    "plt.figure(figsize=(17,8),dpi=100)\n",
    "sns.barplot(x = byprimaryfuel.index,y=byprimaryfuel[\"generation_gwh_2016\"],data = byprimaryfuel,palette='rocket')\n",
    "plt.xticks(rotation=90)\n",
    "plt.xlabel('primary_fuel')\n",
    "plt.ylabel('generation_gwh_2016')\n",
    "plt.title('capacity based on fuel')"
   ]
  },
  {
   "cell_type": "code",
   "execution_count": 98,
   "id": "4a852186",
   "metadata": {},
   "outputs": [
    {
     "data": {
      "text/plain": [
       "Text(0.5, 1.0, 'capacity based on fuel')"
      ]
     },
     "execution_count": 98,
     "metadata": {},
     "output_type": "execute_result"
    },
    {
     "data": {
      "image/png": "[encoded data removed]",
      "text/plain": [
       "<Figure size 1700x800 with 1 Axes>"
      ]
     },
     "metadata": {
      "needs_background": "light"
     },
     "output_type": "display_data"
    }
   ],
   "source": [
    "byprimaryfuel=df.groupby('primary_fuel').mean()\n",
    "byprimaryfuel.sort_values(by=['generation_gwh_2018'], ascending=False, inplace=True)\n",
    "plt.figure(figsize=(17,8),dpi=100)\n",
    "sns.barplot(x = byprimaryfuel.index,y=byprimaryfuel[\"generation_gwh_2018\"],data = byprimaryfuel,palette='rocket')\n",
    "plt.xticks(rotation=90)\n",
    "plt.xlabel('primary_fuel')\n",
    "plt.ylabel('generation_gwh_2018')\n",
    "plt.title('capacity based on fuel')"
   ]
  },
  {
   "cell_type": "markdown",
   "id": "c71c7191",
   "metadata": {},
   "source": [
    "Except for 2014, each year coal has more generation of power.In 2014, nuclear was above coal."
   ]
  },
  {
   "cell_type": "code",
   "execution_count": 99,
   "id": "8753d7f4",
   "metadata": {},
   "outputs": [],
   "source": [
    "df.drop(\"other_fuel3\", axis=1, inplace=True)\n",
    "df.drop(\"other_fuel2\", axis=1, inplace=True)\n",
    "df.drop(\"other_fuel1\", axis=1, inplace=True)\n",
    "df.drop(\"name\", axis=1, inplace=True)\n",
    "df.drop(\"wepp_id\", axis=1, inplace=True)\n",
    "df.drop(\"generation_gwh_2013\", axis=1, inplace=True)\n",
    "df.drop(\"generation_gwh_2019\", axis=1, inplace=True)\n",
    "df.drop(\"estimated_generation_gwh\", axis=1, inplace=True)\n",
    "df.drop(\"country_long\", axis=1, inplace=True)\n",
    "df.drop(\"country\", axis=1, inplace=True)\n",
    "df.drop(\"gppd_idnr\", axis=1, inplace=True)\n",
    "df.drop(\"url\", axis=1, inplace=True)\n",
    "df.drop(\"year_of_capacity_data\", axis=1, inplace=True)\n",
    "df.drop(\"commissioning_year\", axis=1, inplace=True)\n",
    "df.drop('generation_data_source',axis=1,inplace=True)"
   ]
  },
  {
   "cell_type": "markdown",
   "id": "63134fff",
   "metadata": {},
   "source": [
    "Columns, with more than half null values,with unique value and which are not of much relevance have been dropped."
   ]
  },
  {
   "cell_type": "code",
   "execution_count": 100,
   "id": "344e7066",
   "metadata": {},
   "outputs": [],
   "source": [
    "df['latitude'] = df['latitude'].fillna(df['latitude'].mean())\n",
    "df['longitude'] = df['longitude'].fillna(df['longitude'].median())\n",
    "df['owner'] = df['owner'].fillna(df['owner'].mode()[0])\n",
    "df['source'] = df['source'].fillna(df['source'].mode()[0])\n",
    "df['geolocation_source'] = df['geolocation_source'].fillna(df['geolocation_source'].mode()[0])\n",
    "df['generation_gwh_2014']= df['generation_gwh_2014'].fillna(df['generation_gwh_2014'].median())\n",
    "df['generation_gwh_2015']= df['generation_gwh_2015'].fillna(df['generation_gwh_2015'].median())\n",
    "df['generation_gwh_2016']= df['generation_gwh_2016'].fillna(df['generation_gwh_2016'].median())\n",
    "df['generation_gwh_2017']= df['generation_gwh_2017'].fillna(df['generation_gwh_2017'].median())\n",
    "df['generation_gwh_2018']= df['generation_gwh_2018'].fillna(df['generation_gwh_2018'].median())\n"
   ]
  },
  {
   "cell_type": "markdown",
   "id": "9455c7fc",
   "metadata": {},
   "source": [
    "Categorical features- Missing values have been replaced with mode.\n",
    "For longitutude, we have used mean.\n",
    "For other numerical values, we have considered median due to presence of skewness and outliers."
   ]
  },
  {
   "cell_type": "code",
   "execution_count": 101,
   "id": "ba92f7c7",
   "metadata": {},
   "outputs": [
    {
     "data": {
      "text/html": [
       "<div>\n",
       "<style scoped>\n",
       "    .dataframe tbody tr th:only-of-type {\n",
       "        vertical-align: middle;\n",
       "    }\n",
       "\n",
       "    .dataframe tbody tr th {\n",
       "        vertical-align: top;\n",
       "    }\n",
       "\n",
       "    .dataframe thead th {\n",
       "        text-align: right;\n",
       "    }\n",
       "</style>\n",
       "<table border=\"1\" class=\"dataframe\">\n",
       "  <thead>\n",
       "    <tr style=\"text-align: right;\">\n",
       "      <th></th>\n",
       "      <th>capacity_mw</th>\n",
       "      <th>latitude</th>\n",
       "      <th>longitude</th>\n",
       "      <th>primary_fuel</th>\n",
       "      <th>owner</th>\n",
       "      <th>source</th>\n",
       "      <th>geolocation_source</th>\n",
       "      <th>generation_gwh_2014</th>\n",
       "      <th>generation_gwh_2015</th>\n",
       "      <th>generation_gwh_2016</th>\n",
       "      <th>generation_gwh_2017</th>\n",
       "      <th>generation_gwh_2018</th>\n",
       "    </tr>\n",
       "  </thead>\n",
       "  <tbody>\n",
       "    <tr>\n",
       "      <th>0</th>\n",
       "      <td>2.5</td>\n",
       "      <td>28.1839</td>\n",
       "      <td>73.2407</td>\n",
       "      <td>Solar</td>\n",
       "      <td>Solar Paces</td>\n",
       "      <td>National Renewable Energy Laboratory</td>\n",
       "      <td>National Renewable Energy Laboratory</td>\n",
       "      <td>801.123775</td>\n",
       "      <td>711.181225</td>\n",
       "      <td>737.205450</td>\n",
       "      <td>817.977250</td>\n",
       "      <td>751.644375</td>\n",
       "    </tr>\n",
       "    <tr>\n",
       "      <th>1</th>\n",
       "      <td>98.0</td>\n",
       "      <td>24.7663</td>\n",
       "      <td>74.6090</td>\n",
       "      <td>Coal</td>\n",
       "      <td>Ultratech Cement ltd</td>\n",
       "      <td>Ultratech Cement ltd</td>\n",
       "      <td>WRI</td>\n",
       "      <td>801.123775</td>\n",
       "      <td>711.181225</td>\n",
       "      <td>737.205450</td>\n",
       "      <td>817.977250</td>\n",
       "      <td>751.644375</td>\n",
       "    </tr>\n",
       "    <tr>\n",
       "      <th>2</th>\n",
       "      <td>39.2</td>\n",
       "      <td>21.9038</td>\n",
       "      <td>69.3732</td>\n",
       "      <td>Wind</td>\n",
       "      <td>AES</td>\n",
       "      <td>CDM</td>\n",
       "      <td>WRI</td>\n",
       "      <td>801.123775</td>\n",
       "      <td>711.181225</td>\n",
       "      <td>737.205450</td>\n",
       "      <td>817.977250</td>\n",
       "      <td>751.644375</td>\n",
       "    </tr>\n",
       "    <tr>\n",
       "      <th>3</th>\n",
       "      <td>135.0</td>\n",
       "      <td>23.8712</td>\n",
       "      <td>91.3602</td>\n",
       "      <td>Gas</td>\n",
       "      <td>Acc Acc ltd</td>\n",
       "      <td>Central Electricity Authority</td>\n",
       "      <td>WRI</td>\n",
       "      <td>617.789264</td>\n",
       "      <td>843.747000</td>\n",
       "      <td>886.004428</td>\n",
       "      <td>663.774500</td>\n",
       "      <td>626.239128</td>\n",
       "    </tr>\n",
       "    <tr>\n",
       "      <th>4</th>\n",
       "      <td>1800.0</td>\n",
       "      <td>21.9603</td>\n",
       "      <td>82.4091</td>\n",
       "      <td>Coal</td>\n",
       "      <td>Acc Acc ltd</td>\n",
       "      <td>Central Electricity Authority</td>\n",
       "      <td>WRI</td>\n",
       "      <td>3035.550000</td>\n",
       "      <td>5916.370000</td>\n",
       "      <td>6243.000000</td>\n",
       "      <td>5385.579736</td>\n",
       "      <td>7279.000000</td>\n",
       "    </tr>\n",
       "    <tr>\n",
       "      <th>...</th>\n",
       "      <td>...</td>\n",
       "      <td>...</td>\n",
       "      <td>...</td>\n",
       "      <td>...</td>\n",
       "      <td>...</td>\n",
       "      <td>...</td>\n",
       "      <td>...</td>\n",
       "      <td>...</td>\n",
       "      <td>...</td>\n",
       "      <td>...</td>\n",
       "      <td>...</td>\n",
       "      <td>...</td>\n",
       "    </tr>\n",
       "    <tr>\n",
       "      <th>902</th>\n",
       "      <td>1600.0</td>\n",
       "      <td>16.2949</td>\n",
       "      <td>77.3568</td>\n",
       "      <td>Coal</td>\n",
       "      <td>Acc Acc ltd</td>\n",
       "      <td>Central Electricity Authority</td>\n",
       "      <td>WRI</td>\n",
       "      <td>801.123775</td>\n",
       "      <td>0.994875</td>\n",
       "      <td>233.596650</td>\n",
       "      <td>865.400000</td>\n",
       "      <td>686.500000</td>\n",
       "    </tr>\n",
       "    <tr>\n",
       "      <th>903</th>\n",
       "      <td>3.0</td>\n",
       "      <td>12.8932</td>\n",
       "      <td>78.1654</td>\n",
       "      <td>Solar</td>\n",
       "      <td>Karnataka Power Corporation Limited</td>\n",
       "      <td>Karnataka Power Corporation Limited</td>\n",
       "      <td>Industry About</td>\n",
       "      <td>801.123775</td>\n",
       "      <td>711.181225</td>\n",
       "      <td>737.205450</td>\n",
       "      <td>817.977250</td>\n",
       "      <td>751.644375</td>\n",
       "    </tr>\n",
       "    <tr>\n",
       "      <th>904</th>\n",
       "      <td>25.5</td>\n",
       "      <td>15.2758</td>\n",
       "      <td>75.5811</td>\n",
       "      <td>Wind</td>\n",
       "      <td>Acc Acc ltd</td>\n",
       "      <td>CDM</td>\n",
       "      <td>WRI</td>\n",
       "      <td>801.123775</td>\n",
       "      <td>711.181225</td>\n",
       "      <td>737.205450</td>\n",
       "      <td>817.977250</td>\n",
       "      <td>751.644375</td>\n",
       "    </tr>\n",
       "    <tr>\n",
       "      <th>905</th>\n",
       "      <td>80.0</td>\n",
       "      <td>24.3500</td>\n",
       "      <td>73.7477</td>\n",
       "      <td>Coal</td>\n",
       "      <td>Hindustan Zinc ltd</td>\n",
       "      <td>Hindustan Zinc ltd</td>\n",
       "      <td>WRI</td>\n",
       "      <td>801.123775</td>\n",
       "      <td>711.181225</td>\n",
       "      <td>737.205450</td>\n",
       "      <td>817.977250</td>\n",
       "      <td>751.644375</td>\n",
       "    </tr>\n",
       "    <tr>\n",
       "      <th>906</th>\n",
       "      <td>16.5</td>\n",
       "      <td>9.9344</td>\n",
       "      <td>77.4768</td>\n",
       "      <td>Wind</td>\n",
       "      <td>iEnergy Wind Farms</td>\n",
       "      <td>CDM</td>\n",
       "      <td>WRI</td>\n",
       "      <td>801.123775</td>\n",
       "      <td>711.181225</td>\n",
       "      <td>737.205450</td>\n",
       "      <td>817.977250</td>\n",
       "      <td>751.644375</td>\n",
       "    </tr>\n",
       "  </tbody>\n",
       "</table>\n",
       "<p>907 rows × 12 columns</p>\n",
       "</div>"
      ],
      "text/plain": [
       "     capacity_mw  latitude  longitude primary_fuel  \\\n",
       "0            2.5   28.1839    73.2407        Solar   \n",
       "1           98.0   24.7663    74.6090         Coal   \n",
       "2           39.2   21.9038    69.3732         Wind   \n",
       "3          135.0   23.8712    91.3602          Gas   \n",
       "4         1800.0   21.9603    82.4091         Coal   \n",
       "..           ...       ...        ...          ...   \n",
       "902       1600.0   16.2949    77.3568         Coal   \n",
       "903          3.0   12.8932    78.1654        Solar   \n",
       "904         25.5   15.2758    75.5811         Wind   \n",
       "905         80.0   24.3500    73.7477         Coal   \n",
       "906         16.5    9.9344    77.4768         Wind   \n",
       "\n",
       "                                   owner  \\\n",
       "0                            Solar Paces   \n",
       "1                   Ultratech Cement ltd   \n",
       "2                                    AES   \n",
       "3                            Acc Acc ltd   \n",
       "4                            Acc Acc ltd   \n",
       "..                                   ...   \n",
       "902                          Acc Acc ltd   \n",
       "903  Karnataka Power Corporation Limited   \n",
       "904                          Acc Acc ltd   \n",
       "905                   Hindustan Zinc ltd   \n",
       "906                   iEnergy Wind Farms   \n",
       "\n",
       "                                   source  \\\n",
       "0    National Renewable Energy Laboratory   \n",
       "1                    Ultratech Cement ltd   \n",
       "2                                     CDM   \n",
       "3           Central Electricity Authority   \n",
       "4           Central Electricity Authority   \n",
       "..                                    ...   \n",
       "902         Central Electricity Authority   \n",
       "903   Karnataka Power Corporation Limited   \n",
       "904                                   CDM   \n",
       "905                    Hindustan Zinc ltd   \n",
       "906                                   CDM   \n",
       "\n",
       "                       geolocation_source  generation_gwh_2014  \\\n",
       "0    National Renewable Energy Laboratory           801.123775   \n",
       "1                                     WRI           801.123775   \n",
       "2                                     WRI           801.123775   \n",
       "3                                     WRI           617.789264   \n",
       "4                                     WRI          3035.550000   \n",
       "..                                    ...                  ...   \n",
       "902                                   WRI           801.123775   \n",
       "903                        Industry About           801.123775   \n",
       "904                                   WRI           801.123775   \n",
       "905                                   WRI           801.123775   \n",
       "906                                   WRI           801.123775   \n",
       "\n",
       "     generation_gwh_2015  generation_gwh_2016  generation_gwh_2017  \\\n",
       "0             711.181225           737.205450           817.977250   \n",
       "1             711.181225           737.205450           817.977250   \n",
       "2             711.181225           737.205450           817.977250   \n",
       "3             843.747000           886.004428           663.774500   \n",
       "4            5916.370000          6243.000000          5385.579736   \n",
       "..                   ...                  ...                  ...   \n",
       "902             0.994875           233.596650           865.400000   \n",
       "903           711.181225           737.205450           817.977250   \n",
       "904           711.181225           737.205450           817.977250   \n",
       "905           711.181225           737.205450           817.977250   \n",
       "906           711.181225           737.205450           817.977250   \n",
       "\n",
       "     generation_gwh_2018  \n",
       "0             751.644375  \n",
       "1             751.644375  \n",
       "2             751.644375  \n",
       "3             626.239128  \n",
       "4            7279.000000  \n",
       "..                   ...  \n",
       "902           686.500000  \n",
       "903           751.644375  \n",
       "904           751.644375  \n",
       "905           751.644375  \n",
       "906           751.644375  \n",
       "\n",
       "[907 rows x 12 columns]"
      ]
     },
     "execution_count": 101,
     "metadata": {},
     "output_type": "execute_result"
    }
   ],
   "source": [
    "df"
   ]
  },
  {
   "cell_type": "code",
   "execution_count": 102,
   "id": "1e9a8464",
   "metadata": {},
   "outputs": [
    {
     "data": {
      "text/plain": [
       "capacity_mw            0\n",
       "latitude               0\n",
       "longitude              0\n",
       "primary_fuel           0\n",
       "owner                  0\n",
       "source                 0\n",
       "geolocation_source     0\n",
       "generation_gwh_2014    0\n",
       "generation_gwh_2015    0\n",
       "generation_gwh_2016    0\n",
       "generation_gwh_2017    0\n",
       "generation_gwh_2018    0\n",
       "dtype: int64"
      ]
     },
     "execution_count": 102,
     "metadata": {},
     "output_type": "execute_result"
    }
   ],
   "source": [
    "df.isnull().sum()"
   ]
  },
  {
   "cell_type": "code",
   "execution_count": 103,
   "id": "f01c4c5b",
   "metadata": {},
   "outputs": [
    {
     "data": {
      "text/plain": [
       "capacity_mw            float64\n",
       "latitude               float64\n",
       "longitude              float64\n",
       "primary_fuel            object\n",
       "owner                   object\n",
       "source                  object\n",
       "geolocation_source      object\n",
       "generation_gwh_2014    float64\n",
       "generation_gwh_2015    float64\n",
       "generation_gwh_2016    float64\n",
       "generation_gwh_2017    float64\n",
       "generation_gwh_2018    float64\n",
       "dtype: object"
      ]
     },
     "execution_count": 103,
     "metadata": {},
     "output_type": "execute_result"
    }
   ],
   "source": [
    "df.dtypes"
   ]
  },
  {
   "cell_type": "markdown",
   "id": "fed609e9",
   "metadata": {},
   "source": [
    "# Skewness"
   ]
  },
  {
   "cell_type": "code",
   "execution_count": 104,
   "id": "bbd7cd41",
   "metadata": {},
   "outputs": [
    {
     "data": {
      "text/plain": [
       "capacity_mw            3.123576\n",
       "latitude              -0.149698\n",
       "longitude              1.163320\n",
       "generation_gwh_2014    5.321360\n",
       "generation_gwh_2015    5.566773\n",
       "generation_gwh_2016    5.281953\n",
       "generation_gwh_2017    5.315103\n",
       "generation_gwh_2018    5.133226\n",
       "dtype: float64"
      ]
     },
     "execution_count": 104,
     "metadata": {},
     "output_type": "execute_result"
    }
   ],
   "source": [
    "df.skew()"
   ]
  },
  {
   "cell_type": "code",
   "execution_count": 105,
   "id": "4e80fd40",
   "metadata": {},
   "outputs": [],
   "source": [
    "skew=('capacity_mw','longitude','generation_gwh_2014','generation_gwh_2015','generation_gwh_2016','generation_gwh_2017','generation_gwh_2018')\n",
    "for col in skew:\n",
    "    if df.skew().loc[col]>0.55:\n",
    "        df[col]=np.log1p(df[col])"
   ]
  },
  {
   "cell_type": "markdown",
   "id": "d0fc741b",
   "metadata": {},
   "source": [
    "# Label_encoding"
   ]
  },
  {
   "cell_type": "code",
   "execution_count": 106,
   "id": "fc24b340",
   "metadata": {},
   "outputs": [],
   "source": [
    "from sklearn import preprocessing\n",
    "label_encoder = preprocessing.LabelEncoder()\n",
    "\n",
    "df['primary_fuel']= label_encoder.fit_transform(df['primary_fuel'])\n",
    "df['owner']= label_encoder.fit_transform(df['owner'])\n",
    "df['source']= label_encoder.fit_transform(df['source'])\n",
    "df['geolocation_source']= label_encoder.fit_transform(df['geolocation_source'])"
   ]
  },
  {
   "cell_type": "code",
   "execution_count": 107,
   "id": "7a085968",
   "metadata": {},
   "outputs": [
    {
     "data": {
      "text/plain": [
       "capacity_mw            float64\n",
       "latitude               float64\n",
       "longitude              float64\n",
       "primary_fuel             int32\n",
       "owner                    int32\n",
       "source                   int32\n",
       "geolocation_source       int32\n",
       "generation_gwh_2014    float64\n",
       "generation_gwh_2015    float64\n",
       "generation_gwh_2016    float64\n",
       "generation_gwh_2017    float64\n",
       "generation_gwh_2018    float64\n",
       "dtype: object"
      ]
     },
     "execution_count": 107,
     "metadata": {},
     "output_type": "execute_result"
    }
   ],
   "source": [
    "df.dtypes"
   ]
  },
  {
   "cell_type": "code",
   "execution_count": 108,
   "id": "b0ee4542",
   "metadata": {},
   "outputs": [
    {
     "data": {
      "text/html": [
       "<div>\n",
       "<style scoped>\n",
       "    .dataframe tbody tr th:only-of-type {\n",
       "        vertical-align: middle;\n",
       "    }\n",
       "\n",
       "    .dataframe tbody tr th {\n",
       "        vertical-align: top;\n",
       "    }\n",
       "\n",
       "    .dataframe thead th {\n",
       "        text-align: right;\n",
       "    }\n",
       "</style>\n",
       "<table border=\"1\" class=\"dataframe\">\n",
       "  <thead>\n",
       "    <tr style=\"text-align: right;\">\n",
       "      <th></th>\n",
       "      <th>capacity_mw</th>\n",
       "      <th>latitude</th>\n",
       "      <th>longitude</th>\n",
       "      <th>primary_fuel</th>\n",
       "      <th>owner</th>\n",
       "      <th>source</th>\n",
       "      <th>geolocation_source</th>\n",
       "      <th>generation_gwh_2014</th>\n",
       "      <th>generation_gwh_2015</th>\n",
       "      <th>generation_gwh_2016</th>\n",
       "      <th>generation_gwh_2017</th>\n",
       "      <th>generation_gwh_2018</th>\n",
       "    </tr>\n",
       "  </thead>\n",
       "  <tbody>\n",
       "    <tr>\n",
       "      <th>0</th>\n",
       "      <td>1.252763</td>\n",
       "      <td>28.1839</td>\n",
       "      <td>4.307313</td>\n",
       "      <td>6</td>\n",
       "      <td>229</td>\n",
       "      <td>109</td>\n",
       "      <td>1</td>\n",
       "      <td>6.687263</td>\n",
       "      <td>6.568332</td>\n",
       "      <td>6.604222</td>\n",
       "      <td>6.708056</td>\n",
       "      <td>6.623593</td>\n",
       "    </tr>\n",
       "    <tr>\n",
       "      <th>1</th>\n",
       "      <td>4.595120</td>\n",
       "      <td>24.7663</td>\n",
       "      <td>4.325575</td>\n",
       "      <td>1</td>\n",
       "      <td>258</td>\n",
       "      <td>174</td>\n",
       "      <td>2</td>\n",
       "      <td>6.687263</td>\n",
       "      <td>6.568332</td>\n",
       "      <td>6.604222</td>\n",
       "      <td>6.708056</td>\n",
       "      <td>6.623593</td>\n",
       "    </tr>\n",
       "    <tr>\n",
       "      <th>2</th>\n",
       "      <td>3.693867</td>\n",
       "      <td>21.9038</td>\n",
       "      <td>4.253813</td>\n",
       "      <td>7</td>\n",
       "      <td>2</td>\n",
       "      <td>21</td>\n",
       "      <td>2</td>\n",
       "      <td>6.687263</td>\n",
       "      <td>6.568332</td>\n",
       "      <td>6.604222</td>\n",
       "      <td>6.708056</td>\n",
       "      <td>6.623593</td>\n",
       "    </tr>\n",
       "    <tr>\n",
       "      <th>3</th>\n",
       "      <td>4.912655</td>\n",
       "      <td>23.8712</td>\n",
       "      <td>4.525696</td>\n",
       "      <td>2</td>\n",
       "      <td>5</td>\n",
       "      <td>22</td>\n",
       "      <td>2</td>\n",
       "      <td>6.427765</td>\n",
       "      <td>6.739037</td>\n",
       "      <td>6.787850</td>\n",
       "      <td>6.499448</td>\n",
       "      <td>6.441328</td>\n",
       "    </tr>\n",
       "    <tr>\n",
       "      <th>4</th>\n",
       "      <td>7.496097</td>\n",
       "      <td>21.9603</td>\n",
       "      <td>4.423757</td>\n",
       "      <td>1</td>\n",
       "      <td>5</td>\n",
       "      <td>22</td>\n",
       "      <td>2</td>\n",
       "      <td>8.018477</td>\n",
       "      <td>8.685647</td>\n",
       "      <td>8.739376</td>\n",
       "      <td>8.591666</td>\n",
       "      <td>8.892886</td>\n",
       "    </tr>\n",
       "  </tbody>\n",
       "</table>\n",
       "</div>"
      ],
      "text/plain": [
       "   capacity_mw  latitude  longitude  primary_fuel  owner  source  \\\n",
       "0     1.252763   28.1839   4.307313             6    229     109   \n",
       "1     4.595120   24.7663   4.325575             1    258     174   \n",
       "2     3.693867   21.9038   4.253813             7      2      21   \n",
       "3     4.912655   23.8712   4.525696             2      5      22   \n",
       "4     7.496097   21.9603   4.423757             1      5      22   \n",
       "\n",
       "   geolocation_source  generation_gwh_2014  generation_gwh_2015  \\\n",
       "0                   1             6.687263             6.568332   \n",
       "1                   2             6.687263             6.568332   \n",
       "2                   2             6.687263             6.568332   \n",
       "3                   2             6.427765             6.739037   \n",
       "4                   2             8.018477             8.685647   \n",
       "\n",
       "   generation_gwh_2016  generation_gwh_2017  generation_gwh_2018  \n",
       "0             6.604222             6.708056             6.623593  \n",
       "1             6.604222             6.708056             6.623593  \n",
       "2             6.604222             6.708056             6.623593  \n",
       "3             6.787850             6.499448             6.441328  \n",
       "4             8.739376             8.591666             8.892886  "
      ]
     },
     "execution_count": 108,
     "metadata": {},
     "output_type": "execute_result"
    }
   ],
   "source": [
    "df.head()"
   ]
  },
  {
   "cell_type": "markdown",
   "id": "0a5c0819",
   "metadata": {},
   "source": [
    "# Removing Outliers"
   ]
  },
  {
   "cell_type": "code",
   "execution_count": 109,
   "id": "28fef207",
   "metadata": {},
   "outputs": [],
   "source": [
    "from scipy.stats import zscore"
   ]
  },
  {
   "cell_type": "code",
   "execution_count": 110,
   "id": "1d1a6884",
   "metadata": {},
   "outputs": [
    {
     "name": "stdout",
     "output_type": "stream",
     "text": [
      "     capacity_mw  latitude  longitude  primary_fuel     owner    source  \\\n",
      "0       1.628938  1.149805   0.890669      1.225688  2.095328  1.460215   \n",
      "1       0.158583  0.587311   0.584044      0.967877  2.446913  2.917019   \n",
      "2       0.323415  0.116179   1.788910      1.664401  0.656734  0.512075   \n",
      "3       0.328403  0.439989   2.775895      0.529164  0.620363  0.489662   \n",
      "4       1.710051  0.125479   1.064389      0.967877  0.620363  0.489662   \n",
      "..           ...       ...        ...           ...       ...       ...   \n",
      "902     1.647096  0.806975   0.015300      0.967877  0.620363  0.489662   \n",
      "903     1.557524  1.366853   0.187671      1.225688  0.701112  0.743019   \n",
      "904     0.546281  0.974707   0.369558      1.664401  0.620363  0.512075   \n",
      "905     0.051263  0.518793   0.776400      0.967877  0.422268  0.339596   \n",
      "906     0.768197  1.853834   0.040992      1.664401  2.701509  0.512075   \n",
      "\n",
      "     geolocation_source  generation_gwh_2014  generation_gwh_2015  \\\n",
      "0              1.083349             0.102018             0.091473   \n",
      "1              0.394241             0.102018             0.091473   \n",
      "2              0.394241             0.102018             0.091473   \n",
      "3              0.394241             0.060457             0.194844   \n",
      "4              0.394241             0.935508             1.373614   \n",
      "..                  ...                  ...                  ...   \n",
      "902            0.394241             0.102018             3.467801   \n",
      "903            2.560940             0.102018             0.091473   \n",
      "904            0.394241             0.102018             0.091473   \n",
      "905            0.394241             0.102018             0.091473   \n",
      "906            0.394241             0.102018             0.091473   \n",
      "\n",
      "     generation_gwh_2016  generation_gwh_2017  generation_gwh_2018  \n",
      "0               0.096908             0.118601             0.099653  \n",
      "1               0.096908             0.118601             0.099653  \n",
      "2               0.096908             0.118601             0.099653  \n",
      "3               0.206367             0.001925             0.002418  \n",
      "4               1.369653             1.206884             1.370495  \n",
      "..                   ...                  ...                  ...  \n",
      "902             0.586422             0.151124             0.048954  \n",
      "903             0.096908             0.118601             0.099653  \n",
      "904             0.096908             0.118601             0.099653  \n",
      "905             0.096908             0.118601             0.099653  \n",
      "906             0.096908             0.118601             0.099653  \n",
      "\n",
      "[907 rows x 12 columns]\n"
     ]
    }
   ],
   "source": [
    "z=np.abs(zscore(df))\n",
    "print(z)"
   ]
  },
  {
   "cell_type": "code",
   "execution_count": 111,
   "id": "52325e90",
   "metadata": {},
   "outputs": [
    {
     "name": "stdout",
     "output_type": "stream",
     "text": [
      "(array([  0,   0,   0, ..., 906, 906, 906], dtype=int64), array([ 0,  1,  2, ...,  9, 10, 11], dtype=int64))\n",
      "(907, 12)\n"
     ]
    }
   ],
   "source": [
    "threshold=3\n",
    "print(np.where(z<3))\n",
    "print(df.shape)"
   ]
  },
  {
   "cell_type": "code",
   "execution_count": 112,
   "id": "28075a98",
   "metadata": {},
   "outputs": [],
   "source": [
    "df_new=df[(z<3).all(axis=1)]"
   ]
  },
  {
   "cell_type": "code",
   "execution_count": 113,
   "id": "862142e7",
   "metadata": {},
   "outputs": [
    {
     "name": "stdout",
     "output_type": "stream",
     "text": [
      "(907, 12)\n",
      "(808, 12)\n",
      "Shape after removing outliers (808, 12)\n"
     ]
    }
   ],
   "source": [
    "print(df.shape)\n",
    "print(df_new.shape)\n",
    "df=df_new\n",
    "print('Shape after removing outliers',df.shape)"
   ]
  },
  {
   "cell_type": "markdown",
   "id": "4a8e9170",
   "metadata": {},
   "source": [
    "# Correlation"
   ]
  },
  {
   "cell_type": "code",
   "execution_count": 114,
   "id": "5be34ed4",
   "metadata": {},
   "outputs": [
    {
     "data": {
      "text/plain": [
       "<AxesSubplot:>"
      ]
     },
     "execution_count": 114,
     "metadata": {},
     "output_type": "execute_result"
    },
    {
     "data": {
      "image/png": "[encoded data removed]",
      "text/plain": [
       "<Figure size 1200x600 with 2 Axes>"
      ]
     },
     "metadata": {
      "needs_background": "light"
     },
     "output_type": "display_data"
    }
   ],
   "source": [
    "corr_df = df.corr(method='pearson')\n",
    "plt.figure(figsize=(12,6),dpi=100)\n",
    "sns.heatmap(corr_df,cmap='coolwarm',annot=True)"
   ]
  },
  {
   "cell_type": "markdown",
   "id": "9362b466",
   "metadata": {},
   "source": [
    "# Prediction with Capacity"
   ]
  },
  {
   "cell_type": "code",
   "execution_count": 115,
   "id": "d994509f",
   "metadata": {},
   "outputs": [
    {
     "data": {
      "text/plain": [
       "8"
      ]
     },
     "execution_count": 115,
     "metadata": {},
     "output_type": "execute_result"
    }
   ],
   "source": [
    "df['primary_fuel'].nunique()"
   ]
  },
  {
   "cell_type": "code",
   "execution_count": 116,
   "id": "54fbf30c",
   "metadata": {},
   "outputs": [],
   "source": [
    "df_final=pd.get_dummies(df.drop(['primary_fuel'],axis=1),drop_first=True)"
   ]
  },
  {
   "cell_type": "code",
   "execution_count": 117,
   "id": "424333a2",
   "metadata": {},
   "outputs": [
    {
     "data": {
      "text/html": [
       "<div>\n",
       "<style scoped>\n",
       "    .dataframe tbody tr th:only-of-type {\n",
       "        vertical-align: middle;\n",
       "    }\n",
       "\n",
       "    .dataframe tbody tr th {\n",
       "        vertical-align: top;\n",
       "    }\n",
       "\n",
       "    .dataframe thead th {\n",
       "        text-align: right;\n",
       "    }\n",
       "</style>\n",
       "<table border=\"1\" class=\"dataframe\">\n",
       "  <thead>\n",
       "    <tr style=\"text-align: right;\">\n",
       "      <th></th>\n",
       "      <th>capacity_mw</th>\n",
       "      <th>latitude</th>\n",
       "      <th>longitude</th>\n",
       "      <th>owner</th>\n",
       "      <th>source</th>\n",
       "      <th>geolocation_source</th>\n",
       "      <th>generation_gwh_2014</th>\n",
       "      <th>generation_gwh_2015</th>\n",
       "      <th>generation_gwh_2016</th>\n",
       "      <th>generation_gwh_2017</th>\n",
       "      <th>generation_gwh_2018</th>\n",
       "    </tr>\n",
       "  </thead>\n",
       "  <tbody>\n",
       "    <tr>\n",
       "      <th>0</th>\n",
       "      <td>1.252763</td>\n",
       "      <td>28.1839</td>\n",
       "      <td>4.307313</td>\n",
       "      <td>229</td>\n",
       "      <td>109</td>\n",
       "      <td>1</td>\n",
       "      <td>6.687263</td>\n",
       "      <td>6.568332</td>\n",
       "      <td>6.604222</td>\n",
       "      <td>6.708056</td>\n",
       "      <td>6.623593</td>\n",
       "    </tr>\n",
       "    <tr>\n",
       "      <th>1</th>\n",
       "      <td>4.595120</td>\n",
       "      <td>24.7663</td>\n",
       "      <td>4.325575</td>\n",
       "      <td>258</td>\n",
       "      <td>174</td>\n",
       "      <td>2</td>\n",
       "      <td>6.687263</td>\n",
       "      <td>6.568332</td>\n",
       "      <td>6.604222</td>\n",
       "      <td>6.708056</td>\n",
       "      <td>6.623593</td>\n",
       "    </tr>\n",
       "    <tr>\n",
       "      <th>2</th>\n",
       "      <td>3.693867</td>\n",
       "      <td>21.9038</td>\n",
       "      <td>4.253813</td>\n",
       "      <td>2</td>\n",
       "      <td>21</td>\n",
       "      <td>2</td>\n",
       "      <td>6.687263</td>\n",
       "      <td>6.568332</td>\n",
       "      <td>6.604222</td>\n",
       "      <td>6.708056</td>\n",
       "      <td>6.623593</td>\n",
       "    </tr>\n",
       "    <tr>\n",
       "      <th>3</th>\n",
       "      <td>4.912655</td>\n",
       "      <td>23.8712</td>\n",
       "      <td>4.525696</td>\n",
       "      <td>5</td>\n",
       "      <td>22</td>\n",
       "      <td>2</td>\n",
       "      <td>6.427765</td>\n",
       "      <td>6.739037</td>\n",
       "      <td>6.787850</td>\n",
       "      <td>6.499448</td>\n",
       "      <td>6.441328</td>\n",
       "    </tr>\n",
       "    <tr>\n",
       "      <th>4</th>\n",
       "      <td>7.496097</td>\n",
       "      <td>21.9603</td>\n",
       "      <td>4.423757</td>\n",
       "      <td>5</td>\n",
       "      <td>22</td>\n",
       "      <td>2</td>\n",
       "      <td>8.018477</td>\n",
       "      <td>8.685647</td>\n",
       "      <td>8.739376</td>\n",
       "      <td>8.591666</td>\n",
       "      <td>8.892886</td>\n",
       "    </tr>\n",
       "  </tbody>\n",
       "</table>\n",
       "</div>"
      ],
      "text/plain": [
       "   capacity_mw  latitude  longitude  owner  source  geolocation_source  \\\n",
       "0     1.252763   28.1839   4.307313    229     109                   1   \n",
       "1     4.595120   24.7663   4.325575    258     174                   2   \n",
       "2     3.693867   21.9038   4.253813      2      21                   2   \n",
       "3     4.912655   23.8712   4.525696      5      22                   2   \n",
       "4     7.496097   21.9603   4.423757      5      22                   2   \n",
       "\n",
       "   generation_gwh_2014  generation_gwh_2015  generation_gwh_2016  \\\n",
       "0             6.687263             6.568332             6.604222   \n",
       "1             6.687263             6.568332             6.604222   \n",
       "2             6.687263             6.568332             6.604222   \n",
       "3             6.427765             6.739037             6.787850   \n",
       "4             8.018477             8.685647             8.739376   \n",
       "\n",
       "   generation_gwh_2017  generation_gwh_2018  \n",
       "0             6.708056             6.623593  \n",
       "1             6.708056             6.623593  \n",
       "2             6.708056             6.623593  \n",
       "3             6.499448             6.441328  \n",
       "4             8.591666             8.892886  "
      ]
     },
     "execution_count": 117,
     "metadata": {},
     "output_type": "execute_result"
    }
   ],
   "source": [
    "df_final.head()"
   ]
  },
  {
   "cell_type": "code",
   "execution_count": 118,
   "id": "464ea57b",
   "metadata": {},
   "outputs": [],
   "source": [
    "x=df_final.iloc[:,1:11]\n",
    "y=df_final['capacity_mw']"
   ]
  },
  {
   "cell_type": "code",
   "execution_count": 119,
   "id": "e144c355",
   "metadata": {},
   "outputs": [],
   "source": [
    "from sklearn.metrics import accuracy_score,classification_report,confusion_matrix,roc_auc_score,roc_curve\n",
    "from sklearn.linear_model import LogisticRegression\n",
    "from sklearn.linear_model import LinearRegression\n",
    "from sklearn.naive_bayes import GaussianNB\n",
    "from sklearn.neighbors import KNeighborsClassifier\n",
    "from sklearn.neighbors import KNeighborsRegressor\n",
    "from sklearn.svm import SVC\n",
    "from sklearn.tree import DecisionTreeClassifier\n",
    "from sklearn.ensemble import AdaBoostClassifier,GradientBoostingClassifier\n",
    "from sklearn.tree import DecisionTreeRegressor\n",
    "from sklearn.ensemble import AdaBoostRegressor,GradientBoostingRegressor\n",
    "from sklearn.preprocessing import LabelEncoder,StandardScaler\n",
    "from sklearn.model_selection import cross_val_score,train_test_split,GridSearchCV\n",
    "from sklearn.metrics import r2_score\n",
    "from sklearn.metrics import mean_squared_error,mean_absolute_error\n",
    "from sklearn import tree\n"
   ]
  },
  {
   "cell_type": "code",
   "execution_count": 120,
   "id": "b906f7c6",
   "metadata": {},
   "outputs": [
    {
     "name": "stdout",
     "output_type": "stream",
     "text": [
      "R2 score correspond to random state 40 is 0.7263398321457275\n",
      "R2 score correspond to random state 40 is 0.6716911410149243\n",
      "R2 score correspond to random state 40 is 0.789687291625014\n",
      "R2 score correspond to random state 40 is 0.5888104237198751\n",
      "R2 score correspond to random state 40 is 0.8067367338787369\n",
      "R2 score correspond to random state 41 is 0.7892967401465685\n",
      "R2 score correspond to random state 41 is 0.6423607009585206\n",
      "R2 score correspond to random state 41 is 0.7806708584949151\n",
      "R2 score correspond to random state 41 is 0.5827971073950373\n",
      "R2 score correspond to random state 41 is 0.8313029402161766\n",
      "R2 score correspond to random state 42 is 0.763338971320858\n",
      "R2 score correspond to random state 42 is 0.6828151896113388\n",
      "R2 score correspond to random state 42 is 0.8041880100663911\n",
      "R2 score correspond to random state 42 is 0.5497317408361616\n",
      "R2 score correspond to random state 42 is 0.8654980250051802\n",
      "R2 score correspond to random state 43 is 0.7024291384723242\n",
      "R2 score correspond to random state 43 is 0.5415798318034944\n",
      "R2 score correspond to random state 43 is 0.7365126220862345\n",
      "R2 score correspond to random state 43 is 0.5137842047943941\n",
      "R2 score correspond to random state 43 is 0.7605006439264419\n",
      "R2 score correspond to random state 44 is 0.7070170998287703\n",
      "R2 score correspond to random state 44 is 0.5810488603475226\n",
      "R2 score correspond to random state 44 is 0.7471414839454612\n",
      "R2 score correspond to random state 44 is 0.5085238901940661\n",
      "R2 score correspond to random state 44 is 0.7894175687023837\n",
      "R2 score correspond to random state 45 is 0.7792790014382959\n",
      "R2 score correspond to random state 45 is 0.6987574943895134\n",
      "R2 score correspond to random state 45 is 0.8206249661916273\n",
      "R2 score correspond to random state 45 is 0.5980729229958978\n",
      "R2 score correspond to random state 45 is 0.8569316876049277\n",
      "R2 score correspond to random state 46 is 0.7227454825501803\n",
      "R2 score correspond to random state 46 is 0.6288339998238831\n",
      "R2 score correspond to random state 46 is 0.7817487096928357\n",
      "R2 score correspond to random state 46 is 0.556342532509711\n",
      "R2 score correspond to random state 46 is 0.8300430511820206\n",
      "R2 score correspond to random state 47 is 0.6276791973957245\n",
      "R2 score correspond to random state 47 is 0.6173877600572597\n",
      "R2 score correspond to random state 47 is 0.7760766496816909\n",
      "R2 score correspond to random state 47 is 0.5659650994796792\n",
      "R2 score correspond to random state 47 is 0.8091194572207818\n",
      "R2 score correspond to random state 48 is 0.8119501964553117\n",
      "R2 score correspond to random state 48 is 0.6574203473536093\n",
      "R2 score correspond to random state 48 is 0.7867258627295668\n",
      "R2 score correspond to random state 48 is 0.5964763707717231\n",
      "R2 score correspond to random state 48 is 0.83818539844657\n",
      "R2 score correspond to random state 49 is 0.7044262676107257\n",
      "R2 score correspond to random state 49 is 0.6665662812286753\n",
      "R2 score correspond to random state 49 is 0.7698153557733127\n",
      "R2 score correspond to random state 49 is 0.5408824299825044\n",
      "R2 score correspond to random state 49 is 0.8077977174317776\n",
      "R2 score correspond to random state 50 is 0.7117057483749063\n",
      "R2 score correspond to random state 50 is 0.6270940785479477\n",
      "R2 score correspond to random state 50 is 0.8028319072604649\n",
      "R2 score correspond to random state 50 is 0.595428890778068\n",
      "R2 score correspond to random state 50 is 0.8086995636607425\n",
      "R2 score correspond to random state 51 is 0.7671189578553774\n",
      "R2 score correspond to random state 51 is 0.5853932063011722\n",
      "R2 score correspond to random state 51 is 0.7967521620413418\n",
      "R2 score correspond to random state 51 is 0.5312858285161597\n",
      "R2 score correspond to random state 51 is 0.8086930662810414\n",
      "R2 score correspond to random state 52 is 0.7712098317191252\n",
      "R2 score correspond to random state 52 is 0.6121301761135025\n",
      "R2 score correspond to random state 52 is 0.8169967790756189\n",
      "R2 score correspond to random state 52 is 0.5721407557116098\n",
      "R2 score correspond to random state 52 is 0.8627325547095348\n",
      "R2 score correspond to random state 53 is 0.688614220703845\n",
      "R2 score correspond to random state 53 is 0.6440608623095398\n",
      "R2 score correspond to random state 53 is 0.7775629358633434\n",
      "R2 score correspond to random state 53 is 0.5794936318649774\n",
      "R2 score correspond to random state 53 is 0.8267717585440701\n",
      "R2 score correspond to random state 54 is 0.7623177733126557\n",
      "R2 score correspond to random state 54 is 0.6136703712263809\n",
      "R2 score correspond to random state 54 is 0.7818440860357502\n",
      "R2 score correspond to random state 54 is 0.5585662324499001\n",
      "R2 score correspond to random state 54 is 0.8043370425533143\n",
      "R2 score correspond to random state 55 is 0.6784303038328492\n",
      "R2 score correspond to random state 55 is 0.6082087273309666\n",
      "R2 score correspond to random state 55 is 0.7724559415855294\n",
      "R2 score correspond to random state 55 is 0.5740757444519482\n",
      "R2 score correspond to random state 55 is 0.8203357499347703\n",
      "R2 score correspond to random state 56 is 0.6970069269333586\n",
      "R2 score correspond to random state 56 is 0.6215182530985142\n",
      "R2 score correspond to random state 56 is 0.763996065930024\n",
      "R2 score correspond to random state 56 is 0.561095065440135\n",
      "R2 score correspond to random state 56 is 0.8146540955838285\n",
      "R2 score correspond to random state 57 is 0.6692674397427777\n",
      "R2 score correspond to random state 57 is 0.5685076143815128\n",
      "R2 score correspond to random state 57 is 0.749661532793305\n",
      "R2 score correspond to random state 57 is 0.5352368553149702\n",
      "R2 score correspond to random state 57 is 0.7877186966375619\n",
      "R2 score correspond to random state 58 is 0.6962850408247778\n",
      "R2 score correspond to random state 58 is 0.6394441594469447\n",
      "R2 score correspond to random state 58 is 0.7775710506008823\n",
      "R2 score correspond to random state 58 is 0.5431392316149259\n",
      "R2 score correspond to random state 58 is 0.821008927840657\n",
      "R2 score correspond to random state 59 is 0.6569434890758871\n",
      "R2 score correspond to random state 59 is 0.5873861667867415\n",
      "R2 score correspond to random state 59 is 0.7717442120201153\n",
      "R2 score correspond to random state 59 is 0.55973799065501\n",
      "R2 score correspond to random state 59 is 0.7784564396350958\n",
      "R2 score correspond to random state 60 is 0.7039174717329697\n",
      "R2 score correspond to random state 60 is 0.640382215344963\n",
      "R2 score correspond to random state 60 is 0.7945308571447215\n",
      "R2 score correspond to random state 60 is 0.606604890483362\n",
      "R2 score correspond to random state 60 is 0.8266440683901947\n",
      "R2 score correspond to random state 61 is 0.7140972358391098\n",
      "R2 score correspond to random state 61 is 0.6860013698611843\n",
      "R2 score correspond to random state 61 is 0.7763294591906624\n",
      "R2 score correspond to random state 61 is 0.5493124334148578\n",
      "R2 score correspond to random state 61 is 0.7884397437522728\n",
      "R2 score correspond to random state 62 is 0.6050704361227308\n",
      "R2 score correspond to random state 62 is 0.6380369443863465\n",
      "R2 score correspond to random state 62 is 0.7972022665481365\n",
      "R2 score correspond to random state 62 is 0.5678770509848903\n",
      "R2 score correspond to random state 62 is 0.8189919026941813\n",
      "R2 score correspond to random state 63 is 0.7552647925309581\n",
      "R2 score correspond to random state 63 is 0.6391803470723015\n",
      "R2 score correspond to random state 63 is 0.7911324718894498\n",
      "R2 score correspond to random state 63 is 0.5627338458217317\n",
      "R2 score correspond to random state 63 is 0.8297752455931446\n",
      "R2 score correspond to random state 64 is 0.752333383633304\n",
      "R2 score correspond to random state 64 is 0.6508750518254371\n",
      "R2 score correspond to random state 64 is 0.8048539499137632\n",
      "R2 score correspond to random state 64 is 0.5582764282163153\n",
      "R2 score correspond to random state 64 is 0.794041261861367\n",
      "R2 score correspond to random state 65 is 0.6562328173824096\n",
      "R2 score correspond to random state 65 is 0.5967820282523977\n",
      "R2 score correspond to random state 65 is 0.7440705672821675\n",
      "R2 score correspond to random state 65 is 0.5373226535334561\n",
      "R2 score correspond to random state 65 is 0.7844659888886276\n",
      "R2 score correspond to random state 66 is 0.7184149763833146\n",
      "R2 score correspond to random state 66 is 0.6350176621842731\n",
      "R2 score correspond to random state 66 is 0.7536634637481554\n",
      "R2 score correspond to random state 66 is 0.5218885854550203\n",
      "R2 score correspond to random state 66 is 0.8140951501610819\n",
      "R2 score correspond to random state 67 is 0.744422684738026\n",
      "R2 score correspond to random state 67 is 0.5872342050934793\n",
      "R2 score correspond to random state 67 is 0.7527048679988728\n",
      "R2 score correspond to random state 67 is 0.540415423127433\n",
      "R2 score correspond to random state 67 is 0.8186958623893534\n",
      "R2 score correspond to random state 68 is 0.7385912966526534\n",
      "R2 score correspond to random state 68 is 0.5772918638663762\n",
      "R2 score correspond to random state 68 is 0.7580254471724381\n",
      "R2 score correspond to random state 68 is 0.5397886678560877\n",
      "R2 score correspond to random state 68 is 0.8037376734384228\n",
      "R2 score correspond to random state 69 is 0.6835812527297016\n",
      "R2 score correspond to random state 69 is 0.6502533455708455\n",
      "R2 score correspond to random state 69 is 0.7513286622640751\n",
      "R2 score correspond to random state 69 is 0.5595085254055934\n",
      "R2 score correspond to random state 69 is 0.8148383964369676\n",
      "R2 score correspond to random state 70 is 0.677529120082436\n",
      "R2 score correspond to random state 70 is 0.6510351179478012\n",
      "R2 score correspond to random state 70 is 0.7833336828380723\n",
      "R2 score correspond to random state 70 is 0.5074198574577615\n",
      "R2 score correspond to random state 70 is 0.7988613180163063\n",
      "R2 score correspond to random state 71 is 0.7148085692492305\n",
      "R2 score correspond to random state 71 is 0.5866162903180565\n",
      "R2 score correspond to random state 71 is 0.7335744950975724\n",
      "R2 score correspond to random state 71 is 0.5315975394697359\n",
      "R2 score correspond to random state 71 is 0.7691998092122574\n",
      "R2 score correspond to random state 72 is 0.761327331690029\n",
      "R2 score correspond to random state 72 is 0.6697305467316874\n",
      "R2 score correspond to random state 72 is 0.829140347146172\n",
      "R2 score correspond to random state 72 is 0.6155966527544403\n",
      "R2 score correspond to random state 72 is 0.8520767594550136\n",
      "R2 score correspond to random state 73 is 0.7507259916409561\n",
      "R2 score correspond to random state 73 is 0.5926888572935138\n",
      "R2 score correspond to random state 73 is 0.7816417689059405\n",
      "R2 score correspond to random state 73 is 0.6087962201724327\n",
      "R2 score correspond to random state 73 is 0.830606593429449\n",
      "R2 score correspond to random state 74 is 0.7356924718807152\n",
      "R2 score correspond to random state 74 is 0.5903153729553581\n",
      "R2 score correspond to random state 74 is 0.790167504978009\n",
      "R2 score correspond to random state 74 is 0.5447826988357916\n",
      "R2 score correspond to random state 74 is 0.8034761562463039\n",
      "R2 score correspond to random state 75 is 0.7706891332412507\n",
      "R2 score correspond to random state 75 is 0.6277789278389363\n",
      "R2 score correspond to random state 75 is 0.7757632789987897\n",
      "R2 score correspond to random state 75 is 0.5806120223098381\n",
      "R2 score correspond to random state 75 is 0.8340728509565296\n",
      "R2 score correspond to random state 76 is 0.6770641912140207\n",
      "R2 score correspond to random state 76 is 0.637167298859717\n",
      "R2 score correspond to random state 76 is 0.7939241077372442\n",
      "R2 score correspond to random state 76 is 0.5036420434761077\n",
      "R2 score correspond to random state 76 is 0.819404418513367\n",
      "R2 score correspond to random state 77 is 0.6842721837924597\n",
      "R2 score correspond to random state 77 is 0.610283305617032\n",
      "R2 score correspond to random state 77 is 0.7972925084873885\n",
      "R2 score correspond to random state 77 is 0.5354228838683892\n",
      "R2 score correspond to random state 77 is 0.8228593186874976\n",
      "R2 score correspond to random state 78 is 0.6750659351977977\n",
      "R2 score correspond to random state 78 is 0.6043318942298493\n",
      "R2 score correspond to random state 78 is 0.7910966718502036\n",
      "R2 score correspond to random state 78 is 0.5268834044084016\n",
      "R2 score correspond to random state 78 is 0.8011596059652666\n",
      "R2 score correspond to random state 79 is 0.7567283153615262\n",
      "R2 score correspond to random state 79 is 0.6707334042743068\n",
      "R2 score correspond to random state 79 is 0.8185861186865669\n",
      "R2 score correspond to random state 79 is 0.56506987930447\n",
      "R2 score correspond to random state 79 is 0.840555003450749\n",
      "R2 score correspond to random state 80 is 0.7177025202672069\n",
      "R2 score correspond to random state 80 is 0.6218097790428168\n",
      "R2 score correspond to random state 80 is 0.7594544058285811\n",
      "R2 score correspond to random state 80 is 0.549763559918141\n",
      "R2 score correspond to random state 80 is 0.8115268021107362\n",
      "R2 score correspond to random state 81 is 0.6930747672005462\n",
      "R2 score correspond to random state 81 is 0.47085542922160883\n",
      "R2 score correspond to random state 81 is 0.7630115554281314\n",
      "R2 score correspond to random state 81 is 0.5495566011200798\n",
      "R2 score correspond to random state 81 is 0.7733196367428518\n",
      "R2 score correspond to random state 82 is 0.7233073957175713\n",
      "R2 score correspond to random state 82 is 0.6358795934360906\n",
      "R2 score correspond to random state 82 is 0.7801698231031291\n",
      "R2 score correspond to random state 82 is 0.5409155305718565\n",
      "R2 score correspond to random state 82 is 0.812149488071159\n",
      "R2 score correspond to random state 83 is 0.6803308190558957\n",
      "R2 score correspond to random state 83 is 0.6845406755688195\n",
      "R2 score correspond to random state 83 is 0.7728005682409129\n",
      "R2 score correspond to random state 83 is 0.6224705096113381\n",
      "R2 score correspond to random state 83 is 0.8144735885084289\n",
      "R2 score correspond to random state 84 is 0.7216884955651907\n",
      "R2 score correspond to random state 84 is 0.6880340656633697\n",
      "R2 score correspond to random state 84 is 0.8063162781137835\n",
      "R2 score correspond to random state 84 is 0.6233763844041968\n",
      "R2 score correspond to random state 84 is 0.8401016256869793\n",
      "R2 score correspond to random state 85 is 0.6536775579330177\n",
      "R2 score correspond to random state 85 is 0.6375799394110399\n",
      "R2 score correspond to random state 85 is 0.7904290998162881\n",
      "R2 score correspond to random state 85 is 0.5821360006527639\n",
      "R2 score correspond to random state 85 is 0.8253507811040689\n",
      "R2 score correspond to random state 86 is 0.68551547186497\n",
      "R2 score correspond to random state 86 is 0.6827522899889419\n",
      "R2 score correspond to random state 86 is 0.7674539257208344\n",
      "R2 score correspond to random state 86 is 0.5005459441670168\n",
      "R2 score correspond to random state 86 is 0.8127740159576009\n",
      "R2 score correspond to random state 87 is 0.677896278349815\n",
      "R2 score correspond to random state 87 is 0.6315547083535793\n",
      "R2 score correspond to random state 87 is 0.763913129699263\n",
      "R2 score correspond to random state 87 is 0.5351788044637578\n",
      "R2 score correspond to random state 87 is 0.8066912276260119\n",
      "R2 score correspond to random state 88 is 0.6452408426728922\n",
      "R2 score correspond to random state 88 is 0.5751904543266518\n",
      "R2 score correspond to random state 88 is 0.7644279753084752\n",
      "R2 score correspond to random state 88 is 0.5518360852246889\n",
      "R2 score correspond to random state 88 is 0.8115751432892493\n",
      "R2 score correspond to random state 89 is 0.7496310547803212\n",
      "R2 score correspond to random state 89 is 0.6558192457469615\n",
      "R2 score correspond to random state 89 is 0.7832225864504736\n",
      "R2 score correspond to random state 89 is 0.5273714060879648\n",
      "R2 score correspond to random state 89 is 0.8369730175710257\n",
      "\n",
      "\n",
      "\n",
      "\n",
      "max R2 score correspond to random state 42 is 0.8654980250051802 and model is GradientBoostingRegressor()\n"
     ]
    }
   ],
   "source": [
    "model=[DecisionTreeRegressor(),KNeighborsRegressor(),AdaBoostRegressor(),LinearRegression(),GradientBoostingRegressor()]\n",
    "max_r2_score=0\n",
    "for r_state in range(40,90):\n",
    "    train_x,test_x,train_y,test_y=train_test_split(x,y,random_state=r_state,test_size=0.33)\n",
    "    for i in model:\n",
    "        i.fit(train_x,train_y)\n",
    "        pre=i.predict(test_x)\n",
    "        r2_sc=r2_score(test_y,pre)\n",
    "        print(\"R2 score correspond to random state\",r_state,\"is\",r2_sc)\n",
    "        if r2_sc>max_r2_score:\n",
    "            max_r2_score=r2_sc\n",
    "            final_state=r_state\n",
    "            final_model=i\n",
    "            \n",
    "print()\n",
    "print()\n",
    "print()\n",
    "print()\n",
    "\n",
    "print(\"max R2 score correspond to random state\",final_state,\"is\",max_r2_score,\"and model is\",final_model)"
   ]
  },
  {
   "cell_type": "markdown",
   "id": "22ee3b42",
   "metadata": {},
   "source": [
    "# Prediction with Primary_Fuel"
   ]
  },
  {
   "cell_type": "code",
   "execution_count": 121,
   "id": "6732fcbd",
   "metadata": {},
   "outputs": [
    {
     "name": "stdout",
     "output_type": "stream",
     "text": [
      "(808, 11)\n",
      "(808, 1)\n"
     ]
    }
   ],
   "source": [
    "x_c=df.drop(columns=['primary_fuel'])\n",
    "y_c=df[[\"primary_fuel\"]]\n",
    "print(x_c.shape)\n",
    "print(y_c.shape)"
   ]
  },
  {
   "cell_type": "code",
   "execution_count": 122,
   "id": "0069cd0a",
   "metadata": {},
   "outputs": [],
   "source": [
    "sc=StandardScaler()\n",
    "sc.fit_transform(x_c)\n",
    "x_c=pd.DataFrame(x_c,columns=x_c.columns)"
   ]
  },
  {
   "cell_type": "code",
   "execution_count": 123,
   "id": "e9bae106",
   "metadata": {},
   "outputs": [
    {
     "name": "stdout",
     "output_type": "stream",
     "text": [
      "accuracy score correspond to random state 40 is 0.8202247191011236\n",
      "accuracy score correspond to random state 40 is 0.700374531835206\n",
      "accuracy score correspond to random state 41 is 0.8239700374531835\n",
      "accuracy score correspond to random state 41 is 0.7116104868913857\n",
      "accuracy score correspond to random state 42 is 0.8127340823970037\n",
      "accuracy score correspond to random state 42 is 0.7228464419475655\n",
      "accuracy score correspond to random state 43 is 0.850187265917603\n",
      "accuracy score correspond to random state 43 is 0.6704119850187266\n",
      "accuracy score correspond to random state 44 is 0.8389513108614233\n",
      "accuracy score correspond to random state 44 is 0.6816479400749064\n",
      "accuracy score correspond to random state 45 is 0.8389513108614233\n",
      "accuracy score correspond to random state 45 is 0.7191011235955056\n",
      "accuracy score correspond to random state 46 is 0.8314606741573034\n",
      "accuracy score correspond to random state 46 is 0.7677902621722846\n",
      "accuracy score correspond to random state 47 is 0.8202247191011236\n",
      "accuracy score correspond to random state 47 is 0.7078651685393258\n",
      "accuracy score correspond to random state 48 is 0.8202247191011236\n",
      "accuracy score correspond to random state 48 is 0.7303370786516854\n",
      "accuracy score correspond to random state 49 is 0.8127340823970037\n",
      "accuracy score correspond to random state 49 is 0.7116104868913857\n",
      "accuracy score correspond to random state 50 is 0.8089887640449438\n",
      "accuracy score correspond to random state 50 is 0.6816479400749064\n",
      "accuracy score correspond to random state 51 is 0.8277153558052435\n",
      "accuracy score correspond to random state 51 is 0.7116104868913857\n",
      "accuracy score correspond to random state 52 is 0.850187265917603\n",
      "accuracy score correspond to random state 52 is 0.704119850187266\n",
      "accuracy score correspond to random state 53 is 0.8014981273408239\n",
      "accuracy score correspond to random state 53 is 0.6853932584269663\n",
      "accuracy score correspond to random state 54 is 0.850187265917603\n",
      "accuracy score correspond to random state 54 is 0.7191011235955056\n",
      "accuracy score correspond to random state 55 is 0.797752808988764\n",
      "accuracy score correspond to random state 55 is 0.6741573033707865\n",
      "accuracy score correspond to random state 56 is 0.7827715355805244\n",
      "accuracy score correspond to random state 56 is 0.6329588014981273\n",
      "accuracy score correspond to random state 57 is 0.8689138576779026\n",
      "accuracy score correspond to random state 57 is 0.7415730337078652\n",
      "accuracy score correspond to random state 58 is 0.8014981273408239\n",
      "accuracy score correspond to random state 58 is 0.7078651685393258\n",
      "accuracy score correspond to random state 59 is 0.8352059925093633\n",
      "accuracy score correspond to random state 59 is 0.7116104868913857\n",
      "accuracy score correspond to random state 60 is 0.8389513108614233\n",
      "accuracy score correspond to random state 60 is 0.6891385767790262\n",
      "accuracy score correspond to random state 61 is 0.8426966292134831\n",
      "accuracy score correspond to random state 61 is 0.7116104868913857\n",
      "accuracy score correspond to random state 62 is 0.8352059925093633\n",
      "accuracy score correspond to random state 62 is 0.7116104868913857\n",
      "accuracy score correspond to random state 63 is 0.8202247191011236\n",
      "accuracy score correspond to random state 63 is 0.6853932584269663\n",
      "accuracy score correspond to random state 64 is 0.8314606741573034\n",
      "accuracy score correspond to random state 64 is 0.7078651685393258\n",
      "accuracy score correspond to random state 65 is 0.8539325842696629\n",
      "accuracy score correspond to random state 65 is 0.7265917602996255\n",
      "accuracy score correspond to random state 66 is 0.846441947565543\n",
      "accuracy score correspond to random state 66 is 0.6928838951310862\n",
      "accuracy score correspond to random state 67 is 0.8239700374531835\n",
      "accuracy score correspond to random state 67 is 0.6329588014981273\n",
      "accuracy score correspond to random state 68 is 0.7790262172284644\n",
      "accuracy score correspond to random state 68 is 0.700374531835206\n",
      "accuracy score correspond to random state 69 is 0.8014981273408239\n",
      "accuracy score correspond to random state 69 is 0.6779026217228464\n",
      "accuracy score correspond to random state 70 is 0.8539325842696629\n",
      "accuracy score correspond to random state 70 is 0.6479400749063671\n",
      "accuracy score correspond to random state 71 is 0.8314606741573034\n",
      "accuracy score correspond to random state 71 is 0.7303370786516854\n",
      "accuracy score correspond to random state 72 is 0.8089887640449438\n",
      "accuracy score correspond to random state 72 is 0.7153558052434457\n",
      "accuracy score correspond to random state 73 is 0.8202247191011236\n",
      "accuracy score correspond to random state 73 is 0.6966292134831461\n",
      "accuracy score correspond to random state 74 is 0.8352059925093633\n",
      "accuracy score correspond to random state 74 is 0.6816479400749064\n",
      "accuracy score correspond to random state 75 is 0.846441947565543\n",
      "accuracy score correspond to random state 75 is 0.7078651685393258\n",
      "accuracy score correspond to random state 76 is 0.8089887640449438\n",
      "accuracy score correspond to random state 76 is 0.700374531835206\n",
      "accuracy score correspond to random state 77 is 0.7865168539325843\n",
      "accuracy score correspond to random state 77 is 0.6816479400749064\n",
      "accuracy score correspond to random state 78 is 0.8352059925093633\n",
      "accuracy score correspond to random state 78 is 0.6966292134831461\n",
      "accuracy score correspond to random state 79 is 0.850187265917603\n",
      "accuracy score correspond to random state 79 is 0.7078651685393258\n",
      "accuracy score correspond to random state 80 is 0.8426966292134831\n",
      "accuracy score correspond to random state 80 is 0.6853932584269663\n",
      "accuracy score correspond to random state 81 is 0.8164794007490637\n",
      "accuracy score correspond to random state 81 is 0.7191011235955056\n",
      "accuracy score correspond to random state 82 is 0.8089887640449438\n",
      "accuracy score correspond to random state 82 is 0.6704119850187266\n",
      "accuracy score correspond to random state 83 is 0.8389513108614233\n",
      "accuracy score correspond to random state 83 is 0.6891385767790262\n",
      "accuracy score correspond to random state 84 is 0.8389513108614233\n",
      "accuracy score correspond to random state 84 is 0.6966292134831461\n",
      "accuracy score correspond to random state 85 is 0.8314606741573034\n",
      "accuracy score correspond to random state 85 is 0.7078651685393258\n",
      "accuracy score correspond to random state 86 is 0.8426966292134831\n",
      "accuracy score correspond to random state 86 is 0.7265917602996255\n",
      "accuracy score correspond to random state 87 is 0.8539325842696629\n",
      "accuracy score correspond to random state 87 is 0.6779026217228464\n",
      "accuracy score correspond to random state 88 is 0.8202247191011236\n",
      "accuracy score correspond to random state 88 is 0.6404494382022472\n",
      "accuracy score correspond to random state 89 is 0.8426966292134831\n",
      "accuracy score correspond to random state 89 is 0.6928838951310862\n",
      "\n",
      "\n",
      "\n",
      "\n",
      "max accuracy score correspond to random state 57 is 0.8689138576779026 and model is DecisionTreeClassifier()\n"
     ]
    }
   ],
   "source": [
    "model=[DecisionTreeClassifier(),KNeighborsClassifier()]\n",
    "max_accuracy_score=0\n",
    "for r_state in range(40,90):\n",
    "    train_xc,test_xc,train_yc,test_yc=train_test_split(x_c,y_c,random_state=r_state,test_size=0.33)\n",
    "    for i_c in model:\n",
    "        i_c.fit(train_xc,train_yc)\n",
    "        prec_c=i_c.predict(test_xc)\n",
    "        ac_score=accuracy_score(test_yc,prec_c)\n",
    "        print(\"accuracy score correspond to random state\",r_state,\"is\",ac_score)\n",
    "        if ac_score>max_accuracy_score:\n",
    "            max_accuracy_score=ac_score\n",
    "            final_state=r_state\n",
    "            final_model=i_c\n",
    "            \n",
    "print()\n",
    "print()\n",
    "print()\n",
    "print()\n",
    "\n",
    "print(\"max accuracy score correspond to random state\",final_state,\"is\",max_accuracy_score,\"and model is\",final_model)\n",
    "            "
   ]
  },
  {
   "cell_type": "markdown",
   "id": "ac3d2183",
   "metadata": {},
   "source": [
    "Result is more in case of prediction with Primary fuel.Although, there is not much difference between the accuracy score of the two."
   ]
  },
  {
   "cell_type": "markdown",
   "id": "86f48d9d",
   "metadata": {},
   "source": [
    "# Hypertuning Parameters"
   ]
  },
  {
   "cell_type": "code",
   "execution_count": 124,
   "id": "4233c13f",
   "metadata": {},
   "outputs": [],
   "source": [
    "from sklearn import decomposition, datasets\n",
    "from sklearn import tree\n",
    "from sklearn.pipeline import Pipeline\n",
    "from sklearn.model_selection import GridSearchCV\n",
    "from sklearn.preprocessing import StandardScaler"
   ]
  },
  {
   "cell_type": "code",
   "execution_count": 125,
   "id": "0e309320",
   "metadata": {},
   "outputs": [],
   "source": [
    "std_slc = StandardScaler()\n",
    "pca = decomposition.PCA()\n",
    "dec_tree = tree.DecisionTreeClassifier()\n",
    "pipe = Pipeline(steps=[('std_slc', std_slc),\n",
    "                           ('pca', pca),\n",
    "                           ('dec_tree', dec_tree)])"
   ]
  },
  {
   "cell_type": "code",
   "execution_count": 126,
   "id": "918dd7b6",
   "metadata": {},
   "outputs": [],
   "source": [
    "n_components = list(range(1,x_c.shape[1]+1,1))\n",
    "criterion = ['gini', 'entropy']\n",
    "max_depth = [2,4,6,8,10,12]"
   ]
  },
  {
   "cell_type": "code",
   "execution_count": 127,
   "id": "f3609af9",
   "metadata": {},
   "outputs": [],
   "source": [
    "parameters = dict(pca__n_components=n_components,\n",
    "                      dec_tree__criterion=criterion,\n",
    "                      dec_tree__max_depth=max_depth)"
   ]
  },
  {
   "cell_type": "code",
   "execution_count": 128,
   "id": "eadb93ee",
   "metadata": {},
   "outputs": [
    {
     "data": {
      "text/plain": [
       "GridSearchCV(estimator=Pipeline(steps=[('std_slc', StandardScaler()),\n",
       "                                       ('pca', PCA()),\n",
       "                                       ('dec_tree', DecisionTreeClassifier())]),\n",
       "             param_grid={'dec_tree__criterion': ['gini', 'entropy'],\n",
       "                         'dec_tree__max_depth': [2, 4, 6, 8, 10, 12],\n",
       "                         'pca__n_components': [1, 2, 3, 4, 5, 6, 7, 8, 9, 10,\n",
       "                                               11]})"
      ]
     },
     "execution_count": 128,
     "metadata": {},
     "output_type": "execute_result"
    }
   ],
   "source": [
    "clf_GS = GridSearchCV(pipe, parameters)\n",
    "clf_GS.fit(x_c, y_c)"
   ]
  },
  {
   "cell_type": "code",
   "execution_count": 129,
   "id": "a90116fd",
   "metadata": {},
   "outputs": [
    {
     "name": "stdout",
     "output_type": "stream",
     "text": [
      "Best Criterion: gini\n",
      "Best max_depth: 10\n",
      "Best Number Of Components: 11\n",
      "\n",
      "DecisionTreeClassifier(max_depth=10)\n"
     ]
    }
   ],
   "source": [
    "print('Best Criterion:', clf_GS.best_estimator_.get_params()['dec_tree__criterion'])\n",
    "print('Best max_depth:', clf_GS.best_estimator_.get_params()['dec_tree__max_depth'])\n",
    "print('Best Number Of Components:', clf_GS.best_estimator_.get_params()['pca__n_components'])\n",
    "print(); print(clf_GS.best_estimator_.get_params()['dec_tree'])"
   ]
  },
  {
   "cell_type": "code",
   "execution_count": 130,
   "id": "632d8ee6",
   "metadata": {},
   "outputs": [
    {
     "name": "stdout",
     "output_type": "stream",
     "text": [
      "Accuracy: 0.846441947565543\n"
     ]
    }
   ],
   "source": [
    "clf = DecisionTreeClassifier()\n",
    "clf = clf.fit(train_xc,train_yc)\n",
    "pred_yc = clf.predict(test_xc)\n",
    "print(\"Accuracy:\",accuracy_score(test_yc, pred_yc))"
   ]
  },
  {
   "cell_type": "markdown",
   "id": "d6f7e5e8",
   "metadata": {},
   "source": [
    "# Cross_Validation"
   ]
  },
  {
   "cell_type": "code",
   "execution_count": 131,
   "id": "524eadb2",
   "metadata": {},
   "outputs": [],
   "source": [
    "DTC=DecisionTreeClassifier()"
   ]
  },
  {
   "cell_type": "code",
   "execution_count": 132,
   "id": "feeebdbe",
   "metadata": {},
   "outputs": [
    {
     "name": "stdout",
     "output_type": "stream",
     "text": [
      "Cross_val_score : 82.81944444444444\n",
      "Mean Score: 82.81944444444444\n",
      "STD score: 0.0\n"
     ]
    }
   ],
   "source": [
    "score=cross_val_score(DTC,x_c,y_c,cv=100,scoring='accuracy').mean()\n",
    "print('Cross_val_score :',score*100)\n",
    "print('Mean Score:',score.mean()*100)\n",
    "print('STD score:',score.std())"
   ]
  },
  {
   "cell_type": "markdown",
   "id": "7265055c",
   "metadata": {},
   "source": [
    "# ROC Curve"
   ]
  },
  {
   "cell_type": "code",
   "execution_count": 144,
   "id": "b0ad878c",
   "metadata": {},
   "outputs": [
    {
     "data": {
      "text/plain": [
       "array([1., 0., 0., 0., 0., 1., 0., 0., 0., 0., 0., 0., 1., 0., 0., 0., 0.,\n",
       "       1., 1., 1., 0., 1., 1., 1., 0., 0., 0., 0., 0., 0., 0., 1., 0., 0.,\n",
       "       0., 1., 0., 1., 0., 0., 0., 0., 1., 0., 0., 0., 0., 0., 0., 0., 0.,\n",
       "       0., 0., 0., 0., 0., 0., 0., 0., 0., 0., 0., 0., 0., 0., 1., 1., 0.,\n",
       "       1., 0., 0., 1., 0., 0., 1., 1., 1., 1., 0., 1., 0., 0., 1., 0., 1.,\n",
       "       0., 0., 1., 0., 0., 0., 0., 0., 0., 0., 1., 1., 0., 0., 1., 0., 1.,\n",
       "       1., 0., 0., 0., 0., 0., 1., 0., 0., 0., 0., 0., 0., 0., 0., 0., 1.,\n",
       "       0., 1., 1., 0., 0., 0., 0., 0., 1., 0., 1., 0., 0., 0., 1., 0., 0.,\n",
       "       1., 0., 0., 0., 0., 0., 1., 0., 0., 0., 0., 0., 1., 0., 0., 1., 0.,\n",
       "       1., 0., 1., 0., 0., 0., 0., 1., 1., 0., 0., 0., 0., 0., 1., 0., 0.,\n",
       "       1., 0., 0., 1., 0., 0., 1., 0., 0., 1., 1., 1., 1., 0., 1., 0., 1.,\n",
       "       1., 1., 0., 0., 0., 0., 0., 1., 0., 0., 1., 1., 0., 0., 1., 1., 1.,\n",
       "       0., 1., 0., 0., 0., 1., 0., 0., 1., 1., 1., 1., 0., 0., 0., 0., 1.,\n",
       "       0., 1., 1., 0., 0., 0., 0., 0., 0., 0., 0., 1., 0., 0., 1., 0., 1.,\n",
       "       0., 0., 0., 0., 0., 1., 1., 0., 0., 0., 1., 1., 0., 1., 0., 0., 0.,\n",
       "       0., 0., 1., 0., 0., 0., 1., 1., 0., 0., 0., 0.])"
      ]
     },
     "execution_count": 144,
     "metadata": {},
     "output_type": "execute_result"
    }
   ],
   "source": [
    "clf = DecisionTreeClassifier()\n",
    "clf = clf.fit(train_xc,train_yc)\n",
    "pred_prob=clf.predict_proba(test_xc)[:,1]\n",
    "pred_prob"
   ]
  },
  {
   "cell_type": "code",
   "execution_count": 145,
   "id": "810fdd40",
   "metadata": {},
   "outputs": [],
   "source": [
    "fpr,tpr,thresholds=roc_curve(test_yc,pred_prob,pos_label=True)"
   ]
  },
  {
   "cell_type": "code",
   "execution_count": 146,
   "id": "fbe01707",
   "metadata": {},
   "outputs": [
    {
     "name": "stdout",
     "output_type": "stream",
     "text": [
      "[0.        0.1319797 1.       ]\n",
      "/n\n",
      "[0.         0.81428571 1.        ]\n",
      "/n\n",
      "[2. 1. 0.]\n"
     ]
    }
   ],
   "source": [
    "print(fpr)\n",
    "print(\"/n\")\n",
    "print(tpr)\n",
    "print(\"/n\")\n",
    "print(thresholds)"
   ]
  },
  {
   "cell_type": "code",
   "execution_count": 147,
   "id": "0e380301",
   "metadata": {},
   "outputs": [
    {
     "data": {
      "image/png": "[encoded data removed]",
      "text/plain": [
       "<Figure size 432x288 with 1 Axes>"
      ]
     },
     "metadata": {
      "needs_background": "light"
     },
     "output_type": "display_data"
    }
   ],
   "source": [
    "plt.plot([0,1],[1,0],'d--')\n",
    "plt.plot(fpr,tpr,label='DecisionTreeClassifier')\n",
    "plt.xlabel('False positive rate')\n",
    "plt.ylabel('True positive rate')\n",
    "plt.title('DecisionTreeClassifier')\n",
    "plt.show()"
   ]
  },
  {
   "cell_type": "markdown",
   "id": "9109691f",
   "metadata": {},
   "source": [
    "# Saving the model"
   ]
  },
  {
   "cell_type": "code",
   "execution_count": 150,
   "id": "53906608",
   "metadata": {},
   "outputs": [],
   "source": [
    "import joblib"
   ]
  },
  {
   "cell_type": "code",
   "execution_count": 151,
   "id": "57a47ef4",
   "metadata": {},
   "outputs": [
    {
     "data": {
      "text/plain": [
       "DecisionTreeClassifier()"
      ]
     },
     "execution_count": 151,
     "metadata": {},
     "output_type": "execute_result"
    }
   ],
   "source": [
    "model = DecisionTreeClassifier()\n",
    "model.fit(train_xc, train_yc)"
   ]
  },
  {
   "cell_type": "code",
   "execution_count": 152,
   "id": "8018068f",
   "metadata": {},
   "outputs": [
    {
     "data": {
      "text/plain": [
       "['model_jlib']"
      ]
     },
     "execution_count": 152,
     "metadata": {},
     "output_type": "execute_result"
    }
   ],
   "source": [
    "joblib.dump(model, 'model_jlib')"
   ]
  },
  {
   "cell_type": "code",
   "execution_count": 153,
   "id": "cf1c0eeb",
   "metadata": {},
   "outputs": [],
   "source": [
    "m_jlib = joblib.load('model_jlib')"
   ]
  },
  {
   "cell_type": "code",
   "execution_count": 154,
   "id": "6ef40fbb",
   "metadata": {},
   "outputs": [
    {
     "name": "stdout",
     "output_type": "stream",
     "text": [
      "0.8426966292134831\n"
     ]
    }
   ],
   "source": [
    "result = m_jlib.score(test_xc, test_yc)\n",
    "print(result)"
   ]
  },
  {
   "cell_type": "code",
   "execution_count": null,
   "id": "9e6af54a",
   "metadata": {},
   "outputs": [],
   "source": []
  }
 ],
 "metadata": {
  "kernelspec": {
   "display_name": "Python 3 (ipykernel)",
   "language": "python",
   "name": "python3"
  },
  "language_info": {
   "codemirror_mode": {
    "name": "ipython",
    "version": 3
   },
   "file_extension": ".py",
   "mimetype": "text/x-python",
   "name": "python",
   "nbconvert_exporter": "python",
   "pygments_lexer": "ipython3",
   "version": "3.9.12"
  }
 },
 "nbformat": 4,
 "nbformat_minor": 5
}
