{
 "cells": [
  {
   "cell_type": "markdown",
   "id": "7cfbe386",
   "metadata": {},
   "source": [
    "# Importing the Dataset & Libraries"
   ]
  },
  {
   "cell_type": "code",
   "execution_count": null,
   "id": "93b5a72f",
   "metadata": {},
   "outputs": [],
   "source": [
    "import numpy as np\n",
    "import pandas as pd\n",
    "import matplotlib.pyplot as plt\n",
    "import seaborn as sns"
   ]
  },
  {
   "cell_type": "code",
   "execution_count": 86,
   "id": "4e121d05",
   "metadata": {},
   "outputs": [],
   "source": [
    "df=pd.read_csv(\"insurance.csv\")"
   ]
  },
  {
   "cell_type": "code",
   "execution_count": 87,
   "id": "7e2c896f",
   "metadata": {},
   "outputs": [
    {
     "data": {
      "text/html": [
       "<div>\n",
       "<style scoped>\n",
       "    .dataframe tbody tr th:only-of-type {\n",
       "        vertical-align: middle;\n",
       "    }\n",
       "\n",
       "    .dataframe tbody tr th {\n",
       "        vertical-align: top;\n",
       "    }\n",
       "\n",
       "    .dataframe thead th {\n",
       "        text-align: right;\n",
       "    }\n",
       "</style>\n",
       "<table border=\"1\" class=\"dataframe\">\n",
       "  <thead>\n",
       "    <tr style=\"text-align: right;\">\n",
       "      <th></th>\n",
       "      <th>months_as_customer</th>\n",
       "      <th>age</th>\n",
       "      <th>policy_number</th>\n",
       "      <th>policy_bind_date</th>\n",
       "      <th>policy_state</th>\n",
       "      <th>policy_csl</th>\n",
       "      <th>policy_deductable</th>\n",
       "      <th>policy_annual_premium</th>\n",
       "      <th>umbrella_limit</th>\n",
       "      <th>insured_zip</th>\n",
       "      <th>...</th>\n",
       "      <th>police_report_available</th>\n",
       "      <th>total_claim_amount</th>\n",
       "      <th>injury_claim</th>\n",
       "      <th>property_claim</th>\n",
       "      <th>vehicle_claim</th>\n",
       "      <th>auto_make</th>\n",
       "      <th>auto_model</th>\n",
       "      <th>auto_year</th>\n",
       "      <th>fraud_reported</th>\n",
       "      <th>_c39</th>\n",
       "    </tr>\n",
       "  </thead>\n",
       "  <tbody>\n",
       "    <tr>\n",
       "      <th>0</th>\n",
       "      <td>328</td>\n",
       "      <td>48</td>\n",
       "      <td>521585</td>\n",
       "      <td>17-10-2014</td>\n",
       "      <td>OH</td>\n",
       "      <td>250/500</td>\n",
       "      <td>1000</td>\n",
       "      <td>1406.91</td>\n",
       "      <td>0</td>\n",
       "      <td>466132</td>\n",
       "      <td>...</td>\n",
       "      <td>YES</td>\n",
       "      <td>71610</td>\n",
       "      <td>6510</td>\n",
       "      <td>13020</td>\n",
       "      <td>52080</td>\n",
       "      <td>Saab</td>\n",
       "      <td>92x</td>\n",
       "      <td>2004</td>\n",
       "      <td>Y</td>\n",
       "      <td>NaN</td>\n",
       "    </tr>\n",
       "    <tr>\n",
       "      <th>1</th>\n",
       "      <td>228</td>\n",
       "      <td>42</td>\n",
       "      <td>342868</td>\n",
       "      <td>27-06-2006</td>\n",
       "      <td>IN</td>\n",
       "      <td>250/500</td>\n",
       "      <td>2000</td>\n",
       "      <td>1197.22</td>\n",
       "      <td>5000000</td>\n",
       "      <td>468176</td>\n",
       "      <td>...</td>\n",
       "      <td>?</td>\n",
       "      <td>5070</td>\n",
       "      <td>780</td>\n",
       "      <td>780</td>\n",
       "      <td>3510</td>\n",
       "      <td>Mercedes</td>\n",
       "      <td>E400</td>\n",
       "      <td>2007</td>\n",
       "      <td>Y</td>\n",
       "      <td>NaN</td>\n",
       "    </tr>\n",
       "    <tr>\n",
       "      <th>2</th>\n",
       "      <td>134</td>\n",
       "      <td>29</td>\n",
       "      <td>687698</td>\n",
       "      <td>06-09-2000</td>\n",
       "      <td>OH</td>\n",
       "      <td>100/300</td>\n",
       "      <td>2000</td>\n",
       "      <td>1413.14</td>\n",
       "      <td>5000000</td>\n",
       "      <td>430632</td>\n",
       "      <td>...</td>\n",
       "      <td>NO</td>\n",
       "      <td>34650</td>\n",
       "      <td>7700</td>\n",
       "      <td>3850</td>\n",
       "      <td>23100</td>\n",
       "      <td>Dodge</td>\n",
       "      <td>RAM</td>\n",
       "      <td>2007</td>\n",
       "      <td>N</td>\n",
       "      <td>NaN</td>\n",
       "    </tr>\n",
       "    <tr>\n",
       "      <th>3</th>\n",
       "      <td>256</td>\n",
       "      <td>41</td>\n",
       "      <td>227811</td>\n",
       "      <td>25-05-1990</td>\n",
       "      <td>IL</td>\n",
       "      <td>250/500</td>\n",
       "      <td>2000</td>\n",
       "      <td>1415.74</td>\n",
       "      <td>6000000</td>\n",
       "      <td>608117</td>\n",
       "      <td>...</td>\n",
       "      <td>NO</td>\n",
       "      <td>63400</td>\n",
       "      <td>6340</td>\n",
       "      <td>6340</td>\n",
       "      <td>50720</td>\n",
       "      <td>Chevrolet</td>\n",
       "      <td>Tahoe</td>\n",
       "      <td>2014</td>\n",
       "      <td>Y</td>\n",
       "      <td>NaN</td>\n",
       "    </tr>\n",
       "    <tr>\n",
       "      <th>4</th>\n",
       "      <td>228</td>\n",
       "      <td>44</td>\n",
       "      <td>367455</td>\n",
       "      <td>06-06-2014</td>\n",
       "      <td>IL</td>\n",
       "      <td>500/1000</td>\n",
       "      <td>1000</td>\n",
       "      <td>1583.91</td>\n",
       "      <td>6000000</td>\n",
       "      <td>610706</td>\n",
       "      <td>...</td>\n",
       "      <td>NO</td>\n",
       "      <td>6500</td>\n",
       "      <td>1300</td>\n",
       "      <td>650</td>\n",
       "      <td>4550</td>\n",
       "      <td>Accura</td>\n",
       "      <td>RSX</td>\n",
       "      <td>2009</td>\n",
       "      <td>N</td>\n",
       "      <td>NaN</td>\n",
       "    </tr>\n",
       "    <tr>\n",
       "      <th>...</th>\n",
       "      <td>...</td>\n",
       "      <td>...</td>\n",
       "      <td>...</td>\n",
       "      <td>...</td>\n",
       "      <td>...</td>\n",
       "      <td>...</td>\n",
       "      <td>...</td>\n",
       "      <td>...</td>\n",
       "      <td>...</td>\n",
       "      <td>...</td>\n",
       "      <td>...</td>\n",
       "      <td>...</td>\n",
       "      <td>...</td>\n",
       "      <td>...</td>\n",
       "      <td>...</td>\n",
       "      <td>...</td>\n",
       "      <td>...</td>\n",
       "      <td>...</td>\n",
       "      <td>...</td>\n",
       "      <td>...</td>\n",
       "      <td>...</td>\n",
       "    </tr>\n",
       "    <tr>\n",
       "      <th>995</th>\n",
       "      <td>3</td>\n",
       "      <td>38</td>\n",
       "      <td>941851</td>\n",
       "      <td>16-07-1991</td>\n",
       "      <td>OH</td>\n",
       "      <td>500/1000</td>\n",
       "      <td>1000</td>\n",
       "      <td>1310.80</td>\n",
       "      <td>0</td>\n",
       "      <td>431289</td>\n",
       "      <td>...</td>\n",
       "      <td>?</td>\n",
       "      <td>87200</td>\n",
       "      <td>17440</td>\n",
       "      <td>8720</td>\n",
       "      <td>61040</td>\n",
       "      <td>Honda</td>\n",
       "      <td>Accord</td>\n",
       "      <td>2006</td>\n",
       "      <td>N</td>\n",
       "      <td>NaN</td>\n",
       "    </tr>\n",
       "    <tr>\n",
       "      <th>996</th>\n",
       "      <td>285</td>\n",
       "      <td>41</td>\n",
       "      <td>186934</td>\n",
       "      <td>05-01-2014</td>\n",
       "      <td>IL</td>\n",
       "      <td>100/300</td>\n",
       "      <td>1000</td>\n",
       "      <td>1436.79</td>\n",
       "      <td>0</td>\n",
       "      <td>608177</td>\n",
       "      <td>...</td>\n",
       "      <td>?</td>\n",
       "      <td>108480</td>\n",
       "      <td>18080</td>\n",
       "      <td>18080</td>\n",
       "      <td>72320</td>\n",
       "      <td>Volkswagen</td>\n",
       "      <td>Passat</td>\n",
       "      <td>2015</td>\n",
       "      <td>N</td>\n",
       "      <td>NaN</td>\n",
       "    </tr>\n",
       "    <tr>\n",
       "      <th>997</th>\n",
       "      <td>130</td>\n",
       "      <td>34</td>\n",
       "      <td>918516</td>\n",
       "      <td>17-02-2003</td>\n",
       "      <td>OH</td>\n",
       "      <td>250/500</td>\n",
       "      <td>500</td>\n",
       "      <td>1383.49</td>\n",
       "      <td>3000000</td>\n",
       "      <td>442797</td>\n",
       "      <td>...</td>\n",
       "      <td>YES</td>\n",
       "      <td>67500</td>\n",
       "      <td>7500</td>\n",
       "      <td>7500</td>\n",
       "      <td>52500</td>\n",
       "      <td>Suburu</td>\n",
       "      <td>Impreza</td>\n",
       "      <td>1996</td>\n",
       "      <td>N</td>\n",
       "      <td>NaN</td>\n",
       "    </tr>\n",
       "    <tr>\n",
       "      <th>998</th>\n",
       "      <td>458</td>\n",
       "      <td>62</td>\n",
       "      <td>533940</td>\n",
       "      <td>18-11-2011</td>\n",
       "      <td>IL</td>\n",
       "      <td>500/1000</td>\n",
       "      <td>2000</td>\n",
       "      <td>1356.92</td>\n",
       "      <td>5000000</td>\n",
       "      <td>441714</td>\n",
       "      <td>...</td>\n",
       "      <td>YES</td>\n",
       "      <td>46980</td>\n",
       "      <td>5220</td>\n",
       "      <td>5220</td>\n",
       "      <td>36540</td>\n",
       "      <td>Audi</td>\n",
       "      <td>A5</td>\n",
       "      <td>1998</td>\n",
       "      <td>N</td>\n",
       "      <td>NaN</td>\n",
       "    </tr>\n",
       "    <tr>\n",
       "      <th>999</th>\n",
       "      <td>456</td>\n",
       "      <td>60</td>\n",
       "      <td>556080</td>\n",
       "      <td>11-11-1996</td>\n",
       "      <td>OH</td>\n",
       "      <td>250/500</td>\n",
       "      <td>1000</td>\n",
       "      <td>766.19</td>\n",
       "      <td>0</td>\n",
       "      <td>612260</td>\n",
       "      <td>...</td>\n",
       "      <td>?</td>\n",
       "      <td>5060</td>\n",
       "      <td>460</td>\n",
       "      <td>920</td>\n",
       "      <td>3680</td>\n",
       "      <td>Mercedes</td>\n",
       "      <td>E400</td>\n",
       "      <td>2007</td>\n",
       "      <td>N</td>\n",
       "      <td>NaN</td>\n",
       "    </tr>\n",
       "  </tbody>\n",
       "</table>\n",
       "<p>1000 rows × 40 columns</p>\n",
       "</div>"
      ],
      "text/plain": [
       "     months_as_customer  age  policy_number policy_bind_date policy_state  \\\n",
       "0                   328   48         521585       17-10-2014           OH   \n",
       "1                   228   42         342868       27-06-2006           IN   \n",
       "2                   134   29         687698       06-09-2000           OH   \n",
       "3                   256   41         227811       25-05-1990           IL   \n",
       "4                   228   44         367455       06-06-2014           IL   \n",
       "..                  ...  ...            ...              ...          ...   \n",
       "995                   3   38         941851       16-07-1991           OH   \n",
       "996                 285   41         186934       05-01-2014           IL   \n",
       "997                 130   34         918516       17-02-2003           OH   \n",
       "998                 458   62         533940       18-11-2011           IL   \n",
       "999                 456   60         556080       11-11-1996           OH   \n",
       "\n",
       "    policy_csl  policy_deductable  policy_annual_premium  umbrella_limit  \\\n",
       "0      250/500               1000                1406.91               0   \n",
       "1      250/500               2000                1197.22         5000000   \n",
       "2      100/300               2000                1413.14         5000000   \n",
       "3      250/500               2000                1415.74         6000000   \n",
       "4     500/1000               1000                1583.91         6000000   \n",
       "..         ...                ...                    ...             ...   \n",
       "995   500/1000               1000                1310.80               0   \n",
       "996    100/300               1000                1436.79               0   \n",
       "997    250/500                500                1383.49         3000000   \n",
       "998   500/1000               2000                1356.92         5000000   \n",
       "999    250/500               1000                 766.19               0   \n",
       "\n",
       "     insured_zip  ... police_report_available total_claim_amount injury_claim  \\\n",
       "0         466132  ...                     YES              71610         6510   \n",
       "1         468176  ...                       ?               5070          780   \n",
       "2         430632  ...                      NO              34650         7700   \n",
       "3         608117  ...                      NO              63400         6340   \n",
       "4         610706  ...                      NO               6500         1300   \n",
       "..           ...  ...                     ...                ...          ...   \n",
       "995       431289  ...                       ?              87200        17440   \n",
       "996       608177  ...                       ?             108480        18080   \n",
       "997       442797  ...                     YES              67500         7500   \n",
       "998       441714  ...                     YES              46980         5220   \n",
       "999       612260  ...                       ?               5060          460   \n",
       "\n",
       "    property_claim vehicle_claim   auto_make  auto_model auto_year  \\\n",
       "0            13020         52080        Saab         92x      2004   \n",
       "1              780          3510    Mercedes        E400      2007   \n",
       "2             3850         23100       Dodge         RAM      2007   \n",
       "3             6340         50720   Chevrolet       Tahoe      2014   \n",
       "4              650          4550      Accura         RSX      2009   \n",
       "..             ...           ...         ...         ...       ...   \n",
       "995           8720         61040       Honda      Accord      2006   \n",
       "996          18080         72320  Volkswagen      Passat      2015   \n",
       "997           7500         52500      Suburu     Impreza      1996   \n",
       "998           5220         36540        Audi          A5      1998   \n",
       "999            920          3680    Mercedes        E400      2007   \n",
       "\n",
       "    fraud_reported _c39  \n",
       "0                Y  NaN  \n",
       "1                Y  NaN  \n",
       "2                N  NaN  \n",
       "3                Y  NaN  \n",
       "4                N  NaN  \n",
       "..             ...  ...  \n",
       "995              N  NaN  \n",
       "996              N  NaN  \n",
       "997              N  NaN  \n",
       "998              N  NaN  \n",
       "999              N  NaN  \n",
       "\n",
       "[1000 rows x 40 columns]"
      ]
     },
     "execution_count": 87,
     "metadata": {},
     "output_type": "execute_result"
    }
   ],
   "source": [
    "df"
   ]
  },
  {
   "cell_type": "code",
   "execution_count": 88,
   "id": "3dd114af",
   "metadata": {},
   "outputs": [
    {
     "name": "stdout",
     "output_type": "stream",
     "text": [
      "<class 'pandas.core.frame.DataFrame'>\n",
      "RangeIndex: 1000 entries, 0 to 999\n",
      "Data columns (total 40 columns):\n",
      " #   Column                       Non-Null Count  Dtype  \n",
      "---  ------                       --------------  -----  \n",
      " 0   months_as_customer           1000 non-null   int64  \n",
      " 1   age                          1000 non-null   int64  \n",
      " 2   policy_number                1000 non-null   int64  \n",
      " 3   policy_bind_date             1000 non-null   object \n",
      " 4   policy_state                 1000 non-null   object \n",
      " 5   policy_csl                   1000 non-null   object \n",
      " 6   policy_deductable            1000 non-null   int64  \n",
      " 7   policy_annual_premium        1000 non-null   float64\n",
      " 8   umbrella_limit               1000 non-null   int64  \n",
      " 9   insured_zip                  1000 non-null   int64  \n",
      " 10  insured_sex                  1000 non-null   object \n",
      " 11  insured_education_level      1000 non-null   object \n",
      " 12  insured_occupation           1000 non-null   object \n",
      " 13  insured_hobbies              1000 non-null   object \n",
      " 14  insured_relationship         1000 non-null   object \n",
      " 15  capital-gains                1000 non-null   int64  \n",
      " 16  capital-loss                 1000 non-null   int64  \n",
      " 17  incident_date                1000 non-null   object \n",
      " 18  incident_type                1000 non-null   object \n",
      " 19  collision_type               1000 non-null   object \n",
      " 20  incident_severity            1000 non-null   object \n",
      " 21  authorities_contacted        1000 non-null   object \n",
      " 22  incident_state               1000 non-null   object \n",
      " 23  incident_city                1000 non-null   object \n",
      " 24  incident_location            1000 non-null   object \n",
      " 25  incident_hour_of_the_day     1000 non-null   int64  \n",
      " 26  number_of_vehicles_involved  1000 non-null   int64  \n",
      " 27  property_damage              1000 non-null   object \n",
      " 28  bodily_injuries              1000 non-null   int64  \n",
      " 29  witnesses                    1000 non-null   int64  \n",
      " 30  police_report_available      1000 non-null   object \n",
      " 31  total_claim_amount           1000 non-null   int64  \n",
      " 32  injury_claim                 1000 non-null   int64  \n",
      " 33  property_claim               1000 non-null   int64  \n",
      " 34  vehicle_claim                1000 non-null   int64  \n",
      " 35  auto_make                    1000 non-null   object \n",
      " 36  auto_model                   1000 non-null   object \n",
      " 37  auto_year                    1000 non-null   int64  \n",
      " 38  fraud_reported               1000 non-null   object \n",
      " 39  _c39                         0 non-null      float64\n",
      "dtypes: float64(2), int64(17), object(21)\n",
      "memory usage: 312.6+ KB\n"
     ]
    }
   ],
   "source": [
    "df.info()"
   ]
  },
  {
   "cell_type": "code",
   "execution_count": 89,
   "id": "40c53f1b",
   "metadata": {},
   "outputs": [
    {
     "data": {
      "text/html": [
       "<div>\n",
       "<style scoped>\n",
       "    .dataframe tbody tr th:only-of-type {\n",
       "        vertical-align: middle;\n",
       "    }\n",
       "\n",
       "    .dataframe tbody tr th {\n",
       "        vertical-align: top;\n",
       "    }\n",
       "\n",
       "    .dataframe thead th {\n",
       "        text-align: right;\n",
       "    }\n",
       "</style>\n",
       "<table border=\"1\" class=\"dataframe\">\n",
       "  <thead>\n",
       "    <tr style=\"text-align: right;\">\n",
       "      <th></th>\n",
       "      <th>months_as_customer</th>\n",
       "      <th>age</th>\n",
       "      <th>policy_number</th>\n",
       "      <th>policy_bind_date</th>\n",
       "      <th>policy_state</th>\n",
       "      <th>policy_csl</th>\n",
       "      <th>policy_deductable</th>\n",
       "      <th>policy_annual_premium</th>\n",
       "      <th>umbrella_limit</th>\n",
       "      <th>insured_zip</th>\n",
       "      <th>...</th>\n",
       "      <th>witnesses</th>\n",
       "      <th>police_report_available</th>\n",
       "      <th>total_claim_amount</th>\n",
       "      <th>injury_claim</th>\n",
       "      <th>property_claim</th>\n",
       "      <th>vehicle_claim</th>\n",
       "      <th>auto_make</th>\n",
       "      <th>auto_model</th>\n",
       "      <th>auto_year</th>\n",
       "      <th>fraud_reported</th>\n",
       "    </tr>\n",
       "  </thead>\n",
       "  <tbody>\n",
       "    <tr>\n",
       "      <th>0</th>\n",
       "      <td>328</td>\n",
       "      <td>48</td>\n",
       "      <td>521585</td>\n",
       "      <td>17-10-2014</td>\n",
       "      <td>OH</td>\n",
       "      <td>250/500</td>\n",
       "      <td>1000</td>\n",
       "      <td>1406.91</td>\n",
       "      <td>0</td>\n",
       "      <td>466132</td>\n",
       "      <td>...</td>\n",
       "      <td>2</td>\n",
       "      <td>YES</td>\n",
       "      <td>71610</td>\n",
       "      <td>6510</td>\n",
       "      <td>13020</td>\n",
       "      <td>52080</td>\n",
       "      <td>Saab</td>\n",
       "      <td>92x</td>\n",
       "      <td>2004</td>\n",
       "      <td>Y</td>\n",
       "    </tr>\n",
       "    <tr>\n",
       "      <th>1</th>\n",
       "      <td>228</td>\n",
       "      <td>42</td>\n",
       "      <td>342868</td>\n",
       "      <td>27-06-2006</td>\n",
       "      <td>IN</td>\n",
       "      <td>250/500</td>\n",
       "      <td>2000</td>\n",
       "      <td>1197.22</td>\n",
       "      <td>5000000</td>\n",
       "      <td>468176</td>\n",
       "      <td>...</td>\n",
       "      <td>0</td>\n",
       "      <td>?</td>\n",
       "      <td>5070</td>\n",
       "      <td>780</td>\n",
       "      <td>780</td>\n",
       "      <td>3510</td>\n",
       "      <td>Mercedes</td>\n",
       "      <td>E400</td>\n",
       "      <td>2007</td>\n",
       "      <td>Y</td>\n",
       "    </tr>\n",
       "    <tr>\n",
       "      <th>2</th>\n",
       "      <td>134</td>\n",
       "      <td>29</td>\n",
       "      <td>687698</td>\n",
       "      <td>06-09-2000</td>\n",
       "      <td>OH</td>\n",
       "      <td>100/300</td>\n",
       "      <td>2000</td>\n",
       "      <td>1413.14</td>\n",
       "      <td>5000000</td>\n",
       "      <td>430632</td>\n",
       "      <td>...</td>\n",
       "      <td>3</td>\n",
       "      <td>NO</td>\n",
       "      <td>34650</td>\n",
       "      <td>7700</td>\n",
       "      <td>3850</td>\n",
       "      <td>23100</td>\n",
       "      <td>Dodge</td>\n",
       "      <td>RAM</td>\n",
       "      <td>2007</td>\n",
       "      <td>N</td>\n",
       "    </tr>\n",
       "    <tr>\n",
       "      <th>3</th>\n",
       "      <td>256</td>\n",
       "      <td>41</td>\n",
       "      <td>227811</td>\n",
       "      <td>25-05-1990</td>\n",
       "      <td>IL</td>\n",
       "      <td>250/500</td>\n",
       "      <td>2000</td>\n",
       "      <td>1415.74</td>\n",
       "      <td>6000000</td>\n",
       "      <td>608117</td>\n",
       "      <td>...</td>\n",
       "      <td>2</td>\n",
       "      <td>NO</td>\n",
       "      <td>63400</td>\n",
       "      <td>6340</td>\n",
       "      <td>6340</td>\n",
       "      <td>50720</td>\n",
       "      <td>Chevrolet</td>\n",
       "      <td>Tahoe</td>\n",
       "      <td>2014</td>\n",
       "      <td>Y</td>\n",
       "    </tr>\n",
       "    <tr>\n",
       "      <th>4</th>\n",
       "      <td>228</td>\n",
       "      <td>44</td>\n",
       "      <td>367455</td>\n",
       "      <td>06-06-2014</td>\n",
       "      <td>IL</td>\n",
       "      <td>500/1000</td>\n",
       "      <td>1000</td>\n",
       "      <td>1583.91</td>\n",
       "      <td>6000000</td>\n",
       "      <td>610706</td>\n",
       "      <td>...</td>\n",
       "      <td>1</td>\n",
       "      <td>NO</td>\n",
       "      <td>6500</td>\n",
       "      <td>1300</td>\n",
       "      <td>650</td>\n",
       "      <td>4550</td>\n",
       "      <td>Accura</td>\n",
       "      <td>RSX</td>\n",
       "      <td>2009</td>\n",
       "      <td>N</td>\n",
       "    </tr>\n",
       "  </tbody>\n",
       "</table>\n",
       "<p>5 rows × 39 columns</p>\n",
       "</div>"
      ],
      "text/plain": [
       "   months_as_customer  age  policy_number policy_bind_date policy_state  \\\n",
       "0                 328   48         521585       17-10-2014           OH   \n",
       "1                 228   42         342868       27-06-2006           IN   \n",
       "2                 134   29         687698       06-09-2000           OH   \n",
       "3                 256   41         227811       25-05-1990           IL   \n",
       "4                 228   44         367455       06-06-2014           IL   \n",
       "\n",
       "  policy_csl  policy_deductable  policy_annual_premium  umbrella_limit  \\\n",
       "0    250/500               1000                1406.91               0   \n",
       "1    250/500               2000                1197.22         5000000   \n",
       "2    100/300               2000                1413.14         5000000   \n",
       "3    250/500               2000                1415.74         6000000   \n",
       "4   500/1000               1000                1583.91         6000000   \n",
       "\n",
       "   insured_zip  ... witnesses police_report_available total_claim_amount  \\\n",
       "0       466132  ...         2                     YES              71610   \n",
       "1       468176  ...         0                       ?               5070   \n",
       "2       430632  ...         3                      NO              34650   \n",
       "3       608117  ...         2                      NO              63400   \n",
       "4       610706  ...         1                      NO               6500   \n",
       "\n",
       "  injury_claim property_claim  vehicle_claim  auto_make auto_model auto_year  \\\n",
       "0         6510          13020          52080       Saab        92x      2004   \n",
       "1          780            780           3510   Mercedes       E400      2007   \n",
       "2         7700           3850          23100      Dodge        RAM      2007   \n",
       "3         6340           6340          50720  Chevrolet      Tahoe      2014   \n",
       "4         1300            650           4550     Accura        RSX      2009   \n",
       "\n",
       "  fraud_reported  \n",
       "0              Y  \n",
       "1              Y  \n",
       "2              N  \n",
       "3              Y  \n",
       "4              N  \n",
       "\n",
       "[5 rows x 39 columns]"
      ]
     },
     "execution_count": 89,
     "metadata": {},
     "output_type": "execute_result"
    }
   ],
   "source": [
    "df.drop('_c39', axis = 1, inplace = True)\n",
    "df.head()  \n"
   ]
  },
  {
   "cell_type": "markdown",
   "id": "c654fe36",
   "metadata": {},
   "source": [
    "# Checking Missing or Null Values"
   ]
  },
  {
   "cell_type": "code",
   "execution_count": 90,
   "id": "0af6fa9f",
   "metadata": {},
   "outputs": [
    {
     "data": {
      "text/plain": [
       "months_as_customer             0\n",
       "age                            0\n",
       "policy_number                  0\n",
       "policy_bind_date               0\n",
       "policy_state                   0\n",
       "policy_csl                     0\n",
       "policy_deductable              0\n",
       "policy_annual_premium          0\n",
       "umbrella_limit                 0\n",
       "insured_zip                    0\n",
       "insured_sex                    0\n",
       "insured_education_level        0\n",
       "insured_occupation             0\n",
       "insured_hobbies                0\n",
       "insured_relationship           0\n",
       "capital-gains                  0\n",
       "capital-loss                   0\n",
       "incident_date                  0\n",
       "incident_type                  0\n",
       "collision_type                 0\n",
       "incident_severity              0\n",
       "authorities_contacted          0\n",
       "incident_state                 0\n",
       "incident_city                  0\n",
       "incident_location              0\n",
       "incident_hour_of_the_day       0\n",
       "number_of_vehicles_involved    0\n",
       "property_damage                0\n",
       "bodily_injuries                0\n",
       "witnesses                      0\n",
       "police_report_available        0\n",
       "total_claim_amount             0\n",
       "injury_claim                   0\n",
       "property_claim                 0\n",
       "vehicle_claim                  0\n",
       "auto_make                      0\n",
       "auto_model                     0\n",
       "auto_year                      0\n",
       "fraud_reported                 0\n",
       "dtype: int64"
      ]
     },
     "execution_count": 90,
     "metadata": {},
     "output_type": "execute_result"
    }
   ],
   "source": [
    "df.isnull().sum()"
   ]
  },
  {
   "cell_type": "code",
   "execution_count": 91,
   "id": "7e0562c5",
   "metadata": {},
   "outputs": [],
   "source": [
    "df.drop('policy_number', axis = 1, inplace = True)\n",
    "df.drop('policy_bind_date', axis = 1, inplace = True)\n",
    "df.drop('incident_date', axis = 1, inplace = True)"
   ]
  },
  {
   "cell_type": "markdown",
   "id": "0aa4ad8d",
   "metadata": {},
   "source": [
    "Removing elements creating high cardinality which will create instability in the model."
   ]
  },
  {
   "cell_type": "code",
   "execution_count": 92,
   "id": "92685328",
   "metadata": {},
   "outputs": [
    {
     "data": {
      "text/html": [
       "<div>\n",
       "<style scoped>\n",
       "    .dataframe tbody tr th:only-of-type {\n",
       "        vertical-align: middle;\n",
       "    }\n",
       "\n",
       "    .dataframe tbody tr th {\n",
       "        vertical-align: top;\n",
       "    }\n",
       "\n",
       "    .dataframe thead th {\n",
       "        text-align: right;\n",
       "    }\n",
       "</style>\n",
       "<table border=\"1\" class=\"dataframe\">\n",
       "  <thead>\n",
       "    <tr style=\"text-align: right;\">\n",
       "      <th></th>\n",
       "      <th>months_as_customer</th>\n",
       "      <th>age</th>\n",
       "      <th>policy_state</th>\n",
       "      <th>policy_csl</th>\n",
       "      <th>policy_deductable</th>\n",
       "      <th>policy_annual_premium</th>\n",
       "      <th>umbrella_limit</th>\n",
       "      <th>insured_zip</th>\n",
       "      <th>insured_sex</th>\n",
       "      <th>insured_education_level</th>\n",
       "      <th>...</th>\n",
       "      <th>witnesses</th>\n",
       "      <th>police_report_available</th>\n",
       "      <th>total_claim_amount</th>\n",
       "      <th>injury_claim</th>\n",
       "      <th>property_claim</th>\n",
       "      <th>vehicle_claim</th>\n",
       "      <th>auto_make</th>\n",
       "      <th>auto_model</th>\n",
       "      <th>auto_year</th>\n",
       "      <th>fraud_reported</th>\n",
       "    </tr>\n",
       "  </thead>\n",
       "  <tbody>\n",
       "    <tr>\n",
       "      <th>0</th>\n",
       "      <td>328</td>\n",
       "      <td>48</td>\n",
       "      <td>OH</td>\n",
       "      <td>250/500</td>\n",
       "      <td>1000</td>\n",
       "      <td>1406.91</td>\n",
       "      <td>0</td>\n",
       "      <td>466132</td>\n",
       "      <td>MALE</td>\n",
       "      <td>MD</td>\n",
       "      <td>...</td>\n",
       "      <td>2</td>\n",
       "      <td>YES</td>\n",
       "      <td>71610</td>\n",
       "      <td>6510</td>\n",
       "      <td>13020</td>\n",
       "      <td>52080</td>\n",
       "      <td>Saab</td>\n",
       "      <td>92x</td>\n",
       "      <td>2004</td>\n",
       "      <td>Y</td>\n",
       "    </tr>\n",
       "    <tr>\n",
       "      <th>1</th>\n",
       "      <td>228</td>\n",
       "      <td>42</td>\n",
       "      <td>IN</td>\n",
       "      <td>250/500</td>\n",
       "      <td>2000</td>\n",
       "      <td>1197.22</td>\n",
       "      <td>5000000</td>\n",
       "      <td>468176</td>\n",
       "      <td>MALE</td>\n",
       "      <td>MD</td>\n",
       "      <td>...</td>\n",
       "      <td>0</td>\n",
       "      <td>?</td>\n",
       "      <td>5070</td>\n",
       "      <td>780</td>\n",
       "      <td>780</td>\n",
       "      <td>3510</td>\n",
       "      <td>Mercedes</td>\n",
       "      <td>E400</td>\n",
       "      <td>2007</td>\n",
       "      <td>Y</td>\n",
       "    </tr>\n",
       "    <tr>\n",
       "      <th>2</th>\n",
       "      <td>134</td>\n",
       "      <td>29</td>\n",
       "      <td>OH</td>\n",
       "      <td>100/300</td>\n",
       "      <td>2000</td>\n",
       "      <td>1413.14</td>\n",
       "      <td>5000000</td>\n",
       "      <td>430632</td>\n",
       "      <td>FEMALE</td>\n",
       "      <td>PhD</td>\n",
       "      <td>...</td>\n",
       "      <td>3</td>\n",
       "      <td>NO</td>\n",
       "      <td>34650</td>\n",
       "      <td>7700</td>\n",
       "      <td>3850</td>\n",
       "      <td>23100</td>\n",
       "      <td>Dodge</td>\n",
       "      <td>RAM</td>\n",
       "      <td>2007</td>\n",
       "      <td>N</td>\n",
       "    </tr>\n",
       "    <tr>\n",
       "      <th>3</th>\n",
       "      <td>256</td>\n",
       "      <td>41</td>\n",
       "      <td>IL</td>\n",
       "      <td>250/500</td>\n",
       "      <td>2000</td>\n",
       "      <td>1415.74</td>\n",
       "      <td>6000000</td>\n",
       "      <td>608117</td>\n",
       "      <td>FEMALE</td>\n",
       "      <td>PhD</td>\n",
       "      <td>...</td>\n",
       "      <td>2</td>\n",
       "      <td>NO</td>\n",
       "      <td>63400</td>\n",
       "      <td>6340</td>\n",
       "      <td>6340</td>\n",
       "      <td>50720</td>\n",
       "      <td>Chevrolet</td>\n",
       "      <td>Tahoe</td>\n",
       "      <td>2014</td>\n",
       "      <td>Y</td>\n",
       "    </tr>\n",
       "    <tr>\n",
       "      <th>4</th>\n",
       "      <td>228</td>\n",
       "      <td>44</td>\n",
       "      <td>IL</td>\n",
       "      <td>500/1000</td>\n",
       "      <td>1000</td>\n",
       "      <td>1583.91</td>\n",
       "      <td>6000000</td>\n",
       "      <td>610706</td>\n",
       "      <td>MALE</td>\n",
       "      <td>Associate</td>\n",
       "      <td>...</td>\n",
       "      <td>1</td>\n",
       "      <td>NO</td>\n",
       "      <td>6500</td>\n",
       "      <td>1300</td>\n",
       "      <td>650</td>\n",
       "      <td>4550</td>\n",
       "      <td>Accura</td>\n",
       "      <td>RSX</td>\n",
       "      <td>2009</td>\n",
       "      <td>N</td>\n",
       "    </tr>\n",
       "    <tr>\n",
       "      <th>...</th>\n",
       "      <td>...</td>\n",
       "      <td>...</td>\n",
       "      <td>...</td>\n",
       "      <td>...</td>\n",
       "      <td>...</td>\n",
       "      <td>...</td>\n",
       "      <td>...</td>\n",
       "      <td>...</td>\n",
       "      <td>...</td>\n",
       "      <td>...</td>\n",
       "      <td>...</td>\n",
       "      <td>...</td>\n",
       "      <td>...</td>\n",
       "      <td>...</td>\n",
       "      <td>...</td>\n",
       "      <td>...</td>\n",
       "      <td>...</td>\n",
       "      <td>...</td>\n",
       "      <td>...</td>\n",
       "      <td>...</td>\n",
       "      <td>...</td>\n",
       "    </tr>\n",
       "    <tr>\n",
       "      <th>995</th>\n",
       "      <td>3</td>\n",
       "      <td>38</td>\n",
       "      <td>OH</td>\n",
       "      <td>500/1000</td>\n",
       "      <td>1000</td>\n",
       "      <td>1310.80</td>\n",
       "      <td>0</td>\n",
       "      <td>431289</td>\n",
       "      <td>FEMALE</td>\n",
       "      <td>Masters</td>\n",
       "      <td>...</td>\n",
       "      <td>1</td>\n",
       "      <td>?</td>\n",
       "      <td>87200</td>\n",
       "      <td>17440</td>\n",
       "      <td>8720</td>\n",
       "      <td>61040</td>\n",
       "      <td>Honda</td>\n",
       "      <td>Accord</td>\n",
       "      <td>2006</td>\n",
       "      <td>N</td>\n",
       "    </tr>\n",
       "    <tr>\n",
       "      <th>996</th>\n",
       "      <td>285</td>\n",
       "      <td>41</td>\n",
       "      <td>IL</td>\n",
       "      <td>100/300</td>\n",
       "      <td>1000</td>\n",
       "      <td>1436.79</td>\n",
       "      <td>0</td>\n",
       "      <td>608177</td>\n",
       "      <td>FEMALE</td>\n",
       "      <td>PhD</td>\n",
       "      <td>...</td>\n",
       "      <td>3</td>\n",
       "      <td>?</td>\n",
       "      <td>108480</td>\n",
       "      <td>18080</td>\n",
       "      <td>18080</td>\n",
       "      <td>72320</td>\n",
       "      <td>Volkswagen</td>\n",
       "      <td>Passat</td>\n",
       "      <td>2015</td>\n",
       "      <td>N</td>\n",
       "    </tr>\n",
       "    <tr>\n",
       "      <th>997</th>\n",
       "      <td>130</td>\n",
       "      <td>34</td>\n",
       "      <td>OH</td>\n",
       "      <td>250/500</td>\n",
       "      <td>500</td>\n",
       "      <td>1383.49</td>\n",
       "      <td>3000000</td>\n",
       "      <td>442797</td>\n",
       "      <td>FEMALE</td>\n",
       "      <td>Masters</td>\n",
       "      <td>...</td>\n",
       "      <td>3</td>\n",
       "      <td>YES</td>\n",
       "      <td>67500</td>\n",
       "      <td>7500</td>\n",
       "      <td>7500</td>\n",
       "      <td>52500</td>\n",
       "      <td>Suburu</td>\n",
       "      <td>Impreza</td>\n",
       "      <td>1996</td>\n",
       "      <td>N</td>\n",
       "    </tr>\n",
       "    <tr>\n",
       "      <th>998</th>\n",
       "      <td>458</td>\n",
       "      <td>62</td>\n",
       "      <td>IL</td>\n",
       "      <td>500/1000</td>\n",
       "      <td>2000</td>\n",
       "      <td>1356.92</td>\n",
       "      <td>5000000</td>\n",
       "      <td>441714</td>\n",
       "      <td>MALE</td>\n",
       "      <td>Associate</td>\n",
       "      <td>...</td>\n",
       "      <td>1</td>\n",
       "      <td>YES</td>\n",
       "      <td>46980</td>\n",
       "      <td>5220</td>\n",
       "      <td>5220</td>\n",
       "      <td>36540</td>\n",
       "      <td>Audi</td>\n",
       "      <td>A5</td>\n",
       "      <td>1998</td>\n",
       "      <td>N</td>\n",
       "    </tr>\n",
       "    <tr>\n",
       "      <th>999</th>\n",
       "      <td>456</td>\n",
       "      <td>60</td>\n",
       "      <td>OH</td>\n",
       "      <td>250/500</td>\n",
       "      <td>1000</td>\n",
       "      <td>766.19</td>\n",
       "      <td>0</td>\n",
       "      <td>612260</td>\n",
       "      <td>FEMALE</td>\n",
       "      <td>Associate</td>\n",
       "      <td>...</td>\n",
       "      <td>3</td>\n",
       "      <td>?</td>\n",
       "      <td>5060</td>\n",
       "      <td>460</td>\n",
       "      <td>920</td>\n",
       "      <td>3680</td>\n",
       "      <td>Mercedes</td>\n",
       "      <td>E400</td>\n",
       "      <td>2007</td>\n",
       "      <td>N</td>\n",
       "    </tr>\n",
       "  </tbody>\n",
       "</table>\n",
       "<p>1000 rows × 36 columns</p>\n",
       "</div>"
      ],
      "text/plain": [
       "     months_as_customer  age policy_state policy_csl  policy_deductable  \\\n",
       "0                   328   48           OH    250/500               1000   \n",
       "1                   228   42           IN    250/500               2000   \n",
       "2                   134   29           OH    100/300               2000   \n",
       "3                   256   41           IL    250/500               2000   \n",
       "4                   228   44           IL   500/1000               1000   \n",
       "..                  ...  ...          ...        ...                ...   \n",
       "995                   3   38           OH   500/1000               1000   \n",
       "996                 285   41           IL    100/300               1000   \n",
       "997                 130   34           OH    250/500                500   \n",
       "998                 458   62           IL   500/1000               2000   \n",
       "999                 456   60           OH    250/500               1000   \n",
       "\n",
       "     policy_annual_premium  umbrella_limit  insured_zip insured_sex  \\\n",
       "0                  1406.91               0       466132        MALE   \n",
       "1                  1197.22         5000000       468176        MALE   \n",
       "2                  1413.14         5000000       430632      FEMALE   \n",
       "3                  1415.74         6000000       608117      FEMALE   \n",
       "4                  1583.91         6000000       610706        MALE   \n",
       "..                     ...             ...          ...         ...   \n",
       "995                1310.80               0       431289      FEMALE   \n",
       "996                1436.79               0       608177      FEMALE   \n",
       "997                1383.49         3000000       442797      FEMALE   \n",
       "998                1356.92         5000000       441714        MALE   \n",
       "999                 766.19               0       612260      FEMALE   \n",
       "\n",
       "    insured_education_level  ... witnesses police_report_available  \\\n",
       "0                        MD  ...         2                     YES   \n",
       "1                        MD  ...         0                       ?   \n",
       "2                       PhD  ...         3                      NO   \n",
       "3                       PhD  ...         2                      NO   \n",
       "4                 Associate  ...         1                      NO   \n",
       "..                      ...  ...       ...                     ...   \n",
       "995                 Masters  ...         1                       ?   \n",
       "996                     PhD  ...         3                       ?   \n",
       "997                 Masters  ...         3                     YES   \n",
       "998               Associate  ...         1                     YES   \n",
       "999               Associate  ...         3                       ?   \n",
       "\n",
       "    total_claim_amount  injury_claim  property_claim vehicle_claim  \\\n",
       "0                71610          6510           13020         52080   \n",
       "1                 5070           780             780          3510   \n",
       "2                34650          7700            3850         23100   \n",
       "3                63400          6340            6340         50720   \n",
       "4                 6500          1300             650          4550   \n",
       "..                 ...           ...             ...           ...   \n",
       "995              87200         17440            8720         61040   \n",
       "996             108480         18080           18080         72320   \n",
       "997              67500          7500            7500         52500   \n",
       "998              46980          5220            5220         36540   \n",
       "999               5060           460             920          3680   \n",
       "\n",
       "      auto_make auto_model auto_year fraud_reported  \n",
       "0          Saab        92x      2004              Y  \n",
       "1      Mercedes       E400      2007              Y  \n",
       "2         Dodge        RAM      2007              N  \n",
       "3     Chevrolet      Tahoe      2014              Y  \n",
       "4        Accura        RSX      2009              N  \n",
       "..          ...        ...       ...            ...  \n",
       "995       Honda     Accord      2006              N  \n",
       "996  Volkswagen     Passat      2015              N  \n",
       "997      Suburu    Impreza      1996              N  \n",
       "998        Audi         A5      1998              N  \n",
       "999    Mercedes       E400      2007              N  \n",
       "\n",
       "[1000 rows x 36 columns]"
      ]
     },
     "execution_count": 92,
     "metadata": {},
     "output_type": "execute_result"
    }
   ],
   "source": [
    "df"
   ]
  },
  {
   "cell_type": "markdown",
   "id": "e27d3e03",
   "metadata": {},
   "source": [
    "# Visualizations"
   ]
  },
  {
   "cell_type": "code",
   "execution_count": 93,
   "id": "c18d4115",
   "metadata": {},
   "outputs": [
    {
     "data": {
      "text/plain": [
       "<AxesSubplot:xlabel='fraud_reported', ylabel='count'>"
      ]
     },
     "execution_count": 93,
     "metadata": {},
     "output_type": "execute_result"
    },
    {
     "data": {
      "image/png": "[encoded data removed]",
      "text/plain": [
       "<Figure size 432x288 with 1 Axes>"
      ]
     },
     "metadata": {
      "needs_background": "light"
     },
     "output_type": "display_data"
    }
   ],
   "source": [
    "sns.countplot(df.fraud_reported)"
   ]
  },
  {
   "cell_type": "code",
   "execution_count": 94,
   "id": "ffd67505",
   "metadata": {},
   "outputs": [
    {
     "data": {
      "text/plain": [
       "(array([ 0,  1,  2,  3,  4,  5,  6,  7,  8,  9, 10, 11, 12, 13]),\n",
       " [Text(0, 0, 'Saab'),\n",
       "  Text(1, 0, 'Mercedes'),\n",
       "  Text(2, 0, 'Dodge'),\n",
       "  Text(3, 0, 'Chevrolet'),\n",
       "  Text(4, 0, 'Accura'),\n",
       "  Text(5, 0, 'Nissan'),\n",
       "  Text(6, 0, 'Audi'),\n",
       "  Text(7, 0, 'Toyota'),\n",
       "  Text(8, 0, 'Ford'),\n",
       "  Text(9, 0, 'Suburu'),\n",
       "  Text(10, 0, 'BMW'),\n",
       "  Text(11, 0, 'Jeep'),\n",
       "  Text(12, 0, 'Honda'),\n",
       "  Text(13, 0, 'Volkswagen')])"
      ]
     },
     "execution_count": 94,
     "metadata": {},
     "output_type": "execute_result"
    },
    {
     "data": {
      "image/png": "[encoded data removed]",
      "text/plain": [
       "<Figure size 432x288 with 1 Axes>"
      ]
     },
     "metadata": {
      "needs_background": "light"
     },
     "output_type": "display_data"
    }
   ],
   "source": [
    "sns.countplot(df.auto_make)\n",
    "plt.xticks(rotation=90)"
   ]
  },
  {
   "cell_type": "code",
   "execution_count": 95,
   "id": "4feb2748",
   "metadata": {},
   "outputs": [
    {
     "data": {
      "text/plain": [
       "<seaborn.axisgrid.FacetGrid at 0x260baba2a90>"
      ]
     },
     "execution_count": 95,
     "metadata": {},
     "output_type": "execute_result"
    },
    {
     "data": {
      "image/png": "[encoded data removed]",
      "text/plain": [
       "<Figure size 1440x360 with 4 Axes>"
      ]
     },
     "metadata": {
      "needs_background": "light"
     },
     "output_type": "display_data"
    }
   ],
   "source": [
    "sns.factorplot(data=df,col='incident_severity',x='fraud_reported',kind='count')"
   ]
  },
  {
   "cell_type": "code",
   "execution_count": 96,
   "id": "a811d158",
   "metadata": {},
   "outputs": [
    {
     "data": {
      "text/plain": [
       "<seaborn.axisgrid.FacetGrid at 0x260bc601fa0>"
      ]
     },
     "execution_count": 96,
     "metadata": {},
     "output_type": "execute_result"
    },
    {
     "data": {
      "image/png": "[encoded data removed]",
      "text/plain": [
       "<Figure size 5040x360 with 14 Axes>"
      ]
     },
     "metadata": {
      "needs_background": "light"
     },
     "output_type": "display_data"
    }
   ],
   "source": [
    "sns.factorplot(data=df,col='auto_make',x='fraud_reported',kind='count')"
   ]
  },
  {
   "cell_type": "code",
   "execution_count": 97,
   "id": "06ab3d86",
   "metadata": {},
   "outputs": [
    {
     "data": {
      "text/plain": [
       "<seaborn.axisgrid.FacetGrid at 0x260bd3d80d0>"
      ]
     },
     "execution_count": 97,
     "metadata": {},
     "output_type": "execute_result"
    },
    {
     "data": {
      "image/png": "[encoded data removed]",
      "text/plain": [
       "<Figure size 1440x360 with 4 Axes>"
      ]
     },
     "metadata": {
      "needs_background": "light"
     },
     "output_type": "display_data"
    }
   ],
   "source": [
    "sns.factorplot(data=df,col='incident_type',x='fraud_reported',kind='count')"
   ]
  },
  {
   "cell_type": "code",
   "execution_count": 98,
   "id": "4647e9d0",
   "metadata": {},
   "outputs": [
    {
     "data": {
      "text/plain": [
       "<seaborn.axisgrid.FacetGrid at 0x260bde1f610>"
      ]
     },
     "execution_count": 98,
     "metadata": {},
     "output_type": "execute_result"
    },
    {
     "data": {
      "image/png": "[encoded data removed]",
      "text/plain": [
       "<Figure size 1080x360 with 3 Axes>"
      ]
     },
     "metadata": {
      "needs_background": "light"
     },
     "output_type": "display_data"
    }
   ],
   "source": [
    "sns.factorplot(data=df,col='police_report_available',x='fraud_reported',kind='count')"
   ]
  },
  {
   "cell_type": "code",
   "execution_count": 99,
   "id": "bee08cd7",
   "metadata": {},
   "outputs": [
    {
     "data": {
      "text/plain": [
       "<seaborn.axisgrid.FacetGrid at 0x260baaf7fd0>"
      ]
     },
     "execution_count": 99,
     "metadata": {},
     "output_type": "execute_result"
    },
    {
     "data": {
      "image/png": "[encoded data removed]",
      "text/plain": [
       "<Figure size 1440x360 with 4 Axes>"
      ]
     },
     "metadata": {
      "needs_background": "light"
     },
     "output_type": "display_data"
    }
   ],
   "source": [
    "sns.factorplot(data=df,col='witnesses',x='fraud_reported',kind='count')"
   ]
  },
  {
   "cell_type": "code",
   "execution_count": 100,
   "id": "8bfe83c1",
   "metadata": {},
   "outputs": [
    {
     "data": {
      "text/plain": [
       "<seaborn.axisgrid.FacetGrid at 0x260be598fa0>"
      ]
     },
     "execution_count": 100,
     "metadata": {},
     "output_type": "execute_result"
    },
    {
     "data": {
      "image/png": "[encoded data removed]",
      "text/plain": [
       "<Figure size 2520x360 with 7 Axes>"
      ]
     },
     "metadata": {
      "needs_background": "light"
     },
     "output_type": "display_data"
    }
   ],
   "source": [
    "sns.factorplot(data=df,col='incident_city',x='fraud_reported',kind='count')"
   ]
  },
  {
   "cell_type": "markdown",
   "id": "afe33b19",
   "metadata": {},
   "source": [
    "# Removing Skewness"
   ]
  },
  {
   "cell_type": "code",
   "execution_count": 101,
   "id": "22ab75c4",
   "metadata": {},
   "outputs": [
    {
     "data": {
      "text/plain": [
       "months_as_customer             0.362177\n",
       "age                            0.478988\n",
       "policy_deductable              0.477887\n",
       "policy_annual_premium          0.004402\n",
       "umbrella_limit                 1.806712\n",
       "insured_zip                    0.816554\n",
       "capital-gains                  0.478850\n",
       "capital-loss                  -0.391472\n",
       "incident_hour_of_the_day      -0.035584\n",
       "number_of_vehicles_involved    0.502664\n",
       "bodily_injuries                0.014777\n",
       "witnesses                      0.019636\n",
       "total_claim_amount            -0.594582\n",
       "injury_claim                   0.264811\n",
       "property_claim                 0.378169\n",
       "vehicle_claim                 -0.621098\n",
       "auto_year                     -0.048289\n",
       "dtype: float64"
      ]
     },
     "execution_count": 101,
     "metadata": {},
     "output_type": "execute_result"
    }
   ],
   "source": [
    "df.skew()"
   ]
  },
  {
   "cell_type": "code",
   "execution_count": 102,
   "id": "500c69b0",
   "metadata": {},
   "outputs": [],
   "source": [
    "skew=('umbrella_limit','insured_zip','total_claim_amount','vehicle_claim')\n",
    "for col in skew:\n",
    "    if df.skew().loc[col]>0.55:\n",
    "        df[col]=np.log1p(df[col])"
   ]
  },
  {
   "cell_type": "markdown",
   "id": "3141c2eb",
   "metadata": {},
   "source": [
    "# Label Encoding"
   ]
  },
  {
   "cell_type": "code",
   "execution_count": 103,
   "id": "67d7f81c",
   "metadata": {},
   "outputs": [],
   "source": [
    "from sklearn import preprocessing\n",
    "label_encoder = preprocessing.LabelEncoder()\n",
    "\n",
    "df['policy_state']= label_encoder.fit_transform(df['policy_state'])\n",
    "df['policy_csl']= label_encoder.fit_transform(df['policy_csl'])\n",
    "df['insured_sex']= label_encoder.fit_transform(df['insured_sex'])\n",
    "df['insured_education_level']= label_encoder.fit_transform(df['insured_education_level'])\n",
    "df['insured_occupation']= label_encoder.fit_transform(df['insured_occupation'])\n",
    "df['insured_hobbies']= label_encoder.fit_transform(df['insured_hobbies'])\n",
    "df['insured_relationship']= label_encoder.fit_transform(df['insured_relationship'])\n",
    "df['incident_type']= label_encoder.fit_transform(df['incident_type'])\n",
    "df['collision_type']= label_encoder.fit_transform(df['collision_type'])\n",
    "df['incident_severity']= label_encoder.fit_transform(df['incident_severity'])\n",
    "df['authorities_contacted']= label_encoder.fit_transform(df['authorities_contacted'])\n",
    "df['incident_state']= label_encoder.fit_transform(df['incident_state'])\n",
    "df['incident_city']= label_encoder.fit_transform(df['incident_city'])\n",
    "df['incident_location']= label_encoder.fit_transform(df['incident_location'])\n",
    "df['property_damage']= label_encoder.fit_transform(df['property_damage'])\n",
    "df['police_report_available']= label_encoder.fit_transform(df['police_report_available'])\n",
    "df['auto_make']= label_encoder.fit_transform(df['auto_make'])\n",
    "df['auto_model']= label_encoder.fit_transform(df['auto_model'])\n",
    "df['fraud_reported']= label_encoder.fit_transform(df['fraud_reported'])\n"
   ]
  },
  {
   "cell_type": "markdown",
   "id": "b65b1f8f",
   "metadata": {},
   "source": [
    "# Correlation"
   ]
  },
  {
   "cell_type": "code",
   "execution_count": 104,
   "id": "590a6ebb",
   "metadata": {},
   "outputs": [
    {
     "data": {
      "text/plain": [
       "<AxesSubplot:>"
      ]
     },
     "execution_count": 104,
     "metadata": {},
     "output_type": "execute_result"
    },
    {
     "data": {
      "image/png": "[encoded data removed]",
      "text/plain": [
       "<Figure size 1200x600 with 2 Axes>"
      ]
     },
     "metadata": {
      "needs_background": "light"
     },
     "output_type": "display_data"
    }
   ],
   "source": [
    "corr_df = df.corr(method='pearson')\n",
    "plt.figure(figsize=(12,6),dpi=100)\n",
    "sns.heatmap(corr_df,cmap='coolwarm')"
   ]
  },
  {
   "cell_type": "markdown",
   "id": "e5870e61",
   "metadata": {},
   "source": [
    "# Building & Evaluation of Model"
   ]
  },
  {
   "cell_type": "code",
   "execution_count": 105,
   "id": "1eeb87e0",
   "metadata": {},
   "outputs": [],
   "source": [
    "x = df.drop(['fraud_reported'],axis=1)\n",
    "y = df['fraud_reported']"
   ]
  },
  {
   "cell_type": "code",
   "execution_count": 106,
   "id": "721a3418",
   "metadata": {},
   "outputs": [],
   "source": [
    "from sklearn.model_selection import train_test_split\n",
    "x_train, x_test, y_train, y_test = train_test_split(x,y, test_size = 0.2, random_state = 0)"
   ]
  },
  {
   "cell_type": "code",
   "execution_count": 107,
   "id": "5588e804",
   "metadata": {},
   "outputs": [
    {
     "data": {
      "text/html": [
       "<div>\n",
       "<style scoped>\n",
       "    .dataframe tbody tr th:only-of-type {\n",
       "        vertical-align: middle;\n",
       "    }\n",
       "\n",
       "    .dataframe tbody tr th {\n",
       "        vertical-align: top;\n",
       "    }\n",
       "\n",
       "    .dataframe thead th {\n",
       "        text-align: right;\n",
       "    }\n",
       "</style>\n",
       "<table border=\"1\" class=\"dataframe\">\n",
       "  <thead>\n",
       "    <tr style=\"text-align: right;\">\n",
       "      <th></th>\n",
       "      <th>months_as_customer</th>\n",
       "      <th>age</th>\n",
       "      <th>policy_state</th>\n",
       "      <th>policy_csl</th>\n",
       "      <th>policy_deductable</th>\n",
       "      <th>policy_annual_premium</th>\n",
       "      <th>umbrella_limit</th>\n",
       "      <th>insured_zip</th>\n",
       "      <th>insured_sex</th>\n",
       "      <th>insured_education_level</th>\n",
       "      <th>...</th>\n",
       "      <th>bodily_injuries</th>\n",
       "      <th>witnesses</th>\n",
       "      <th>police_report_available</th>\n",
       "      <th>total_claim_amount</th>\n",
       "      <th>injury_claim</th>\n",
       "      <th>property_claim</th>\n",
       "      <th>vehicle_claim</th>\n",
       "      <th>auto_make</th>\n",
       "      <th>auto_model</th>\n",
       "      <th>auto_year</th>\n",
       "    </tr>\n",
       "  </thead>\n",
       "  <tbody>\n",
       "    <tr>\n",
       "      <th>0</th>\n",
       "      <td>0.684760</td>\n",
       "      <td>0.644444</td>\n",
       "      <td>1.0</td>\n",
       "      <td>0.5</td>\n",
       "      <td>0.333333</td>\n",
       "      <td>0.603112</td>\n",
       "      <td>0.000000</td>\n",
       "      <td>0.219043</td>\n",
       "      <td>1.0</td>\n",
       "      <td>0.666667</td>\n",
       "      <td>...</td>\n",
       "      <td>0.5</td>\n",
       "      <td>0.666667</td>\n",
       "      <td>1.0</td>\n",
       "      <td>0.622801</td>\n",
       "      <td>0.303497</td>\n",
       "      <td>0.550063</td>\n",
       "      <td>0.654296</td>\n",
       "      <td>0.769231</td>\n",
       "      <td>0.026316</td>\n",
       "      <td>0.45</td>\n",
       "    </tr>\n",
       "    <tr>\n",
       "      <th>1</th>\n",
       "      <td>0.475992</td>\n",
       "      <td>0.511111</td>\n",
       "      <td>0.5</td>\n",
       "      <td>0.5</td>\n",
       "      <td>1.000000</td>\n",
       "      <td>0.473214</td>\n",
       "      <td>0.956996</td>\n",
       "      <td>0.230957</td>\n",
       "      <td>1.0</td>\n",
       "      <td>0.666667</td>\n",
       "      <td>...</td>\n",
       "      <td>0.0</td>\n",
       "      <td>0.000000</td>\n",
       "      <td>0.0</td>\n",
       "      <td>0.043285</td>\n",
       "      <td>0.036364</td>\n",
       "      <td>0.032953</td>\n",
       "      <td>0.043276</td>\n",
       "      <td>0.615385</td>\n",
       "      <td>0.315789</td>\n",
       "      <td>0.60</td>\n",
       "    </tr>\n",
       "    <tr>\n",
       "      <th>2</th>\n",
       "      <td>0.279749</td>\n",
       "      <td>0.222222</td>\n",
       "      <td>1.0</td>\n",
       "      <td>0.0</td>\n",
       "      <td>1.000000</td>\n",
       "      <td>0.606972</td>\n",
       "      <td>0.956996</td>\n",
       "      <td>0.003341</td>\n",
       "      <td>0.0</td>\n",
       "      <td>1.000000</td>\n",
       "      <td>...</td>\n",
       "      <td>1.0</td>\n",
       "      <td>1.000000</td>\n",
       "      <td>0.5</td>\n",
       "      <td>0.300906</td>\n",
       "      <td>0.358974</td>\n",
       "      <td>0.162653</td>\n",
       "      <td>0.289722</td>\n",
       "      <td>0.307692</td>\n",
       "      <td>0.789474</td>\n",
       "      <td>0.60</td>\n",
       "    </tr>\n",
       "    <tr>\n",
       "      <th>3</th>\n",
       "      <td>0.534447</td>\n",
       "      <td>0.488889</td>\n",
       "      <td>0.0</td>\n",
       "      <td>0.5</td>\n",
       "      <td>1.000000</td>\n",
       "      <td>0.608582</td>\n",
       "      <td>0.968307</td>\n",
       "      <td>0.943082</td>\n",
       "      <td>0.0</td>\n",
       "      <td>1.000000</td>\n",
       "      <td>...</td>\n",
       "      <td>0.5</td>\n",
       "      <td>0.666667</td>\n",
       "      <td>0.5</td>\n",
       "      <td>0.551298</td>\n",
       "      <td>0.295571</td>\n",
       "      <td>0.267850</td>\n",
       "      <td>0.637187</td>\n",
       "      <td>0.230769</td>\n",
       "      <td>0.894737</td>\n",
       "      <td>0.95</td>\n",
       "    </tr>\n",
       "    <tr>\n",
       "      <th>4</th>\n",
       "      <td>0.475992</td>\n",
       "      <td>0.555556</td>\n",
       "      <td>0.0</td>\n",
       "      <td>1.0</td>\n",
       "      <td>0.333333</td>\n",
       "      <td>0.712760</td>\n",
       "      <td>0.968307</td>\n",
       "      <td>0.954651</td>\n",
       "      <td>1.0</td>\n",
       "      <td>0.000000</td>\n",
       "      <td>...</td>\n",
       "      <td>0.0</td>\n",
       "      <td>0.333333</td>\n",
       "      <td>0.5</td>\n",
       "      <td>0.055739</td>\n",
       "      <td>0.060606</td>\n",
       "      <td>0.027461</td>\n",
       "      <td>0.056359</td>\n",
       "      <td>0.000000</td>\n",
       "      <td>0.815789</td>\n",
       "      <td>0.70</td>\n",
       "    </tr>\n",
       "  </tbody>\n",
       "</table>\n",
       "<p>5 rows × 35 columns</p>\n",
       "</div>"
      ],
      "text/plain": [
       "   months_as_customer       age  policy_state  policy_csl  policy_deductable  \\\n",
       "0            0.684760  0.644444           1.0         0.5           0.333333   \n",
       "1            0.475992  0.511111           0.5         0.5           1.000000   \n",
       "2            0.279749  0.222222           1.0         0.0           1.000000   \n",
       "3            0.534447  0.488889           0.0         0.5           1.000000   \n",
       "4            0.475992  0.555556           0.0         1.0           0.333333   \n",
       "\n",
       "   policy_annual_premium  umbrella_limit  insured_zip  insured_sex  \\\n",
       "0               0.603112        0.000000     0.219043          1.0   \n",
       "1               0.473214        0.956996     0.230957          1.0   \n",
       "2               0.606972        0.956996     0.003341          0.0   \n",
       "3               0.608582        0.968307     0.943082          0.0   \n",
       "4               0.712760        0.968307     0.954651          1.0   \n",
       "\n",
       "   insured_education_level  ...  bodily_injuries  witnesses  \\\n",
       "0                 0.666667  ...              0.5   0.666667   \n",
       "1                 0.666667  ...              0.0   0.000000   \n",
       "2                 1.000000  ...              1.0   1.000000   \n",
       "3                 1.000000  ...              0.5   0.666667   \n",
       "4                 0.000000  ...              0.0   0.333333   \n",
       "\n",
       "   police_report_available  total_claim_amount  injury_claim  property_claim  \\\n",
       "0                      1.0            0.622801      0.303497        0.550063   \n",
       "1                      0.0            0.043285      0.036364        0.032953   \n",
       "2                      0.5            0.300906      0.358974        0.162653   \n",
       "3                      0.5            0.551298      0.295571        0.267850   \n",
       "4                      0.5            0.055739      0.060606        0.027461   \n",
       "\n",
       "   vehicle_claim  auto_make  auto_model  auto_year  \n",
       "0       0.654296   0.769231    0.026316       0.45  \n",
       "1       0.043276   0.615385    0.315789       0.60  \n",
       "2       0.289722   0.307692    0.789474       0.60  \n",
       "3       0.637187   0.230769    0.894737       0.95  \n",
       "4       0.056359   0.000000    0.815789       0.70  \n",
       "\n",
       "[5 rows x 35 columns]"
      ]
     },
     "execution_count": 107,
     "metadata": {},
     "output_type": "execute_result"
    }
   ],
   "source": [
    "from sklearn.preprocessing import MinMaxScaler\n",
    "features = x.columns.values\n",
    "scaler = MinMaxScaler(feature_range = (0,1))\n",
    "scaler.fit(x)\n",
    "x= pd.DataFrame(scaler.transform(x))\n",
    "x.columns = features\n",
    "x.head()"
   ]
  },
  {
   "cell_type": "code",
   "execution_count": 108,
   "id": "70155376",
   "metadata": {},
   "outputs": [],
   "source": [
    "from sklearn.metrics import accuracy_score,classification_report,confusion_matrix,roc_auc_score,roc_curve"
   ]
  },
  {
   "cell_type": "code",
   "execution_count": 109,
   "id": "5fe7e560",
   "metadata": {},
   "outputs": [],
   "source": [
    "from sklearn.model_selection import train_test_split\n",
    "from sklearn.linear_model import LogisticRegression\n",
    "from sklearn.naive_bayes import GaussianNB\n",
    "from sklearn.neighbors import KNeighborsClassifier\n",
    "from sklearn.tree import DecisionTreeClassifier\n",
    "from sklearn.svm import SVC\n",
    "from sklearn.ensemble import RandomForestClassifier\n",
    "from sklearn.ensemble import AdaBoostClassifier\n",
    "from sklearn.ensemble import GradientBoostingClassifier\n",
    "from sklearn.metrics import accuracy_score,confusion_matrix,classification_report,f1_score\n",
    "import warnings \n",
    "warnings.filterwarnings('ignore')"
   ]
  },
  {
   "cell_type": "code",
   "execution_count": 110,
   "id": "c207472a",
   "metadata": {},
   "outputs": [],
   "source": [
    "x_train = x_train.replace((np.inf, -np.inf, np.nan), 0).reset_index(drop=True)\n",
    "x_test = x_test.replace((np.inf, -np.inf, np.nan), 0).reset_index(drop=True)"
   ]
  },
  {
   "cell_type": "code",
   "execution_count": 111,
   "id": "fe6c4ea5",
   "metadata": {},
   "outputs": [],
   "source": [
    "# Model Building\n",
    "lr = LogisticRegression(random_state=0)\n",
    "\n",
    "# Training Model\n",
    "lr.fit(x_train,y_train)\n",
    "\n",
    "# Model Summary\n",
    "y_pred_lr = lr.predict(x_test)\n",
    "y_pred_train_lr = lr.predict(x_train)"
   ]
  },
  {
   "cell_type": "code",
   "execution_count": 112,
   "id": "98a79707",
   "metadata": {},
   "outputs": [
    {
     "name": "stdout",
     "output_type": "stream",
     "text": [
      "-----Test Data Accuracy----\n",
      "Logistic Regression:\n",
      "Accuracy score: 0.72\n",
      "F1 score: 0.0345\n",
      "\n",
      "-----Train Data Accuracy----\n",
      "Accuracy score: 0.7625\n",
      "F1 score: 0.0\n"
     ]
    }
   ],
   "source": [
    "print(\"-----Test Data Accuracy----\")\n",
    "print('Logistic Regression:')\n",
    "print('Accuracy score:', round(accuracy_score(y_test, y_pred_lr), 4))\n",
    "print('F1 score:', round(f1_score(y_test, y_pred_lr), 4))\n",
    "\n",
    "print(\"\\n-----Train Data Accuracy----\")\n",
    "print('Accuracy score:', round(accuracy_score(y_train, y_pred_train_lr), 4))\n",
    "print('F1 score:', round(f1_score(y_train, y_pred_train_lr), 4))"
   ]
  },
  {
   "cell_type": "code",
   "execution_count": 113,
   "id": "2dc7f557",
   "metadata": {},
   "outputs": [],
   "source": [
    "\n",
    "dt = DecisionTreeClassifier(max_depth=10,random_state=0)\n",
    "\n",
    "# Training Model\n",
    "dt.fit(x_train,y_train)\n",
    " \n",
    "# Model Summary\n",
    "y_pred_dt = dt.predict(x_test)\n",
    "y_pred_train_dt = dt.predict(x_train)"
   ]
  },
  {
   "cell_type": "code",
   "execution_count": 114,
   "id": "9d7bca1b",
   "metadata": {},
   "outputs": [
    {
     "name": "stdout",
     "output_type": "stream",
     "text": [
      "-----Test Data Accuracy----\n",
      "Decision Tree Classifier:\n",
      "Accuracy score: 0.765\n",
      "F1 score: 0.5437\n",
      "\n",
      "-----Train Data Accuracy----\n",
      "Accuracy score: 0.9912\n",
      "F1 score: 0.9813\n"
     ]
    }
   ],
   "source": [
    "print(\"-----Test Data Accuracy----\")\n",
    "print('Decision Tree Classifier:')\n",
    "print('Accuracy score:', round(accuracy_score(y_test, y_pred_dt), 4))\n",
    "print('F1 score:', round(f1_score(y_test, y_pred_dt), 4))\n",
    "\n",
    "print(\"\\n-----Train Data Accuracy----\")\n",
    "print('Accuracy score:', round(accuracy_score(y_train, y_pred_train_dt), 4))\n",
    "print('F1 score:', round(f1_score(y_train, y_pred_train_dt), 4))"
   ]
  },
  {
   "cell_type": "code",
   "execution_count": 115,
   "id": "7217b94b",
   "metadata": {},
   "outputs": [],
   "source": [
    "# Model Building\n",
    "rfc = RandomForestClassifier(random_state=0, max_depth=30)\n",
    "\n",
    "# Training Model\n",
    "rfc.fit(x_train,y_train)\n",
    "\n",
    "# Model summary\n",
    "y_pred_rfc = rfc.predict(x_test)\n",
    "y_pred_train_rfc = rfc.predict(x_train)"
   ]
  },
  {
   "cell_type": "code",
   "execution_count": 116,
   "id": "1fe78a59",
   "metadata": {},
   "outputs": [
    {
     "name": "stdout",
     "output_type": "stream",
     "text": [
      "-----Test Data Accuracy----\n",
      "Random Forest Classifier:\n",
      "Accuracy score: 0.765\n",
      "F1 score: 0.2571\n",
      "\n",
      "-----Train Data Accuracy----\n",
      "Accuracy score: 1.0\n",
      "F1 score: 1.0\n"
     ]
    }
   ],
   "source": [
    "print(\"-----Test Data Accuracy----\")\n",
    "print('Random Forest Classifier:')\n",
    "print('Accuracy score:', round(accuracy_score(y_test, y_pred_dt), 4))\n",
    "print('F1 score:', round(f1_score(y_test, y_pred_rfc), 4))\n",
    "\n",
    "print(\"\\n-----Train Data Accuracy----\")\n",
    "print('Accuracy score:', round(accuracy_score(y_train, y_pred_train_rfc), 4))\n",
    "print('F1 score:', round(f1_score(y_train, y_pred_train_rfc), 4))"
   ]
  },
  {
   "cell_type": "code",
   "execution_count": 117,
   "id": "045c3f01",
   "metadata": {},
   "outputs": [],
   "source": [
    "# Model Building\n",
    "svc = SVC()\n",
    "\n",
    "# Training Model\n",
    "svc.fit(x_train,y_train)\n",
    "\n",
    "# Model Summary\n",
    "y_pred_svc = svc.predict(x_test)\n",
    "y_pred_train_svc = svc.predict(x_train)"
   ]
  },
  {
   "cell_type": "code",
   "execution_count": 118,
   "id": "72f5d7b2",
   "metadata": {},
   "outputs": [
    {
     "name": "stdout",
     "output_type": "stream",
     "text": [
      "-----Test Data Accuracy----\n",
      "Support Vector Classifier:\n",
      "Accuracy score: 0.715\n",
      "F1 score: 0.0\n",
      "\n",
      "-----Train Data Accuracy----\n",
      "Accuracy score: 0.7625\n",
      "F1 score: 0.0\n"
     ]
    }
   ],
   "source": [
    "print(\"-----Test Data Accuracy----\")\n",
    "print('Support Vector Classifier:')\n",
    "print('Accuracy score:', round(accuracy_score(y_test, y_pred_svc), 4))\n",
    "print('F1 score:', round(f1_score(y_test, y_pred_svc), 4))\n",
    "\n",
    "print(\"\\n-----Train Data Accuracy----\")\n",
    "print('Accuracy score:', round(accuracy_score(y_train, y_pred_train_svc), 4))\n",
    "print('F1 score:', round(f1_score(y_train, y_pred_train_svc), 4))"
   ]
  },
  {
   "cell_type": "code",
   "execution_count": 119,
   "id": "b112db72",
   "metadata": {},
   "outputs": [],
   "source": [
    "knn = KNeighborsClassifier()\n",
    "\n",
    "# Training Model\n",
    "svc.fit(x_train,y_train)\n",
    "\n",
    "# Model Summary\n",
    "y_pred_svc = svc.predict(x_test)\n",
    "y_pred_train_svc = svc.predict(x_train)"
   ]
  },
  {
   "cell_type": "code",
   "execution_count": 120,
   "id": "1a8c8d98",
   "metadata": {},
   "outputs": [
    {
     "name": "stdout",
     "output_type": "stream",
     "text": [
      "-----Test Data Accuracy----\n",
      "KNeighborsClassifier:\n",
      "Accuracy score: 0.715\n",
      "F1 score: 0.0\n",
      "\n",
      "-----Train Data Accuracy----\n",
      "Accuracy score: 0.7625\n",
      "F1 score: 0.0\n"
     ]
    }
   ],
   "source": [
    "print(\"-----Test Data Accuracy----\")\n",
    "print('KNeighborsClassifier:')\n",
    "print('Accuracy score:', round(accuracy_score(y_test, y_pred_svc), 4))\n",
    "print('F1 score:', round(f1_score(y_test, y_pred_svc), 4))\n",
    "\n",
    "print(\"\\n-----Train Data Accuracy----\")\n",
    "print('Accuracy score:', round(accuracy_score(y_train, y_pred_train_svc), 4))\n",
    "print('F1 score:', round(f1_score(y_train, y_pred_train_svc), 4))"
   ]
  },
  {
   "cell_type": "code",
   "execution_count": 121,
   "id": "281a00c9",
   "metadata": {},
   "outputs": [],
   "source": [
    "# Model Building\n",
    "gbtc = GradientBoostingClassifier(random_state=0)\n",
    "\n",
    "# Training Model\n",
    "gbtc.fit(x_train,y_train)\n",
    "\n",
    "# Model summary\n",
    "y_pred_gbtc = gbtc.predict(x_test)\n",
    "y_pred_train_gbtc = gbtc.predict(x_train)"
   ]
  },
  {
   "cell_type": "code",
   "execution_count": 122,
   "id": "5962e4e2",
   "metadata": {},
   "outputs": [
    {
     "name": "stdout",
     "output_type": "stream",
     "text": [
      "-----Test Data Accuracy----\n",
      "GradientBoostingClassifier:\n",
      "Accuracy score: 0.805\n",
      "F1 score: 0.6139\n",
      "\n",
      "-----Train Data Accuracy----\n",
      "Accuracy score: 0.98\n",
      "F1 score: 0.957\n"
     ]
    }
   ],
   "source": [
    "print(\"-----Test Data Accuracy----\")\n",
    "print('GradientBoostingClassifier:')\n",
    "print('Accuracy score:', round(accuracy_score(y_test, y_pred_gbtc), 4))\n",
    "print('F1 score:', round(f1_score(y_test, y_pred_gbtc), 4))\n",
    "\n",
    "print(\"\\n-----Train Data Accuracy----\")\n",
    "print('Accuracy score:', round(accuracy_score(y_train, y_pred_train_gbtc), 4))\n",
    "print('F1 score:', round(f1_score(y_train, y_pred_train_gbtc), 4))"
   ]
  },
  {
   "cell_type": "markdown",
   "id": "f8bf5df6",
   "metadata": {},
   "source": [
    "Model with maximum accuracy is Gradient Boosting Classifier."
   ]
  },
  {
   "cell_type": "markdown",
   "id": "c20e0c33",
   "metadata": {},
   "source": [
    "# Hyperparameter Tuning"
   ]
  },
  {
   "cell_type": "code",
   "execution_count": 125,
   "id": "eb8d41a3",
   "metadata": {},
   "outputs": [],
   "source": [
    "from sklearn.model_selection import GridSearchCV"
   ]
  },
  {
   "cell_type": "code",
   "execution_count": 126,
   "id": "3e1bf72e",
   "metadata": {},
   "outputs": [],
   "source": [
    "params={'learning_rate':[0.1,0.01],'max_depth':[3,4,5],'min_samples_leaf':[1,2],'min_samples_split':[2,3],'n_estimators':[10,50,100]}"
   ]
  },
  {
   "cell_type": "code",
   "execution_count": 127,
   "id": "9b9196a6",
   "metadata": {},
   "outputs": [],
   "source": [
    "gcv=GridSearchCV(gbtc,params)"
   ]
  },
  {
   "cell_type": "code",
   "execution_count": 128,
   "id": "18a2de0d",
   "metadata": {},
   "outputs": [],
   "source": [
    "res=gcv.fit(x_train,y_train)"
   ]
  },
  {
   "cell_type": "code",
   "execution_count": 129,
   "id": "1e7ae844",
   "metadata": {},
   "outputs": [
    {
     "data": {
      "text/plain": [
       "{'learning_rate': 0.1,\n",
       " 'max_depth': 3,\n",
       " 'min_samples_leaf': 1,\n",
       " 'min_samples_split': 2,\n",
       " 'n_estimators': 50}"
      ]
     },
     "execution_count": 129,
     "metadata": {},
     "output_type": "execute_result"
    }
   ],
   "source": [
    "res.best_params_"
   ]
  },
  {
   "cell_type": "markdown",
   "id": "f56f5a84",
   "metadata": {},
   "source": [
    "# ROC Curve"
   ]
  },
  {
   "cell_type": "code",
   "execution_count": 130,
   "id": "638a3e03",
   "metadata": {},
   "outputs": [],
   "source": [
    "from sklearn.metrics import roc_auc_score\n",
    "from sklearn.metrics import roc_curve, auc"
   ]
  },
  {
   "cell_type": "code",
   "execution_count": 131,
   "id": "99919a94",
   "metadata": {},
   "outputs": [
    {
     "name": "stdout",
     "output_type": "stream",
     "text": [
      "0.726475279106858\n"
     ]
    }
   ],
   "source": [
    "print(roc_auc_score(y_test,gbtc.predict(x_test)))"
   ]
  },
  {
   "cell_type": "code",
   "execution_count": 132,
   "id": "9e579c69",
   "metadata": {},
   "outputs": [
    {
     "data": {
      "text/plain": [
       "array([0.05743143, 0.04654186, 0.02390538, 0.02009818, 0.03446122,\n",
       "       0.03652255, 0.64244116, 0.08269402, 0.75923453, 0.05815376,\n",
       "       0.03448484, 0.02969091, 0.68456534, 0.04315675, 0.03546747,\n",
       "       0.0492865 , 0.35858075, 0.06997595, 0.03911681, 0.03754206,\n",
       "       0.64720453, 0.06269371, 0.60571945, 0.60719197, 0.43549312,\n",
       "       0.52764988, 0.03557257, 0.02694917, 0.02210091, 0.0265836 ,\n",
       "       0.69181079, 0.48138148, 0.04117695, 0.02486551, 0.04002922,\n",
       "       0.03562191, 0.02152143, 0.06487707, 0.03170753, 0.06040102,\n",
       "       0.06969817, 0.84272818, 0.77491072, 0.0350654 , 0.39287391,\n",
       "       0.04379067, 0.02564247, 0.05321005, 0.01068825, 0.80993549,\n",
       "       0.45043693, 0.0372688 , 0.36530299, 0.6231465 , 0.03603941,\n",
       "       0.02628478, 0.60499659, 0.08629885, 0.65662198, 0.50055249,\n",
       "       0.04639207, 0.50719472, 0.05283053, 0.09324399, 0.47783016,\n",
       "       0.02452894, 0.08740915, 0.57442236, 0.02727191, 0.03918184,\n",
       "       0.02042896, 0.98333691, 0.06036973, 0.61495408, 0.05233501,\n",
       "       0.01298749, 0.35989601, 0.82464428, 0.04233897, 0.5127498 ,\n",
       "       0.33129455, 0.02658734, 0.75260325, 0.70234905, 0.03688318,\n",
       "       0.02695483, 0.03510872, 0.72865972, 0.03805844, 0.02965906,\n",
       "       0.04024645, 0.50768022, 0.0727755 , 0.05007811, 0.14773677,\n",
       "       0.02216775, 0.04156264, 0.42419006, 0.0556628 , 0.11689004,\n",
       "       0.58797333, 0.55825974, 0.7452769 , 0.05011518, 0.02721437,\n",
       "       0.05437448, 0.45570768, 0.0529107 , 0.53919001, 0.5533649 ,\n",
       "       0.03283992, 0.04117951, 0.3440864 , 0.05908916, 0.66782216,\n",
       "       0.05604359, 0.81274788, 0.06345828, 0.73019397, 0.5610347 ,\n",
       "       0.018485  , 0.03324026, 0.51775225, 0.09555438, 0.59242717,\n",
       "       0.02906891, 0.09682488, 0.66085808, 0.55562307, 0.12172112,\n",
       "       0.03149688, 0.02401978, 0.04724258, 0.44863167, 0.04564806,\n",
       "       0.02567474, 0.03374814, 0.04650867, 0.89497686, 0.02728192,\n",
       "       0.40942973, 0.03416202, 0.05989024, 0.69725341, 0.31102342,\n",
       "       0.20223609, 0.05410415, 0.07023113, 0.04345218, 0.04608668,\n",
       "       0.0288041 , 0.52841419, 0.03009845, 0.04612718, 0.11238274,\n",
       "       0.04522678, 0.4150691 , 0.07597566, 0.04577402, 0.04741711,\n",
       "       0.05294424, 0.03091177, 0.0175324 , 0.04143482, 0.19672734,\n",
       "       0.02838811, 0.10369646, 0.11295185, 0.47424208, 0.03039936,\n",
       "       0.0661751 , 0.06221581, 0.81968706, 0.03703097, 0.3802465 ,\n",
       "       0.04442651, 0.84666684, 0.04420687, 0.01784296, 0.02145413,\n",
       "       0.47762299, 0.0422807 , 0.32158546, 0.07144142, 0.05717667,\n",
       "       0.03558366, 0.02910373, 0.17002101, 0.03812601, 0.02093291,\n",
       "       0.02914722, 0.04570664, 0.03599665, 0.54249768, 0.07280026,\n",
       "       0.03677044, 0.14495025, 0.04675433, 0.01736505, 0.02790022])"
      ]
     },
     "execution_count": 132,
     "metadata": {},
     "output_type": "execute_result"
    }
   ],
   "source": [
    "model= GradientBoostingClassifier()\n",
    "model= model.fit(x_train,y_train)\n",
    "pred_prob=model.predict_proba(x_test)[:,1]\n",
    "pred_prob"
   ]
  },
  {
   "cell_type": "code",
   "execution_count": 133,
   "id": "5345311d",
   "metadata": {},
   "outputs": [],
   "source": [
    "fpr,tpr,thresholds=roc_curve(y_test,pred_prob,pos_label=True)"
   ]
  },
  {
   "cell_type": "code",
   "execution_count": 134,
   "id": "8eff5a3f",
   "metadata": {},
   "outputs": [
    {
     "data": {
      "image/png": "[encoded data removed]",
      "text/plain": [
       "<Figure size 432x288 with 1 Axes>"
      ]
     },
     "metadata": {
      "needs_background": "light"
     },
     "output_type": "display_data"
    }
   ],
   "source": [
    "plt.plot([0,1],[1,0],'d--')\n",
    "plt.plot(fpr,tpr,label='ROC Curve')\n",
    "plt.xlabel('False positive rate')\n",
    "plt.ylabel('True positive rate')\n",
    "plt.title('GradientBoostingClassifier')\n",
    "plt.show()"
   ]
  },
  {
   "cell_type": "markdown",
   "id": "336e1d08",
   "metadata": {},
   "source": [
    "# Saving the Model"
   ]
  },
  {
   "cell_type": "code",
   "execution_count": 135,
   "id": "b9313f22",
   "metadata": {},
   "outputs": [],
   "source": [
    "import joblib"
   ]
  },
  {
   "cell_type": "code",
   "execution_count": 136,
   "id": "5b3e8875",
   "metadata": {},
   "outputs": [
    {
     "data": {
      "text/plain": [
       "['census_income.obj']"
      ]
     },
     "execution_count": 136,
     "metadata": {},
     "output_type": "execute_result"
    }
   ],
   "source": [
    "joblib.dump(gbtc,'census_income.obj')"
   ]
  },
  {
   "cell_type": "code",
   "execution_count": 137,
   "id": "53b12431",
   "metadata": {},
   "outputs": [
    {
     "data": {
      "text/plain": [
       "0.805"
      ]
     },
     "execution_count": 137,
     "metadata": {},
     "output_type": "execute_result"
    }
   ],
   "source": [
    "model=joblib.load('census_income.obj')\n",
    "result=model.predict(x_test)\n",
    "accuracy_score(y_test,result)"
   ]
  },
  {
   "cell_type": "code",
   "execution_count": null,
   "id": "f95ab01e",
   "metadata": {},
   "outputs": [],
   "source": []
  }
 ],
 "metadata": {
  "kernelspec": {
   "display_name": "Python 3 (ipykernel)",
   "language": "python",
   "name": "python3"
  },
  "language_info": {
   "codemirror_mode": {
    "name": "ipython",
    "version": 3
   },
   "file_extension": ".py",
   "mimetype": "text/x-python",
   "name": "python",
   "nbconvert_exporter": "python",
   "pygments_lexer": "ipython3",
   "version": "3.9.12"
  }
 },
 "nbformat": 4,
 "nbformat_minor": 5
}
