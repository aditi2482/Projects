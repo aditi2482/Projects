{
 "cells": [
  {
   "cell_type": "markdown",
   "id": "8a160a87",
   "metadata": {},
   "source": [
    "# Importing the libraries and dataset"
   ]
  },
  {
   "cell_type": "code",
   "execution_count": 174,
   "id": "e7083528",
   "metadata": {},
   "outputs": [],
   "source": [
    "import pandas as pd\n",
    "import numpy as np\n",
    "import seaborn as sns\n",
    "import matplotlib.pyplot as plt\n",
    "import warnings\n",
    "warnings.filterwarnings('ignore')"
   ]
  },
  {
   "cell_type": "code",
   "execution_count": 175,
   "id": "75fb31ac",
   "metadata": {},
   "outputs": [],
   "source": [
    "df=pd.read_csv(\"avocado.csv\")"
   ]
  },
  {
   "cell_type": "code",
   "execution_count": 176,
   "id": "736f5522",
   "metadata": {},
   "outputs": [
    {
     "data": {
      "text/html": [
       "<div>\n",
       "<style scoped>\n",
       "    .dataframe tbody tr th:only-of-type {\n",
       "        vertical-align: middle;\n",
       "    }\n",
       "\n",
       "    .dataframe tbody tr th {\n",
       "        vertical-align: top;\n",
       "    }\n",
       "\n",
       "    .dataframe thead th {\n",
       "        text-align: right;\n",
       "    }\n",
       "</style>\n",
       "<table border=\"1\" class=\"dataframe\">\n",
       "  <thead>\n",
       "    <tr style=\"text-align: right;\">\n",
       "      <th></th>\n",
       "      <th>Unnamed: 0</th>\n",
       "      <th>Date</th>\n",
       "      <th>AveragePrice</th>\n",
       "      <th>Total Volume</th>\n",
       "      <th>4046</th>\n",
       "      <th>4225</th>\n",
       "      <th>4770</th>\n",
       "      <th>Total Bags</th>\n",
       "      <th>Small Bags</th>\n",
       "      <th>Large Bags</th>\n",
       "      <th>XLarge Bags</th>\n",
       "      <th>type</th>\n",
       "      <th>year</th>\n",
       "      <th>region</th>\n",
       "    </tr>\n",
       "  </thead>\n",
       "  <tbody>\n",
       "    <tr>\n",
       "      <th>0</th>\n",
       "      <td>0</td>\n",
       "      <td>2015-12-27</td>\n",
       "      <td>1.33</td>\n",
       "      <td>64236.62</td>\n",
       "      <td>1036.74</td>\n",
       "      <td>54454.85</td>\n",
       "      <td>48.16</td>\n",
       "      <td>8696.87</td>\n",
       "      <td>8603.62</td>\n",
       "      <td>93.25</td>\n",
       "      <td>0.0</td>\n",
       "      <td>conventional</td>\n",
       "      <td>2015</td>\n",
       "      <td>Albany</td>\n",
       "    </tr>\n",
       "    <tr>\n",
       "      <th>1</th>\n",
       "      <td>1</td>\n",
       "      <td>2015-12-20</td>\n",
       "      <td>1.35</td>\n",
       "      <td>54876.98</td>\n",
       "      <td>674.28</td>\n",
       "      <td>44638.81</td>\n",
       "      <td>58.33</td>\n",
       "      <td>9505.56</td>\n",
       "      <td>9408.07</td>\n",
       "      <td>97.49</td>\n",
       "      <td>0.0</td>\n",
       "      <td>conventional</td>\n",
       "      <td>2015</td>\n",
       "      <td>Albany</td>\n",
       "    </tr>\n",
       "    <tr>\n",
       "      <th>2</th>\n",
       "      <td>2</td>\n",
       "      <td>2015-12-13</td>\n",
       "      <td>0.93</td>\n",
       "      <td>118220.22</td>\n",
       "      <td>794.70</td>\n",
       "      <td>109149.67</td>\n",
       "      <td>130.50</td>\n",
       "      <td>8145.35</td>\n",
       "      <td>8042.21</td>\n",
       "      <td>103.14</td>\n",
       "      <td>0.0</td>\n",
       "      <td>conventional</td>\n",
       "      <td>2015</td>\n",
       "      <td>Albany</td>\n",
       "    </tr>\n",
       "    <tr>\n",
       "      <th>3</th>\n",
       "      <td>3</td>\n",
       "      <td>2015-12-06</td>\n",
       "      <td>1.08</td>\n",
       "      <td>78992.15</td>\n",
       "      <td>1132.00</td>\n",
       "      <td>71976.41</td>\n",
       "      <td>72.58</td>\n",
       "      <td>5811.16</td>\n",
       "      <td>5677.40</td>\n",
       "      <td>133.76</td>\n",
       "      <td>0.0</td>\n",
       "      <td>conventional</td>\n",
       "      <td>2015</td>\n",
       "      <td>Albany</td>\n",
       "    </tr>\n",
       "    <tr>\n",
       "      <th>4</th>\n",
       "      <td>4</td>\n",
       "      <td>2015-11-29</td>\n",
       "      <td>1.28</td>\n",
       "      <td>51039.60</td>\n",
       "      <td>941.48</td>\n",
       "      <td>43838.39</td>\n",
       "      <td>75.78</td>\n",
       "      <td>6183.95</td>\n",
       "      <td>5986.26</td>\n",
       "      <td>197.69</td>\n",
       "      <td>0.0</td>\n",
       "      <td>conventional</td>\n",
       "      <td>2015</td>\n",
       "      <td>Albany</td>\n",
       "    </tr>\n",
       "    <tr>\n",
       "      <th>...</th>\n",
       "      <td>...</td>\n",
       "      <td>...</td>\n",
       "      <td>...</td>\n",
       "      <td>...</td>\n",
       "      <td>...</td>\n",
       "      <td>...</td>\n",
       "      <td>...</td>\n",
       "      <td>...</td>\n",
       "      <td>...</td>\n",
       "      <td>...</td>\n",
       "      <td>...</td>\n",
       "      <td>...</td>\n",
       "      <td>...</td>\n",
       "      <td>...</td>\n",
       "    </tr>\n",
       "    <tr>\n",
       "      <th>18244</th>\n",
       "      <td>7</td>\n",
       "      <td>2018-02-04</td>\n",
       "      <td>1.63</td>\n",
       "      <td>17074.83</td>\n",
       "      <td>2046.96</td>\n",
       "      <td>1529.20</td>\n",
       "      <td>0.00</td>\n",
       "      <td>13498.67</td>\n",
       "      <td>13066.82</td>\n",
       "      <td>431.85</td>\n",
       "      <td>0.0</td>\n",
       "      <td>organic</td>\n",
       "      <td>2018</td>\n",
       "      <td>WestTexNewMexico</td>\n",
       "    </tr>\n",
       "    <tr>\n",
       "      <th>18245</th>\n",
       "      <td>8</td>\n",
       "      <td>2018-01-28</td>\n",
       "      <td>1.71</td>\n",
       "      <td>13888.04</td>\n",
       "      <td>1191.70</td>\n",
       "      <td>3431.50</td>\n",
       "      <td>0.00</td>\n",
       "      <td>9264.84</td>\n",
       "      <td>8940.04</td>\n",
       "      <td>324.80</td>\n",
       "      <td>0.0</td>\n",
       "      <td>organic</td>\n",
       "      <td>2018</td>\n",
       "      <td>WestTexNewMexico</td>\n",
       "    </tr>\n",
       "    <tr>\n",
       "      <th>18246</th>\n",
       "      <td>9</td>\n",
       "      <td>2018-01-21</td>\n",
       "      <td>1.87</td>\n",
       "      <td>13766.76</td>\n",
       "      <td>1191.92</td>\n",
       "      <td>2452.79</td>\n",
       "      <td>727.94</td>\n",
       "      <td>9394.11</td>\n",
       "      <td>9351.80</td>\n",
       "      <td>42.31</td>\n",
       "      <td>0.0</td>\n",
       "      <td>organic</td>\n",
       "      <td>2018</td>\n",
       "      <td>WestTexNewMexico</td>\n",
       "    </tr>\n",
       "    <tr>\n",
       "      <th>18247</th>\n",
       "      <td>10</td>\n",
       "      <td>2018-01-14</td>\n",
       "      <td>1.93</td>\n",
       "      <td>16205.22</td>\n",
       "      <td>1527.63</td>\n",
       "      <td>2981.04</td>\n",
       "      <td>727.01</td>\n",
       "      <td>10969.54</td>\n",
       "      <td>10919.54</td>\n",
       "      <td>50.00</td>\n",
       "      <td>0.0</td>\n",
       "      <td>organic</td>\n",
       "      <td>2018</td>\n",
       "      <td>WestTexNewMexico</td>\n",
       "    </tr>\n",
       "    <tr>\n",
       "      <th>18248</th>\n",
       "      <td>11</td>\n",
       "      <td>2018-01-07</td>\n",
       "      <td>1.62</td>\n",
       "      <td>17489.58</td>\n",
       "      <td>2894.77</td>\n",
       "      <td>2356.13</td>\n",
       "      <td>224.53</td>\n",
       "      <td>12014.15</td>\n",
       "      <td>11988.14</td>\n",
       "      <td>26.01</td>\n",
       "      <td>0.0</td>\n",
       "      <td>organic</td>\n",
       "      <td>2018</td>\n",
       "      <td>WestTexNewMexico</td>\n",
       "    </tr>\n",
       "  </tbody>\n",
       "</table>\n",
       "<p>18249 rows × 14 columns</p>\n",
       "</div>"
      ],
      "text/plain": [
       "       Unnamed: 0        Date  AveragePrice  Total Volume     4046       4225  \\\n",
       "0               0  2015-12-27          1.33      64236.62  1036.74   54454.85   \n",
       "1               1  2015-12-20          1.35      54876.98   674.28   44638.81   \n",
       "2               2  2015-12-13          0.93     118220.22   794.70  109149.67   \n",
       "3               3  2015-12-06          1.08      78992.15  1132.00   71976.41   \n",
       "4               4  2015-11-29          1.28      51039.60   941.48   43838.39   \n",
       "...           ...         ...           ...           ...      ...        ...   \n",
       "18244           7  2018-02-04          1.63      17074.83  2046.96    1529.20   \n",
       "18245           8  2018-01-28          1.71      13888.04  1191.70    3431.50   \n",
       "18246           9  2018-01-21          1.87      13766.76  1191.92    2452.79   \n",
       "18247          10  2018-01-14          1.93      16205.22  1527.63    2981.04   \n",
       "18248          11  2018-01-07          1.62      17489.58  2894.77    2356.13   \n",
       "\n",
       "         4770  Total Bags  Small Bags  Large Bags  XLarge Bags          type  \\\n",
       "0       48.16     8696.87     8603.62       93.25          0.0  conventional   \n",
       "1       58.33     9505.56     9408.07       97.49          0.0  conventional   \n",
       "2      130.50     8145.35     8042.21      103.14          0.0  conventional   \n",
       "3       72.58     5811.16     5677.40      133.76          0.0  conventional   \n",
       "4       75.78     6183.95     5986.26      197.69          0.0  conventional   \n",
       "...       ...         ...         ...         ...          ...           ...   \n",
       "18244    0.00    13498.67    13066.82      431.85          0.0       organic   \n",
       "18245    0.00     9264.84     8940.04      324.80          0.0       organic   \n",
       "18246  727.94     9394.11     9351.80       42.31          0.0       organic   \n",
       "18247  727.01    10969.54    10919.54       50.00          0.0       organic   \n",
       "18248  224.53    12014.15    11988.14       26.01          0.0       organic   \n",
       "\n",
       "       year            region  \n",
       "0      2015            Albany  \n",
       "1      2015            Albany  \n",
       "2      2015            Albany  \n",
       "3      2015            Albany  \n",
       "4      2015            Albany  \n",
       "...     ...               ...  \n",
       "18244  2018  WestTexNewMexico  \n",
       "18245  2018  WestTexNewMexico  \n",
       "18246  2018  WestTexNewMexico  \n",
       "18247  2018  WestTexNewMexico  \n",
       "18248  2018  WestTexNewMexico  \n",
       "\n",
       "[18249 rows x 14 columns]"
      ]
     },
     "execution_count": 176,
     "metadata": {},
     "output_type": "execute_result"
    }
   ],
   "source": [
    "df"
   ]
  },
  {
   "cell_type": "code",
   "execution_count": 177,
   "id": "4f9e650d",
   "metadata": {},
   "outputs": [
    {
     "data": {
      "text/html": [
       "<div>\n",
       "<style scoped>\n",
       "    .dataframe tbody tr th:only-of-type {\n",
       "        vertical-align: middle;\n",
       "    }\n",
       "\n",
       "    .dataframe tbody tr th {\n",
       "        vertical-align: top;\n",
       "    }\n",
       "\n",
       "    .dataframe thead th {\n",
       "        text-align: right;\n",
       "    }\n",
       "</style>\n",
       "<table border=\"1\" class=\"dataframe\">\n",
       "  <thead>\n",
       "    <tr style=\"text-align: right;\">\n",
       "      <th></th>\n",
       "      <th>Unnamed: 0</th>\n",
       "      <th>Date</th>\n",
       "      <th>AveragePrice</th>\n",
       "      <th>Total Volume</th>\n",
       "      <th>4046</th>\n",
       "      <th>4225</th>\n",
       "      <th>4770</th>\n",
       "      <th>Total Bags</th>\n",
       "      <th>Small Bags</th>\n",
       "      <th>Large Bags</th>\n",
       "      <th>XLarge Bags</th>\n",
       "      <th>type</th>\n",
       "      <th>year</th>\n",
       "      <th>region</th>\n",
       "    </tr>\n",
       "  </thead>\n",
       "  <tbody>\n",
       "    <tr>\n",
       "      <th>0</th>\n",
       "      <td>0</td>\n",
       "      <td>2015-12-27</td>\n",
       "      <td>1.33</td>\n",
       "      <td>64236.62</td>\n",
       "      <td>1036.74</td>\n",
       "      <td>54454.85</td>\n",
       "      <td>48.16</td>\n",
       "      <td>8696.87</td>\n",
       "      <td>8603.62</td>\n",
       "      <td>93.25</td>\n",
       "      <td>0.0</td>\n",
       "      <td>conventional</td>\n",
       "      <td>2015</td>\n",
       "      <td>Albany</td>\n",
       "    </tr>\n",
       "    <tr>\n",
       "      <th>1</th>\n",
       "      <td>1</td>\n",
       "      <td>2015-12-20</td>\n",
       "      <td>1.35</td>\n",
       "      <td>54876.98</td>\n",
       "      <td>674.28</td>\n",
       "      <td>44638.81</td>\n",
       "      <td>58.33</td>\n",
       "      <td>9505.56</td>\n",
       "      <td>9408.07</td>\n",
       "      <td>97.49</td>\n",
       "      <td>0.0</td>\n",
       "      <td>conventional</td>\n",
       "      <td>2015</td>\n",
       "      <td>Albany</td>\n",
       "    </tr>\n",
       "    <tr>\n",
       "      <th>2</th>\n",
       "      <td>2</td>\n",
       "      <td>2015-12-13</td>\n",
       "      <td>0.93</td>\n",
       "      <td>118220.22</td>\n",
       "      <td>794.70</td>\n",
       "      <td>109149.67</td>\n",
       "      <td>130.50</td>\n",
       "      <td>8145.35</td>\n",
       "      <td>8042.21</td>\n",
       "      <td>103.14</td>\n",
       "      <td>0.0</td>\n",
       "      <td>conventional</td>\n",
       "      <td>2015</td>\n",
       "      <td>Albany</td>\n",
       "    </tr>\n",
       "    <tr>\n",
       "      <th>3</th>\n",
       "      <td>3</td>\n",
       "      <td>2015-12-06</td>\n",
       "      <td>1.08</td>\n",
       "      <td>78992.15</td>\n",
       "      <td>1132.00</td>\n",
       "      <td>71976.41</td>\n",
       "      <td>72.58</td>\n",
       "      <td>5811.16</td>\n",
       "      <td>5677.40</td>\n",
       "      <td>133.76</td>\n",
       "      <td>0.0</td>\n",
       "      <td>conventional</td>\n",
       "      <td>2015</td>\n",
       "      <td>Albany</td>\n",
       "    </tr>\n",
       "    <tr>\n",
       "      <th>4</th>\n",
       "      <td>4</td>\n",
       "      <td>2015-11-29</td>\n",
       "      <td>1.28</td>\n",
       "      <td>51039.60</td>\n",
       "      <td>941.48</td>\n",
       "      <td>43838.39</td>\n",
       "      <td>75.78</td>\n",
       "      <td>6183.95</td>\n",
       "      <td>5986.26</td>\n",
       "      <td>197.69</td>\n",
       "      <td>0.0</td>\n",
       "      <td>conventional</td>\n",
       "      <td>2015</td>\n",
       "      <td>Albany</td>\n",
       "    </tr>\n",
       "  </tbody>\n",
       "</table>\n",
       "</div>"
      ],
      "text/plain": [
       "   Unnamed: 0        Date  AveragePrice  Total Volume     4046       4225  \\\n",
       "0           0  2015-12-27          1.33      64236.62  1036.74   54454.85   \n",
       "1           1  2015-12-20          1.35      54876.98   674.28   44638.81   \n",
       "2           2  2015-12-13          0.93     118220.22   794.70  109149.67   \n",
       "3           3  2015-12-06          1.08      78992.15  1132.00   71976.41   \n",
       "4           4  2015-11-29          1.28      51039.60   941.48   43838.39   \n",
       "\n",
       "     4770  Total Bags  Small Bags  Large Bags  XLarge Bags          type  \\\n",
       "0   48.16     8696.87     8603.62       93.25          0.0  conventional   \n",
       "1   58.33     9505.56     9408.07       97.49          0.0  conventional   \n",
       "2  130.50     8145.35     8042.21      103.14          0.0  conventional   \n",
       "3   72.58     5811.16     5677.40      133.76          0.0  conventional   \n",
       "4   75.78     6183.95     5986.26      197.69          0.0  conventional   \n",
       "\n",
       "   year  region  \n",
       "0  2015  Albany  \n",
       "1  2015  Albany  \n",
       "2  2015  Albany  \n",
       "3  2015  Albany  \n",
       "4  2015  Albany  "
      ]
     },
     "execution_count": 177,
     "metadata": {},
     "output_type": "execute_result"
    }
   ],
   "source": [
    "df.head()"
   ]
  },
  {
   "cell_type": "code",
   "execution_count": 178,
   "id": "80bf3b72",
   "metadata": {},
   "outputs": [
    {
     "name": "stdout",
     "output_type": "stream",
     "text": [
      "<class 'pandas.core.frame.DataFrame'>\n",
      "RangeIndex: 18249 entries, 0 to 18248\n",
      "Data columns (total 14 columns):\n",
      " #   Column        Non-Null Count  Dtype  \n",
      "---  ------        --------------  -----  \n",
      " 0   Unnamed: 0    18249 non-null  int64  \n",
      " 1   Date          18249 non-null  object \n",
      " 2   AveragePrice  18249 non-null  float64\n",
      " 3   Total Volume  18249 non-null  float64\n",
      " 4   4046          18249 non-null  float64\n",
      " 5   4225          18249 non-null  float64\n",
      " 6   4770          18249 non-null  float64\n",
      " 7   Total Bags    18249 non-null  float64\n",
      " 8   Small Bags    18249 non-null  float64\n",
      " 9   Large Bags    18249 non-null  float64\n",
      " 10  XLarge Bags   18249 non-null  float64\n",
      " 11  type          18249 non-null  object \n",
      " 12  year          18249 non-null  int64  \n",
      " 13  region        18249 non-null  object \n",
      "dtypes: float64(9), int64(2), object(3)\n",
      "memory usage: 1.9+ MB\n"
     ]
    }
   ],
   "source": [
    "df.info()"
   ]
  },
  {
   "cell_type": "code",
   "execution_count": 179,
   "id": "f6b33c93",
   "metadata": {},
   "outputs": [
    {
     "data": {
      "text/html": [
       "<div>\n",
       "<style scoped>\n",
       "    .dataframe tbody tr th:only-of-type {\n",
       "        vertical-align: middle;\n",
       "    }\n",
       "\n",
       "    .dataframe tbody tr th {\n",
       "        vertical-align: top;\n",
       "    }\n",
       "\n",
       "    .dataframe thead th {\n",
       "        text-align: right;\n",
       "    }\n",
       "</style>\n",
       "<table border=\"1\" class=\"dataframe\">\n",
       "  <thead>\n",
       "    <tr style=\"text-align: right;\">\n",
       "      <th></th>\n",
       "      <th>Unnamed: 0</th>\n",
       "      <th>AveragePrice</th>\n",
       "      <th>Total Volume</th>\n",
       "      <th>4046</th>\n",
       "      <th>4225</th>\n",
       "      <th>4770</th>\n",
       "      <th>Total Bags</th>\n",
       "      <th>Small Bags</th>\n",
       "      <th>Large Bags</th>\n",
       "      <th>XLarge Bags</th>\n",
       "      <th>year</th>\n",
       "    </tr>\n",
       "  </thead>\n",
       "  <tbody>\n",
       "    <tr>\n",
       "      <th>count</th>\n",
       "      <td>18249.000000</td>\n",
       "      <td>18249.000000</td>\n",
       "      <td>1.824900e+04</td>\n",
       "      <td>1.824900e+04</td>\n",
       "      <td>1.824900e+04</td>\n",
       "      <td>1.824900e+04</td>\n",
       "      <td>1.824900e+04</td>\n",
       "      <td>1.824900e+04</td>\n",
       "      <td>1.824900e+04</td>\n",
       "      <td>18249.000000</td>\n",
       "      <td>18249.000000</td>\n",
       "    </tr>\n",
       "    <tr>\n",
       "      <th>mean</th>\n",
       "      <td>24.232232</td>\n",
       "      <td>1.405978</td>\n",
       "      <td>8.506440e+05</td>\n",
       "      <td>2.930084e+05</td>\n",
       "      <td>2.951546e+05</td>\n",
       "      <td>2.283974e+04</td>\n",
       "      <td>2.396392e+05</td>\n",
       "      <td>1.821947e+05</td>\n",
       "      <td>5.433809e+04</td>\n",
       "      <td>3106.426507</td>\n",
       "      <td>2016.147899</td>\n",
       "    </tr>\n",
       "    <tr>\n",
       "      <th>std</th>\n",
       "      <td>15.481045</td>\n",
       "      <td>0.402677</td>\n",
       "      <td>3.453545e+06</td>\n",
       "      <td>1.264989e+06</td>\n",
       "      <td>1.204120e+06</td>\n",
       "      <td>1.074641e+05</td>\n",
       "      <td>9.862424e+05</td>\n",
       "      <td>7.461785e+05</td>\n",
       "      <td>2.439660e+05</td>\n",
       "      <td>17692.894652</td>\n",
       "      <td>0.939938</td>\n",
       "    </tr>\n",
       "    <tr>\n",
       "      <th>min</th>\n",
       "      <td>0.000000</td>\n",
       "      <td>0.440000</td>\n",
       "      <td>8.456000e+01</td>\n",
       "      <td>0.000000e+00</td>\n",
       "      <td>0.000000e+00</td>\n",
       "      <td>0.000000e+00</td>\n",
       "      <td>0.000000e+00</td>\n",
       "      <td>0.000000e+00</td>\n",
       "      <td>0.000000e+00</td>\n",
       "      <td>0.000000</td>\n",
       "      <td>2015.000000</td>\n",
       "    </tr>\n",
       "    <tr>\n",
       "      <th>25%</th>\n",
       "      <td>10.000000</td>\n",
       "      <td>1.100000</td>\n",
       "      <td>1.083858e+04</td>\n",
       "      <td>8.540700e+02</td>\n",
       "      <td>3.008780e+03</td>\n",
       "      <td>0.000000e+00</td>\n",
       "      <td>5.088640e+03</td>\n",
       "      <td>2.849420e+03</td>\n",
       "      <td>1.274700e+02</td>\n",
       "      <td>0.000000</td>\n",
       "      <td>2015.000000</td>\n",
       "    </tr>\n",
       "    <tr>\n",
       "      <th>50%</th>\n",
       "      <td>24.000000</td>\n",
       "      <td>1.370000</td>\n",
       "      <td>1.073768e+05</td>\n",
       "      <td>8.645300e+03</td>\n",
       "      <td>2.906102e+04</td>\n",
       "      <td>1.849900e+02</td>\n",
       "      <td>3.974383e+04</td>\n",
       "      <td>2.636282e+04</td>\n",
       "      <td>2.647710e+03</td>\n",
       "      <td>0.000000</td>\n",
       "      <td>2016.000000</td>\n",
       "    </tr>\n",
       "    <tr>\n",
       "      <th>75%</th>\n",
       "      <td>38.000000</td>\n",
       "      <td>1.660000</td>\n",
       "      <td>4.329623e+05</td>\n",
       "      <td>1.110202e+05</td>\n",
       "      <td>1.502069e+05</td>\n",
       "      <td>6.243420e+03</td>\n",
       "      <td>1.107834e+05</td>\n",
       "      <td>8.333767e+04</td>\n",
       "      <td>2.202925e+04</td>\n",
       "      <td>132.500000</td>\n",
       "      <td>2017.000000</td>\n",
       "    </tr>\n",
       "    <tr>\n",
       "      <th>max</th>\n",
       "      <td>52.000000</td>\n",
       "      <td>3.250000</td>\n",
       "      <td>6.250565e+07</td>\n",
       "      <td>2.274362e+07</td>\n",
       "      <td>2.047057e+07</td>\n",
       "      <td>2.546439e+06</td>\n",
       "      <td>1.937313e+07</td>\n",
       "      <td>1.338459e+07</td>\n",
       "      <td>5.719097e+06</td>\n",
       "      <td>551693.650000</td>\n",
       "      <td>2018.000000</td>\n",
       "    </tr>\n",
       "  </tbody>\n",
       "</table>\n",
       "</div>"
      ],
      "text/plain": [
       "         Unnamed: 0  AveragePrice  Total Volume          4046          4225  \\\n",
       "count  18249.000000  18249.000000  1.824900e+04  1.824900e+04  1.824900e+04   \n",
       "mean      24.232232      1.405978  8.506440e+05  2.930084e+05  2.951546e+05   \n",
       "std       15.481045      0.402677  3.453545e+06  1.264989e+06  1.204120e+06   \n",
       "min        0.000000      0.440000  8.456000e+01  0.000000e+00  0.000000e+00   \n",
       "25%       10.000000      1.100000  1.083858e+04  8.540700e+02  3.008780e+03   \n",
       "50%       24.000000      1.370000  1.073768e+05  8.645300e+03  2.906102e+04   \n",
       "75%       38.000000      1.660000  4.329623e+05  1.110202e+05  1.502069e+05   \n",
       "max       52.000000      3.250000  6.250565e+07  2.274362e+07  2.047057e+07   \n",
       "\n",
       "               4770    Total Bags    Small Bags    Large Bags    XLarge Bags  \\\n",
       "count  1.824900e+04  1.824900e+04  1.824900e+04  1.824900e+04   18249.000000   \n",
       "mean   2.283974e+04  2.396392e+05  1.821947e+05  5.433809e+04    3106.426507   \n",
       "std    1.074641e+05  9.862424e+05  7.461785e+05  2.439660e+05   17692.894652   \n",
       "min    0.000000e+00  0.000000e+00  0.000000e+00  0.000000e+00       0.000000   \n",
       "25%    0.000000e+00  5.088640e+03  2.849420e+03  1.274700e+02       0.000000   \n",
       "50%    1.849900e+02  3.974383e+04  2.636282e+04  2.647710e+03       0.000000   \n",
       "75%    6.243420e+03  1.107834e+05  8.333767e+04  2.202925e+04     132.500000   \n",
       "max    2.546439e+06  1.937313e+07  1.338459e+07  5.719097e+06  551693.650000   \n",
       "\n",
       "               year  \n",
       "count  18249.000000  \n",
       "mean    2016.147899  \n",
       "std        0.939938  \n",
       "min     2015.000000  \n",
       "25%     2015.000000  \n",
       "50%     2016.000000  \n",
       "75%     2017.000000  \n",
       "max     2018.000000  "
      ]
     },
     "execution_count": 179,
     "metadata": {},
     "output_type": "execute_result"
    }
   ],
   "source": [
    "df.describe()"
   ]
  },
  {
   "cell_type": "markdown",
   "id": "41f51ed5",
   "metadata": {},
   "source": [
    "# Checking Missing or Null values"
   ]
  },
  {
   "cell_type": "code",
   "execution_count": 180,
   "id": "0ef20082",
   "metadata": {},
   "outputs": [
    {
     "data": {
      "text/plain": [
       "Unnamed: 0      0\n",
       "Date            0\n",
       "AveragePrice    0\n",
       "Total Volume    0\n",
       "4046            0\n",
       "4225            0\n",
       "4770            0\n",
       "Total Bags      0\n",
       "Small Bags      0\n",
       "Large Bags      0\n",
       "XLarge Bags     0\n",
       "type            0\n",
       "year            0\n",
       "region          0\n",
       "dtype: int64"
      ]
     },
     "execution_count": 180,
     "metadata": {},
     "output_type": "execute_result"
    }
   ],
   "source": [
    "df.isnull().sum()"
   ]
  },
  {
   "cell_type": "code",
   "execution_count": 181,
   "id": "03492e6d",
   "metadata": {},
   "outputs": [
    {
     "data": {
      "text/html": [
       "<div>\n",
       "<style scoped>\n",
       "    .dataframe tbody tr th:only-of-type {\n",
       "        vertical-align: middle;\n",
       "    }\n",
       "\n",
       "    .dataframe tbody tr th {\n",
       "        vertical-align: top;\n",
       "    }\n",
       "\n",
       "    .dataframe thead th {\n",
       "        text-align: right;\n",
       "    }\n",
       "</style>\n",
       "<table border=\"1\" class=\"dataframe\">\n",
       "  <thead>\n",
       "    <tr style=\"text-align: right;\">\n",
       "      <th></th>\n",
       "      <th>Date</th>\n",
       "      <th>AveragePrice</th>\n",
       "      <th>Total Volume</th>\n",
       "      <th>4046</th>\n",
       "      <th>4225</th>\n",
       "      <th>4770</th>\n",
       "      <th>Total Bags</th>\n",
       "      <th>Small Bags</th>\n",
       "      <th>Large Bags</th>\n",
       "      <th>XLarge Bags</th>\n",
       "      <th>type</th>\n",
       "      <th>year</th>\n",
       "      <th>region</th>\n",
       "    </tr>\n",
       "  </thead>\n",
       "  <tbody>\n",
       "    <tr>\n",
       "      <th>0</th>\n",
       "      <td>2015-12-27</td>\n",
       "      <td>1.33</td>\n",
       "      <td>64236.62</td>\n",
       "      <td>1036.74</td>\n",
       "      <td>54454.85</td>\n",
       "      <td>48.16</td>\n",
       "      <td>8696.87</td>\n",
       "      <td>8603.62</td>\n",
       "      <td>93.25</td>\n",
       "      <td>0.0</td>\n",
       "      <td>conventional</td>\n",
       "      <td>2015</td>\n",
       "      <td>Albany</td>\n",
       "    </tr>\n",
       "    <tr>\n",
       "      <th>1</th>\n",
       "      <td>2015-12-20</td>\n",
       "      <td>1.35</td>\n",
       "      <td>54876.98</td>\n",
       "      <td>674.28</td>\n",
       "      <td>44638.81</td>\n",
       "      <td>58.33</td>\n",
       "      <td>9505.56</td>\n",
       "      <td>9408.07</td>\n",
       "      <td>97.49</td>\n",
       "      <td>0.0</td>\n",
       "      <td>conventional</td>\n",
       "      <td>2015</td>\n",
       "      <td>Albany</td>\n",
       "    </tr>\n",
       "    <tr>\n",
       "      <th>2</th>\n",
       "      <td>2015-12-13</td>\n",
       "      <td>0.93</td>\n",
       "      <td>118220.22</td>\n",
       "      <td>794.70</td>\n",
       "      <td>109149.67</td>\n",
       "      <td>130.50</td>\n",
       "      <td>8145.35</td>\n",
       "      <td>8042.21</td>\n",
       "      <td>103.14</td>\n",
       "      <td>0.0</td>\n",
       "      <td>conventional</td>\n",
       "      <td>2015</td>\n",
       "      <td>Albany</td>\n",
       "    </tr>\n",
       "    <tr>\n",
       "      <th>3</th>\n",
       "      <td>2015-12-06</td>\n",
       "      <td>1.08</td>\n",
       "      <td>78992.15</td>\n",
       "      <td>1132.00</td>\n",
       "      <td>71976.41</td>\n",
       "      <td>72.58</td>\n",
       "      <td>5811.16</td>\n",
       "      <td>5677.40</td>\n",
       "      <td>133.76</td>\n",
       "      <td>0.0</td>\n",
       "      <td>conventional</td>\n",
       "      <td>2015</td>\n",
       "      <td>Albany</td>\n",
       "    </tr>\n",
       "    <tr>\n",
       "      <th>4</th>\n",
       "      <td>2015-11-29</td>\n",
       "      <td>1.28</td>\n",
       "      <td>51039.60</td>\n",
       "      <td>941.48</td>\n",
       "      <td>43838.39</td>\n",
       "      <td>75.78</td>\n",
       "      <td>6183.95</td>\n",
       "      <td>5986.26</td>\n",
       "      <td>197.69</td>\n",
       "      <td>0.0</td>\n",
       "      <td>conventional</td>\n",
       "      <td>2015</td>\n",
       "      <td>Albany</td>\n",
       "    </tr>\n",
       "    <tr>\n",
       "      <th>5</th>\n",
       "      <td>2015-11-22</td>\n",
       "      <td>1.26</td>\n",
       "      <td>55979.78</td>\n",
       "      <td>1184.27</td>\n",
       "      <td>48067.99</td>\n",
       "      <td>43.61</td>\n",
       "      <td>6683.91</td>\n",
       "      <td>6556.47</td>\n",
       "      <td>127.44</td>\n",
       "      <td>0.0</td>\n",
       "      <td>conventional</td>\n",
       "      <td>2015</td>\n",
       "      <td>Albany</td>\n",
       "    </tr>\n",
       "    <tr>\n",
       "      <th>6</th>\n",
       "      <td>2015-11-15</td>\n",
       "      <td>0.99</td>\n",
       "      <td>83453.76</td>\n",
       "      <td>1368.92</td>\n",
       "      <td>73672.72</td>\n",
       "      <td>93.26</td>\n",
       "      <td>8318.86</td>\n",
       "      <td>8196.81</td>\n",
       "      <td>122.05</td>\n",
       "      <td>0.0</td>\n",
       "      <td>conventional</td>\n",
       "      <td>2015</td>\n",
       "      <td>Albany</td>\n",
       "    </tr>\n",
       "    <tr>\n",
       "      <th>7</th>\n",
       "      <td>2015-11-08</td>\n",
       "      <td>0.98</td>\n",
       "      <td>109428.33</td>\n",
       "      <td>703.75</td>\n",
       "      <td>101815.36</td>\n",
       "      <td>80.00</td>\n",
       "      <td>6829.22</td>\n",
       "      <td>6266.85</td>\n",
       "      <td>562.37</td>\n",
       "      <td>0.0</td>\n",
       "      <td>conventional</td>\n",
       "      <td>2015</td>\n",
       "      <td>Albany</td>\n",
       "    </tr>\n",
       "    <tr>\n",
       "      <th>8</th>\n",
       "      <td>2015-11-01</td>\n",
       "      <td>1.02</td>\n",
       "      <td>99811.42</td>\n",
       "      <td>1022.15</td>\n",
       "      <td>87315.57</td>\n",
       "      <td>85.34</td>\n",
       "      <td>11388.36</td>\n",
       "      <td>11104.53</td>\n",
       "      <td>283.83</td>\n",
       "      <td>0.0</td>\n",
       "      <td>conventional</td>\n",
       "      <td>2015</td>\n",
       "      <td>Albany</td>\n",
       "    </tr>\n",
       "    <tr>\n",
       "      <th>9</th>\n",
       "      <td>2015-10-25</td>\n",
       "      <td>1.07</td>\n",
       "      <td>74338.76</td>\n",
       "      <td>842.40</td>\n",
       "      <td>64757.44</td>\n",
       "      <td>113.00</td>\n",
       "      <td>8625.92</td>\n",
       "      <td>8061.47</td>\n",
       "      <td>564.45</td>\n",
       "      <td>0.0</td>\n",
       "      <td>conventional</td>\n",
       "      <td>2015</td>\n",
       "      <td>Albany</td>\n",
       "    </tr>\n",
       "  </tbody>\n",
       "</table>\n",
       "</div>"
      ],
      "text/plain": [
       "         Date  AveragePrice  Total Volume     4046       4225    4770  \\\n",
       "0  2015-12-27          1.33      64236.62  1036.74   54454.85   48.16   \n",
       "1  2015-12-20          1.35      54876.98   674.28   44638.81   58.33   \n",
       "2  2015-12-13          0.93     118220.22   794.70  109149.67  130.50   \n",
       "3  2015-12-06          1.08      78992.15  1132.00   71976.41   72.58   \n",
       "4  2015-11-29          1.28      51039.60   941.48   43838.39   75.78   \n",
       "5  2015-11-22          1.26      55979.78  1184.27   48067.99   43.61   \n",
       "6  2015-11-15          0.99      83453.76  1368.92   73672.72   93.26   \n",
       "7  2015-11-08          0.98     109428.33   703.75  101815.36   80.00   \n",
       "8  2015-11-01          1.02      99811.42  1022.15   87315.57   85.34   \n",
       "9  2015-10-25          1.07      74338.76   842.40   64757.44  113.00   \n",
       "\n",
       "   Total Bags  Small Bags  Large Bags  XLarge Bags          type  year  region  \n",
       "0     8696.87     8603.62       93.25          0.0  conventional  2015  Albany  \n",
       "1     9505.56     9408.07       97.49          0.0  conventional  2015  Albany  \n",
       "2     8145.35     8042.21      103.14          0.0  conventional  2015  Albany  \n",
       "3     5811.16     5677.40      133.76          0.0  conventional  2015  Albany  \n",
       "4     6183.95     5986.26      197.69          0.0  conventional  2015  Albany  \n",
       "5     6683.91     6556.47      127.44          0.0  conventional  2015  Albany  \n",
       "6     8318.86     8196.81      122.05          0.0  conventional  2015  Albany  \n",
       "7     6829.22     6266.85      562.37          0.0  conventional  2015  Albany  \n",
       "8    11388.36    11104.53      283.83          0.0  conventional  2015  Albany  \n",
       "9     8625.92     8061.47      564.45          0.0  conventional  2015  Albany  "
      ]
     },
     "execution_count": 181,
     "metadata": {},
     "output_type": "execute_result"
    }
   ],
   "source": [
    "df= df.drop(['Unnamed: 0'],axis = 1)\n",
    "df.head(10)"
   ]
  },
  {
   "cell_type": "code",
   "execution_count": 182,
   "id": "02e1e4e3",
   "metadata": {},
   "outputs": [
    {
     "data": {
      "text/plain": [
       "float64    9\n",
       "object     3\n",
       "int64      1\n",
       "dtype: int64"
      ]
     },
     "execution_count": 182,
     "metadata": {},
     "output_type": "execute_result"
    }
   ],
   "source": [
    "df.dtypes.value_counts()"
   ]
  },
  {
   "cell_type": "code",
   "execution_count": 183,
   "id": "a672b93d",
   "metadata": {},
   "outputs": [
    {
     "data": {
      "text/html": [
       "<div>\n",
       "<style scoped>\n",
       "    .dataframe tbody tr th:only-of-type {\n",
       "        vertical-align: middle;\n",
       "    }\n",
       "\n",
       "    .dataframe tbody tr th {\n",
       "        vertical-align: top;\n",
       "    }\n",
       "\n",
       "    .dataframe thead th {\n",
       "        text-align: right;\n",
       "    }\n",
       "</style>\n",
       "<table border=\"1\" class=\"dataframe\">\n",
       "  <thead>\n",
       "    <tr style=\"text-align: right;\">\n",
       "      <th></th>\n",
       "      <th>Date</th>\n",
       "      <th>AveragePrice</th>\n",
       "      <th>Total Volume</th>\n",
       "      <th>4046</th>\n",
       "      <th>4225</th>\n",
       "      <th>4770</th>\n",
       "      <th>Total Bags</th>\n",
       "      <th>Small Bags</th>\n",
       "      <th>Large Bags</th>\n",
       "      <th>XLarge Bags</th>\n",
       "      <th>type</th>\n",
       "      <th>year</th>\n",
       "      <th>region</th>\n",
       "      <th>Month</th>\n",
       "      <th>Day</th>\n",
       "    </tr>\n",
       "  </thead>\n",
       "  <tbody>\n",
       "    <tr>\n",
       "      <th>0</th>\n",
       "      <td>2015-12-27</td>\n",
       "      <td>1.33</td>\n",
       "      <td>64236.62</td>\n",
       "      <td>1036.74</td>\n",
       "      <td>54454.85</td>\n",
       "      <td>48.16</td>\n",
       "      <td>8696.87</td>\n",
       "      <td>8603.62</td>\n",
       "      <td>93.25</td>\n",
       "      <td>0.0</td>\n",
       "      <td>conventional</td>\n",
       "      <td>2015</td>\n",
       "      <td>Albany</td>\n",
       "      <td>12</td>\n",
       "      <td>27</td>\n",
       "    </tr>\n",
       "    <tr>\n",
       "      <th>1</th>\n",
       "      <td>2015-12-20</td>\n",
       "      <td>1.35</td>\n",
       "      <td>54876.98</td>\n",
       "      <td>674.28</td>\n",
       "      <td>44638.81</td>\n",
       "      <td>58.33</td>\n",
       "      <td>9505.56</td>\n",
       "      <td>9408.07</td>\n",
       "      <td>97.49</td>\n",
       "      <td>0.0</td>\n",
       "      <td>conventional</td>\n",
       "      <td>2015</td>\n",
       "      <td>Albany</td>\n",
       "      <td>12</td>\n",
       "      <td>20</td>\n",
       "    </tr>\n",
       "    <tr>\n",
       "      <th>2</th>\n",
       "      <td>2015-12-13</td>\n",
       "      <td>0.93</td>\n",
       "      <td>118220.22</td>\n",
       "      <td>794.70</td>\n",
       "      <td>109149.67</td>\n",
       "      <td>130.50</td>\n",
       "      <td>8145.35</td>\n",
       "      <td>8042.21</td>\n",
       "      <td>103.14</td>\n",
       "      <td>0.0</td>\n",
       "      <td>conventional</td>\n",
       "      <td>2015</td>\n",
       "      <td>Albany</td>\n",
       "      <td>12</td>\n",
       "      <td>13</td>\n",
       "    </tr>\n",
       "    <tr>\n",
       "      <th>3</th>\n",
       "      <td>2015-12-06</td>\n",
       "      <td>1.08</td>\n",
       "      <td>78992.15</td>\n",
       "      <td>1132.00</td>\n",
       "      <td>71976.41</td>\n",
       "      <td>72.58</td>\n",
       "      <td>5811.16</td>\n",
       "      <td>5677.40</td>\n",
       "      <td>133.76</td>\n",
       "      <td>0.0</td>\n",
       "      <td>conventional</td>\n",
       "      <td>2015</td>\n",
       "      <td>Albany</td>\n",
       "      <td>12</td>\n",
       "      <td>6</td>\n",
       "    </tr>\n",
       "    <tr>\n",
       "      <th>4</th>\n",
       "      <td>2015-11-29</td>\n",
       "      <td>1.28</td>\n",
       "      <td>51039.60</td>\n",
       "      <td>941.48</td>\n",
       "      <td>43838.39</td>\n",
       "      <td>75.78</td>\n",
       "      <td>6183.95</td>\n",
       "      <td>5986.26</td>\n",
       "      <td>197.69</td>\n",
       "      <td>0.0</td>\n",
       "      <td>conventional</td>\n",
       "      <td>2015</td>\n",
       "      <td>Albany</td>\n",
       "      <td>11</td>\n",
       "      <td>29</td>\n",
       "    </tr>\n",
       "  </tbody>\n",
       "</table>\n",
       "</div>"
      ],
      "text/plain": [
       "        Date  AveragePrice  Total Volume     4046       4225    4770  \\\n",
       "0 2015-12-27          1.33      64236.62  1036.74   54454.85   48.16   \n",
       "1 2015-12-20          1.35      54876.98   674.28   44638.81   58.33   \n",
       "2 2015-12-13          0.93     118220.22   794.70  109149.67  130.50   \n",
       "3 2015-12-06          1.08      78992.15  1132.00   71976.41   72.58   \n",
       "4 2015-11-29          1.28      51039.60   941.48   43838.39   75.78   \n",
       "\n",
       "   Total Bags  Small Bags  Large Bags  XLarge Bags          type  year  \\\n",
       "0     8696.87     8603.62       93.25          0.0  conventional  2015   \n",
       "1     9505.56     9408.07       97.49          0.0  conventional  2015   \n",
       "2     8145.35     8042.21      103.14          0.0  conventional  2015   \n",
       "3     5811.16     5677.40      133.76          0.0  conventional  2015   \n",
       "4     6183.95     5986.26      197.69          0.0  conventional  2015   \n",
       "\n",
       "   region  Month  Day  \n",
       "0  Albany     12   27  \n",
       "1  Albany     12   20  \n",
       "2  Albany     12   13  \n",
       "3  Albany     12    6  \n",
       "4  Albany     11   29  "
      ]
     },
     "execution_count": 183,
     "metadata": {},
     "output_type": "execute_result"
    }
   ],
   "source": [
    "df['Date']=pd.to_datetime(df['Date'])\n",
    "df['Month']=df['Date'].apply(lambda x:x.month)\n",
    "df['Day']=df['Date'].apply(lambda x:x.day)\n",
    "df.head()"
   ]
  },
  {
   "cell_type": "code",
   "execution_count": 184,
   "id": "e6218c63",
   "metadata": {},
   "outputs": [
    {
     "data": {
      "text/plain": [
       "Index(['Date', 'AveragePrice', 'Total Volume', '4046', '4225', '4770',\n",
       "       'Total Bags', 'Small Bags', 'Large Bags', 'XLarge Bags', 'type', 'year',\n",
       "       'region', 'Month', 'Day'],\n",
       "      dtype='object')"
      ]
     },
     "execution_count": 184,
     "metadata": {},
     "output_type": "execute_result"
    }
   ],
   "source": [
    "df.columns"
   ]
  },
  {
   "cell_type": "markdown",
   "id": "a6bfa9ff",
   "metadata": {},
   "source": [
    "# Visualization"
   ]
  },
  {
   "cell_type": "code",
   "execution_count": 185,
   "id": "f282b541",
   "metadata": {},
   "outputs": [
    {
     "data": {
      "text/plain": [
       "<AxesSubplot:>"
      ]
     },
     "execution_count": 185,
     "metadata": {},
     "output_type": "execute_result"
    },
    {
     "data": {
      "image/png": "[encoded data removed]",
      "text/plain": [
       "<Figure size 432x288 with 1 Axes>"
      ]
     },
     "metadata": {
      "needs_background": "light"
     },
     "output_type": "display_data"
    }
   ],
   "source": [
    "df['AveragePrice'].hist()"
   ]
  },
  {
   "cell_type": "markdown",
   "id": "00efe4f7",
   "metadata": {},
   "source": [
    "The average price ranges mostly(in maximum cases) between 1-1.5 ."
   ]
  },
  {
   "cell_type": "code",
   "execution_count": 186,
   "id": "64479bb6",
   "metadata": {},
   "outputs": [
    {
     "data": {
      "text/plain": [
       "year  type        \n",
       "2015  conventional    2808\n",
       "      organic         2807\n",
       "2016  conventional    2808\n",
       "      organic         2808\n",
       "2017  conventional    2862\n",
       "      organic         2860\n",
       "2018  conventional     648\n",
       "      organic          648\n",
       "Name: type, dtype: int64"
      ]
     },
     "execution_count": 186,
     "metadata": {},
     "output_type": "execute_result"
    }
   ],
   "source": [
    "df.groupby('year')['type'].value_counts()"
   ]
  },
  {
   "cell_type": "markdown",
   "id": "24c50739",
   "metadata": {},
   "source": [
    "The sale is almost same in every year for both conventional as well as organic"
   ]
  },
  {
   "cell_type": "code",
   "execution_count": 188,
   "id": "61e9df01",
   "metadata": {},
   "outputs": [
    {
     "data": {
      "text/plain": [
       "year\n",
       "2015    1.375590\n",
       "2016    1.338640\n",
       "2017    1.515128\n",
       "2018    1.347531\n",
       "Name: AveragePrice, dtype: float64"
      ]
     },
     "execution_count": 188,
     "metadata": {},
     "output_type": "execute_result"
    }
   ],
   "source": [
    "df.groupby('year')['AveragePrice'].mean()"
   ]
  },
  {
   "cell_type": "code",
   "execution_count": 187,
   "id": "c3da4798",
   "metadata": {},
   "outputs": [
    {
     "data": {
      "text/plain": [
       "<AxesSubplot:xlabel='year', ylabel='AveragePrice'>"
      ]
     },
     "execution_count": 187,
     "metadata": {},
     "output_type": "execute_result"
    },
    {
     "data": {
      "image/png": "[encoded data removed]",
      "text/plain": [
       "<Figure size 432x288 with 1 Axes>"
      ]
     },
     "metadata": {
      "needs_background": "light"
     },
     "output_type": "display_data"
    }
   ],
   "source": [
    "sns.barplot(x='year',y='AveragePrice',data=df)"
   ]
  },
  {
   "cell_type": "markdown",
   "id": "347cc1cf",
   "metadata": {},
   "source": [
    "The average price was maximum in year 2017."
   ]
  },
  {
   "cell_type": "code",
   "execution_count": 189,
   "id": "9642bcd2",
   "metadata": {},
   "outputs": [
    {
     "data": {
      "text/plain": [
       "<AxesSubplot:xlabel='Month', ylabel='AveragePrice'>"
      ]
     },
     "execution_count": 189,
     "metadata": {},
     "output_type": "execute_result"
    },
    {
     "data": {
      "image/png": "[encoded data removed]",
      "text/plain": [
       "<Figure size 432x288 with 1 Axes>"
      ]
     },
     "metadata": {
      "needs_background": "light"
     },
     "output_type": "display_data"
    }
   ],
   "source": [
    "sns.barplot(x='Month',y='AveragePrice',data=df)"
   ]
  },
  {
   "cell_type": "markdown",
   "id": "180f7142",
   "metadata": {},
   "source": [
    "The average price was maximum in months- September & October."
   ]
  },
  {
   "cell_type": "code",
   "execution_count": 191,
   "id": "04716776",
   "metadata": {},
   "outputs": [
    {
     "data": {
      "text/plain": [
       "year\n",
       "2015    1.375590\n",
       "2016    1.338640\n",
       "2017    1.515128\n",
       "2018    1.347531\n",
       "Name: AveragePrice, dtype: float64"
      ]
     },
     "execution_count": 191,
     "metadata": {},
     "output_type": "execute_result"
    }
   ],
   "source": [
    "df.groupby('year')['AveragePrice'].mean()"
   ]
  },
  {
   "cell_type": "code",
   "execution_count": 192,
   "id": "1a8016d6",
   "metadata": {},
   "outputs": [
    {
     "data": {
      "text/plain": [
       "(array([0, 1, 2, 3]),\n",
       " [Text(0, 0, '2015'),\n",
       "  Text(1, 0, '2016'),\n",
       "  Text(2, 0, '2017'),\n",
       "  Text(3, 0, '2018')])"
      ]
     },
     "execution_count": 192,
     "metadata": {},
     "output_type": "execute_result"
    },
    {
     "data": {
      "image/png": "[encoded data removed]",
      "text/plain": [
       "<Figure size 1800x864 with 1 Axes>"
      ]
     },
     "metadata": {
      "needs_background": "light"
     },
     "output_type": "display_data"
    }
   ],
   "source": [
    "plt.figure(figsize=[25,12])\n",
    "sns.countplot(x = 'year', data = df)\n",
    "plt.xticks(rotation = 45)"
   ]
  },
  {
   "cell_type": "markdown",
   "id": "36794b4a",
   "metadata": {},
   "source": [
    "Maximum sales were also in year 2017 in which average price also was max. "
   ]
  },
  {
   "cell_type": "code",
   "execution_count": 193,
   "id": "7896ad91",
   "metadata": {},
   "outputs": [
    {
     "data": {
      "text/plain": [
       "type       2\n",
       "region    54\n",
       "dtype: int64"
      ]
     },
     "execution_count": 193,
     "metadata": {},
     "output_type": "execute_result"
    }
   ],
   "source": [
    "df.select_dtypes('object').nunique()"
   ]
  },
  {
   "cell_type": "code",
   "execution_count": 194,
   "id": "4d4f4866",
   "metadata": {},
   "outputs": [
    {
     "data": {
      "text/plain": [
       "array(['Albany', 'Atlanta', 'BaltimoreWashington', 'Boise', 'Boston',\n",
       "       'BuffaloRochester', 'California', 'Charlotte', 'Chicago',\n",
       "       'CincinnatiDayton', 'Columbus', 'DallasFtWorth', 'Denver',\n",
       "       'Detroit', 'GrandRapids', 'GreatLakes', 'HarrisburgScranton',\n",
       "       'HartfordSpringfield', 'Houston', 'Indianapolis', 'Jacksonville',\n",
       "       'LasVegas', 'LosAngeles', 'Louisville', 'MiamiFtLauderdale',\n",
       "       'Midsouth', 'Nashville', 'NewOrleansMobile', 'NewYork',\n",
       "       'Northeast', 'NorthernNewEngland', 'Orlando', 'Philadelphia',\n",
       "       'PhoenixTucson', 'Pittsburgh', 'Plains', 'Portland',\n",
       "       'RaleighGreensboro', 'RichmondNorfolk', 'Roanoke', 'Sacramento',\n",
       "       'SanDiego', 'SanFrancisco', 'Seattle', 'SouthCarolina',\n",
       "       'SouthCentral', 'Southeast', 'Spokane', 'StLouis', 'Syracuse',\n",
       "       'Tampa', 'TotalUS', 'West', 'WestTexNewMexico'], dtype=object)"
      ]
     },
     "execution_count": 194,
     "metadata": {},
     "output_type": "execute_result"
    }
   ],
   "source": [
    "df['region'].unique()"
   ]
  },
  {
   "cell_type": "code",
   "execution_count": 195,
   "id": "4672aa16",
   "metadata": {},
   "outputs": [
    {
     "data": {
      "text/plain": [
       "Albany                 338\n",
       "Sacramento             338\n",
       "Northeast              338\n",
       "NorthernNewEngland     338\n",
       "Orlando                338\n",
       "Philadelphia           338\n",
       "PhoenixTucson          338\n",
       "Pittsburgh             338\n",
       "Plains                 338\n",
       "Portland               338\n",
       "RaleighGreensboro      338\n",
       "RichmondNorfolk        338\n",
       "Roanoke                338\n",
       "SanDiego               338\n",
       "Atlanta                338\n",
       "SanFrancisco           338\n",
       "Seattle                338\n",
       "SouthCarolina          338\n",
       "SouthCentral           338\n",
       "Southeast              338\n",
       "Spokane                338\n",
       "StLouis                338\n",
       "Syracuse               338\n",
       "Tampa                  338\n",
       "TotalUS                338\n",
       "West                   338\n",
       "NewYork                338\n",
       "NewOrleansMobile       338\n",
       "Nashville              338\n",
       "Midsouth               338\n",
       "BaltimoreWashington    338\n",
       "Boise                  338\n",
       "Boston                 338\n",
       "BuffaloRochester       338\n",
       "California             338\n",
       "Charlotte              338\n",
       "Chicago                338\n",
       "CincinnatiDayton       338\n",
       "Columbus               338\n",
       "DallasFtWorth          338\n",
       "Denver                 338\n",
       "Detroit                338\n",
       "GrandRapids            338\n",
       "GreatLakes             338\n",
       "HarrisburgScranton     338\n",
       "HartfordSpringfield    338\n",
       "Houston                338\n",
       "Indianapolis           338\n",
       "Jacksonville           338\n",
       "LasVegas               338\n",
       "LosAngeles             338\n",
       "Louisville             338\n",
       "MiamiFtLauderdale      338\n",
       "WestTexNewMexico       335\n",
       "Name: region, dtype: int64"
      ]
     },
     "execution_count": 195,
     "metadata": {},
     "output_type": "execute_result"
    }
   ],
   "source": [
    "df.region.value_counts()"
   ]
  },
  {
   "cell_type": "code",
   "execution_count": 196,
   "id": "02780e09",
   "metadata": {},
   "outputs": [
    {
     "data": {
      "text/plain": [
       "Text(0.5, 1.0, 'Average Price According to Region')"
      ]
     },
     "execution_count": 196,
     "metadata": {},
     "output_type": "execute_result"
    },
    {
     "data": {
      "image/png": "[encoded data removed]",
      "text/plain": [
       "<Figure size 1700x800 with 1 Axes>"
      ]
     },
     "metadata": {
      "needs_background": "light"
     },
     "output_type": "display_data"
    }
   ],
   "source": [
    "byRegion=df.groupby('region').mean()\n",
    "byRegion.sort_values(by=['AveragePrice'], ascending=False, inplace=True)\n",
    "plt.figure(figsize=(17,8),dpi=100)\n",
    "sns.barplot(x = byRegion.index,y=byRegion[\"AveragePrice\"],data = byRegion,palette='rocket')\n",
    "plt.xticks(rotation=90)\n",
    "plt.xlabel('Region')\n",
    "plt.ylabel('Average Price')\n",
    "plt.title('Average Price According to Region')"
   ]
  },
  {
   "cell_type": "markdown",
   "id": "16768abe",
   "metadata": {},
   "source": [
    "The average price was maximum in HartfordSpringfield and minimum in Houston, although the sales in every region was almost same."
   ]
  },
  {
   "cell_type": "code",
   "execution_count": 123,
   "id": "be0daba9",
   "metadata": {},
   "outputs": [
    {
     "data": {
      "text/plain": [
       "array([[<AxesSubplot:title={'center':'Date'}>,\n",
       "        <AxesSubplot:title={'center':'AveragePrice'}>,\n",
       "        <AxesSubplot:title={'center':'Total Volume'}>,\n",
       "        <AxesSubplot:title={'center':'4046'}>],\n",
       "       [<AxesSubplot:title={'center':'4225'}>,\n",
       "        <AxesSubplot:title={'center':'4770'}>,\n",
       "        <AxesSubplot:title={'center':'Total Bags'}>,\n",
       "        <AxesSubplot:title={'center':'Small Bags'}>],\n",
       "       [<AxesSubplot:title={'center':'Large Bags'}>,\n",
       "        <AxesSubplot:title={'center':'XLarge Bags'}>,\n",
       "        <AxesSubplot:title={'center':'year'}>,\n",
       "        <AxesSubplot:title={'center':'Month'}>],\n",
       "       [<AxesSubplot:title={'center':'Day'}>, <AxesSubplot:>,\n",
       "        <AxesSubplot:>, <AxesSubplot:>]], dtype=object)"
      ]
     },
     "execution_count": 123,
     "metadata": {},
     "output_type": "execute_result"
    },
    {
     "data": {
      "image/png": "[encoded data removed]",
      "text/plain": [
       "<Figure size 1440x1440 with 16 Axes>"
      ]
     },
     "metadata": {
      "needs_background": "light"
     },
     "output_type": "display_data"
    }
   ],
   "source": [
    "df.hist(figsize=(20,20),grid=True,layout=(4,4),bins=30)"
   ]
  },
  {
   "cell_type": "markdown",
   "id": "87c988b8",
   "metadata": {},
   "source": [
    "Average price column is normally distributing over the histogram.\n",
    "Rest of the data is almost left skewed data."
   ]
  },
  {
   "cell_type": "markdown",
   "id": "d601fd24",
   "metadata": {},
   "source": [
    "# Checking Skewness"
   ]
  },
  {
   "cell_type": "code",
   "execution_count": 124,
   "id": "3efd1c2d",
   "metadata": {},
   "outputs": [
    {
     "data": {
      "text/plain": [
       "AveragePrice     0.580303\n",
       "Total Volume     9.007687\n",
       "4046             8.648220\n",
       "4225             8.942466\n",
       "4770            10.159396\n",
       "Total Bags       9.756072\n",
       "Small Bags       9.540660\n",
       "Large Bags       9.796455\n",
       "XLarge Bags     13.139751\n",
       "year             0.215339\n",
       "Month            0.106617\n",
       "Day              0.014310\n",
       "dtype: float64"
      ]
     },
     "execution_count": 124,
     "metadata": {},
     "output_type": "execute_result"
    }
   ],
   "source": [
    "df.skew()"
   ]
  },
  {
   "cell_type": "code",
   "execution_count": 125,
   "id": "73f1b42c",
   "metadata": {},
   "outputs": [],
   "source": [
    "skew=('Total Volume','4046','4225','4770','Total Bags','Small Bags','Large Bags','XLarge Bags')\n",
    "for col in skew:\n",
    "    if df.skew().loc[col]>0.55:\n",
    "        df[col]=np.log1p(df[col])"
   ]
  },
  {
   "cell_type": "markdown",
   "id": "216f6787",
   "metadata": {},
   "source": [
    "# Label Encoding"
   ]
  },
  {
   "cell_type": "code",
   "execution_count": 126,
   "id": "6dd2122c",
   "metadata": {},
   "outputs": [
    {
     "data": {
      "text/html": [
       "<div>\n",
       "<style scoped>\n",
       "    .dataframe tbody tr th:only-of-type {\n",
       "        vertical-align: middle;\n",
       "    }\n",
       "\n",
       "    .dataframe tbody tr th {\n",
       "        vertical-align: top;\n",
       "    }\n",
       "\n",
       "    .dataframe thead th {\n",
       "        text-align: right;\n",
       "    }\n",
       "</style>\n",
       "<table border=\"1\" class=\"dataframe\">\n",
       "  <thead>\n",
       "    <tr style=\"text-align: right;\">\n",
       "      <th></th>\n",
       "      <th>AveragePrice</th>\n",
       "      <th>Total Volume</th>\n",
       "      <th>4046</th>\n",
       "      <th>4225</th>\n",
       "      <th>4770</th>\n",
       "      <th>Total Bags</th>\n",
       "      <th>Small Bags</th>\n",
       "      <th>Large Bags</th>\n",
       "      <th>XLarge Bags</th>\n",
       "      <th>type</th>\n",
       "      <th>year</th>\n",
       "      <th>region</th>\n",
       "      <th>Month</th>\n",
       "      <th>Day</th>\n",
       "    </tr>\n",
       "  </thead>\n",
       "  <tbody>\n",
       "    <tr>\n",
       "      <th>0</th>\n",
       "      <td>1.33</td>\n",
       "      <td>11.070344</td>\n",
       "      <td>6.944801</td>\n",
       "      <td>10.905146</td>\n",
       "      <td>3.895080</td>\n",
       "      <td>9.070833</td>\n",
       "      <td>9.060055</td>\n",
       "      <td>4.545951</td>\n",
       "      <td>0.0</td>\n",
       "      <td>conventional</td>\n",
       "      <td>2015</td>\n",
       "      <td>Albany</td>\n",
       "      <td>12</td>\n",
       "      <td>27</td>\n",
       "    </tr>\n",
       "    <tr>\n",
       "      <th>1</th>\n",
       "      <td>1.35</td>\n",
       "      <td>10.912867</td>\n",
       "      <td>6.515127</td>\n",
       "      <td>10.706381</td>\n",
       "      <td>4.083115</td>\n",
       "      <td>9.159737</td>\n",
       "      <td>9.149429</td>\n",
       "      <td>4.589955</td>\n",
       "      <td>0.0</td>\n",
       "      <td>conventional</td>\n",
       "      <td>2015</td>\n",
       "      <td>Albany</td>\n",
       "      <td>12</td>\n",
       "      <td>20</td>\n",
       "    </tr>\n",
       "    <tr>\n",
       "      <th>2</th>\n",
       "      <td>0.93</td>\n",
       "      <td>11.680313</td>\n",
       "      <td>6.679222</td>\n",
       "      <td>11.600485</td>\n",
       "      <td>4.879007</td>\n",
       "      <td>9.005325</td>\n",
       "      <td>8.992584</td>\n",
       "      <td>4.645736</td>\n",
       "      <td>0.0</td>\n",
       "      <td>conventional</td>\n",
       "      <td>2015</td>\n",
       "      <td>Albany</td>\n",
       "      <td>12</td>\n",
       "      <td>13</td>\n",
       "    </tr>\n",
       "    <tr>\n",
       "      <th>3</th>\n",
       "      <td>1.08</td>\n",
       "      <td>11.277116</td>\n",
       "      <td>7.032624</td>\n",
       "      <td>11.184108</td>\n",
       "      <td>4.298373</td>\n",
       "      <td>8.667708</td>\n",
       "      <td>8.644425</td>\n",
       "      <td>4.903495</td>\n",
       "      <td>0.0</td>\n",
       "      <td>conventional</td>\n",
       "      <td>2015</td>\n",
       "      <td>Albany</td>\n",
       "      <td>12</td>\n",
       "      <td>6</td>\n",
       "    </tr>\n",
       "    <tr>\n",
       "      <th>4</th>\n",
       "      <td>1.28</td>\n",
       "      <td>10.840377</td>\n",
       "      <td>6.848515</td>\n",
       "      <td>10.688288</td>\n",
       "      <td>4.340944</td>\n",
       "      <td>8.729874</td>\n",
       "      <td>8.697389</td>\n",
       "      <td>5.291746</td>\n",
       "      <td>0.0</td>\n",
       "      <td>conventional</td>\n",
       "      <td>2015</td>\n",
       "      <td>Albany</td>\n",
       "      <td>11</td>\n",
       "      <td>29</td>\n",
       "    </tr>\n",
       "    <tr>\n",
       "      <th>5</th>\n",
       "      <td>1.26</td>\n",
       "      <td>10.932764</td>\n",
       "      <td>7.077726</td>\n",
       "      <td>10.780393</td>\n",
       "      <td>3.797958</td>\n",
       "      <td>8.807608</td>\n",
       "      <td>8.788360</td>\n",
       "      <td>4.855462</td>\n",
       "      <td>0.0</td>\n",
       "      <td>conventional</td>\n",
       "      <td>2015</td>\n",
       "      <td>Albany</td>\n",
       "      <td>11</td>\n",
       "      <td>22</td>\n",
       "    </tr>\n",
       "    <tr>\n",
       "      <th>6</th>\n",
       "      <td>0.99</td>\n",
       "      <td>11.332060</td>\n",
       "      <td>7.222508</td>\n",
       "      <td>11.207401</td>\n",
       "      <td>4.546057</td>\n",
       "      <td>9.026401</td>\n",
       "      <td>9.011622</td>\n",
       "      <td>4.812591</td>\n",
       "      <td>0.0</td>\n",
       "      <td>conventional</td>\n",
       "      <td>2015</td>\n",
       "      <td>Albany</td>\n",
       "      <td>11</td>\n",
       "      <td>15</td>\n",
       "    </tr>\n",
       "    <tr>\n",
       "      <th>7</th>\n",
       "      <td>0.98</td>\n",
       "      <td>11.603034</td>\n",
       "      <td>6.557843</td>\n",
       "      <td>11.530926</td>\n",
       "      <td>4.394449</td>\n",
       "      <td>8.829112</td>\n",
       "      <td>8.743189</td>\n",
       "      <td>6.333937</td>\n",
       "      <td>0.0</td>\n",
       "      <td>conventional</td>\n",
       "      <td>2015</td>\n",
       "      <td>Albany</td>\n",
       "      <td>11</td>\n",
       "      <td>8</td>\n",
       "    </tr>\n",
       "    <tr>\n",
       "      <th>8</th>\n",
       "      <td>1.02</td>\n",
       "      <td>11.511048</td>\n",
       "      <td>6.930641</td>\n",
       "      <td>11.377296</td>\n",
       "      <td>4.458293</td>\n",
       "      <td>9.340435</td>\n",
       "      <td>9.315198</td>\n",
       "      <td>5.651893</td>\n",
       "      <td>0.0</td>\n",
       "      <td>conventional</td>\n",
       "      <td>2015</td>\n",
       "      <td>Albany</td>\n",
       "      <td>11</td>\n",
       "      <td>1</td>\n",
       "    </tr>\n",
       "    <tr>\n",
       "      <th>9</th>\n",
       "      <td>1.07</td>\n",
       "      <td>11.216401</td>\n",
       "      <td>6.737441</td>\n",
       "      <td>11.078419</td>\n",
       "      <td>4.736198</td>\n",
       "      <td>9.062643</td>\n",
       "      <td>8.994975</td>\n",
       "      <td>6.337622</td>\n",
       "      <td>0.0</td>\n",
       "      <td>conventional</td>\n",
       "      <td>2015</td>\n",
       "      <td>Albany</td>\n",
       "      <td>10</td>\n",
       "      <td>25</td>\n",
       "    </tr>\n",
       "  </tbody>\n",
       "</table>\n",
       "</div>"
      ],
      "text/plain": [
       "   AveragePrice  Total Volume      4046       4225      4770  Total Bags  \\\n",
       "0          1.33     11.070344  6.944801  10.905146  3.895080    9.070833   \n",
       "1          1.35     10.912867  6.515127  10.706381  4.083115    9.159737   \n",
       "2          0.93     11.680313  6.679222  11.600485  4.879007    9.005325   \n",
       "3          1.08     11.277116  7.032624  11.184108  4.298373    8.667708   \n",
       "4          1.28     10.840377  6.848515  10.688288  4.340944    8.729874   \n",
       "5          1.26     10.932764  7.077726  10.780393  3.797958    8.807608   \n",
       "6          0.99     11.332060  7.222508  11.207401  4.546057    9.026401   \n",
       "7          0.98     11.603034  6.557843  11.530926  4.394449    8.829112   \n",
       "8          1.02     11.511048  6.930641  11.377296  4.458293    9.340435   \n",
       "9          1.07     11.216401  6.737441  11.078419  4.736198    9.062643   \n",
       "\n",
       "   Small Bags  Large Bags  XLarge Bags          type  year  region  Month  Day  \n",
       "0    9.060055    4.545951          0.0  conventional  2015  Albany     12   27  \n",
       "1    9.149429    4.589955          0.0  conventional  2015  Albany     12   20  \n",
       "2    8.992584    4.645736          0.0  conventional  2015  Albany     12   13  \n",
       "3    8.644425    4.903495          0.0  conventional  2015  Albany     12    6  \n",
       "4    8.697389    5.291746          0.0  conventional  2015  Albany     11   29  \n",
       "5    8.788360    4.855462          0.0  conventional  2015  Albany     11   22  \n",
       "6    9.011622    4.812591          0.0  conventional  2015  Albany     11   15  \n",
       "7    8.743189    6.333937          0.0  conventional  2015  Albany     11    8  \n",
       "8    9.315198    5.651893          0.0  conventional  2015  Albany     11    1  \n",
       "9    8.994975    6.337622          0.0  conventional  2015  Albany     10   25  "
      ]
     },
     "execution_count": 126,
     "metadata": {},
     "output_type": "execute_result"
    }
   ],
   "source": [
    "df= df.drop(['Date'],axis = 1)\n",
    "df.head(10)"
   ]
  },
  {
   "cell_type": "code",
   "execution_count": 127,
   "id": "97fee05f",
   "metadata": {},
   "outputs": [],
   "source": [
    "\n",
    "from sklearn import preprocessing\n",
    "label_encoder = preprocessing.LabelEncoder()\n",
    "\n",
    "df['type']= label_encoder.fit_transform(df['type'])\n",
    "df['year']= label_encoder.fit_transform(df['year'])\n",
    "df['region']= label_encoder.fit_transform(df['region'])\n"
   ]
  },
  {
   "cell_type": "code",
   "execution_count": 128,
   "id": "cd9a8bd7",
   "metadata": {},
   "outputs": [
    {
     "data": {
      "text/html": [
       "<div>\n",
       "<style scoped>\n",
       "    .dataframe tbody tr th:only-of-type {\n",
       "        vertical-align: middle;\n",
       "    }\n",
       "\n",
       "    .dataframe tbody tr th {\n",
       "        vertical-align: top;\n",
       "    }\n",
       "\n",
       "    .dataframe thead th {\n",
       "        text-align: right;\n",
       "    }\n",
       "</style>\n",
       "<table border=\"1\" class=\"dataframe\">\n",
       "  <thead>\n",
       "    <tr style=\"text-align: right;\">\n",
       "      <th></th>\n",
       "      <th>AveragePrice</th>\n",
       "      <th>Total Volume</th>\n",
       "      <th>4046</th>\n",
       "      <th>4225</th>\n",
       "      <th>4770</th>\n",
       "      <th>Total Bags</th>\n",
       "      <th>Small Bags</th>\n",
       "      <th>Large Bags</th>\n",
       "      <th>XLarge Bags</th>\n",
       "      <th>type</th>\n",
       "      <th>year</th>\n",
       "      <th>region</th>\n",
       "      <th>Month</th>\n",
       "      <th>Day</th>\n",
       "    </tr>\n",
       "  </thead>\n",
       "  <tbody>\n",
       "    <tr>\n",
       "      <th>0</th>\n",
       "      <td>1.33</td>\n",
       "      <td>11.070344</td>\n",
       "      <td>6.944801</td>\n",
       "      <td>10.905146</td>\n",
       "      <td>3.895080</td>\n",
       "      <td>9.070833</td>\n",
       "      <td>9.060055</td>\n",
       "      <td>4.545951</td>\n",
       "      <td>0.0</td>\n",
       "      <td>0</td>\n",
       "      <td>0</td>\n",
       "      <td>0</td>\n",
       "      <td>12</td>\n",
       "      <td>27</td>\n",
       "    </tr>\n",
       "    <tr>\n",
       "      <th>1</th>\n",
       "      <td>1.35</td>\n",
       "      <td>10.912867</td>\n",
       "      <td>6.515127</td>\n",
       "      <td>10.706381</td>\n",
       "      <td>4.083115</td>\n",
       "      <td>9.159737</td>\n",
       "      <td>9.149429</td>\n",
       "      <td>4.589955</td>\n",
       "      <td>0.0</td>\n",
       "      <td>0</td>\n",
       "      <td>0</td>\n",
       "      <td>0</td>\n",
       "      <td>12</td>\n",
       "      <td>20</td>\n",
       "    </tr>\n",
       "    <tr>\n",
       "      <th>2</th>\n",
       "      <td>0.93</td>\n",
       "      <td>11.680313</td>\n",
       "      <td>6.679222</td>\n",
       "      <td>11.600485</td>\n",
       "      <td>4.879007</td>\n",
       "      <td>9.005325</td>\n",
       "      <td>8.992584</td>\n",
       "      <td>4.645736</td>\n",
       "      <td>0.0</td>\n",
       "      <td>0</td>\n",
       "      <td>0</td>\n",
       "      <td>0</td>\n",
       "      <td>12</td>\n",
       "      <td>13</td>\n",
       "    </tr>\n",
       "    <tr>\n",
       "      <th>3</th>\n",
       "      <td>1.08</td>\n",
       "      <td>11.277116</td>\n",
       "      <td>7.032624</td>\n",
       "      <td>11.184108</td>\n",
       "      <td>4.298373</td>\n",
       "      <td>8.667708</td>\n",
       "      <td>8.644425</td>\n",
       "      <td>4.903495</td>\n",
       "      <td>0.0</td>\n",
       "      <td>0</td>\n",
       "      <td>0</td>\n",
       "      <td>0</td>\n",
       "      <td>12</td>\n",
       "      <td>6</td>\n",
       "    </tr>\n",
       "    <tr>\n",
       "      <th>4</th>\n",
       "      <td>1.28</td>\n",
       "      <td>10.840377</td>\n",
       "      <td>6.848515</td>\n",
       "      <td>10.688288</td>\n",
       "      <td>4.340944</td>\n",
       "      <td>8.729874</td>\n",
       "      <td>8.697389</td>\n",
       "      <td>5.291746</td>\n",
       "      <td>0.0</td>\n",
       "      <td>0</td>\n",
       "      <td>0</td>\n",
       "      <td>0</td>\n",
       "      <td>11</td>\n",
       "      <td>29</td>\n",
       "    </tr>\n",
       "    <tr>\n",
       "      <th>...</th>\n",
       "      <td>...</td>\n",
       "      <td>...</td>\n",
       "      <td>...</td>\n",
       "      <td>...</td>\n",
       "      <td>...</td>\n",
       "      <td>...</td>\n",
       "      <td>...</td>\n",
       "      <td>...</td>\n",
       "      <td>...</td>\n",
       "      <td>...</td>\n",
       "      <td>...</td>\n",
       "      <td>...</td>\n",
       "      <td>...</td>\n",
       "      <td>...</td>\n",
       "    </tr>\n",
       "    <tr>\n",
       "      <th>18244</th>\n",
       "      <td>1.63</td>\n",
       "      <td>9.745419</td>\n",
       "      <td>7.624599</td>\n",
       "      <td>7.333154</td>\n",
       "      <td>0.000000</td>\n",
       "      <td>9.510421</td>\n",
       "      <td>9.477908</td>\n",
       "      <td>6.070391</td>\n",
       "      <td>0.0</td>\n",
       "      <td>1</td>\n",
       "      <td>3</td>\n",
       "      <td>53</td>\n",
       "      <td>2</td>\n",
       "      <td>4</td>\n",
       "    </tr>\n",
       "    <tr>\n",
       "      <th>18245</th>\n",
       "      <td>1.71</td>\n",
       "      <td>9.538855</td>\n",
       "      <td>7.083975</td>\n",
       "      <td>8.141044</td>\n",
       "      <td>0.000000</td>\n",
       "      <td>9.134090</td>\n",
       "      <td>9.098407</td>\n",
       "      <td>5.786284</td>\n",
       "      <td>0.0</td>\n",
       "      <td>1</td>\n",
       "      <td>3</td>\n",
       "      <td>53</td>\n",
       "      <td>1</td>\n",
       "      <td>28</td>\n",
       "    </tr>\n",
       "    <tr>\n",
       "      <th>18246</th>\n",
       "      <td>1.87</td>\n",
       "      <td>9.530085</td>\n",
       "      <td>7.084159</td>\n",
       "      <td>7.805389</td>\n",
       "      <td>6.591591</td>\n",
       "      <td>9.147945</td>\n",
       "      <td>9.143431</td>\n",
       "      <td>3.768384</td>\n",
       "      <td>0.0</td>\n",
       "      <td>1</td>\n",
       "      <td>3</td>\n",
       "      <td>53</td>\n",
       "      <td>1</td>\n",
       "      <td>21</td>\n",
       "    </tr>\n",
       "    <tr>\n",
       "      <th>18247</th>\n",
       "      <td>1.93</td>\n",
       "      <td>9.693150</td>\n",
       "      <td>7.332127</td>\n",
       "      <td>8.000363</td>\n",
       "      <td>6.590315</td>\n",
       "      <td>9.302969</td>\n",
       "      <td>9.298401</td>\n",
       "      <td>3.931826</td>\n",
       "      <td>0.0</td>\n",
       "      <td>1</td>\n",
       "      <td>3</td>\n",
       "      <td>53</td>\n",
       "      <td>1</td>\n",
       "      <td>14</td>\n",
       "    </tr>\n",
       "    <tr>\n",
       "      <th>18248</th>\n",
       "      <td>1.62</td>\n",
       "      <td>9.769418</td>\n",
       "      <td>7.971006</td>\n",
       "      <td>7.765200</td>\n",
       "      <td>5.418453</td>\n",
       "      <td>9.393924</td>\n",
       "      <td>9.391757</td>\n",
       "      <td>3.296207</td>\n",
       "      <td>0.0</td>\n",
       "      <td>1</td>\n",
       "      <td>3</td>\n",
       "      <td>53</td>\n",
       "      <td>1</td>\n",
       "      <td>7</td>\n",
       "    </tr>\n",
       "  </tbody>\n",
       "</table>\n",
       "<p>18249 rows × 14 columns</p>\n",
       "</div>"
      ],
      "text/plain": [
       "       AveragePrice  Total Volume      4046       4225      4770  Total Bags  \\\n",
       "0              1.33     11.070344  6.944801  10.905146  3.895080    9.070833   \n",
       "1              1.35     10.912867  6.515127  10.706381  4.083115    9.159737   \n",
       "2              0.93     11.680313  6.679222  11.600485  4.879007    9.005325   \n",
       "3              1.08     11.277116  7.032624  11.184108  4.298373    8.667708   \n",
       "4              1.28     10.840377  6.848515  10.688288  4.340944    8.729874   \n",
       "...             ...           ...       ...        ...       ...         ...   \n",
       "18244          1.63      9.745419  7.624599   7.333154  0.000000    9.510421   \n",
       "18245          1.71      9.538855  7.083975   8.141044  0.000000    9.134090   \n",
       "18246          1.87      9.530085  7.084159   7.805389  6.591591    9.147945   \n",
       "18247          1.93      9.693150  7.332127   8.000363  6.590315    9.302969   \n",
       "18248          1.62      9.769418  7.971006   7.765200  5.418453    9.393924   \n",
       "\n",
       "       Small Bags  Large Bags  XLarge Bags  type  year  region  Month  Day  \n",
       "0        9.060055    4.545951          0.0     0     0       0     12   27  \n",
       "1        9.149429    4.589955          0.0     0     0       0     12   20  \n",
       "2        8.992584    4.645736          0.0     0     0       0     12   13  \n",
       "3        8.644425    4.903495          0.0     0     0       0     12    6  \n",
       "4        8.697389    5.291746          0.0     0     0       0     11   29  \n",
       "...           ...         ...          ...   ...   ...     ...    ...  ...  \n",
       "18244    9.477908    6.070391          0.0     1     3      53      2    4  \n",
       "18245    9.098407    5.786284          0.0     1     3      53      1   28  \n",
       "18246    9.143431    3.768384          0.0     1     3      53      1   21  \n",
       "18247    9.298401    3.931826          0.0     1     3      53      1   14  \n",
       "18248    9.391757    3.296207          0.0     1     3      53      1    7  \n",
       "\n",
       "[18249 rows x 14 columns]"
      ]
     },
     "execution_count": 128,
     "metadata": {},
     "output_type": "execute_result"
    }
   ],
   "source": [
    "df\n"
   ]
  },
  {
   "cell_type": "code",
   "execution_count": 129,
   "id": "dadddd2a",
   "metadata": {},
   "outputs": [
    {
     "data": {
      "text/plain": [
       "<AxesSubplot:>"
      ]
     },
     "execution_count": 129,
     "metadata": {},
     "output_type": "execute_result"
    },
    {
     "data": {
      "image/png": "[encoded data removed]",
      "text/plain": [
       "<Figure size 1500x700 with 1 Axes>"
      ]
     },
     "metadata": {
      "needs_background": "light"
     },
     "output_type": "display_data"
    }
   ],
   "source": [
    "plt.figure(figsize=(15,7),dpi=100)\n",
    "sns.boxplot(data = df)\n"
   ]
  },
  {
   "cell_type": "markdown",
   "id": "4d261450",
   "metadata": {},
   "source": [
    "The dark black dots represent the outliers."
   ]
  },
  {
   "cell_type": "markdown",
   "id": "eccddf27",
   "metadata": {},
   "source": [
    "# Removing Outliers"
   ]
  },
  {
   "cell_type": "code",
   "execution_count": 130,
   "id": "d59247cd",
   "metadata": {},
   "outputs": [],
   "source": [
    "from scipy.stats import zscore"
   ]
  },
  {
   "cell_type": "code",
   "execution_count": 131,
   "id": "243af16a",
   "metadata": {},
   "outputs": [
    {
     "name": "stdout",
     "output_type": "stream",
     "text": [
      "       AveragePrice  Total Volume      4046      4225      4770  Total Bags  \\\n",
      "0          0.188689      0.107282  0.609752  0.374936  0.279143    0.494074   \n",
      "1          0.139020      0.175949  0.737707  0.305200  0.233838    0.454761   \n",
      "2          1.182069      0.158690  0.688840  0.618892  0.042078    0.523041   \n",
      "3          0.809551      0.017121  0.583598  0.472808  0.181974    0.672335   \n",
      "4          0.312861      0.207558  0.638425  0.298852  0.171717    0.644845   \n",
      "...             ...           ...       ...       ...       ...         ...   \n",
      "18244      0.556347      0.685006  0.407310  0.878279  1.217613    0.299689   \n",
      "18245      0.755023      0.775077  0.568306  0.594835  1.217613    0.466102   \n",
      "18246      1.152375      0.778901  0.568251  0.712597  0.370548    0.459975   \n",
      "18247      1.301382      0.707798  0.494407  0.644192  0.370240    0.391424   \n",
      "18248      0.531512      0.674542  0.304151  0.726698  0.087895    0.351204   \n",
      "\n",
      "       Small Bags  Large Bags  XLarge Bags      type      year    region  \\\n",
      "0        0.247796    0.669747     0.645526  0.999836  1.221282  1.700252   \n",
      "1        0.213093    0.658279     0.645526  0.999836  1.221282  1.700252   \n",
      "2        0.273995    0.643743     0.645526  0.999836  1.221282  1.700252   \n",
      "3        0.409182    0.576571     0.645526  0.999836  1.221282  1.700252   \n",
      "4        0.388616    0.475393     0.645526  0.999836  1.221282  1.700252   \n",
      "...           ...         ...          ...       ...       ...       ...   \n",
      "18244    0.085548    0.272479     0.645526  1.000164  1.970504  1.700811   \n",
      "18245    0.232904    0.346517     0.645526  1.000164  1.970504  1.700811   \n",
      "18246    0.215422    0.872380     0.645526  1.000164  1.970504  1.700811   \n",
      "18247    0.155249    0.829787     0.645526  1.000164  1.970504  1.700811   \n",
      "18248    0.119000    0.995429     0.645526  1.000164  1.970504  1.700811   \n",
      "\n",
      "          Month       Day  \n",
      "0      1.647632  1.291857  \n",
      "1      1.647632  0.494231  \n",
      "2      1.647632  0.303396  \n",
      "3      1.647632  1.101022  \n",
      "4      1.364669  1.519750  \n",
      "...         ...       ...  \n",
      "18244  1.181997  1.328915  \n",
      "18245  1.464959  1.405803  \n",
      "18246  1.464959  0.608177  \n",
      "18247  1.464959  0.189449  \n",
      "18248  1.464959  0.987075  \n",
      "\n",
      "[18249 rows x 14 columns]\n"
     ]
    }
   ],
   "source": [
    "z=np.abs(zscore(df))\n",
    "print(z)"
   ]
  },
  {
   "cell_type": "code",
   "execution_count": 132,
   "id": "7f077861",
   "metadata": {},
   "outputs": [
    {
     "name": "stdout",
     "output_type": "stream",
     "text": [
      "(array([    0,     0,     0, ..., 18248, 18248, 18248], dtype=int64), array([ 0,  1,  2, ..., 11, 12, 13], dtype=int64))\n",
      "(18249, 14)\n"
     ]
    }
   ],
   "source": [
    "threshold=3\n",
    "print(np.where(z<3))\n",
    "print(df.shape)"
   ]
  },
  {
   "cell_type": "code",
   "execution_count": 133,
   "id": "67ac5cbf",
   "metadata": {},
   "outputs": [],
   "source": [
    "df_new=df[(z<3).all(axis=1)]"
   ]
  },
  {
   "cell_type": "code",
   "execution_count": 134,
   "id": "2111b6e4",
   "metadata": {},
   "outputs": [
    {
     "name": "stdout",
     "output_type": "stream",
     "text": [
      "(18249, 14)\n",
      "(17834, 14)\n",
      "Shape after removing outliers (17834, 14)\n"
     ]
    }
   ],
   "source": [
    "print(df.shape)\n",
    "print(df_new.shape)\n",
    "df=df_new\n",
    "print('Shape after removing outliers',df.shape)"
   ]
  },
  {
   "cell_type": "markdown",
   "id": "b2d26cc3",
   "metadata": {},
   "source": [
    "The number of outliers in the data were=18249-17834= 415."
   ]
  },
  {
   "cell_type": "markdown",
   "id": "cfdf2455",
   "metadata": {},
   "source": [
    "# Correlation"
   ]
  },
  {
   "cell_type": "code",
   "execution_count": 135,
   "id": "dacf8f91",
   "metadata": {},
   "outputs": [
    {
     "data": {
      "text/plain": [
       "<AxesSubplot:>"
      ]
     },
     "execution_count": 135,
     "metadata": {},
     "output_type": "execute_result"
    },
    {
     "data": {
      "image/png": "[encoded data removed]",
      "text/plain": [
       "<Figure size 1200x600 with 2 Axes>"
      ]
     },
     "metadata": {
      "needs_background": "light"
     },
     "output_type": "display_data"
    }
   ],
   "source": [
    "corr_df = df.corr(method='pearson')\n",
    "plt.figure(figsize=(12,6),dpi=100)\n",
    "sns.heatmap(corr_df,cmap='coolwarm',annot=True)"
   ]
  },
  {
   "cell_type": "markdown",
   "id": "06e3212b",
   "metadata": {},
   "source": [
    "# Prediction with Average Price"
   ]
  },
  {
   "cell_type": "markdown",
   "id": "84e9cc6d",
   "metadata": {},
   "source": [
    "# Model Building "
   ]
  },
  {
   "cell_type": "code",
   "execution_count": 136,
   "id": "8a059cc4",
   "metadata": {},
   "outputs": [
    {
     "data": {
      "text/plain": [
       "54"
      ]
     },
     "execution_count": 136,
     "metadata": {},
     "output_type": "execute_result"
    }
   ],
   "source": [
    "df['region'].nunique()"
   ]
  },
  {
   "cell_type": "code",
   "execution_count": 137,
   "id": "cac5be4e",
   "metadata": {},
   "outputs": [
    {
     "data": {
      "text/plain": [
       "2"
      ]
     },
     "execution_count": 137,
     "metadata": {},
     "output_type": "execute_result"
    }
   ],
   "source": [
    "df['type'].nunique()"
   ]
  },
  {
   "cell_type": "code",
   "execution_count": 138,
   "id": "d7856268",
   "metadata": {},
   "outputs": [],
   "source": [
    "df_final=pd.get_dummies(df.drop(['region'],axis=1),drop_first=True)"
   ]
  },
  {
   "cell_type": "code",
   "execution_count": 139,
   "id": "abf29471",
   "metadata": {},
   "outputs": [
    {
     "data": {
      "text/html": [
       "<div>\n",
       "<style scoped>\n",
       "    .dataframe tbody tr th:only-of-type {\n",
       "        vertical-align: middle;\n",
       "    }\n",
       "\n",
       "    .dataframe tbody tr th {\n",
       "        vertical-align: top;\n",
       "    }\n",
       "\n",
       "    .dataframe thead th {\n",
       "        text-align: right;\n",
       "    }\n",
       "</style>\n",
       "<table border=\"1\" class=\"dataframe\">\n",
       "  <thead>\n",
       "    <tr style=\"text-align: right;\">\n",
       "      <th></th>\n",
       "      <th>AveragePrice</th>\n",
       "      <th>Total Volume</th>\n",
       "      <th>4046</th>\n",
       "      <th>4225</th>\n",
       "      <th>4770</th>\n",
       "      <th>Total Bags</th>\n",
       "      <th>Small Bags</th>\n",
       "      <th>Large Bags</th>\n",
       "      <th>XLarge Bags</th>\n",
       "      <th>type</th>\n",
       "      <th>year</th>\n",
       "      <th>Month</th>\n",
       "      <th>Day</th>\n",
       "    </tr>\n",
       "  </thead>\n",
       "  <tbody>\n",
       "    <tr>\n",
       "      <th>0</th>\n",
       "      <td>1.33</td>\n",
       "      <td>11.070344</td>\n",
       "      <td>6.944801</td>\n",
       "      <td>10.905146</td>\n",
       "      <td>3.895080</td>\n",
       "      <td>9.070833</td>\n",
       "      <td>9.060055</td>\n",
       "      <td>4.545951</td>\n",
       "      <td>0.0</td>\n",
       "      <td>0</td>\n",
       "      <td>0</td>\n",
       "      <td>12</td>\n",
       "      <td>27</td>\n",
       "    </tr>\n",
       "    <tr>\n",
       "      <th>1</th>\n",
       "      <td>1.35</td>\n",
       "      <td>10.912867</td>\n",
       "      <td>6.515127</td>\n",
       "      <td>10.706381</td>\n",
       "      <td>4.083115</td>\n",
       "      <td>9.159737</td>\n",
       "      <td>9.149429</td>\n",
       "      <td>4.589955</td>\n",
       "      <td>0.0</td>\n",
       "      <td>0</td>\n",
       "      <td>0</td>\n",
       "      <td>12</td>\n",
       "      <td>20</td>\n",
       "    </tr>\n",
       "    <tr>\n",
       "      <th>2</th>\n",
       "      <td>0.93</td>\n",
       "      <td>11.680313</td>\n",
       "      <td>6.679222</td>\n",
       "      <td>11.600485</td>\n",
       "      <td>4.879007</td>\n",
       "      <td>9.005325</td>\n",
       "      <td>8.992584</td>\n",
       "      <td>4.645736</td>\n",
       "      <td>0.0</td>\n",
       "      <td>0</td>\n",
       "      <td>0</td>\n",
       "      <td>12</td>\n",
       "      <td>13</td>\n",
       "    </tr>\n",
       "    <tr>\n",
       "      <th>3</th>\n",
       "      <td>1.08</td>\n",
       "      <td>11.277116</td>\n",
       "      <td>7.032624</td>\n",
       "      <td>11.184108</td>\n",
       "      <td>4.298373</td>\n",
       "      <td>8.667708</td>\n",
       "      <td>8.644425</td>\n",
       "      <td>4.903495</td>\n",
       "      <td>0.0</td>\n",
       "      <td>0</td>\n",
       "      <td>0</td>\n",
       "      <td>12</td>\n",
       "      <td>6</td>\n",
       "    </tr>\n",
       "    <tr>\n",
       "      <th>4</th>\n",
       "      <td>1.28</td>\n",
       "      <td>10.840377</td>\n",
       "      <td>6.848515</td>\n",
       "      <td>10.688288</td>\n",
       "      <td>4.340944</td>\n",
       "      <td>8.729874</td>\n",
       "      <td>8.697389</td>\n",
       "      <td>5.291746</td>\n",
       "      <td>0.0</td>\n",
       "      <td>0</td>\n",
       "      <td>0</td>\n",
       "      <td>11</td>\n",
       "      <td>29</td>\n",
       "    </tr>\n",
       "  </tbody>\n",
       "</table>\n",
       "</div>"
      ],
      "text/plain": [
       "   AveragePrice  Total Volume      4046       4225      4770  Total Bags  \\\n",
       "0          1.33     11.070344  6.944801  10.905146  3.895080    9.070833   \n",
       "1          1.35     10.912867  6.515127  10.706381  4.083115    9.159737   \n",
       "2          0.93     11.680313  6.679222  11.600485  4.879007    9.005325   \n",
       "3          1.08     11.277116  7.032624  11.184108  4.298373    8.667708   \n",
       "4          1.28     10.840377  6.848515  10.688288  4.340944    8.729874   \n",
       "\n",
       "   Small Bags  Large Bags  XLarge Bags  type  year  Month  Day  \n",
       "0    9.060055    4.545951          0.0     0     0     12   27  \n",
       "1    9.149429    4.589955          0.0     0     0     12   20  \n",
       "2    8.992584    4.645736          0.0     0     0     12   13  \n",
       "3    8.644425    4.903495          0.0     0     0     12    6  \n",
       "4    8.697389    5.291746          0.0     0     0     11   29  "
      ]
     },
     "execution_count": 139,
     "metadata": {},
     "output_type": "execute_result"
    }
   ],
   "source": [
    "df_final.head()"
   ]
  },
  {
   "cell_type": "code",
   "execution_count": 140,
   "id": "15088599",
   "metadata": {},
   "outputs": [
    {
     "data": {
      "text/html": [
       "<div>\n",
       "<style scoped>\n",
       "    .dataframe tbody tr th:only-of-type {\n",
       "        vertical-align: middle;\n",
       "    }\n",
       "\n",
       "    .dataframe tbody tr th {\n",
       "        vertical-align: top;\n",
       "    }\n",
       "\n",
       "    .dataframe thead th {\n",
       "        text-align: right;\n",
       "    }\n",
       "</style>\n",
       "<table border=\"1\" class=\"dataframe\">\n",
       "  <thead>\n",
       "    <tr style=\"text-align: right;\">\n",
       "      <th></th>\n",
       "      <th>AveragePrice</th>\n",
       "      <th>Total Volume</th>\n",
       "      <th>4046</th>\n",
       "      <th>4225</th>\n",
       "      <th>4770</th>\n",
       "      <th>Total Bags</th>\n",
       "      <th>Small Bags</th>\n",
       "      <th>Large Bags</th>\n",
       "      <th>XLarge Bags</th>\n",
       "      <th>type</th>\n",
       "      <th>year</th>\n",
       "      <th>Month</th>\n",
       "      <th>Day</th>\n",
       "    </tr>\n",
       "  </thead>\n",
       "  <tbody>\n",
       "    <tr>\n",
       "      <th>18244</th>\n",
       "      <td>1.63</td>\n",
       "      <td>9.745419</td>\n",
       "      <td>7.624599</td>\n",
       "      <td>7.333154</td>\n",
       "      <td>0.000000</td>\n",
       "      <td>9.510421</td>\n",
       "      <td>9.477908</td>\n",
       "      <td>6.070391</td>\n",
       "      <td>0.0</td>\n",
       "      <td>1</td>\n",
       "      <td>3</td>\n",
       "      <td>2</td>\n",
       "      <td>4</td>\n",
       "    </tr>\n",
       "    <tr>\n",
       "      <th>18245</th>\n",
       "      <td>1.71</td>\n",
       "      <td>9.538855</td>\n",
       "      <td>7.083975</td>\n",
       "      <td>8.141044</td>\n",
       "      <td>0.000000</td>\n",
       "      <td>9.134090</td>\n",
       "      <td>9.098407</td>\n",
       "      <td>5.786284</td>\n",
       "      <td>0.0</td>\n",
       "      <td>1</td>\n",
       "      <td>3</td>\n",
       "      <td>1</td>\n",
       "      <td>28</td>\n",
       "    </tr>\n",
       "    <tr>\n",
       "      <th>18246</th>\n",
       "      <td>1.87</td>\n",
       "      <td>9.530085</td>\n",
       "      <td>7.084159</td>\n",
       "      <td>7.805389</td>\n",
       "      <td>6.591591</td>\n",
       "      <td>9.147945</td>\n",
       "      <td>9.143431</td>\n",
       "      <td>3.768384</td>\n",
       "      <td>0.0</td>\n",
       "      <td>1</td>\n",
       "      <td>3</td>\n",
       "      <td>1</td>\n",
       "      <td>21</td>\n",
       "    </tr>\n",
       "    <tr>\n",
       "      <th>18247</th>\n",
       "      <td>1.93</td>\n",
       "      <td>9.693150</td>\n",
       "      <td>7.332127</td>\n",
       "      <td>8.000363</td>\n",
       "      <td>6.590315</td>\n",
       "      <td>9.302969</td>\n",
       "      <td>9.298401</td>\n",
       "      <td>3.931826</td>\n",
       "      <td>0.0</td>\n",
       "      <td>1</td>\n",
       "      <td>3</td>\n",
       "      <td>1</td>\n",
       "      <td>14</td>\n",
       "    </tr>\n",
       "    <tr>\n",
       "      <th>18248</th>\n",
       "      <td>1.62</td>\n",
       "      <td>9.769418</td>\n",
       "      <td>7.971006</td>\n",
       "      <td>7.765200</td>\n",
       "      <td>5.418453</td>\n",
       "      <td>9.393924</td>\n",
       "      <td>9.391757</td>\n",
       "      <td>3.296207</td>\n",
       "      <td>0.0</td>\n",
       "      <td>1</td>\n",
       "      <td>3</td>\n",
       "      <td>1</td>\n",
       "      <td>7</td>\n",
       "    </tr>\n",
       "  </tbody>\n",
       "</table>\n",
       "</div>"
      ],
      "text/plain": [
       "       AveragePrice  Total Volume      4046      4225      4770  Total Bags  \\\n",
       "18244          1.63      9.745419  7.624599  7.333154  0.000000    9.510421   \n",
       "18245          1.71      9.538855  7.083975  8.141044  0.000000    9.134090   \n",
       "18246          1.87      9.530085  7.084159  7.805389  6.591591    9.147945   \n",
       "18247          1.93      9.693150  7.332127  8.000363  6.590315    9.302969   \n",
       "18248          1.62      9.769418  7.971006  7.765200  5.418453    9.393924   \n",
       "\n",
       "       Small Bags  Large Bags  XLarge Bags  type  year  Month  Day  \n",
       "18244    9.477908    6.070391          0.0     1     3      2    4  \n",
       "18245    9.098407    5.786284          0.0     1     3      1   28  \n",
       "18246    9.143431    3.768384          0.0     1     3      1   21  \n",
       "18247    9.298401    3.931826          0.0     1     3      1   14  \n",
       "18248    9.391757    3.296207          0.0     1     3      1    7  "
      ]
     },
     "execution_count": 140,
     "metadata": {},
     "output_type": "execute_result"
    }
   ],
   "source": [
    "df_final.tail()"
   ]
  },
  {
   "cell_type": "code",
   "execution_count": 141,
   "id": "1b6e2d9a",
   "metadata": {},
   "outputs": [],
   "source": [
    "x=df_final.iloc[:,1:14]\n",
    "y=df_final['AveragePrice']"
   ]
  },
  {
   "cell_type": "code",
   "execution_count": 142,
   "id": "d6d2b1e2",
   "metadata": {},
   "outputs": [],
   "source": [
    "from sklearn.metrics import accuracy_score,classification_report,confusion_matrix,roc_auc_score,roc_curve\n",
    "from sklearn.linear_model import LogisticRegression\n",
    "from sklearn.linear_model import LinearRegression\n",
    "from sklearn.naive_bayes import GaussianNB\n",
    "from sklearn.neighbors import KNeighborsClassifier\n",
    "from sklearn.neighbors import KNeighborsRegressor\n",
    "from sklearn.svm import SVC\n",
    "from sklearn.tree import DecisionTreeClassifier\n",
    "from sklearn.ensemble import AdaBoostClassifier,GradientBoostingClassifier\n",
    "from sklearn.tree import DecisionTreeRegressor\n",
    "from sklearn.ensemble import AdaBoostRegressor,GradientBoostingRegressor\n",
    "from sklearn.preprocessing import LabelEncoder,StandardScaler\n",
    "from sklearn.model_selection import cross_val_score,train_test_split,GridSearchCV\n",
    "from sklearn.metrics import r2_score\n",
    "from sklearn.metrics import mean_squared_error,mean_absolute_error\n",
    "from sklearn import tree\n"
   ]
  },
  {
   "cell_type": "code",
   "execution_count": 143,
   "id": "a485c45d",
   "metadata": {},
   "outputs": [
    {
     "name": "stdout",
     "output_type": "stream",
     "text": [
      "R2 score correspond to random state 40 is 0.6836820134752459\n",
      "R2 score correspond to random state 40 is 0.5990005814768058\n",
      "R2 score correspond to random state 40 is 0.5661517790654198\n",
      "R2 score correspond to random state 40 is 0.5640286591099015\n",
      "R2 score correspond to random state 40 is 0.7143138233111963\n",
      "R2 score correspond to random state 41 is 0.7071796460053992\n",
      "R2 score correspond to random state 41 is 0.6004950460187309\n",
      "R2 score correspond to random state 41 is 0.5466543995666412\n",
      "R2 score correspond to random state 41 is 0.5794231814088022\n",
      "R2 score correspond to random state 41 is 0.7287909469969206\n",
      "R2 score correspond to random state 42 is 0.7114810701675277\n",
      "R2 score correspond to random state 42 is 0.6005837948675459\n",
      "R2 score correspond to random state 42 is 0.5614572602507824\n",
      "R2 score correspond to random state 42 is 0.5742413402440025\n",
      "R2 score correspond to random state 42 is 0.7226033597644748\n",
      "R2 score correspond to random state 43 is 0.7028007315655379\n",
      "R2 score correspond to random state 43 is 0.6084654214939315\n",
      "R2 score correspond to random state 43 is 0.5272772309989793\n",
      "R2 score correspond to random state 43 is 0.5618285593882819\n",
      "R2 score correspond to random state 43 is 0.7189374814721505\n",
      "R2 score correspond to random state 44 is 0.7063992553416643\n",
      "R2 score correspond to random state 44 is 0.6044040378388663\n",
      "R2 score correspond to random state 44 is 0.5676469725630056\n",
      "R2 score correspond to random state 44 is 0.57888887957488\n",
      "R2 score correspond to random state 44 is 0.7232116126690689\n",
      "R2 score correspond to random state 45 is 0.7080228175217136\n",
      "R2 score correspond to random state 45 is 0.5875427543503082\n",
      "R2 score correspond to random state 45 is 0.564640631574097\n",
      "R2 score correspond to random state 45 is 0.5600149177558296\n",
      "R2 score correspond to random state 45 is 0.7207155101410243\n",
      "R2 score correspond to random state 46 is 0.706563207455033\n",
      "R2 score correspond to random state 46 is 0.6027088811006267\n",
      "R2 score correspond to random state 46 is 0.5635137052137171\n",
      "R2 score correspond to random state 46 is 0.5781096279665974\n",
      "R2 score correspond to random state 46 is 0.728362756860123\n",
      "R2 score correspond to random state 47 is 0.6874779929844035\n",
      "R2 score correspond to random state 47 is 0.5938886495594751\n",
      "R2 score correspond to random state 47 is 0.5782087525989945\n",
      "R2 score correspond to random state 47 is 0.5737657237208746\n",
      "R2 score correspond to random state 47 is 0.7243366360554089\n",
      "R2 score correspond to random state 48 is 0.7196298262130372\n",
      "R2 score correspond to random state 48 is 0.5954651136390225\n",
      "R2 score correspond to random state 48 is 0.5764290836521617\n",
      "R2 score correspond to random state 48 is 0.5656235536657473\n",
      "R2 score correspond to random state 48 is 0.7225906616770974\n",
      "R2 score correspond to random state 49 is 0.7090766047989312\n",
      "R2 score correspond to random state 49 is 0.6059103619017698\n",
      "R2 score correspond to random state 49 is 0.5674700955803106\n",
      "R2 score correspond to random state 49 is 0.5654438899009996\n",
      "R2 score correspond to random state 49 is 0.717881257239001\n",
      "R2 score correspond to random state 50 is 0.6736491491704459\n",
      "R2 score correspond to random state 50 is 0.6009076067538104\n",
      "R2 score correspond to random state 50 is 0.5548019911492108\n",
      "R2 score correspond to random state 50 is 0.5650733112204998\n",
      "R2 score correspond to random state 50 is 0.7178065913930434\n",
      "R2 score correspond to random state 51 is 0.7286998994608491\n",
      "R2 score correspond to random state 51 is 0.6018814918693034\n",
      "R2 score correspond to random state 51 is 0.5789339639227558\n",
      "R2 score correspond to random state 51 is 0.5780298867369171\n",
      "R2 score correspond to random state 51 is 0.7309373508107986\n",
      "R2 score correspond to random state 52 is 0.7177481783539156\n",
      "R2 score correspond to random state 52 is 0.5956327570292145\n",
      "R2 score correspond to random state 52 is 0.5640486016624859\n",
      "R2 score correspond to random state 52 is 0.5630762723902181\n",
      "R2 score correspond to random state 52 is 0.7204171571144617\n",
      "R2 score correspond to random state 53 is 0.704099382817111\n",
      "R2 score correspond to random state 53 is 0.6026063661230808\n",
      "R2 score correspond to random state 53 is 0.5580048187235401\n",
      "R2 score correspond to random state 53 is 0.5770154266296235\n",
      "R2 score correspond to random state 53 is 0.7248082533985757\n",
      "R2 score correspond to random state 54 is 0.7193756566668775\n",
      "R2 score correspond to random state 54 is 0.6002452705739352\n",
      "R2 score correspond to random state 54 is 0.5657528484406344\n",
      "R2 score correspond to random state 54 is 0.5732530841044947\n",
      "R2 score correspond to random state 54 is 0.7265459823487915\n",
      "R2 score correspond to random state 55 is 0.6939317670874892\n",
      "R2 score correspond to random state 55 is 0.601843631382298\n",
      "R2 score correspond to random state 55 is 0.5681040110658239\n",
      "R2 score correspond to random state 55 is 0.570656775250993\n",
      "R2 score correspond to random state 55 is 0.7212813054817544\n",
      "R2 score correspond to random state 56 is 0.7126680700574035\n",
      "R2 score correspond to random state 56 is 0.602239095400244\n",
      "R2 score correspond to random state 56 is 0.5642058213125443\n",
      "R2 score correspond to random state 56 is 0.5666882101718024\n",
      "R2 score correspond to random state 56 is 0.7182905365612453\n",
      "R2 score correspond to random state 57 is 0.71077534682467\n",
      "R2 score correspond to random state 57 is 0.6036065197018259\n",
      "R2 score correspond to random state 57 is 0.5827542643767418\n",
      "R2 score correspond to random state 57 is 0.5797416964108557\n",
      "R2 score correspond to random state 57 is 0.7238003032280371\n",
      "R2 score correspond to random state 58 is 0.7160481175312736\n",
      "R2 score correspond to random state 58 is 0.6067885172917384\n",
      "R2 score correspond to random state 58 is 0.5779288326021337\n",
      "R2 score correspond to random state 58 is 0.5782617885136347\n",
      "R2 score correspond to random state 58 is 0.7238409400041909\n",
      "R2 score correspond to random state 59 is 0.7023695416274853\n",
      "R2 score correspond to random state 59 is 0.6012131437955381\n",
      "R2 score correspond to random state 59 is 0.5515374016123056\n",
      "R2 score correspond to random state 59 is 0.5630450602394379\n",
      "R2 score correspond to random state 59 is 0.7152443249533401\n",
      "R2 score correspond to random state 60 is 0.6882890441506266\n",
      "R2 score correspond to random state 60 is 0.5980740177270871\n",
      "R2 score correspond to random state 60 is 0.5597211382584375\n",
      "R2 score correspond to random state 60 is 0.5752316668658185\n",
      "R2 score correspond to random state 60 is 0.7218448690673719\n",
      "R2 score correspond to random state 61 is 0.7111418472197921\n",
      "R2 score correspond to random state 61 is 0.606608224842961\n",
      "R2 score correspond to random state 61 is 0.5733556048558703\n",
      "R2 score correspond to random state 61 is 0.5747351902390394\n",
      "R2 score correspond to random state 61 is 0.7235862095899847\n",
      "R2 score correspond to random state 62 is 0.7318855839259035\n",
      "R2 score correspond to random state 62 is 0.6002865225720139\n",
      "R2 score correspond to random state 62 is 0.5610750276672674\n",
      "R2 score correspond to random state 62 is 0.5839879980783107\n",
      "R2 score correspond to random state 62 is 0.7225992298018225\n",
      "R2 score correspond to random state 63 is 0.6975500234815317\n",
      "R2 score correspond to random state 63 is 0.6084477645751108\n",
      "R2 score correspond to random state 63 is 0.559803703212179\n",
      "R2 score correspond to random state 63 is 0.5636405340323825\n",
      "R2 score correspond to random state 63 is 0.7198465271982356\n",
      "R2 score correspond to random state 64 is 0.7193120433836031\n",
      "R2 score correspond to random state 64 is 0.6074605206323215\n",
      "R2 score correspond to random state 64 is 0.5552708875847598\n",
      "R2 score correspond to random state 64 is 0.5707330557655216\n",
      "R2 score correspond to random state 64 is 0.7158087072652122\n",
      "R2 score correspond to random state 65 is 0.7182452879875643\n",
      "R2 score correspond to random state 65 is 0.6010221407693142\n",
      "R2 score correspond to random state 65 is 0.5867837957184054\n",
      "R2 score correspond to random state 65 is 0.5788302107256902\n",
      "R2 score correspond to random state 65 is 0.7258503804071516\n",
      "R2 score correspond to random state 66 is 0.7005556391684038\n",
      "R2 score correspond to random state 66 is 0.597859772592267\n",
      "R2 score correspond to random state 66 is 0.5585134025142149\n",
      "R2 score correspond to random state 66 is 0.5682654180155943\n",
      "R2 score correspond to random state 66 is 0.7191725349223506\n",
      "R2 score correspond to random state 67 is 0.7024024755776923\n",
      "R2 score correspond to random state 67 is 0.5901984875881346\n",
      "R2 score correspond to random state 67 is 0.5683871293787464\n",
      "R2 score correspond to random state 67 is 0.5598025362676399\n",
      "R2 score correspond to random state 67 is 0.7190610000954578\n",
      "R2 score correspond to random state 68 is 0.7167625357529582\n",
      "R2 score correspond to random state 68 is 0.5958977114465929\n",
      "R2 score correspond to random state 68 is 0.5645778716364205\n",
      "R2 score correspond to random state 68 is 0.5731982670770688\n",
      "R2 score correspond to random state 68 is 0.7198497152055412\n",
      "R2 score correspond to random state 69 is 0.7114814639787509\n",
      "R2 score correspond to random state 69 is 0.5980940697432342\n",
      "R2 score correspond to random state 69 is 0.5684311281503522\n",
      "R2 score correspond to random state 69 is 0.5669277452693016\n",
      "R2 score correspond to random state 69 is 0.7253542466571223\n",
      "R2 score correspond to random state 70 is 0.6937380908782478\n",
      "R2 score correspond to random state 70 is 0.6055379929293736\n",
      "R2 score correspond to random state 70 is 0.5606397110058774\n",
      "R2 score correspond to random state 70 is 0.5654217059378395\n",
      "R2 score correspond to random state 70 is 0.7196150336254273\n",
      "R2 score correspond to random state 71 is 0.696668567634583\n",
      "R2 score correspond to random state 71 is 0.6043308105849036\n",
      "R2 score correspond to random state 71 is 0.561738289433043\n",
      "R2 score correspond to random state 71 is 0.581044555475089\n",
      "R2 score correspond to random state 71 is 0.7221119218124614\n",
      "R2 score correspond to random state 72 is 0.6866987224962247\n",
      "R2 score correspond to random state 72 is 0.5882595230946078\n",
      "R2 score correspond to random state 72 is 0.5623604000922312\n",
      "R2 score correspond to random state 72 is 0.5649015359974282\n",
      "R2 score correspond to random state 72 is 0.7143715341305005\n",
      "R2 score correspond to random state 73 is 0.7130944041777937\n",
      "R2 score correspond to random state 73 is 0.6045010668381277\n",
      "R2 score correspond to random state 73 is 0.5654752482765768\n",
      "R2 score correspond to random state 73 is 0.5658890809734936\n",
      "R2 score correspond to random state 73 is 0.7277239804156156\n",
      "R2 score correspond to random state 74 is 0.693503090427827\n",
      "R2 score correspond to random state 74 is 0.6112613053798106\n",
      "R2 score correspond to random state 74 is 0.565441337089755\n",
      "R2 score correspond to random state 74 is 0.5667800160172113\n",
      "R2 score correspond to random state 74 is 0.7266295220231991\n",
      "R2 score correspond to random state 75 is 0.7224064775708146\n",
      "R2 score correspond to random state 75 is 0.5959493204621047\n",
      "R2 score correspond to random state 75 is 0.565174744193415\n",
      "R2 score correspond to random state 75 is 0.5662376786058785\n",
      "R2 score correspond to random state 75 is 0.7180170986995136\n",
      "R2 score correspond to random state 76 is 0.7008062215278126\n",
      "R2 score correspond to random state 76 is 0.6108322721472246\n",
      "R2 score correspond to random state 76 is 0.5469389699379595\n",
      "R2 score correspond to random state 76 is 0.5698171036620093\n",
      "R2 score correspond to random state 76 is 0.72593865348929\n",
      "R2 score correspond to random state 77 is 0.7002636522785383\n",
      "R2 score correspond to random state 77 is 0.5929213967689082\n",
      "R2 score correspond to random state 77 is 0.5640034881494664\n",
      "R2 score correspond to random state 77 is 0.5667164603822488\n",
      "R2 score correspond to random state 77 is 0.7249954447982394\n",
      "R2 score correspond to random state 78 is 0.7264209259559542\n",
      "R2 score correspond to random state 78 is 0.5943155545655914\n",
      "R2 score correspond to random state 78 is 0.5662233476744998\n",
      "R2 score correspond to random state 78 is 0.5757840476091223\n",
      "R2 score correspond to random state 78 is 0.7244339418734997\n",
      "R2 score correspond to random state 79 is 0.7166259046744214\n",
      "R2 score correspond to random state 79 is 0.6118057097622998\n",
      "R2 score correspond to random state 79 is 0.5599203160920483\n",
      "R2 score correspond to random state 79 is 0.5715714079132637\n",
      "R2 score correspond to random state 79 is 0.7294877753402849\n",
      "R2 score correspond to random state 80 is 0.7190196216975444\n",
      "R2 score correspond to random state 80 is 0.5890653581361922\n",
      "R2 score correspond to random state 80 is 0.551761365397959\n",
      "R2 score correspond to random state 80 is 0.5685795176224633\n",
      "R2 score correspond to random state 80 is 0.7196743251689355\n",
      "R2 score correspond to random state 81 is 0.6949136957555269\n",
      "R2 score correspond to random state 81 is 0.6039900074141522\n",
      "R2 score correspond to random state 81 is 0.5663043037739557\n",
      "R2 score correspond to random state 81 is 0.579572489019086\n",
      "R2 score correspond to random state 81 is 0.7323032218431258\n",
      "R2 score correspond to random state 82 is 0.7065369260712528\n",
      "R2 score correspond to random state 82 is 0.5924752694614187\n",
      "R2 score correspond to random state 82 is 0.5467921302669699\n",
      "R2 score correspond to random state 82 is 0.5525399334119614\n",
      "R2 score correspond to random state 82 is 0.715569689905808\n",
      "R2 score correspond to random state 83 is 0.7066191561361121\n",
      "R2 score correspond to random state 83 is 0.6061128665042625\n",
      "R2 score correspond to random state 83 is 0.56114387210279\n",
      "R2 score correspond to random state 83 is 0.5727374925623795\n",
      "R2 score correspond to random state 83 is 0.722181021737718\n",
      "R2 score correspond to random state 84 is 0.7000978038124711\n",
      "R2 score correspond to random state 84 is 0.5998444810663537\n",
      "R2 score correspond to random state 84 is 0.556452743971882\n",
      "R2 score correspond to random state 84 is 0.5715518574258405\n",
      "R2 score correspond to random state 84 is 0.7273267991469117\n",
      "R2 score correspond to random state 85 is 0.7085481863964779\n",
      "R2 score correspond to random state 85 is 0.5934105808220681\n",
      "R2 score correspond to random state 85 is 0.5588907736737633\n",
      "R2 score correspond to random state 85 is 0.5646918271484405\n",
      "R2 score correspond to random state 85 is 0.7213187770849213\n",
      "R2 score correspond to random state 86 is 0.7111109719436128\n",
      "R2 score correspond to random state 86 is 0.6053615864755846\n",
      "R2 score correspond to random state 86 is 0.5638857455679191\n",
      "R2 score correspond to random state 86 is 0.574779445850246\n",
      "R2 score correspond to random state 86 is 0.7253175763391252\n",
      "R2 score correspond to random state 87 is 0.7038879975929252\n",
      "R2 score correspond to random state 87 is 0.6033673823040513\n",
      "R2 score correspond to random state 87 is 0.5404085485686234\n",
      "R2 score correspond to random state 87 is 0.5703710309791966\n",
      "R2 score correspond to random state 87 is 0.7202314610337293\n",
      "R2 score correspond to random state 88 is 0.7161888534660432\n",
      "R2 score correspond to random state 88 is 0.5983072337350878\n",
      "R2 score correspond to random state 88 is 0.5658479186082087\n",
      "R2 score correspond to random state 88 is 0.5649419907464414\n",
      "R2 score correspond to random state 88 is 0.72604650850034\n",
      "R2 score correspond to random state 89 is 0.7253049126967579\n",
      "R2 score correspond to random state 89 is 0.6013920235750587\n",
      "R2 score correspond to random state 89 is 0.5636346515370014\n",
      "R2 score correspond to random state 89 is 0.5693915528711244\n",
      "R2 score correspond to random state 89 is 0.7210525589131195\n",
      "\n",
      "\n",
      "\n",
      "\n",
      "max R2 score correspond to random state 81 is 0.7323032218431258 and model is GradientBoostingRegressor()\n"
     ]
    }
   ],
   "source": [
    "model=[DecisionTreeRegressor(),KNeighborsRegressor(),AdaBoostRegressor(),LinearRegression(),GradientBoostingRegressor()]\n",
    "max_r2_score=0\n",
    "for r_state in range(40,90):\n",
    "    train_x,test_x,train_y,test_y=train_test_split(x,y,random_state=r_state,test_size=0.33)\n",
    "    for i in model:\n",
    "        i.fit(train_x,train_y)\n",
    "        pre=i.predict(test_x)\n",
    "        r2_sc=r2_score(test_y,pre)\n",
    "        print(\"R2 score correspond to random state\",r_state,\"is\",r2_sc)\n",
    "        if r2_sc>max_r2_score:\n",
    "            max_r2_score=r2_sc\n",
    "            final_state=r_state\n",
    "            final_model=i\n",
    "            \n",
    "print()\n",
    "print()\n",
    "print()\n",
    "print()\n",
    "\n",
    "print(\"max R2 score correspond to random state\",final_state,\"is\",max_r2_score,\"and model is\",final_model)\n"
   ]
  },
  {
   "cell_type": "markdown",
   "id": "cc1f0ee4",
   "metadata": {},
   "source": [
    " 81 is best state which providing the highest R2 score value for this model i.e.0.732.Model name is GradientBoostingRegressor."
   ]
  },
  {
   "cell_type": "markdown",
   "id": "89cb41b3",
   "metadata": {},
   "source": [
    "# Prediction with Region"
   ]
  },
  {
   "cell_type": "code",
   "execution_count": 144,
   "id": "547668a7",
   "metadata": {},
   "outputs": [
    {
     "name": "stdout",
     "output_type": "stream",
     "text": [
      "(17834, 13)\n",
      "(17834, 1)\n"
     ]
    }
   ],
   "source": [
    "x_c=df.drop(columns=['region'])\n",
    "y_c=df[[\"region\"]]\n",
    "print(x_c.shape)\n",
    "print(y_c.shape)"
   ]
  },
  {
   "cell_type": "code",
   "execution_count": 145,
   "id": "31172afa",
   "metadata": {},
   "outputs": [],
   "source": [
    "sc=StandardScaler()\n",
    "sc.fit_transform(x_c)\n",
    "x_c=pd.DataFrame(x_c,columns=x_c.columns)"
   ]
  },
  {
   "cell_type": "code",
   "execution_count": 146,
   "id": "24902747",
   "metadata": {},
   "outputs": [
    {
     "name": "stdout",
     "output_type": "stream",
     "text": [
      "accuracy score correspond to random state 40 is 0.7864424057084608\n",
      "accuracy score correspond to random state 40 is 0.36850152905198774\n",
      "accuracy score correspond to random state 41 is 0.7842337750594631\n",
      "accuracy score correspond to random state 41 is 0.3681617397213727\n",
      "accuracy score correspond to random state 42 is 0.7922188243289161\n",
      "accuracy score correspond to random state 42 is 0.37172952769283046\n",
      "accuracy score correspond to random state 43 is 0.791879034998301\n",
      "accuracy score correspond to random state 43 is 0.36680258239891267\n",
      "accuracy score correspond to random state 44 is 0.7871219843696908\n",
      "accuracy score correspond to random state 44 is 0.36425416241930003\n",
      "accuracy score correspond to random state 45 is 0.7886510363574584\n",
      "accuracy score correspond to random state 45 is 0.3583078491335372\n",
      "accuracy score correspond to random state 46 is 0.7922188243289161\n",
      "accuracy score correspond to random state 46 is 0.3577981651376147\n",
      "accuracy score correspond to random state 47 is 0.7849133537206932\n",
      "accuracy score correspond to random state 47 is 0.3510023785253143\n",
      "accuracy score correspond to random state 48 is 0.7731906218144751\n",
      "accuracy score correspond to random state 48 is 0.35304111450900444\n",
      "accuracy score correspond to random state 49 is 0.789840299014611\n",
      "accuracy score correspond to random state 49 is 0.3720693170234455\n",
      "accuracy score correspond to random state 50 is 0.7906897723411485\n",
      "accuracy score correspond to random state 50 is 0.37003058103975534\n",
      "accuracy score correspond to random state 51 is 0.7973156642881414\n",
      "accuracy score correspond to random state 51 is 0.36612300373768264\n",
      "accuracy score correspond to random state 52 is 0.7878015630309209\n",
      "accuracy score correspond to random state 52 is 0.36425416241930003\n",
      "accuracy score correspond to random state 53 is 0.7765885151206252\n",
      "accuracy score correspond to random state 53 is 0.3708800543662929\n",
      "accuracy score correspond to random state 54 is 0.7983350322799864\n",
      "accuracy score correspond to random state 54 is 0.3678219503907577\n",
      "accuracy score correspond to random state 55 is 0.7913693510023785\n",
      "accuracy score correspond to random state 55 is 0.3550798504926945\n",
      "accuracy score correspond to random state 56 is 0.7816853550798505\n",
      "accuracy score correspond to random state 56 is 0.35490995582738705\n",
      "accuracy score correspond to random state 57 is 0.7917091403329936\n",
      "accuracy score correspond to random state 57 is 0.36357458375807\n",
      "accuracy score correspond to random state 58 is 0.7895005096839959\n",
      "accuracy score correspond to random state 58 is 0.3647638464152226\n",
      "accuracy score correspond to random state 59 is 0.782195039075773\n",
      "accuracy score correspond to random state 59 is 0.37104994903160043\n",
      "accuracy score correspond to random state 60 is 0.7862725110431532\n",
      "accuracy score correspond to random state 60 is 0.3596670064559973\n",
      "accuracy score correspond to random state 61 is 0.7922188243289161\n",
      "accuracy score correspond to random state 61 is 0.3651036357458376\n",
      "accuracy score correspond to random state 62 is 0.7934080869860687\n",
      "accuracy score correspond to random state 62 is 0.36799184505606525\n",
      "accuracy score correspond to random state 63 is 0.7886510363574584\n",
      "accuracy score correspond to random state 63 is 0.3601766904519198\n",
      "accuracy score correspond to random state 64 is 0.7820251444104656\n",
      "accuracy score correspond to random state 64 is 0.3654434250764526\n",
      "accuracy score correspond to random state 65 is 0.7828746177370031\n",
      "accuracy score correspond to random state 65 is 0.3678219503907577\n",
      "accuracy score correspond to random state 66 is 0.7876316683656133\n",
      "accuracy score correspond to random state 66 is 0.36119605844376484\n",
      "accuracy score correspond to random state 67 is 0.7850832483860006\n",
      "accuracy score correspond to random state 67 is 0.3579680598029222\n",
      "accuracy score correspond to random state 68 is 0.7983350322799864\n",
      "accuracy score correspond to random state 68 is 0.36255521576622496\n",
      "accuracy score correspond to random state 69 is 0.7869520897043832\n",
      "accuracy score correspond to random state 69 is 0.36408426775399255\n",
      "accuracy score correspond to random state 70 is 0.7872918790349983\n",
      "accuracy score correspond to random state 70 is 0.3690112130479103\n",
      "accuracy score correspond to random state 71 is 0.7942575603126062\n",
      "accuracy score correspond to random state 71 is 0.36034658511722734\n",
      "accuracy score correspond to random state 72 is 0.7973156642881414\n",
      "accuracy score correspond to random state 72 is 0.36153584777437986\n",
      "accuracy score correspond to random state 73 is 0.7842337750594631\n",
      "accuracy score correspond to random state 73 is 0.3613659531090724\n",
      "accuracy score correspond to random state 74 is 0.7816853550798505\n",
      "accuracy score correspond to random state 74 is 0.36612300373768264\n",
      "accuracy score correspond to random state 75 is 0.7895005096839959\n",
      "accuracy score correspond to random state 75 is 0.36289500509684\n",
      "accuracy score correspond to random state 76 is 0.7886510363574584\n",
      "accuracy score correspond to random state 76 is 0.35202174651715934\n",
      "accuracy score correspond to random state 77 is 0.782534828406388\n",
      "accuracy score correspond to random state 77 is 0.3678219503907577\n",
      "accuracy score correspond to random state 78 is 0.7867821950390758\n",
      "accuracy score correspond to random state 78 is 0.35932721712538224\n",
      "accuracy score correspond to random state 79 is 0.7726809378185525\n",
      "accuracy score correspond to random state 79 is 0.3583078491335372\n",
      "accuracy score correspond to random state 80 is 0.7781175671083927\n",
      "accuracy score correspond to random state 80 is 0.36272511043153244\n",
      "accuracy score correspond to random state 81 is 0.7869520897043832\n",
      "accuracy score correspond to random state 81 is 0.35932721712538224\n",
      "accuracy score correspond to random state 82 is 0.781515460414543\n",
      "accuracy score correspond to random state 82 is 0.36289500509684\n",
      "accuracy score correspond to random state 83 is 0.7837240910635406\n",
      "accuracy score correspond to random state 83 is 0.35728848114169215\n",
      "accuracy score correspond to random state 84 is 0.7806659870880054\n",
      "accuracy score correspond to random state 84 is 0.3691811077132178\n",
      "accuracy score correspond to random state 85 is 0.7893306150186884\n",
      "accuracy score correspond to random state 85 is 0.36459395174991505\n",
      "accuracy score correspond to random state 86 is 0.7883112470268434\n",
      "accuracy score correspond to random state 86 is 0.37104994903160043\n",
      "accuracy score correspond to random state 87 is 0.7896704043493035\n",
      "accuracy score correspond to random state 87 is 0.3693510023785253\n",
      "accuracy score correspond to random state 88 is 0.7935779816513762\n",
      "accuracy score correspond to random state 88 is 0.3623853211009174\n",
      "accuracy score correspond to random state 89 is 0.7793068297655453\n",
      "accuracy score correspond to random state 89 is 0.3598369011213048\n",
      "\n",
      "\n",
      "\n",
      "\n",
      "max accuracy score correspond to random state 54 is 0.7983350322799864 and model is DecisionTreeClassifier()\n"
     ]
    }
   ],
   "source": [
    "model=[DecisionTreeClassifier(),KNeighborsClassifier()]\n",
    "max_accuracy_score=0\n",
    "for r_state in range(40,90):\n",
    "    train_xc,test_xc,train_yc,test_yc=train_test_split(x_c,y_c,random_state=r_state,test_size=0.33)\n",
    "    for i_c in model:\n",
    "        i_c.fit(train_xc,train_yc)\n",
    "        prec_c=i_c.predict(test_xc)\n",
    "        ac_score=accuracy_score(test_yc,prec_c)\n",
    "        print(\"accuracy score correspond to random state\",r_state,\"is\",ac_score)\n",
    "        if ac_score>max_accuracy_score:\n",
    "            max_accuracy_score=ac_score\n",
    "            final_state=r_state\n",
    "            final_model=i_c\n",
    "            \n",
    "print()\n",
    "print()\n",
    "print()\n",
    "print()\n",
    "\n",
    "print(\"max accuracy score correspond to random state\",final_state,\"is\",max_accuracy_score,\"and model is\",final_model)\n",
    "            "
   ]
  },
  {
   "cell_type": "markdown",
   "id": "13ea4c2a",
   "metadata": {},
   "source": [
    " 54 is best state which providing the highest accuracy score value for this model i.e.0.798.Model name is DecisionTreeClassifier."
   ]
  },
  {
   "cell_type": "markdown",
   "id": "960dbb21",
   "metadata": {},
   "source": [
    "# Hyperparameter Tuning"
   ]
  },
  {
   "cell_type": "code",
   "execution_count": 147,
   "id": "9526afdb",
   "metadata": {},
   "outputs": [],
   "source": [
    "from sklearn import decomposition, datasets\n",
    "from sklearn import tree\n",
    "from sklearn.pipeline import Pipeline\n",
    "from sklearn.model_selection import GridSearchCV\n",
    "from sklearn.preprocessing import StandardScaler"
   ]
  },
  {
   "cell_type": "code",
   "execution_count": 148,
   "id": "34b2a9ad",
   "metadata": {},
   "outputs": [],
   "source": [
    "std_slc = StandardScaler()\n",
    "pca = decomposition.PCA()\n",
    "dec_tree = tree.DecisionTreeClassifier()\n",
    "pipe = Pipeline(steps=[('std_slc', std_slc),\n",
    "                           ('pca', pca),\n",
    "                           ('dec_tree', dec_tree)])"
   ]
  },
  {
   "cell_type": "code",
   "execution_count": 149,
   "id": "8668de30",
   "metadata": {},
   "outputs": [],
   "source": [
    "n_components = list(range(1,x_c.shape[1]+1,1))\n",
    "criterion = ['gini', 'entropy']\n",
    "max_depth = [2,4,6,8,10,12]"
   ]
  },
  {
   "cell_type": "code",
   "execution_count": 150,
   "id": "000ecba3",
   "metadata": {},
   "outputs": [],
   "source": [
    "parameters = dict(pca__n_components=n_components,\n",
    "                      dec_tree__criterion=criterion,\n",
    "                      dec_tree__max_depth=max_depth)\n"
   ]
  },
  {
   "cell_type": "code",
   "execution_count": 151,
   "id": "b519e00d",
   "metadata": {},
   "outputs": [
    {
     "data": {
      "text/plain": [
       "GridSearchCV(estimator=Pipeline(steps=[('std_slc', StandardScaler()),\n",
       "                                       ('pca', PCA()),\n",
       "                                       ('dec_tree', DecisionTreeClassifier())]),\n",
       "             param_grid={'dec_tree__criterion': ['gini', 'entropy'],\n",
       "                         'dec_tree__max_depth': [2, 4, 6, 8, 10, 12],\n",
       "                         'pca__n_components': [1, 2, 3, 4, 5, 6, 7, 8, 9, 10,\n",
       "                                               11, 12, 13]})"
      ]
     },
     "execution_count": 151,
     "metadata": {},
     "output_type": "execute_result"
    }
   ],
   "source": [
    "clf_GS = GridSearchCV(pipe, parameters)\n",
    "clf_GS.fit(x_c, y_c)"
   ]
  },
  {
   "cell_type": "code",
   "execution_count": 152,
   "id": "d93c08fe",
   "metadata": {},
   "outputs": [
    {
     "name": "stdout",
     "output_type": "stream",
     "text": [
      "Best Criterion: entropy\n",
      "Best max_depth: 12\n",
      "Best Number Of Components: 13\n",
      "\n",
      "DecisionTreeClassifier(criterion='entropy', max_depth=12)\n"
     ]
    }
   ],
   "source": [
    "print('Best Criterion:', clf_GS.best_estimator_.get_params()['dec_tree__criterion'])\n",
    "print('Best max_depth:', clf_GS.best_estimator_.get_params()['dec_tree__max_depth'])\n",
    "print('Best Number Of Components:', clf_GS.best_estimator_.get_params()['pca__n_components'])\n",
    "print(); print(clf_GS.best_estimator_.get_params()['dec_tree'])"
   ]
  },
  {
   "cell_type": "code",
   "execution_count": 153,
   "id": "b43f83a9",
   "metadata": {},
   "outputs": [
    {
     "name": "stdout",
     "output_type": "stream",
     "text": [
      "Accuracy: 0.7799864084267754\n"
     ]
    }
   ],
   "source": [
    "clf = DecisionTreeClassifier()\n",
    "clf = clf.fit(train_xc,train_yc)\n",
    "pred_yc = clf.predict(test_xc)\n",
    "print(\"Accuracy:\",accuracy_score(test_yc, pred_yc))"
   ]
  },
  {
   "cell_type": "code",
   "execution_count": 154,
   "id": "da4add02",
   "metadata": {},
   "outputs": [],
   "source": [
    "DTC=DecisionTreeClassifier()"
   ]
  },
  {
   "cell_type": "code",
   "execution_count": 155,
   "id": "46b33bdd",
   "metadata": {},
   "outputs": [
    {
     "name": "stdout",
     "output_type": "stream",
     "text": [
      "Cross_val_score : 78.29721925805035\n",
      "Mean Score: 78.29721925805035\n",
      "STD score: 0.0\n"
     ]
    }
   ],
   "source": [
    "score=cross_val_score(DTC,x_c,y_c,cv=100,scoring='accuracy').mean()\n",
    "print('Cross_val_score :',score*100)\n",
    "print('Mean Score:',score.mean()*100)\n",
    "print('STD score:',score.std())"
   ]
  },
  {
   "cell_type": "markdown",
   "id": "136e6e1a",
   "metadata": {},
   "source": [
    "Taking region as y variable is predicting well for this model as compared to average price"
   ]
  },
  {
   "cell_type": "markdown",
   "id": "e5cd67b6",
   "metadata": {},
   "source": [
    "# ROC CURVE"
   ]
  },
  {
   "cell_type": "code",
   "execution_count": 156,
   "id": "02450647",
   "metadata": {},
   "outputs": [
    {
     "data": {
      "text/plain": [
       "array([0., 0., 0., ..., 0., 0., 0.])"
      ]
     },
     "execution_count": 156,
     "metadata": {},
     "output_type": "execute_result"
    }
   ],
   "source": [
    "clf = DecisionTreeClassifier()\n",
    "clf = clf.fit(train_xc,train_yc)\n",
    "pred_prob=clf.predict_proba(test_xc)[:,1]\n",
    "pred_prob"
   ]
  },
  {
   "cell_type": "code",
   "execution_count": 157,
   "id": "33057e6c",
   "metadata": {},
   "outputs": [],
   "source": [
    "fpr,tpr,thresholds=roc_curve(test_yc,pred_prob,pos_label=True)"
   ]
  },
  {
   "cell_type": "code",
   "execution_count": 158,
   "id": "9595dbe4",
   "metadata": {},
   "outputs": [
    {
     "name": "stdout",
     "output_type": "stream",
     "text": [
      "[0.         0.00692042 1.        ]\n",
      "/n\n",
      "[0.         0.58490566 1.        ]\n",
      "/n\n",
      "[2. 1. 0.]\n"
     ]
    }
   ],
   "source": [
    "print(fpr)\n",
    "print(\"/n\")\n",
    "print(tpr)\n",
    "print(\"/n\")\n",
    "print(thresholds)"
   ]
  },
  {
   "cell_type": "code",
   "execution_count": 159,
   "id": "317ed2b2",
   "metadata": {},
   "outputs": [
    {
     "data": {
      "image/png": "[encoded data removed]",
      "text/plain": [
       "<Figure size 432x288 with 1 Axes>"
      ]
     },
     "metadata": {
      "needs_background": "light"
     },
     "output_type": "display_data"
    }
   ],
   "source": [
    "plt.plot([0,1],[1,0],'d--')\n",
    "plt.plot(fpr,tpr,label='DecisionTreeClassifier')\n",
    "plt.xlabel('False positive rate')\n",
    "plt.ylabel('True positive rate')\n",
    "plt.title('DecisionTreeClassifier')\n",
    "plt.show()\n"
   ]
  },
  {
   "cell_type": "markdown",
   "id": "86f36935",
   "metadata": {},
   "source": [
    "# Saving the model"
   ]
  },
  {
   "cell_type": "code",
   "execution_count": 167,
   "id": "8d4f6551",
   "metadata": {},
   "outputs": [],
   "source": [
    "import pickle \n",
    "filename=\"avocado.pkl\"\n",
    "pickle.dump(DTC,open(filename,'wb'))"
   ]
  },
  {
   "cell_type": "code",
   "execution_count": 168,
   "id": "d2adb4cd",
   "metadata": {},
   "outputs": [
    {
     "name": "stdout",
     "output_type": "stream",
     "text": [
      "0.7772680937818552\n"
     ]
    }
   ],
   "source": [
    "loaded_model=pickle.load(open('avocado.pkl','rb'))\n",
    "result=loaded_model.score(test_xc,test_yc)\n",
    "print(result)"
   ]
  },
  {
   "cell_type": "code",
   "execution_count": null,
   "id": "525e82c2",
   "metadata": {},
   "outputs": [],
   "source": []
  }
 ],
 "metadata": {
  "kernelspec": {
   "display_name": "Python 3 (ipykernel)",
   "language": "python",
   "name": "python3"
  },
  "language_info": {
   "codemirror_mode": {
    "name": "ipython",
    "version": 3
   },
   "file_extension": ".py",
   "mimetype": "text/x-python",
   "name": "python",
   "nbconvert_exporter": "python",
   "pygments_lexer": "ipython3",
   "version": "3.9.12"
  }
 },
 "nbformat": 4,
 "nbformat_minor": 5
}
